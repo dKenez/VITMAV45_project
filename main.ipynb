{
  "nbformat": 4,
  "nbformat_minor": 0,
  "metadata": {
    "kernelspec": {
      "display_name": "Python 3",
      "language": "python",
      "name": "python3"
    },
    "language_info": {
      "codemirror_mode": {
        "name": "ipython",
        "version": 3
      },
      "file_extension": ".py",
      "mimetype": "text/x-python",
      "name": "python",
      "nbconvert_exporter": "python",
      "pygments_lexer": "ipython3",
      "version": "3.8.5"
    },
    "colab": {
      "name": "main1.ipynb",
      "provenance": [],
      "collapsed_sections": [],
      "toc_visible": true
    },
    "accelerator": "GPU"
  },
  "cells": [
    {
      "cell_type": "markdown",
      "metadata": {
        "collapsed": true,
        "pycharm": {
          "name": "#%% md\n"
        },
        "id": "SB3U2Uihao-z"
      },
      "source": [
        "## Data preparation and preprocessing\n",
        "\n",
        "### Short introduction\n",
        "\n",
        "We are the Conloquor team, which means dialogue in latin. We will be developing a chatbot for our project this semester.\n",
        "\n",
        "Members:\n",
        "\n",
        "- Béres Bálint\n",
        "- Drexler Konrád\n",
        "- Drexler Kristóf\n",
        "\n",
        "### Data source\n",
        "\n",
        "We found a dataset on [reddit](https://www.reddit.com/r/datasets/comments/3bxlg7/i_have_every_publicly_available_reddit_comment/)\n",
        "which includes all the reddit comments categorized by month. A user uploaded the entire dataset to google's\n",
        "bigquery platform, here's the [reddit](https://www.reddit.com/r/bigquery/comments/3cej2b/17_billion_reddit_comments_loaded_on_bigquery/)\n",
        "thread.\n",
        "\n",
        "### Downloading the data\n",
        "\n",
        "We chose to use comments from may, 2015 for our project. For this we ran the following SQL query on the bigquery platform.\n",
        "\n",
        "```SQL\n",
        "select *\n",
        "from `fh-bigquery.reddit_comments.2015_05`\n",
        "where subreddit like 'science'\n",
        "    or subreddit like 'politics'\n",
        "    or subreddit like 'gaming'\n",
        "    or subreddit like 'worldnews'\n",
        "    or subreddit like 'CasualConversation'\n",
        "    or subreddit like 'sports'\n",
        "```\n",
        "\n",
        "At first we downloaded all the comments made that month, but the resulting file was 5GB compressed.\n",
        "Therefore, we limited the source subreddits to **r/science**, **r/politics**, **r/gaming**,\n",
        "**r/worldnews**, **r/CasualConversation** and **r/sports**. This query still yielded 1.45 million\n",
        "comments to work with, but was a manageable size. We exported the resulting table to a json file;\n",
        " `data_2015_05.json`. This `.json` is available on my [google drive](https://drive.google.com/file/d/13n1ET0mppD6i-DjqyJIFjAiMQp6V7v6q/view?usp=sharing).\n",
        " In the future, the project will automatically download the data."
      ]
    },
    {
      "cell_type": "markdown",
      "metadata": {
        "id": "sEMVmHUVao-4"
      },
      "source": [
        "## Formatting the data for preprocessing\n",
        "\n",
        "The initial json file still had a lot of unnecessary columns and unusable rows. Using further SQL queries we\n",
        "trimmed and transformed the data to fit our needs. At the end of the process we were left with just short of\n",
        "480000 message-response pairs. This was done by by filtering out messages longer than 200 characters, [deleted] messages\n",
        "and hyperlink only messages to name a few."
      ]
    },
    {
      "cell_type": "code",
      "metadata": {
        "colab": {
          "base_uri": "https://localhost:8080/"
        },
        "id": "a3s43kYIzHIB",
        "outputId": "e6f04bc7-c43e-4869-ff40-f5c4d2e45c45"
      },
      "source": [
        "# pandasql is not in the google colab repertoir by default, it needs to be installed manually\n",
        "!pip install pandasql"
      ],
      "execution_count": 7,
      "outputs": [
        {
          "output_type": "stream",
          "text": [
            "Requirement already satisfied: pandasql in /usr/local/lib/python3.6/dist-packages (0.7.3)\n",
            "Requirement already satisfied: numpy in /usr/local/lib/python3.6/dist-packages (from pandasql) (1.18.5)\n",
            "Requirement already satisfied: sqlalchemy in /usr/local/lib/python3.6/dist-packages (from pandasql) (1.3.20)\n",
            "Requirement already satisfied: pandas in /usr/local/lib/python3.6/dist-packages (from pandasql) (1.1.4)\n",
            "Requirement already satisfied: python-dateutil>=2.7.3 in /usr/local/lib/python3.6/dist-packages (from pandas->pandasql) (2.8.1)\n",
            "Requirement already satisfied: pytz>=2017.2 in /usr/local/lib/python3.6/dist-packages (from pandas->pandasql) (2018.9)\n",
            "Requirement already satisfied: six>=1.5 in /usr/local/lib/python3.6/dist-packages (from python-dateutil>=2.7.3->pandas->pandasql) (1.15.0)\n"
          ],
          "name": "stdout"
        }
      ]
    },
    {
      "cell_type": "code",
      "metadata": {
        "pycharm": {
          "name": "#%%\n"
        },
        "id": "gxlc4KJbao-5"
      },
      "source": [
        "# import statements\n",
        "import pandas as pd\n",
        "import pandasql as ps"
      ],
      "execution_count": 8,
      "outputs": []
    },
    {
      "cell_type": "code",
      "metadata": {
        "pycharm": {
          "name": "#%%\n"
        },
        "id": "MHxBu3ziao_D"
      },
      "source": [
        "# Create dataframe from json file\n",
        "raw_data_df = pd.read_json(r'data_2015_05.json', orient='records', lines=True)"
      ],
      "execution_count": 11,
      "outputs": []
    },
    {
      "cell_type": "code",
      "metadata": {
        "pycharm": {
          "name": "#%%\n"
        },
        "id": "niQWxwD6ao_I",
        "outputId": "3d08379b-8e1b-496e-eea5-3a3b055c1763"
      },
      "source": [
        "# Show top ten rows\n",
        "raw_data_df.head(10)"
      ],
      "execution_count": null,
      "outputs": [
        {
          "output_type": "execute_result",
          "data": {
            "text/plain": [
              "                                                body  score_hidden  archived  \\\n",
              "0  That wasn't just a personal belief of his. It'...         False     False   \n",
              "1  I think you're on to something there. But to b...         False     False   \n",
              "2  They've also been rather clear on defining a f...         False     False   \n",
              "3                                     God bless you.         False     False   \n",
              "4  Western corporations don't give a rats arse to...         False     False   \n",
              "5                                          [deleted]         False     False   \n",
              "6  http://en.wikipedia.org/wiki/Celebration_Cruis...         False     False   \n",
              "7  I'm not attacking them, I'm making an observat...         False     False   \n",
              "8  Well, that's a vile and disgusting thing to sa...         False     False   \n",
              "9                                    Are you 15? Lol         False     False   \n",
              "\n",
              "         name        author  downs  created_utc subreddit_id    link_id  \\\n",
              "0  t1_cr7h0ln         tejon      0   1431494075     t5_2cneq  t3_35ql9d   \n",
              "1  t1_crpxkmu        Tangpo      0   1432999141     t5_2cneq  t3_37tyhm   \n",
              "2  t1_cr43h2c       Qu1nlan      0   1431220695     t5_2cneq  t3_35eepj   \n",
              "3  t1_cr5rn0g     broncoz33      0   1431370502     t5_2qh03  t3_35liga   \n",
              "4  t1_cra1d35      critfist      0   1431701414     t5_2qh13  t3_361cco   \n",
              "5  t1_cqvze0l     [deleted]      0   1430571181     t5_2qh13  t3_34lnbr   \n",
              "6  t1_crqsdm6    Atheist101      0   1433078136     t5_323oy  t3_37v2sr   \n",
              "7  t1_crahjf8     utb040713      0   1431728711      t5_mouw  t3_3622fk   \n",
              "8  t1_cr4qp74  Fractal_Soul      0   1431286132     t5_2cneq  t3_35ffem   \n",
              "9  t1_crcbtar    chuchubaba      0   1431900496     t5_2qh03  t3_369dwg   \n",
              "\n",
              "    parent_id  score  retrieved_on  controversiality  gilded       id  \\\n",
              "0  t1_cr7fnj4    136    1433034878                 0       0  cr7h0ln   \n",
              "1  t1_crpw8y8     17    1433393342                 0       0  crpxkmu   \n",
              "2  t1_cr439ea     19    1432870611                 0       0  cr43h2c   \n",
              "3  t1_cr5qa14     13    1432899458                 0       0  cr5rn0g   \n",
              "4  t1_cra0qd0     -4    1433079241                 0       0  cra1d35   \n",
              "5  t1_cqvye5y     -3    1432729493                 0       0  cqvze0l   \n",
              "6  t1_crqdes4     -4    1433496812                 0       0  crqsdm6   \n",
              "7  t1_cragizb      0    1433087005                 0       0  crahjf8   \n",
              "8  t1_cr4div8      0    1432881767                 0       0  cr4qp74   \n",
              "9  t1_crc88ht      0    1433118815                 0       0  crcbtar   \n",
              "\n",
              "            subreddit  ups author_flair_text author_flair_css_class  \\\n",
              "0            politics  136               NaN                    NaN   \n",
              "1            politics   17               NaN                    NaN   \n",
              "2            politics   19               NaN                    NaN   \n",
              "3              gaming   13               NaN                    NaN   \n",
              "4           worldnews   -4               NaN                    NaN   \n",
              "5           worldnews   -3               NaN                    NaN   \n",
              "6  CasualConversation   -4               NaN                    NaN   \n",
              "7             science    0               NaN                    NaN   \n",
              "8            politics    0               NaN                    NaN   \n",
              "9              gaming    0               NaN                    NaN   \n",
              "\n",
              "  distinguished  \n",
              "0           NaN  \n",
              "1           NaN  \n",
              "2           NaN  \n",
              "3           NaN  \n",
              "4           NaN  \n",
              "5           NaN  \n",
              "6           NaN  \n",
              "7           NaN  \n",
              "8           NaN  \n",
              "9           NaN  "
            ],
            "text/html": [
              "<div>\n",
              "<style scoped>\n",
              "    .dataframe tbody tr th:only-of-type {\n",
              "        vertical-align: middle;\n",
              "    }\n",
              "\n",
              "    .dataframe tbody tr th {\n",
              "        vertical-align: top;\n",
              "    }\n",
              "\n",
              "    .dataframe thead th {\n",
              "        text-align: right;\n",
              "    }\n",
              "</style>\n",
              "<table border=\"1\" class=\"dataframe\">\n",
              "  <thead>\n",
              "    <tr style=\"text-align: right;\">\n",
              "      <th></th>\n",
              "      <th>body</th>\n",
              "      <th>score_hidden</th>\n",
              "      <th>archived</th>\n",
              "      <th>name</th>\n",
              "      <th>author</th>\n",
              "      <th>downs</th>\n",
              "      <th>created_utc</th>\n",
              "      <th>subreddit_id</th>\n",
              "      <th>link_id</th>\n",
              "      <th>parent_id</th>\n",
              "      <th>score</th>\n",
              "      <th>retrieved_on</th>\n",
              "      <th>controversiality</th>\n",
              "      <th>gilded</th>\n",
              "      <th>id</th>\n",
              "      <th>subreddit</th>\n",
              "      <th>ups</th>\n",
              "      <th>author_flair_text</th>\n",
              "      <th>author_flair_css_class</th>\n",
              "      <th>distinguished</th>\n",
              "    </tr>\n",
              "  </thead>\n",
              "  <tbody>\n",
              "    <tr>\n",
              "      <th>0</th>\n",
              "      <td>That wasn't just a personal belief of his. It'...</td>\n",
              "      <td>False</td>\n",
              "      <td>False</td>\n",
              "      <td>t1_cr7h0ln</td>\n",
              "      <td>tejon</td>\n",
              "      <td>0</td>\n",
              "      <td>1431494075</td>\n",
              "      <td>t5_2cneq</td>\n",
              "      <td>t3_35ql9d</td>\n",
              "      <td>t1_cr7fnj4</td>\n",
              "      <td>136</td>\n",
              "      <td>1433034878</td>\n",
              "      <td>0</td>\n",
              "      <td>0</td>\n",
              "      <td>cr7h0ln</td>\n",
              "      <td>politics</td>\n",
              "      <td>136</td>\n",
              "      <td>NaN</td>\n",
              "      <td>NaN</td>\n",
              "      <td>NaN</td>\n",
              "    </tr>\n",
              "    <tr>\n",
              "      <th>1</th>\n",
              "      <td>I think you're on to something there. But to b...</td>\n",
              "      <td>False</td>\n",
              "      <td>False</td>\n",
              "      <td>t1_crpxkmu</td>\n",
              "      <td>Tangpo</td>\n",
              "      <td>0</td>\n",
              "      <td>1432999141</td>\n",
              "      <td>t5_2cneq</td>\n",
              "      <td>t3_37tyhm</td>\n",
              "      <td>t1_crpw8y8</td>\n",
              "      <td>17</td>\n",
              "      <td>1433393342</td>\n",
              "      <td>0</td>\n",
              "      <td>0</td>\n",
              "      <td>crpxkmu</td>\n",
              "      <td>politics</td>\n",
              "      <td>17</td>\n",
              "      <td>NaN</td>\n",
              "      <td>NaN</td>\n",
              "      <td>NaN</td>\n",
              "    </tr>\n",
              "    <tr>\n",
              "      <th>2</th>\n",
              "      <td>They've also been rather clear on defining a f...</td>\n",
              "      <td>False</td>\n",
              "      <td>False</td>\n",
              "      <td>t1_cr43h2c</td>\n",
              "      <td>Qu1nlan</td>\n",
              "      <td>0</td>\n",
              "      <td>1431220695</td>\n",
              "      <td>t5_2cneq</td>\n",
              "      <td>t3_35eepj</td>\n",
              "      <td>t1_cr439ea</td>\n",
              "      <td>19</td>\n",
              "      <td>1432870611</td>\n",
              "      <td>0</td>\n",
              "      <td>0</td>\n",
              "      <td>cr43h2c</td>\n",
              "      <td>politics</td>\n",
              "      <td>19</td>\n",
              "      <td>NaN</td>\n",
              "      <td>NaN</td>\n",
              "      <td>NaN</td>\n",
              "    </tr>\n",
              "    <tr>\n",
              "      <th>3</th>\n",
              "      <td>God bless you.</td>\n",
              "      <td>False</td>\n",
              "      <td>False</td>\n",
              "      <td>t1_cr5rn0g</td>\n",
              "      <td>broncoz33</td>\n",
              "      <td>0</td>\n",
              "      <td>1431370502</td>\n",
              "      <td>t5_2qh03</td>\n",
              "      <td>t3_35liga</td>\n",
              "      <td>t1_cr5qa14</td>\n",
              "      <td>13</td>\n",
              "      <td>1432899458</td>\n",
              "      <td>0</td>\n",
              "      <td>0</td>\n",
              "      <td>cr5rn0g</td>\n",
              "      <td>gaming</td>\n",
              "      <td>13</td>\n",
              "      <td>NaN</td>\n",
              "      <td>NaN</td>\n",
              "      <td>NaN</td>\n",
              "    </tr>\n",
              "    <tr>\n",
              "      <th>4</th>\n",
              "      <td>Western corporations don't give a rats arse to...</td>\n",
              "      <td>False</td>\n",
              "      <td>False</td>\n",
              "      <td>t1_cra1d35</td>\n",
              "      <td>critfist</td>\n",
              "      <td>0</td>\n",
              "      <td>1431701414</td>\n",
              "      <td>t5_2qh13</td>\n",
              "      <td>t3_361cco</td>\n",
              "      <td>t1_cra0qd0</td>\n",
              "      <td>-4</td>\n",
              "      <td>1433079241</td>\n",
              "      <td>0</td>\n",
              "      <td>0</td>\n",
              "      <td>cra1d35</td>\n",
              "      <td>worldnews</td>\n",
              "      <td>-4</td>\n",
              "      <td>NaN</td>\n",
              "      <td>NaN</td>\n",
              "      <td>NaN</td>\n",
              "    </tr>\n",
              "    <tr>\n",
              "      <th>5</th>\n",
              "      <td>[deleted]</td>\n",
              "      <td>False</td>\n",
              "      <td>False</td>\n",
              "      <td>t1_cqvze0l</td>\n",
              "      <td>[deleted]</td>\n",
              "      <td>0</td>\n",
              "      <td>1430571181</td>\n",
              "      <td>t5_2qh13</td>\n",
              "      <td>t3_34lnbr</td>\n",
              "      <td>t1_cqvye5y</td>\n",
              "      <td>-3</td>\n",
              "      <td>1432729493</td>\n",
              "      <td>0</td>\n",
              "      <td>0</td>\n",
              "      <td>cqvze0l</td>\n",
              "      <td>worldnews</td>\n",
              "      <td>-3</td>\n",
              "      <td>NaN</td>\n",
              "      <td>NaN</td>\n",
              "      <td>NaN</td>\n",
              "    </tr>\n",
              "    <tr>\n",
              "      <th>6</th>\n",
              "      <td>http://en.wikipedia.org/wiki/Celebration_Cruis...</td>\n",
              "      <td>False</td>\n",
              "      <td>False</td>\n",
              "      <td>t1_crqsdm6</td>\n",
              "      <td>Atheist101</td>\n",
              "      <td>0</td>\n",
              "      <td>1433078136</td>\n",
              "      <td>t5_323oy</td>\n",
              "      <td>t3_37v2sr</td>\n",
              "      <td>t1_crqdes4</td>\n",
              "      <td>-4</td>\n",
              "      <td>1433496812</td>\n",
              "      <td>0</td>\n",
              "      <td>0</td>\n",
              "      <td>crqsdm6</td>\n",
              "      <td>CasualConversation</td>\n",
              "      <td>-4</td>\n",
              "      <td>NaN</td>\n",
              "      <td>NaN</td>\n",
              "      <td>NaN</td>\n",
              "    </tr>\n",
              "    <tr>\n",
              "      <th>7</th>\n",
              "      <td>I'm not attacking them, I'm making an observat...</td>\n",
              "      <td>False</td>\n",
              "      <td>False</td>\n",
              "      <td>t1_crahjf8</td>\n",
              "      <td>utb040713</td>\n",
              "      <td>0</td>\n",
              "      <td>1431728711</td>\n",
              "      <td>t5_mouw</td>\n",
              "      <td>t3_3622fk</td>\n",
              "      <td>t1_cragizb</td>\n",
              "      <td>0</td>\n",
              "      <td>1433087005</td>\n",
              "      <td>0</td>\n",
              "      <td>0</td>\n",
              "      <td>crahjf8</td>\n",
              "      <td>science</td>\n",
              "      <td>0</td>\n",
              "      <td>NaN</td>\n",
              "      <td>NaN</td>\n",
              "      <td>NaN</td>\n",
              "    </tr>\n",
              "    <tr>\n",
              "      <th>8</th>\n",
              "      <td>Well, that's a vile and disgusting thing to sa...</td>\n",
              "      <td>False</td>\n",
              "      <td>False</td>\n",
              "      <td>t1_cr4qp74</td>\n",
              "      <td>Fractal_Soul</td>\n",
              "      <td>0</td>\n",
              "      <td>1431286132</td>\n",
              "      <td>t5_2cneq</td>\n",
              "      <td>t3_35ffem</td>\n",
              "      <td>t1_cr4div8</td>\n",
              "      <td>0</td>\n",
              "      <td>1432881767</td>\n",
              "      <td>0</td>\n",
              "      <td>0</td>\n",
              "      <td>cr4qp74</td>\n",
              "      <td>politics</td>\n",
              "      <td>0</td>\n",
              "      <td>NaN</td>\n",
              "      <td>NaN</td>\n",
              "      <td>NaN</td>\n",
              "    </tr>\n",
              "    <tr>\n",
              "      <th>9</th>\n",
              "      <td>Are you 15? Lol</td>\n",
              "      <td>False</td>\n",
              "      <td>False</td>\n",
              "      <td>t1_crcbtar</td>\n",
              "      <td>chuchubaba</td>\n",
              "      <td>0</td>\n",
              "      <td>1431900496</td>\n",
              "      <td>t5_2qh03</td>\n",
              "      <td>t3_369dwg</td>\n",
              "      <td>t1_crc88ht</td>\n",
              "      <td>0</td>\n",
              "      <td>1433118815</td>\n",
              "      <td>0</td>\n",
              "      <td>0</td>\n",
              "      <td>crcbtar</td>\n",
              "      <td>gaming</td>\n",
              "      <td>0</td>\n",
              "      <td>NaN</td>\n",
              "      <td>NaN</td>\n",
              "      <td>NaN</td>\n",
              "    </tr>\n",
              "  </tbody>\n",
              "</table>\n",
              "</div>"
            ]
          },
          "metadata": {
            "tags": []
          },
          "execution_count": 7
        }
      ]
    },
    {
      "cell_type": "code",
      "metadata": {
        "pycharm": {
          "name": "#%%\n"
        },
        "id": "UMyHHsWfao_N"
      },
      "source": [
        "# Filter raw data:\n",
        "# select only rows which have a length less than 200, and the comment wasn't [deleted]\n",
        "sql_query = \" select body\" \\\n",
        "            \"       , name\" \\\n",
        "            \"       , link_id\" \\\n",
        "            \"       , parent_id\" \\\n",
        "            \"       , score\" \\\n",
        "            \" from raw_data_df\" \\\n",
        "            \" where length(body) < 200 and body <> '[deleted]'\"\n",
        "# Can only be saved as sdf since this is how pandas works.\n",
        "sdf = ps.sqldf(sql_query)"
      ],
      "execution_count": null,
      "outputs": []
    },
    {
      "cell_type": "code",
      "metadata": {
        "pycharm": {
          "name": "#%%\n"
        },
        "id": "DEZzlYTfao_R"
      },
      "source": [
        "# Delete the original Dataframe to save memory\n",
        "del raw_data_df"
      ],
      "execution_count": null,
      "outputs": []
    },
    {
      "cell_type": "code",
      "metadata": {
        "pycharm": {
          "name": "#%%\n"
        },
        "id": "00UrRZzmao_V"
      },
      "source": [
        "# List of regular expressions to further filter the bodies of the comments;\n",
        "\n",
        "# Remove all links from the comments\n",
        "sdf.replace(r'https?://(www.)?[-a-zA-Z0-9@:%.+~#=]{1,256}.[a-zA-Z0-9()]{1,6}\\b([-a-zA-Z0-9(_)@:%+.~#?&//=]*)','',regex=True, inplace = True)\n",
        "\n",
        "# Remove all user links/subreddit links\n",
        "sdf.replace(r'(/u/)?(r/)?(^)?(\\\\)?','',regex=True, inplace = True)\n",
        "\n",
        "# Replace '&gt;' and '&lt' with '<' and '>' respectively\n",
        "sdf.replace(r'(&gt;)','>',regex=True, inplace = True)\n",
        "sdf.replace(r'(&lt)','<',regex=True, inplace = True)\n",
        "\n",
        "# Replace '&amp' with an ampersand\n",
        "sdf.replace(r'(&amp;)','&',regex=True, inplace = True)"
      ],
      "execution_count": null,
      "outputs": []
    },
    {
      "cell_type": "code",
      "metadata": {
        "pycharm": {
          "name": "#%%\n"
        },
        "id": "5hr7A3Soao_Y"
      },
      "source": [
        "# Rename body column to response\n",
        "response_df = sdf.rename(columns={'body': 'response'})"
      ],
      "execution_count": null,
      "outputs": []
    },
    {
      "cell_type": "code",
      "metadata": {
        "pycharm": {
          "name": "#%%\n"
        },
        "id": "SbtPdD-Hao_b",
        "outputId": "a5b2c60e-f33b-4575-cb34-f3c35bdd88e5"
      },
      "source": [
        "# Show top ten rows\n",
        "response_df.head(10)"
      ],
      "execution_count": null,
      "outputs": [
        {
          "output_type": "execute_result",
          "data": {
            "text/plain": [
              "                                            response        name    link_id  \\\n",
              "0  They've also been rather clear on defining a f...  t1_cr43h2c  t3_35eepj   \n",
              "1                                     God bless you.  t1_cr5rn0g  t3_35liga   \n",
              "2  Western corporations don't give a rats arse to...  t1_cra1d35  t3_361cco   \n",
              "3                                                     t1_crqsdm6  t3_37v2sr   \n",
              "4  Well, that's a vile and disgusting thing to sa...  t1_cr4qp74  t3_35ffem   \n",
              "5                                    Are you 15? Lol  t1_crcbtar  t3_369dwg   \n",
              "6  Oh okay, cause a lot of people post similar \"t...  t1_crjr1yc  t3_372bqp   \n",
              "7  > according to analysts who monitor web chatte...  t1_cr2nszt  t3_357t9u   \n",
              "8  Minavo Communications provides IVR solutions, ...  t1_cr5cntq  t3_35kx45   \n",
              "9        Pfft, Convolvulaceae is where it's at. ;-)   t1_crmt7hn  t3_37gbrz   \n",
              "\n",
              "    parent_id  score  \n",
              "0  t1_cr439ea     19  \n",
              "1  t1_cr5qa14     13  \n",
              "2  t1_cra0qd0     -4  \n",
              "3  t1_crqdes4     -4  \n",
              "4  t1_cr4div8      0  \n",
              "5  t1_crc88ht      0  \n",
              "6  t1_crj8tdk      0  \n",
              "7   t3_357t9u      0  \n",
              "8   t3_35kx45      1  \n",
              "9  t1_crmsccb      1  "
            ],
            "text/html": [
              "<div>\n",
              "<style scoped>\n",
              "    .dataframe tbody tr th:only-of-type {\n",
              "        vertical-align: middle;\n",
              "    }\n",
              "\n",
              "    .dataframe tbody tr th {\n",
              "        vertical-align: top;\n",
              "    }\n",
              "\n",
              "    .dataframe thead th {\n",
              "        text-align: right;\n",
              "    }\n",
              "</style>\n",
              "<table border=\"1\" class=\"dataframe\">\n",
              "  <thead>\n",
              "    <tr style=\"text-align: right;\">\n",
              "      <th></th>\n",
              "      <th>response</th>\n",
              "      <th>name</th>\n",
              "      <th>link_id</th>\n",
              "      <th>parent_id</th>\n",
              "      <th>score</th>\n",
              "    </tr>\n",
              "  </thead>\n",
              "  <tbody>\n",
              "    <tr>\n",
              "      <th>0</th>\n",
              "      <td>They've also been rather clear on defining a f...</td>\n",
              "      <td>t1_cr43h2c</td>\n",
              "      <td>t3_35eepj</td>\n",
              "      <td>t1_cr439ea</td>\n",
              "      <td>19</td>\n",
              "    </tr>\n",
              "    <tr>\n",
              "      <th>1</th>\n",
              "      <td>God bless you.</td>\n",
              "      <td>t1_cr5rn0g</td>\n",
              "      <td>t3_35liga</td>\n",
              "      <td>t1_cr5qa14</td>\n",
              "      <td>13</td>\n",
              "    </tr>\n",
              "    <tr>\n",
              "      <th>2</th>\n",
              "      <td>Western corporations don't give a rats arse to...</td>\n",
              "      <td>t1_cra1d35</td>\n",
              "      <td>t3_361cco</td>\n",
              "      <td>t1_cra0qd0</td>\n",
              "      <td>-4</td>\n",
              "    </tr>\n",
              "    <tr>\n",
              "      <th>3</th>\n",
              "      <td></td>\n",
              "      <td>t1_crqsdm6</td>\n",
              "      <td>t3_37v2sr</td>\n",
              "      <td>t1_crqdes4</td>\n",
              "      <td>-4</td>\n",
              "    </tr>\n",
              "    <tr>\n",
              "      <th>4</th>\n",
              "      <td>Well, that's a vile and disgusting thing to sa...</td>\n",
              "      <td>t1_cr4qp74</td>\n",
              "      <td>t3_35ffem</td>\n",
              "      <td>t1_cr4div8</td>\n",
              "      <td>0</td>\n",
              "    </tr>\n",
              "    <tr>\n",
              "      <th>5</th>\n",
              "      <td>Are you 15? Lol</td>\n",
              "      <td>t1_crcbtar</td>\n",
              "      <td>t3_369dwg</td>\n",
              "      <td>t1_crc88ht</td>\n",
              "      <td>0</td>\n",
              "    </tr>\n",
              "    <tr>\n",
              "      <th>6</th>\n",
              "      <td>Oh okay, cause a lot of people post similar \"t...</td>\n",
              "      <td>t1_crjr1yc</td>\n",
              "      <td>t3_372bqp</td>\n",
              "      <td>t1_crj8tdk</td>\n",
              "      <td>0</td>\n",
              "    </tr>\n",
              "    <tr>\n",
              "      <th>7</th>\n",
              "      <td>&gt; according to analysts who monitor web chatte...</td>\n",
              "      <td>t1_cr2nszt</td>\n",
              "      <td>t3_357t9u</td>\n",
              "      <td>t3_357t9u</td>\n",
              "      <td>0</td>\n",
              "    </tr>\n",
              "    <tr>\n",
              "      <th>8</th>\n",
              "      <td>Minavo Communications provides IVR solutions, ...</td>\n",
              "      <td>t1_cr5cntq</td>\n",
              "      <td>t3_35kx45</td>\n",
              "      <td>t3_35kx45</td>\n",
              "      <td>1</td>\n",
              "    </tr>\n",
              "    <tr>\n",
              "      <th>9</th>\n",
              "      <td>Pfft, Convolvulaceae is where it's at. ;-)</td>\n",
              "      <td>t1_crmt7hn</td>\n",
              "      <td>t3_37gbrz</td>\n",
              "      <td>t1_crmsccb</td>\n",
              "      <td>1</td>\n",
              "    </tr>\n",
              "  </tbody>\n",
              "</table>\n",
              "</div>"
            ]
          },
          "metadata": {
            "tags": []
          },
          "execution_count": 12
        }
      ]
    },
    {
      "cell_type": "code",
      "metadata": {
        "pycharm": {
          "name": "#%%\n"
        },
        "id": "PZPyPe6Gao_d"
      },
      "source": [
        "# Create query-response pairs\n",
        "# Join the two tables to make a single one\n",
        "# Concatenate '<eos>' to the end, and '<sos>' to the start of the response and store each of them, in a different column\n",
        "sql_query = \" select inp.body\" \\\n",
        "            \"       , resp.response || ' <eos>'\" \\\n",
        "            \"       , '<sos> ' || resp.response\" \\\n",
        "            \" from response_df resp\" \\\n",
        "            \" left join sdf inp\" \\\n",
        "            \" on resp.parent_id = inp.name\" \\\n",
        "            \" where inp.body is not null and inp.body <> '' and resp.response <> ''\"\n",
        "# Can only be saved as sdf since this is how pandas works.\n",
        "sdf = ps.sqldf(sql_query)"
      ],
      "execution_count": null,
      "outputs": []
    },
    {
      "cell_type": "code",
      "metadata": {
        "pycharm": {
          "name": "#%%\n"
        },
        "id": "ZNxi99eHao_g"
      },
      "source": [
        "# Rename body to input, second column to output and third column to output_input\n",
        "xy_df = sdf.rename(columns={'body': 'input', \"resp.response || ' <eos>'\": 'output', \"'<sos> ' || resp.response\": 'output_input'})"
      ],
      "execution_count": null,
      "outputs": []
    },
    {
      "cell_type": "code",
      "metadata": {
        "pycharm": {
          "name": "#%%\n"
        },
        "id": "6iIQgy2Kao_j"
      },
      "source": [
        "# Delete sdf to free up memory\n",
        "del sdf"
      ],
      "execution_count": null,
      "outputs": []
    },
    {
      "cell_type": "code",
      "metadata": {
        "pycharm": {
          "name": "#%%\n"
        },
        "id": "2EoCaI8bao_m",
        "outputId": "254ffd15-8413-46ca-eea6-5ef4356a09c3"
      },
      "source": [
        "# show top ten rows of the new dataframe\n",
        "xy_df.head(10)"
      ],
      "execution_count": null,
      "outputs": [
        {
          "output_type": "execute_result",
          "data": {
            "text/plain": [
              "                                               input  \\\n",
              "0  They've also been rather clear on defining a f...   \n",
              "1  Western corporations don't give a rats arse to...   \n",
              "2    What was the conversation? I just killed them.    \n",
              "3  Well it just shows us past behavior and what o...   \n",
              "4  Solid advice to avoid a shaky end for TheEarth...   \n",
              "5  The whole schools discrimination provision was...   \n",
              "6  Hahaha yeah we can do that too. I just thought...   \n",
              "7  Thank you!\\n\\nYeah, I like them and find them ...   \n",
              "8                                       2 line pass.   \n",
              "9  Well shit... I never used boot bands to blouse...   \n",
              "\n",
              "                                              output  \\\n",
              "0  No, they have not. What gave you that idea? Th...   \n",
              "1  wow, ok have you ever heard of a thing called ...   \n",
              "2  \"Something something something, then I raped t...   \n",
              "3  Guess you aren't a big believer in \"firsts\"?\\n...   \n",
              "4                                      Agreed! <eos>   \n",
              "5  The fact my daughter is bottom of the list in ...   \n",
              "6  Nothing wrong with multitasking during a movie...   \n",
              "7  Understandable. It's not a real exam if you do...   \n",
              "8                   False. But it was offside  <eos>   \n",
              "9                            My point exactly. <eos>   \n",
              "\n",
              "                                        output_input  \n",
              "0  <sos> No, they have not. What gave you that id...  \n",
              "1  <sos> wow, ok have you ever heard of a thing c...  \n",
              "2  <sos> \"Something something something, then I r...  \n",
              "3  <sos> Guess you aren't a big believer in \"firs...  \n",
              "4                                      <sos> Agreed!  \n",
              "5  <sos> The fact my daughter is bottom of the li...  \n",
              "6  <sos> Nothing wrong with multitasking during a...  \n",
              "7  <sos> Understandable. It's not a real exam if ...  \n",
              "8                   <sos> False. But it was offside   \n",
              "9                            <sos> My point exactly.  "
            ],
            "text/html": [
              "<div>\n",
              "<style scoped>\n",
              "    .dataframe tbody tr th:only-of-type {\n",
              "        vertical-align: middle;\n",
              "    }\n",
              "\n",
              "    .dataframe tbody tr th {\n",
              "        vertical-align: top;\n",
              "    }\n",
              "\n",
              "    .dataframe thead th {\n",
              "        text-align: right;\n",
              "    }\n",
              "</style>\n",
              "<table border=\"1\" class=\"dataframe\">\n",
              "  <thead>\n",
              "    <tr style=\"text-align: right;\">\n",
              "      <th></th>\n",
              "      <th>input</th>\n",
              "      <th>output</th>\n",
              "      <th>output_input</th>\n",
              "    </tr>\n",
              "  </thead>\n",
              "  <tbody>\n",
              "    <tr>\n",
              "      <th>0</th>\n",
              "      <td>They've also been rather clear on defining a f...</td>\n",
              "      <td>No, they have not. What gave you that idea? Th...</td>\n",
              "      <td>&lt;sos&gt; No, they have not. What gave you that id...</td>\n",
              "    </tr>\n",
              "    <tr>\n",
              "      <th>1</th>\n",
              "      <td>Western corporations don't give a rats arse to...</td>\n",
              "      <td>wow, ok have you ever heard of a thing called ...</td>\n",
              "      <td>&lt;sos&gt; wow, ok have you ever heard of a thing c...</td>\n",
              "    </tr>\n",
              "    <tr>\n",
              "      <th>2</th>\n",
              "      <td>What was the conversation? I just killed them.</td>\n",
              "      <td>\"Something something something, then I raped t...</td>\n",
              "      <td>&lt;sos&gt; \"Something something something, then I r...</td>\n",
              "    </tr>\n",
              "    <tr>\n",
              "      <th>3</th>\n",
              "      <td>Well it just shows us past behavior and what o...</td>\n",
              "      <td>Guess you aren't a big believer in \"firsts\"?\\n...</td>\n",
              "      <td>&lt;sos&gt; Guess you aren't a big believer in \"firs...</td>\n",
              "    </tr>\n",
              "    <tr>\n",
              "      <th>4</th>\n",
              "      <td>Solid advice to avoid a shaky end for TheEarth...</td>\n",
              "      <td>Agreed! &lt;eos&gt;</td>\n",
              "      <td>&lt;sos&gt; Agreed!</td>\n",
              "    </tr>\n",
              "    <tr>\n",
              "      <th>5</th>\n",
              "      <td>The whole schools discrimination provision was...</td>\n",
              "      <td>The fact my daughter is bottom of the list in ...</td>\n",
              "      <td>&lt;sos&gt; The fact my daughter is bottom of the li...</td>\n",
              "    </tr>\n",
              "    <tr>\n",
              "      <th>6</th>\n",
              "      <td>Hahaha yeah we can do that too. I just thought...</td>\n",
              "      <td>Nothing wrong with multitasking during a movie...</td>\n",
              "      <td>&lt;sos&gt; Nothing wrong with multitasking during a...</td>\n",
              "    </tr>\n",
              "    <tr>\n",
              "      <th>7</th>\n",
              "      <td>Thank you!\\n\\nYeah, I like them and find them ...</td>\n",
              "      <td>Understandable. It's not a real exam if you do...</td>\n",
              "      <td>&lt;sos&gt; Understandable. It's not a real exam if ...</td>\n",
              "    </tr>\n",
              "    <tr>\n",
              "      <th>8</th>\n",
              "      <td>2 line pass.</td>\n",
              "      <td>False. But it was offside  &lt;eos&gt;</td>\n",
              "      <td>&lt;sos&gt; False. But it was offside</td>\n",
              "    </tr>\n",
              "    <tr>\n",
              "      <th>9</th>\n",
              "      <td>Well shit... I never used boot bands to blouse...</td>\n",
              "      <td>My point exactly. &lt;eos&gt;</td>\n",
              "      <td>&lt;sos&gt; My point exactly.</td>\n",
              "    </tr>\n",
              "  </tbody>\n",
              "</table>\n",
              "</div>"
            ]
          },
          "metadata": {
            "tags": []
          },
          "execution_count": 16
        }
      ]
    },
    {
      "cell_type": "code",
      "metadata": {
        "pycharm": {
          "name": "#%%\n"
        },
        "id": "FUhZ2f3Sao_p"
      },
      "source": [
        "# Export to a json file this is so we don't have to run all previous cells again\n",
        "xy_df.to_json('xy_data_2015_05.json', orient='records', lines=True)"
      ],
      "execution_count": 10,
      "outputs": []
    },
    {
      "cell_type": "code",
      "metadata": {
        "pycharm": {
          "name": "#%%\n"
        },
        "id": "hKfDC8bBao_r"
      },
      "source": [
        "# Delete all to free memory\n",
        "del response_df\n",
        "del xy_df\n",
        "del sql_query"
      ],
      "execution_count": null,
      "outputs": []
    },
    {
      "cell_type": "markdown",
      "metadata": {
        "pycharm": {
          "name": "#%% md\n"
        },
        "id": "nkW6Bxn-ao_u"
      },
      "source": [
        "## Preprocessing\n",
        "\n",
        "Now that we have a dataset of usable message-response pairs, lets preprocess the data. The tokenizer encodes words into numbers,\n",
        "a seperate tokenizer is used for the the message data and the output data. Next, we padded the messages to have a fixed size for all of our messages.\n",
        "The `.json` file created in the previous section can be downloaded from this [google drive](https://drive.google.com/file/d/1J65cyCx6Zp1AgzTCGrB1Oqye9nkokmot/view?usp=sharing) link."
      ]
    },
    {
      "cell_type": "code",
      "metadata": {
        "id": "sORG9BopoAmz"
      },
      "source": [
        "# import statements\n",
        "from tensorflow.keras.preprocessing.text import Tokenizer\n",
        "from tensorflow.keras.preprocessing.sequence import pad_sequences"
      ],
      "execution_count": 12,
      "outputs": []
    },
    {
      "cell_type": "code",
      "metadata": {
        "pycharm": {
          "name": "#%%\n"
        },
        "id": "_S8QE5W8ao_v"
      },
      "source": [
        "# Load data from the saved json file\n",
        "xy_data_df = pd.read_json(r'xy_data_2015_05.json', orient='records', lines=True)"
      ],
      "execution_count": 13,
      "outputs": []
    },
    {
      "cell_type": "code",
      "metadata": {
        "id": "IzOvzPVunvnY"
      },
      "source": [
        "# for testing purposes we reduced the dataframe to the first 10000 comments\n",
        "xy_data_df = xy_data_df[0:10000]  "
      ],
      "execution_count": 14,
      "outputs": []
    },
    {
      "cell_type": "code",
      "metadata": {
        "pycharm": {
          "name": "#%%\n"
        },
        "id": "eRulvOPuao_x",
        "colab": {
          "base_uri": "https://localhost:8080/"
        },
        "outputId": "0c2c04de-bd7f-468f-b76f-ca3eef066363"
      },
      "source": [
        "# Check a random row from the dataframe\n",
        "print(xy_data_df['input'][172])\n",
        "print(xy_data_df['output'][172])\n",
        "print(xy_data_df['output_input'][172])"
      ],
      "execution_count": 15,
      "outputs": [
        {
          "output_type": "stream",
          "text": [
            "Do tell. How is it not true? \n",
            "Other than character skins, how are they not just pre set loadouts? \n",
            "you could unlock extra guys. one had a jet-pack if I remember correctly and another had invisibility.  <eos>\n",
            "<sos> you could unlock extra guys. one had a jet-pack if I remember correctly and another had invisibility. \n"
          ],
          "name": "stdout"
        }
      ]
    },
    {
      "cell_type": "code",
      "metadata": {
        "id": "AzAIx4otv0r2"
      },
      "source": [
        "# set max number of words recognized by the model\n",
        "MAX_NUM_WORDS = 5000"
      ],
      "execution_count": 16,
      "outputs": []
    },
    {
      "cell_type": "code",
      "metadata": {
        "pycharm": {
          "name": "#%%\n"
        },
        "id": "tswU1Rn5ao_z",
        "colab": {
          "base_uri": "https://localhost:8080/"
        },
        "outputId": "1bbd5b9d-2f5c-4e35-f1df-d90d455dfdf7"
      },
      "source": [
        "# Text from the input column is tokenized\n",
        "\n",
        "input_tokenizer = Tokenizer(num_words=MAX_NUM_WORDS)\n",
        "\n",
        "# Tokenizer is fitted\n",
        "input_tokenizer.fit_on_texts(xy_data_df['input'])\n",
        "\n",
        "# Sequences are generated from the text\n",
        "input_integer_seq = input_tokenizer.texts_to_sequences(xy_data_df['input'])\n",
        "\n",
        "# { word: index} dictionary of the input_tokenizer\n",
        "word2idx_inputs = input_tokenizer.word_index\n",
        "print('Total unique words in the input: %s' % len(word2idx_inputs))\n",
        "\n",
        "# Word count and max input sentence length are stored\n",
        "max_input_len = max(len(sen) for sen in input_integer_seq)\n",
        "print(\"Length of longest sentence in input: %g\" % max_input_len)"
      ],
      "execution_count": 17,
      "outputs": [
        {
          "output_type": "stream",
          "text": [
            "Total unique words in the input: 11994\n",
            "Length of longest sentence in input: 40\n"
          ],
          "name": "stdout"
        }
      ]
    },
    {
      "cell_type": "code",
      "metadata": {
        "pycharm": {
          "name": "#%%\n"
        },
        "id": "MtS7a196ao_1",
        "colab": {
          "base_uri": "https://localhost:8080/"
        },
        "outputId": "68d40d64-acca-4cd9-c238-3b54bb009102"
      },
      "source": [
        "# Text from the output and output_input columns are tokenized\n",
        "# the regex given is the default filter minus the '<' and '>' symbols,\n",
        "# as these have been handled using SQL in the previous section\n",
        "output_tokenizer = Tokenizer(num_words=MAX_NUM_WORDS, filters='!\"#$%&()*+,-./:;=?@[\\\\]^_`{|}~\\t\\n)')\n",
        "\n",
        "# Tokenizer is fitted\n",
        "output_tokenizer.fit_on_texts(pd.concat([xy_data_df['output'], xy_data_df['output_input']]))\n",
        "\n",
        "# Sequences are generated from the text\n",
        "output_integer_seq = output_tokenizer.texts_to_sequences(xy_data_df['output'])\n",
        "output_input_integer_seq = output_tokenizer.texts_to_sequences(xy_data_df['output_input'])\n",
        "\n",
        "# { word: index} dictionary of the output_tokenizer\n",
        "word2idx_outputs = output_tokenizer.word_index\n",
        "print('Total unique words in the output: %s' % len(word2idx_outputs))\n",
        "\n",
        "# Word count and max output sentence length are stored\n",
        "num_words_output = len(word2idx_outputs) + 1\n",
        "max_out_len = max(len(sen) for sen in output_integer_seq)\n",
        "print(\"Length of longest sentence in the output: %g\" % max_out_len)"
      ],
      "execution_count": 18,
      "outputs": [
        {
          "output_type": "stream",
          "text": [
            "Total unique words in the output: 13878\n",
            "Length of longest sentence in the output: 44\n"
          ],
          "name": "stdout"
        }
      ]
    },
    {
      "cell_type": "code",
      "metadata": {
        "pycharm": {
          "name": "#%%\n"
        },
        "id": "0r8kBekjao_4",
        "colab": {
          "base_uri": "https://localhost:8080/"
        },
        "outputId": "07b31024-2fbc-4216-af4b-d77bc55b5517"
      },
      "source": [
        "# input_integer_seq is padded which will be fed into the encoder\n",
        "# max_input_len stores the maximum output sentence length\n",
        "encoder_input_sequences = pad_sequences(input_integer_seq, maxlen=max_input_len)\n",
        "print(\"encoder_input_sequences.shape:\", encoder_input_sequences.shape)\n",
        "print(\"encoder_input_sequences[172]:\", encoder_input_sequences[172])"
      ],
      "execution_count": 25,
      "outputs": [
        {
          "output_type": "stream",
          "text": [
            "encoder_input_sequences.shape: (10000, 40)\n",
            "encoder_input_sequences[172]: [  0   0   0   0   0   0   0   0   0   0   0   0   0   0   0   0   0   0\n",
            "   0   0   0   0   0  30 288  39   5   9  16 210  92  77 551  39  14  24\n",
            "  16  25 818 607]\n"
          ],
          "name": "stdout"
        }
      ]
    },
    {
      "cell_type": "code",
      "metadata": {
        "pycharm": {
          "name": "#%%\n"
        },
        "id": "IPso2nzrao_6",
        "colab": {
          "base_uri": "https://localhost:8080/"
        },
        "outputId": "341dab50-a91c-4ff8-a8b5-0c68ac0768de"
      },
      "source": [
        "# Example word indices from input_tokenizer\n",
        "print(word2idx_inputs[\"ill\"])\n",
        "print(word2idx_inputs[\"skins\"])"
      ],
      "execution_count": 26,
      "outputs": [
        {
          "output_type": "stream",
          "text": [
            "1766\n",
            "6740\n"
          ],
          "name": "stdout"
        }
      ]
    },
    {
      "cell_type": "code",
      "metadata": {
        "pycharm": {
          "name": "#%%\n"
        },
        "id": "BVn8TGY5ao_8",
        "colab": {
          "base_uri": "https://localhost:8080/"
        },
        "outputId": "0cd9dea1-d21d-4b78-c0f3-f4af3c9d6371"
      },
      "source": [
        "# output_input_integer_seq is padded which will be fed into the decoder\n",
        "# max_out_len stores the maximum output sentence length\n",
        "decoder_input_sequences = pad_sequences(output_input_integer_seq, maxlen=max_out_len, padding='post')\n",
        "print(\"decoder_input_sequences.shape:\", decoder_input_sequences.shape)\n",
        "print(\"decoder_input_sequences[172]:\", decoder_input_sequences[172])"
      ],
      "execution_count": 27,
      "outputs": [
        {
          "output_type": "stream",
          "text": [
            "decoder_input_sequences.shape: (10000, 44)\n",
            "decoder_input_sequences[172]: [   2    7  103 3228 1127  347   44   85    5 1542 2674   30    4  287\n",
            " 2243    8  232   85    0    0    0    0    0    0    0    0    0    0\n",
            "    0    0    0    0    0    0    0    0    0    0    0    0    0    0\n",
            "    0    0]\n"
          ],
          "name": "stdout"
        }
      ]
    },
    {
      "cell_type": "code",
      "metadata": {
        "pycharm": {
          "name": "#%%\n"
        },
        "id": "igLnaDB3apAA",
        "colab": {
          "base_uri": "https://localhost:8080/"
        },
        "outputId": "70d572e1-1fde-4f68-b10f-69b17303eae9"
      },
      "source": [
        "# Example word indices from output_tokenizer\n",
        "print(word2idx_outputs[\"<eos>\"])\n",
        "print(word2idx_outputs[\"not\"])\n",
        "print(word2idx_outputs[\"correctly\"])\n",
        "# print(word2idx_outputs[\"invisibility\"])"
      ],
      "execution_count": 28,
      "outputs": [
        {
          "output_type": "stream",
          "text": [
            "1\n",
            "15\n",
            "2243\n"
          ],
          "name": "stdout"
        }
      ]
    },
    {
      "cell_type": "markdown",
      "metadata": {
        "id": "Zxf-TMK821Zi"
      },
      "source": [
        "The following two cells visualize the progress made up until this point"
      ]
    },
    {
      "cell_type": "code",
      "metadata": {
        "pycharm": {
          "name": "#%%\n"
        },
        "id": "-_eh2FnzapAC"
      },
      "source": [
        "subset_dict = {str(value): 0 for key, value in input_tokenizer.word_index.items()}\n",
        "input_sequences = []\n",
        "\n",
        "# The input and response sentences are tokenized \n",
        "# and the token occurrences are counted in subset_dict\n",
        "for line in xy_data_df.iterrows():\n",
        "\n",
        "    # Input tokenization\n",
        "    token_list = input_tokenizer.texts_to_sequences([line[1][0]])[0]\n",
        "\n",
        "    for token in token_list:\n",
        "        subset_dict[str(token)] += 1\n",
        "\n",
        "    # print('input')\n",
        "    # print(token_list)\n",
        "    # print(tokenizer.sequences_to_texts([token_list]))\n",
        "    # print()\n",
        "\n",
        "    # Response tokenization\n",
        "    token_list = input_tokenizer.texts_to_sequences([line[1][1]])[0]\n",
        "\n",
        "    # print('response')\n",
        "    # print(token_list)\n",
        "    # print(tokenizer.sequences_to_texts([token_list]))\n",
        "    # print()\n",
        "\n",
        "    for token in token_list:\n",
        "        subset_dict[str(token)] += 1"
      ],
      "execution_count": null,
      "outputs": []
    },
    {
      "cell_type": "code",
      "metadata": {
        "pycharm": {
          "name": "#%%\n"
        },
        "id": "Qkxo2bw6apAE",
        "colab": {
          "base_uri": "https://localhost:8080/",
          "height": 303
        },
        "outputId": "061dc98c-9660-496e-f0b9-6d1d487276a8"
      },
      "source": [
        "import matplotlib.pyplot as plt\n",
        "\n",
        "# A sequence from 0 to 29 is created\n",
        "list_c = [i for i in range(30)]\n",
        "\n",
        "# The string value of the 30 most used tokens are retrieved\n",
        "example_seq = input_tokenizer.sequences_to_texts([list_c])[0]\n",
        "print(example_seq)\n",
        "\n",
        "# Turns the example_seq string into a list of words\n",
        "x = example_seq.split()\n",
        "\n",
        "# The 30 most popular words are plotted based on their occurrence\n",
        "plt.bar(x, list(subset_dict.values())[:len(x)], align = 'center')\n",
        "plt.show()"
      ],
      "execution_count": null,
      "outputs": [
        {
          "output_type": "stream",
          "text": [
            "the a i to is you and of it that in for this are be not on have but what like was with they just my so it's as\n"
          ],
          "name": "stdout"
        },
        {
          "output_type": "display_data",
          "data": {
            "image/png": "[encoded data removed]",
            "text/plain": [
              "<Figure size 432x288 with 1 Axes>"
            ]
          },
          "metadata": {
            "tags": [],
            "needs_background": "light"
          }
        }
      ]
    },
    {
      "cell_type": "markdown",
      "metadata": {
        "id": "WJDxlk7P3Oz8"
      },
      "source": [
        "### Word embeddings\n",
        "\n",
        "This is where our work for the second milestone starts. We relied heavily on [this](https://stackabuse.com/python-for-nlp-neural-machine-translation-with-seq2seq-in-keras/) guide on stackabuse. Although we made everal modifications to get it to work with our dataset.\n",
        "\n",
        "The following section embeds the words recognized by the model in a vector with 100 dimensions."
      ]
    },
    {
      "cell_type": "code",
      "metadata": {
        "id": "-oGmjDXy3x-u"
      },
      "source": [
        "# import statements\n",
        "from numpy import array\n",
        "from numpy import asarray\n",
        "from numpy import zeros"
      ],
      "execution_count": 19,
      "outputs": []
    },
    {
      "cell_type": "code",
      "metadata": {
        "id": "06Y_EJxugMNY",
        "colab": {
          "base_uri": "https://localhost:8080/"
        },
        "outputId": "2c826e41-6f78-45a8-f0dd-0b0afb0d9d4c"
      },
      "source": [
        "# we used the pretrained vector embedding model GloVe\n",
        "!wget http://nlp.stanford.edu/data/glove.6B.zip glove.6B.zip"
      ],
      "execution_count": 20,
      "outputs": [
        {
          "output_type": "stream",
          "text": [
            "--2020-11-21 13:46:24--  http://nlp.stanford.edu/data/glove.6B.zip\n",
            "Resolving nlp.stanford.edu (nlp.stanford.edu)... 171.64.67.140\n",
            "Connecting to nlp.stanford.edu (nlp.stanford.edu)|171.64.67.140|:80... connected.\n",
            "HTTP request sent, awaiting response... 302 Found\n",
            "Location: https://nlp.stanford.edu/data/glove.6B.zip [following]\n",
            "--2020-11-21 13:46:24--  https://nlp.stanford.edu/data/glove.6B.zip\n",
            "Connecting to nlp.stanford.edu (nlp.stanford.edu)|171.64.67.140|:443... connected.\n",
            "HTTP request sent, awaiting response... 301 Moved Permanently\n",
            "Location: http://downloads.cs.stanford.edu/nlp/data/glove.6B.zip [following]\n",
            "--2020-11-21 13:46:24--  http://downloads.cs.stanford.edu/nlp/data/glove.6B.zip\n",
            "Resolving downloads.cs.stanford.edu (downloads.cs.stanford.edu)... 171.64.64.22\n",
            "Connecting to downloads.cs.stanford.edu (downloads.cs.stanford.edu)|171.64.64.22|:80... connected.\n",
            "HTTP request sent, awaiting response... 200 OK\n",
            "Length: 862182613 (822M) [application/zip]\n",
            "Saving to: ‘glove.6B.zip’\n",
            "\n",
            "glove.6B.zip        100%[===================>] 822.24M  1.99MB/s    in 6m 28s  \n",
            "\n",
            "2020-11-21 13:52:53 (2.12 MB/s) - ‘glove.6B.zip’ saved [862182613/862182613]\n",
            "\n",
            "--2020-11-21 13:52:53--  http://glove.6b.zip/\n",
            "Resolving glove.6b.zip (glove.6b.zip)... failed: Name or service not known.\n",
            "wget: unable to resolve host address ‘glove.6b.zip’\n",
            "FINISHED --2020-11-21 13:52:53--\n",
            "Total wall clock time: 6m 29s\n",
            "Downloaded: 1 files, 822M in 6m 28s (2.12 MB/s)\n"
          ],
          "name": "stdout"
        }
      ]
    },
    {
      "cell_type": "code",
      "metadata": {
        "id": "nAOz5_TghCFv",
        "colab": {
          "base_uri": "https://localhost:8080/"
        },
        "outputId": "c158b5c3-69a2-46af-9529-cc0e2cc0893d"
      },
      "source": [
        "# unzip the downloaded file\n",
        "!unzip glove.6B.zip"
      ],
      "execution_count": 21,
      "outputs": [
        {
          "output_type": "stream",
          "text": [
            "Archive:  glove.6B.zip\n",
            "  inflating: glove.6B.50d.txt        \n",
            "  inflating: glove.6B.100d.txt       \n",
            "  inflating: glove.6B.200d.txt       \n",
            "  inflating: glove.6B.300d.txt       \n"
          ],
          "name": "stdout"
        }
      ]
    },
    {
      "cell_type": "code",
      "metadata": {
        "id": "nS95Z6ZnidiS"
      },
      "source": [
        "#set embedding size\n",
        "EMBEDDING_SIZE = 100"
      ],
      "execution_count": 22,
      "outputs": []
    },
    {
      "cell_type": "code",
      "metadata": {
        "id": "tybbgBOJicUE"
      },
      "source": [
        "# the embedding dictionary is a dictionary with the key being a word,\n",
        "# and the value being the corresponding 100d vector\n",
        "embeddings_dictionary = dict()\n",
        "\n",
        "# open the file containing the 100d vectors\n",
        "glove_file = open(r'glove.6B.100d.txt', encoding=\"utf8\")\n",
        "\n",
        "# iterate over the lines in the file\n",
        "for line in glove_file:\n",
        "    records = line.split()  # split along whitespaces\n",
        "    word = records[0]       # the word itself is the first element of the list\n",
        "    # the vector representation is the rest of the elements\n",
        "    vector_dimensions = asarray(records[1:], dtype='float32')  \n",
        "    embeddings_dictionary[word] = vector_dimensions  # insert word: vector representation into dictionary\n",
        "glove_file.close()  # close GloVe file"
      ],
      "execution_count": 23,
      "outputs": []
    },
    {
      "cell_type": "code",
      "metadata": {
        "id": "1MgCAIsHiekB"
      },
      "source": [
        "# create the embedding matrix\n",
        "\n",
        "# limit the number of words understood by the model to MAX_NUM_WORDS\n",
        "num_words = min(MAX_NUM_WORDS, len(word2idx_inputs) + 1)\n",
        "# create embedding matrix filled with zeroes\n",
        "embedding_matrix = zeros((num_words, EMBEDDING_SIZE))\n",
        "\n",
        "# iterate over the first MAX_NUM_WORDS collected by the tokenizer\n",
        "for word, index in list(word2idx_inputs.items())[:num_words-1]:\n",
        "  # get embedding vector corresponding to the given word\n",
        "  embedding_vector = embeddings_dictionary.get(word)\n",
        "  # if embedding vector exists, the insert into relevant column of the mbedding matrix\n",
        "  # null vector by default\n",
        "  if embedding_vector is not None:\n",
        "      embedding_matrix[index] = embedding_vector"
      ],
      "execution_count": 24,
      "outputs": []
    },
    {
      "cell_type": "code",
      "metadata": {
        "id": "22y2NO6n9Y0E"
      },
      "source": [
        "# some testing\n",
        "index = 4997"
      ],
      "execution_count": 55,
      "outputs": []
    },
    {
      "cell_type": "code",
      "metadata": {
        "id": "8Tp04_Sur5nj",
        "colab": {
          "base_uri": "https://localhost:8080/"
        },
        "outputId": "df0a1267-ac7e-4d9c-a9ce-7bbb73846843"
      },
      "source": [
        "# print last word\n",
        "print(list(word2idx_inputs.items())[index])"
      ],
      "execution_count": 56,
      "outputs": [
        {
          "output_type": "stream",
          "text": [
            "('superpowers', 4998)\n"
          ],
          "name": "stdout"
        }
      ]
    },
    {
      "cell_type": "code",
      "metadata": {
        "id": "6Eq2JKmIi9dY",
        "colab": {
          "base_uri": "https://localhost:8080/"
        },
        "outputId": "dfd45c05-2299-490e-d678-0c5f220f9613"
      },
      "source": [
        "# print embedding of word from the embedding dictionary\n",
        "print(embeddings_dictionary[list(word2idx_inputs.items())[index][0]])"
      ],
      "execution_count": 57,
      "outputs": [
        {
          "output_type": "stream",
          "text": [
            "[ 8.2561e-01  7.0368e-01  1.0856e+00  1.8640e-01 -3.3048e-01 -1.1595e+00\n",
            " -4.0692e-02 -1.5319e-01  1.8652e-01 -3.2869e-01 -7.1025e-02 -4.5381e-01\n",
            "  4.2302e-01  3.7044e-01  1.1495e-01 -2.8965e-01  3.6515e-01  4.5981e-01\n",
            " -1.7285e-01 -8.6656e-01  3.5760e-01  1.1741e-01  1.0402e-01 -1.6487e-01\n",
            "  8.5793e-01  4.4120e-02 -3.1421e-01  4.0868e-01 -1.0667e-02 -9.8774e-02\n",
            "  5.4666e-01 -1.0250e-01 -6.8991e-01 -6.8826e-01  3.0186e-01 -1.6146e-02\n",
            "  1.5912e-01 -5.5968e-01 -5.7463e-01  1.5893e-02 -4.1537e-01  6.1719e-01\n",
            " -1.7870e-01 -4.5237e-01  1.6250e-01 -3.7825e-02  9.4251e-01  4.8348e-01\n",
            "  2.3142e-01  2.6951e-01 -6.6098e-01  3.8090e-01 -4.2468e-01  7.1296e-01\n",
            "  1.1183e+00  3.7083e-02  4.7085e-01 -4.0589e-01 -6.6160e-01  9.4728e-02\n",
            "  1.2168e-01  5.2807e-01 -3.9111e-01  1.3211e-01 -5.3060e-02  2.4917e-01\n",
            " -2.5457e-01  4.3781e-04  1.5508e-01  2.7041e-01  5.7762e-02 -3.7124e-01\n",
            " -1.8106e-01  5.6205e-02 -8.4670e-01  9.5469e-03 -1.7227e-01 -7.2889e-01\n",
            " -5.0670e-01  2.1736e-01  3.8822e-01  1.4572e-02 -2.4214e-02  1.9026e-01\n",
            " -4.2015e-01  5.9801e-01 -4.6110e-01  3.9478e-01 -4.7045e-02 -4.0005e-01\n",
            " -8.2492e-01  2.4899e-01  3.6174e-01 -2.5125e-01  1.3955e-01 -3.7270e-01\n",
            " -2.9176e-01  1.7282e-01 -5.6650e-02  7.1876e-01]\n"
          ],
          "name": "stdout"
        }
      ]
    },
    {
      "cell_type": "code",
      "metadata": {
        "id": "o53dqL4njpW7",
        "colab": {
          "base_uri": "https://localhost:8080/"
        },
        "outputId": "daada1a3-918e-40dd-d52c-972cb6cb41aa"
      },
      "source": [
        "# print embedding of word from the embedding matrix\n",
        "print(embedding_matrix[list(word2idx_inputs.items())[index][1]])"
      ],
      "execution_count": 58,
      "outputs": [
        {
          "output_type": "stream",
          "text": [
            "[ 8.25609982e-01  7.03679979e-01  1.08560002e+00  1.86399996e-01\n",
            " -3.30480009e-01 -1.15950000e+00 -4.06920016e-02 -1.53190002e-01\n",
            "  1.86519995e-01 -3.28689992e-01 -7.10249990e-02 -4.53810006e-01\n",
            "  4.23020005e-01  3.70440006e-01  1.14950001e-01 -2.89649993e-01\n",
            "  3.65150005e-01  4.59809989e-01 -1.72849998e-01 -8.66559982e-01\n",
            "  3.57600003e-01  1.17409997e-01  1.04020000e-01 -1.64869994e-01\n",
            "  8.57930005e-01  4.41199988e-02 -3.14209998e-01  4.08679992e-01\n",
            " -1.06670000e-02 -9.87740010e-02  5.46660006e-01 -1.02499999e-01\n",
            " -6.89909995e-01 -6.88260019e-01  3.01860005e-01 -1.61460005e-02\n",
            "  1.59119993e-01 -5.59679985e-01 -5.74630022e-01  1.58929992e-02\n",
            " -4.15369987e-01  6.17190003e-01 -1.78700000e-01 -4.52369988e-01\n",
            "  1.62499994e-01 -3.78249995e-02  9.42510009e-01  4.83480006e-01\n",
            "  2.31419995e-01  2.69510001e-01 -6.60979986e-01  3.80899996e-01\n",
            " -4.24679995e-01  7.12960005e-01  1.11829996e+00  3.70829999e-02\n",
            "  4.70849991e-01 -4.05889988e-01 -6.61599994e-01  9.47280005e-02\n",
            "  1.21679999e-01  5.28069973e-01 -3.91110003e-01  1.32110000e-01\n",
            " -5.30599989e-02  2.49170005e-01 -2.54570007e-01  4.37809998e-04\n",
            "  1.55080006e-01  2.70410001e-01  5.77620007e-02 -3.71239990e-01\n",
            " -1.81060001e-01  5.62050007e-02 -8.46700013e-01  9.54690017e-03\n",
            " -1.72270000e-01 -7.28890002e-01 -5.06699979e-01  2.17360005e-01\n",
            "  3.88220012e-01  1.45720001e-02 -2.42139995e-02  1.90259993e-01\n",
            " -4.20150012e-01  5.98010004e-01 -4.61100012e-01  3.94780010e-01\n",
            " -4.70449999e-02 -4.00050014e-01 -8.24919999e-01  2.48989999e-01\n",
            "  3.61739993e-01 -2.51249999e-01  1.39550000e-01 -3.72700006e-01\n",
            " -2.91759998e-01  1.72820002e-01 -5.66500016e-02  7.18760014e-01]\n"
          ],
          "name": "stdout"
        }
      ]
    },
    {
      "cell_type": "markdown",
      "metadata": {
        "id": "4dRfhYAe5cQT"
      },
      "source": [
        "### Model structure\n",
        "This section build the model and trains it based on the data compiled in the previous sections."
      ]
    },
    {
      "cell_type": "code",
      "metadata": {
        "id": "Ls-gfBDlkYt8"
      },
      "source": [
        "# import statements\n",
        "import numpy as np\n",
        "from tensorflow.keras.layers import Embedding"
      ],
      "execution_count": null,
      "outputs": []
    },
    {
      "cell_type": "code",
      "metadata": {
        "id": "gajlpyg887XD"
      },
      "source": [
        "# create embedding layer from embedding matrix\n",
        "embedding_layer = Embedding(num_words, EMBEDDING_SIZE, weights=[embedding_matrix], input_length=max_input_len)"
      ],
      "execution_count": null,
      "outputs": []
    },
    {
      "cell_type": "code",
      "metadata": {
        "id": "rSmKeGFllCRW"
      },
      "source": [
        "# get input sentences\n",
        "input_sentences = xy_data_df['input']\n",
        "\n",
        "# create null hypermatrix with dimensions:\n",
        "# number of input sentences\n",
        "# maximum word length of input sentences\n",
        "# number of words\n",
        "decoder_targets_one_hot = np.zeros((\n",
        "        len(input_sentences),\n",
        "        max_out_len,\n",
        "        num_words\n",
        "    ),\n",
        "    dtype='float32'\n",
        ")"
      ],
      "execution_count": null,
      "outputs": []
    },
    {
      "cell_type": "code",
      "metadata": {
        "id": "T-na8Ji9lFUh",
        "colab": {
          "base_uri": "https://localhost:8080/"
        },
        "outputId": "8287518d-8122-42c3-af59-9a276a0b52de"
      },
      "source": [
        "# check shape\n",
        "decoder_targets_one_hot.shape"
      ],
      "execution_count": null,
      "outputs": [
        {
          "output_type": "execute_result",
          "data": {
            "text/plain": [
              "(10000, 44, 5000)"
            ]
          },
          "metadata": {
            "tags": []
          },
          "execution_count": 35
        }
      ]
    },
    {
      "cell_type": "code",
      "metadata": {
        "id": "-PS8nYYD8gVp"
      },
      "source": [
        "# pad output sequences to the same length,\n",
        "# namely to the maximum length of the output sequences\n",
        "decoder_output_sequences = pad_sequences(output_integer_seq, maxlen=max_out_len, padding='post')"
      ],
      "execution_count": null,
      "outputs": []
    },
    {
      "cell_type": "code",
      "metadata": {
        "id": "PQJHDhyPVmCc"
      },
      "source": [
        "# fill the previously create null hypermatrix with one hot columns in the following fashion:\n",
        "# Insert value 1 into every r-th row of every c-th column of every m-th matrix where;\n",
        "# m is the index of the sentence in decoder_output_sequences: 1-st sentence -> m = 0, n-th sentence -> m = n-1\n",
        "# c is the place of the word in the sentence: 1-st word in sentence -> c = 0, n-th word in sentence -> c = n-1\n",
        "# r is the value given to the word by th output tokenizer: '<eos>' -> r = 1, 'not' -> r = 15\n",
        "\n",
        "for m, sequence in enumerate(decoder_output_sequences):\n",
        "    for c, r in enumerate(sequence):\n",
        "        decoder_targets_one_hot[m, c, r] = 1"
      ],
      "execution_count": null,
      "outputs": []
    },
    {
      "cell_type": "code",
      "metadata": {
        "id": "fWC4ofYM-Z_f"
      },
      "source": [
        "# set number of LSTM nodes\n",
        "LSTM_NODES = 256"
      ],
      "execution_count": null,
      "outputs": []
    },
    {
      "cell_type": "code",
      "metadata": {
        "id": "oqA9TiHL-mkN"
      },
      "source": [
        "# import statements\n",
        "from tensorflow.keras.layers import LSTM, Input, Dense\n",
        "from tensorflow.keras import Model"
      ],
      "execution_count": null,
      "outputs": []
    },
    {
      "cell_type": "code",
      "metadata": {
        "id": "-sZbT4VE-WWv"
      },
      "source": [
        "encoder_inputs_placeholder = Input(shape=(max_input_len,))\n",
        "x = embedding_layer(encoder_inputs_placeholder)\n",
        "encoder = LSTM(LSTM_NODES, return_state=True)\n",
        "\n",
        "encoder_outputs, h, c = encoder(x)\n",
        "encoder_states = [h, c]"
      ],
      "execution_count": null,
      "outputs": []
    },
    {
      "cell_type": "code",
      "metadata": {
        "id": "64I8n09j--9E"
      },
      "source": [
        "decoder_inputs_placeholder = Input(shape=(max_out_len,))\n",
        "\n",
        "decoder_embedding = Embedding(num_words, LSTM_NODES)\n",
        "decoder_inputs_x = decoder_embedding(decoder_inputs_placeholder)\n",
        "\n",
        "decoder_lstm = LSTM(LSTM_NODES, return_sequences=True, return_state=True)\n",
        "decoder_outputs, _, _ = decoder_lstm(decoder_inputs_x, initial_state=encoder_states)"
      ],
      "execution_count": null,
      "outputs": []
    },
    {
      "cell_type": "code",
      "metadata": {
        "id": "pxvM_HsZ-xtb"
      },
      "source": [
        "decoder_dense = Dense(num_words, activation='softmax')\n",
        "decoder_outputs = decoder_dense(decoder_outputs)"
      ],
      "execution_count": null,
      "outputs": []
    },
    {
      "cell_type": "code",
      "metadata": {
        "id": "DGYLTU2V_K67"
      },
      "source": [
        "model = Model([encoder_inputs_placeholder,\n",
        "  decoder_inputs_placeholder], decoder_outputs)\n",
        "model.compile(\n",
        "    optimizer='rmsprop',\n",
        "    loss='categorical_crossentropy',\n",
        "    metrics=['accuracy']\n",
        ")"
      ],
      "execution_count": null,
      "outputs": []
    },
    {
      "cell_type": "code",
      "metadata": {
        "id": "EK08hHKr_U7i",
        "colab": {
          "base_uri": "https://localhost:8080/",
          "height": 419
        },
        "outputId": "41e5a5f5-b5ee-4e66-f4ed-45e596f8b9bd"
      },
      "source": [
        "from keras.utils import plot_model\n",
        "plot_model(model, to_file='model_plot4a.png', show_shapes=True, show_layer_names=True)"
      ],
      "execution_count": null,
      "outputs": [
        {
          "output_type": "execute_result",
          "data": {
            "image/png": "[encoded data removed]",
            "text/plain": [
              "<IPython.core.display.Image object>"
            ]
          },
          "metadata": {
            "tags": []
          },
          "execution_count": 44
        }
      ]
    },
    {
      "cell_type": "code",
      "metadata": {
        "id": "lPFoENGTABz7"
      },
      "source": [
        "BATCH_SIZE = 64\n",
        "EPOCHS = 20"
      ],
      "execution_count": null,
      "outputs": []
    },
    {
      "cell_type": "code",
      "metadata": {
        "id": "gVIOHfN-AQqy",
        "colab": {
          "base_uri": "https://localhost:8080/"
        },
        "outputId": "7993d196-4532-4ba7-f7b0-a687db844aae"
      },
      "source": [
        "print(encoder_input_sequences.shape)\n",
        "print(decoder_input_sequences.shape)\n",
        "print(decoder_targets_one_hot.shape)"
      ],
      "execution_count": null,
      "outputs": [
        {
          "output_type": "stream",
          "text": [
            "(10000, 40)\n",
            "(10000, 44)\n",
            "(10000, 44, 5000)\n"
          ],
          "name": "stdout"
        }
      ]
    },
    {
      "cell_type": "code",
      "metadata": {
        "id": "P4upXshJ_jw-",
        "colab": {
          "base_uri": "https://localhost:8080/"
        },
        "outputId": "9785e0f6-d81d-479c-ba59-64d4087f9f7c"
      },
      "source": [
        "r = model.fit(\n",
        "    [encoder_input_sequences, decoder_input_sequences],\n",
        "    decoder_targets_one_hot,\n",
        "    batch_size=BATCH_SIZE,\n",
        "    epochs=EPOCHS,\n",
        "    validation_split=0.2,\n",
        ")"
      ],
      "execution_count": null,
      "outputs": [
        {
          "output_type": "stream",
          "text": [
            "Epoch 1/20\n",
            "141/141 [==============================] - 13s 90ms/step - loss: 2.1810 - accuracy: 0.7087 - val_loss: 1.8877 - val_accuracy: 0.7215\n",
            "Epoch 2/20\n",
            "141/141 [==============================] - 12s 84ms/step - loss: 1.8303 - accuracy: 0.7261 - val_loss: 1.8359 - val_accuracy: 0.7235\n",
            "Epoch 3/20\n",
            "141/141 [==============================] - 12s 84ms/step - loss: 1.7710 - accuracy: 0.7311 - val_loss: 1.7929 - val_accuracy: 0.7288\n",
            "Epoch 4/20\n",
            "141/141 [==============================] - 12s 84ms/step - loss: 1.7214 - accuracy: 0.7357 - val_loss: 1.7649 - val_accuracy: 0.7320\n",
            "Epoch 5/20\n",
            "141/141 [==============================] - 12s 84ms/step - loss: 1.6862 - accuracy: 0.7382 - val_loss: 1.7458 - val_accuracy: 0.7334\n",
            "Epoch 6/20\n",
            "141/141 [==============================] - 12s 85ms/step - loss: 1.6523 - accuracy: 0.7400 - val_loss: 1.7344 - val_accuracy: 0.7347\n",
            "Epoch 7/20\n",
            "141/141 [==============================] - 12s 85ms/step - loss: 1.6232 - accuracy: 0.7416 - val_loss: 1.7281 - val_accuracy: 0.7351\n",
            "Epoch 8/20\n",
            "141/141 [==============================] - 12s 85ms/step - loss: 1.5960 - accuracy: 0.7433 - val_loss: 1.7239 - val_accuracy: 0.7346\n",
            "Epoch 9/20\n",
            "141/141 [==============================] - 12s 85ms/step - loss: 1.5703 - accuracy: 0.7447 - val_loss: 1.7192 - val_accuracy: 0.7349\n",
            "Epoch 10/20\n",
            "141/141 [==============================] - 12s 85ms/step - loss: 1.5439 - accuracy: 0.7461 - val_loss: 1.7196 - val_accuracy: 0.7352\n",
            "Epoch 11/20\n",
            "141/141 [==============================] - 12s 85ms/step - loss: 1.5174 - accuracy: 0.7478 - val_loss: 1.7235 - val_accuracy: 0.7345\n",
            "Epoch 12/20\n",
            "141/141 [==============================] - 12s 85ms/step - loss: 1.4908 - accuracy: 0.7494 - val_loss: 1.7258 - val_accuracy: 0.7352\n",
            "Epoch 13/20\n",
            "141/141 [==============================] - 12s 85ms/step - loss: 1.4644 - accuracy: 0.7513 - val_loss: 1.7295 - val_accuracy: 0.7350\n",
            "Epoch 14/20\n",
            "141/141 [==============================] - 12s 86ms/step - loss: 1.4367 - accuracy: 0.7531 - val_loss: 1.7358 - val_accuracy: 0.7343\n",
            "Epoch 15/20\n",
            "141/141 [==============================] - 12s 85ms/step - loss: 1.4085 - accuracy: 0.7552 - val_loss: 1.7413 - val_accuracy: 0.7349\n",
            "Epoch 16/20\n",
            "141/141 [==============================] - 12s 85ms/step - loss: 1.3800 - accuracy: 0.7575 - val_loss: 1.7490 - val_accuracy: 0.7343\n",
            "Epoch 17/20\n",
            "141/141 [==============================] - 12s 86ms/step - loss: 1.3517 - accuracy: 0.7601 - val_loss: 1.7585 - val_accuracy: 0.7338\n",
            "Epoch 18/20\n",
            "141/141 [==============================] - 12s 87ms/step - loss: 1.3227 - accuracy: 0.7624 - val_loss: 1.7684 - val_accuracy: 0.7327\n",
            "Epoch 19/20\n",
            "141/141 [==============================] - 12s 86ms/step - loss: 1.2932 - accuracy: 0.7653 - val_loss: 1.7812 - val_accuracy: 0.7324\n",
            "Epoch 20/20\n",
            "141/141 [==============================] - 12s 86ms/step - loss: 1.2640 - accuracy: 0.7682 - val_loss: 1.7934 - val_accuracy: 0.7314\n"
          ],
          "name": "stdout"
        }
      ]
    },
    {
      "cell_type": "markdown",
      "metadata": {
        "id": "jHNsJMdD5mDE"
      },
      "source": [
        "### Encoder model structure"
      ]
    },
    {
      "cell_type": "code",
      "metadata": {
        "id": "vMEvGg3mBdXQ"
      },
      "source": [
        "encoder_model = Model(encoder_inputs_placeholder, encoder_states)"
      ],
      "execution_count": null,
      "outputs": []
    },
    {
      "cell_type": "code",
      "metadata": {
        "id": "Ya9E-80cC6_W"
      },
      "source": [
        "decoder_state_input_h = Input(shape=(LSTM_NODES,))\n",
        "decoder_state_input_c = Input(shape=(LSTM_NODES,))\n",
        "decoder_states_inputs = [decoder_state_input_h, decoder_state_input_c]"
      ],
      "execution_count": null,
      "outputs": []
    },
    {
      "cell_type": "code",
      "metadata": {
        "id": "KJk3ObGGC9J0"
      },
      "source": [
        "decoder_inputs_single = Input(shape=(1,))\n",
        "decoder_inputs_single_x = decoder_embedding(decoder_inputs_single)"
      ],
      "execution_count": null,
      "outputs": []
    },
    {
      "cell_type": "code",
      "metadata": {
        "id": "kdz9LX41C9sI"
      },
      "source": [
        "decoder_outputs, h, c = decoder_lstm(decoder_inputs_single_x, initial_state=decoder_states_inputs)"
      ],
      "execution_count": null,
      "outputs": []
    },
    {
      "cell_type": "code",
      "metadata": {
        "id": "Nb8AxvELDBPx"
      },
      "source": [
        "decoder_states = [h, c]\n",
        "decoder_outputs = decoder_dense(decoder_outputs)"
      ],
      "execution_count": null,
      "outputs": []
    },
    {
      "cell_type": "code",
      "metadata": {
        "id": "wE4MiBbjDDKz"
      },
      "source": [
        "decoder_model = Model(\n",
        "    [decoder_inputs_single] + decoder_states_inputs,\n",
        "    [decoder_outputs] + decoder_states\n",
        ")"
      ],
      "execution_count": null,
      "outputs": []
    },
    {
      "cell_type": "code",
      "metadata": {
        "id": "-MR8DiB7DFc_",
        "colab": {
          "base_uri": "https://localhost:8080/",
          "height": 271
        },
        "outputId": "ee3940ef-3ed9-46da-c011-67b8d417752f"
      },
      "source": [
        "from keras.utils import plot_model\n",
        "plot_model(decoder_model, to_file='model_plot_dec.png', show_shapes=True, show_layer_names=True)"
      ],
      "execution_count": null,
      "outputs": [
        {
          "output_type": "execute_result",
          "data": {
            "image/png": "[encoded data removed]",
            "text/plain": [
              "<IPython.core.display.Image object>"
            ]
          },
          "metadata": {
            "tags": []
          },
          "execution_count": 54
        }
      ]
    },
    {
      "cell_type": "code",
      "metadata": {
        "id": "i7t42dCwDdzh"
      },
      "source": [
        "idx2word_input = {v:k for k, v in word2idx_inputs.items()}\n",
        "idx2word_target = {v:k for k, v in word2idx_outputs.items()}"
      ],
      "execution_count": null,
      "outputs": []
    },
    {
      "cell_type": "code",
      "metadata": {
        "id": "BxhRbRdYDhc7"
      },
      "source": [
        "def translate_sentence(input_seq):\n",
        "    states_value = encoder_model.predict(input_seq)\n",
        "    target_seq = np.zeros((1, 1))\n",
        "    target_seq[0, 0] = word2idx_outputs['<sos>']\n",
        "    eos = word2idx_outputs['<eos>']\n",
        "    output_sentence = []\n",
        "\n",
        "    for _ in range(max_out_len):\n",
        "        output_tokens, h, c = decoder_model.predict([target_seq] + states_value)\n",
        "        idx = np.argmax(output_tokens[0, 0, :])\n",
        "\n",
        "        if eos == idx:\n",
        "            break\n",
        "\n",
        "        word = ''\n",
        "\n",
        "        if idx > 0:\n",
        "            word = idx2word_target[idx]\n",
        "            output_sentence.append(word)\n",
        "\n",
        "        target_seq[0, 0] = idx\n",
        "        states_value = [h, c]\n",
        "\n",
        "    return ' '.join(output_sentence)"
      ],
      "execution_count": null,
      "outputs": []
    },
    {
      "cell_type": "markdown",
      "metadata": {
        "id": "WsXxF1at5tgE"
      },
      "source": [
        "### Evaluation\n",
        "Evaluate a few input sentences"
      ]
    },
    {
      "cell_type": "code",
      "metadata": {
        "id": "8p826SimDng9",
        "colab": {
          "base_uri": "https://localhost:8080/"
        },
        "outputId": "def1a290-6f6a-47f0-c055-075ca4e08cb7"
      },
      "source": [
        "i = np.random.choice(len(input_sentences))\n",
        "input_seq = encoder_input_sequences[i:i+1]\n",
        "translation = translate_sentence(input_seq)\n",
        "print('-')\n",
        "print('Input:', input_sentences[i])\n",
        "print('Response:', translation)"
      ],
      "execution_count": null,
      "outputs": [
        {
          "output_type": "stream",
          "text": [
            "-\n",
            "Input: So then, in your opinion, are those members of Congress not actually true to conservative principles, or are the loud voices misrepresenting conservative principles? \n",
            "Response: because the government is not a lot of the us that is a lot of the us to get the us to get a lot of the\n"
          ],
          "name": "stdout"
        }
      ]
    },
    {
      "cell_type": "markdown",
      "metadata": {
        "id": "r6I9HUDM-EBb"
      },
      "source": [
        "### Save model\n",
        "This section saves and download the model. The saved model with this preliminary training is available in the github repository."
      ]
    },
    {
      "cell_type": "code",
      "metadata": {
        "id": "BmzPtmgqGHrd",
        "colab": {
          "base_uri": "https://localhost:8080/"
        },
        "outputId": "2b338f01-bab4-4fce-884d-c1b3bc8c77ea"
      },
      "source": [
        "# save model\n",
        "model.save('model_1')"
      ],
      "execution_count": null,
      "outputs": [
        {
          "output_type": "stream",
          "text": [
            "WARNING:tensorflow:From /usr/local/lib/python3.6/dist-packages/tensorflow/python/training/tracking/tracking.py:111: Model.state_updates (from tensorflow.python.keras.engine.training) is deprecated and will be removed in a future version.\n",
            "Instructions for updating:\n",
            "This property should not be used in TensorFlow 2.0, as updates are applied automatically.\n",
            "WARNING:tensorflow:From /usr/local/lib/python3.6/dist-packages/tensorflow/python/training/tracking/tracking.py:111: Layer.updates (from tensorflow.python.keras.engine.base_layer) is deprecated and will be removed in a future version.\n",
            "Instructions for updating:\n",
            "This property should not be used in TensorFlow 2.0, as updates are applied automatically.\n",
            "INFO:tensorflow:Assets written to: content/model_1/assets\n"
          ],
          "name": "stdout"
        }
      ]
    },
    {
      "cell_type": "code",
      "metadata": {
        "id": "1wq5uZwCG8h2",
        "colab": {
          "base_uri": "https://localhost:8080/"
        },
        "outputId": "70c0b5ca-9f3c-4c47-f980-5f8788a98260"
      },
      "source": [
        "# zip saved model\n",
        "!zip -r /content/model_1.zip /content/model_1"
      ],
      "execution_count": null,
      "outputs": [
        {
          "output_type": "stream",
          "text": [
            "  adding: content/content/model_1/ (stored 0%)\n",
            "  adding: content/content/model_1/assets/ (stored 0%)\n",
            "  adding: content/content/model_1/saved_model.pb (deflated 90%)\n",
            "  adding: content/content/model_1/variables/ (stored 0%)\n",
            "  adding: content/content/model_1/variables/variables.data-00000-of-00001 (deflated 7%)\n",
            "  adding: content/content/model_1/variables/variables.index (deflated 64%)\n"
          ],
          "name": "stdout"
        }
      ]
    },
    {
      "cell_type": "code",
      "metadata": {
        "id": "Obm4qbiHG-z_",
        "colab": {
          "base_uri": "https://localhost:8080/",
          "height": 34
        },
        "outputId": "138b38f2-1a3b-4f54-b14a-fb0f754f7826"
      },
      "source": [
        "# download saved model\n",
        "from google.colab import files\n",
        "files.download('model_1.zip')"
      ],
      "execution_count": null,
      "outputs": [
        {
          "output_type": "display_data",
          "data": {
            "application/javascript": [
              "\n",
              "    async function download(id, filename, size) {\n",
              "      if (!google.colab.kernel.accessAllowed) {\n",
              "        return;\n",
              "      }\n",
              "      const div = document.createElement('div');\n",
              "      const label = document.createElement('label');\n",
              "      label.textContent = `Downloading \"${filename}\": `;\n",
              "      div.appendChild(label);\n",
              "      const progress = document.createElement('progress');\n",
              "      progress.max = size;\n",
              "      div.appendChild(progress);\n",
              "      document.body.appendChild(div);\n",
              "\n",
              "      const buffers = [];\n",
              "      let downloaded = 0;\n",
              "\n",
              "      const channel = await google.colab.kernel.comms.open(id);\n",
              "      // Send a message to notify the kernel that we're ready.\n",
              "      channel.send({})\n",
              "\n",
              "      for await (const message of channel.messages) {\n",
              "        // Send a message to notify the kernel that we're ready.\n",
              "        channel.send({})\n",
              "        if (message.buffers) {\n",
              "          for (const buffer of message.buffers) {\n",
              "            buffers.push(buffer);\n",
              "            downloaded += buffer.byteLength;\n",
              "            progress.value = downloaded;\n",
              "          }\n",
              "        }\n",
              "      }\n",
              "      const blob = new Blob(buffers, {type: 'application/binary'});\n",
              "      const a = document.createElement('a');\n",
              "      a.href = window.URL.createObjectURL(blob);\n",
              "      a.download = filename;\n",
              "      div.appendChild(a);\n",
              "      a.click();\n",
              "      div.remove();\n",
              "    }\n",
              "  "
            ],
            "text/plain": [
              "<IPython.core.display.Javascript object>"
            ]
          },
          "metadata": {
            "tags": []
          }
        },
        {
          "output_type": "display_data",
          "data": {
            "application/javascript": [
              "download(\"download_95fcf218-95d5-410d-b33d-1ac19d75d4ef\", \"model_1.zip\", 29592038)"
            ],
            "text/plain": [
              "<IPython.core.display.Javascript object>"
            ]
          },
          "metadata": {
            "tags": []
          }
        }
      ]
    }
  ]
}