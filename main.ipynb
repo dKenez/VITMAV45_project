{
 "cells": [
  {
   "cell_type": "code",
   "execution_count": 1,
   "metadata": {
    "collapsed": true
   },
   "outputs": [],
   "source": [
    "# import statements\n",
    "import pandas as pd\n",
    "import pandasql as ps\n",
    "from tensorflow.keras.preprocessing.text import Tokenizer"
   ]
  },
  {
   "cell_type": "code",
   "source": [
    "# create dataframe from json file\n",
    "raw_data_df = pd.read_json(r'data_2015_05.json', orient='records', lines=True)"
   ],
   "metadata": {
    "collapsed": false,
    "pycharm": {
     "name": "#%%\n"
    }
   },
   "execution_count": 2,
   "outputs": []
  },
  {
   "cell_type": "code",
   "source": [
    "# show top 10 rows\n",
    "raw_data_df.head(10)"
   ],
   "metadata": {
    "collapsed": false,
    "pycharm": {
     "name": "#%%\n"
    }
   },
   "execution_count": 3,
   "outputs": [
    {
     "data": {
      "text/plain": "                                                body  score_hidden  archived  \\\n0  That wasn't just a personal belief of his. It'...         False     False   \n1  I think you're on to something there. But to b...         False     False   \n2  They've also been rather clear on defining a f...         False     False   \n3                                     God bless you.         False     False   \n4  Western corporations don't give a rats arse to...         False     False   \n5                                          [deleted]         False     False   \n6  http://en.wikipedia.org/wiki/Celebration_Cruis...         False     False   \n7  I'm not attacking them, I'm making an observat...         False     False   \n8  Well, that's a vile and disgusting thing to sa...         False     False   \n9                                    Are you 15? Lol         False     False   \n\n         name        author  downs  created_utc subreddit_id    link_id  \\\n0  t1_cr7h0ln         tejon      0   1431494075     t5_2cneq  t3_35ql9d   \n1  t1_crpxkmu        Tangpo      0   1432999141     t5_2cneq  t3_37tyhm   \n2  t1_cr43h2c       Qu1nlan      0   1431220695     t5_2cneq  t3_35eepj   \n3  t1_cr5rn0g     broncoz33      0   1431370502     t5_2qh03  t3_35liga   \n4  t1_cra1d35      critfist      0   1431701414     t5_2qh13  t3_361cco   \n5  t1_cqvze0l     [deleted]      0   1430571181     t5_2qh13  t3_34lnbr   \n6  t1_crqsdm6    Atheist101      0   1433078136     t5_323oy  t3_37v2sr   \n7  t1_crahjf8     utb040713      0   1431728711      t5_mouw  t3_3622fk   \n8  t1_cr4qp74  Fractal_Soul      0   1431286132     t5_2cneq  t3_35ffem   \n9  t1_crcbtar    chuchubaba      0   1431900496     t5_2qh03  t3_369dwg   \n\n    parent_id  score  retrieved_on  controversiality  gilded       id  \\\n0  t1_cr7fnj4    136    1433034878                 0       0  cr7h0ln   \n1  t1_crpw8y8     17    1433393342                 0       0  crpxkmu   \n2  t1_cr439ea     19    1432870611                 0       0  cr43h2c   \n3  t1_cr5qa14     13    1432899458                 0       0  cr5rn0g   \n4  t1_cra0qd0     -4    1433079241                 0       0  cra1d35   \n5  t1_cqvye5y     -3    1432729493                 0       0  cqvze0l   \n6  t1_crqdes4     -4    1433496812                 0       0  crqsdm6   \n7  t1_cragizb      0    1433087005                 0       0  crahjf8   \n8  t1_cr4div8      0    1432881767                 0       0  cr4qp74   \n9  t1_crc88ht      0    1433118815                 0       0  crcbtar   \n\n            subreddit  ups author_flair_text author_flair_css_class  \\\n0            politics  136               NaN                    NaN   \n1            politics   17               NaN                    NaN   \n2            politics   19               NaN                    NaN   \n3              gaming   13               NaN                    NaN   \n4           worldnews   -4               NaN                    NaN   \n5           worldnews   -3               NaN                    NaN   \n6  CasualConversation   -4               NaN                    NaN   \n7             science    0               NaN                    NaN   \n8            politics    0               NaN                    NaN   \n9              gaming    0               NaN                    NaN   \n\n  distinguished  \n0           NaN  \n1           NaN  \n2           NaN  \n3           NaN  \n4           NaN  \n5           NaN  \n6           NaN  \n7           NaN  \n8           NaN  \n9           NaN  ",
      "text/html": "<div>\n<style scoped>\n    .dataframe tbody tr th:only-of-type {\n        vertical-align: middle;\n    }\n\n    .dataframe tbody tr th {\n        vertical-align: top;\n    }\n\n    .dataframe thead th {\n        text-align: right;\n    }\n</style>\n<table border=\"1\" class=\"dataframe\">\n  <thead>\n    <tr style=\"text-align: right;\">\n      <th></th>\n      <th>body</th>\n      <th>score_hidden</th>\n      <th>archived</th>\n      <th>name</th>\n      <th>author</th>\n      <th>downs</th>\n      <th>created_utc</th>\n      <th>subreddit_id</th>\n      <th>link_id</th>\n      <th>parent_id</th>\n      <th>score</th>\n      <th>retrieved_on</th>\n      <th>controversiality</th>\n      <th>gilded</th>\n      <th>id</th>\n      <th>subreddit</th>\n      <th>ups</th>\n      <th>author_flair_text</th>\n      <th>author_flair_css_class</th>\n      <th>distinguished</th>\n    </tr>\n  </thead>\n  <tbody>\n    <tr>\n      <th>0</th>\n      <td>That wasn't just a personal belief of his. It'...</td>\n      <td>False</td>\n      <td>False</td>\n      <td>t1_cr7h0ln</td>\n      <td>tejon</td>\n      <td>0</td>\n      <td>1431494075</td>\n      <td>t5_2cneq</td>\n      <td>t3_35ql9d</td>\n      <td>t1_cr7fnj4</td>\n      <td>136</td>\n      <td>1433034878</td>\n      <td>0</td>\n      <td>0</td>\n      <td>cr7h0ln</td>\n      <td>politics</td>\n      <td>136</td>\n      <td>NaN</td>\n      <td>NaN</td>\n      <td>NaN</td>\n    </tr>\n    <tr>\n      <th>1</th>\n      <td>I think you're on to something there. But to b...</td>\n      <td>False</td>\n      <td>False</td>\n      <td>t1_crpxkmu</td>\n      <td>Tangpo</td>\n      <td>0</td>\n      <td>1432999141</td>\n      <td>t5_2cneq</td>\n      <td>t3_37tyhm</td>\n      <td>t1_crpw8y8</td>\n      <td>17</td>\n      <td>1433393342</td>\n      <td>0</td>\n      <td>0</td>\n      <td>crpxkmu</td>\n      <td>politics</td>\n      <td>17</td>\n      <td>NaN</td>\n      <td>NaN</td>\n      <td>NaN</td>\n    </tr>\n    <tr>\n      <th>2</th>\n      <td>They've also been rather clear on defining a f...</td>\n      <td>False</td>\n      <td>False</td>\n      <td>t1_cr43h2c</td>\n      <td>Qu1nlan</td>\n      <td>0</td>\n      <td>1431220695</td>\n      <td>t5_2cneq</td>\n      <td>t3_35eepj</td>\n      <td>t1_cr439ea</td>\n      <td>19</td>\n      <td>1432870611</td>\n      <td>0</td>\n      <td>0</td>\n      <td>cr43h2c</td>\n      <td>politics</td>\n      <td>19</td>\n      <td>NaN</td>\n      <td>NaN</td>\n      <td>NaN</td>\n    </tr>\n    <tr>\n      <th>3</th>\n      <td>God bless you.</td>\n      <td>False</td>\n      <td>False</td>\n      <td>t1_cr5rn0g</td>\n      <td>broncoz33</td>\n      <td>0</td>\n      <td>1431370502</td>\n      <td>t5_2qh03</td>\n      <td>t3_35liga</td>\n      <td>t1_cr5qa14</td>\n      <td>13</td>\n      <td>1432899458</td>\n      <td>0</td>\n      <td>0</td>\n      <td>cr5rn0g</td>\n      <td>gaming</td>\n      <td>13</td>\n      <td>NaN</td>\n      <td>NaN</td>\n      <td>NaN</td>\n    </tr>\n    <tr>\n      <th>4</th>\n      <td>Western corporations don't give a rats arse to...</td>\n      <td>False</td>\n      <td>False</td>\n      <td>t1_cra1d35</td>\n      <td>critfist</td>\n      <td>0</td>\n      <td>1431701414</td>\n      <td>t5_2qh13</td>\n      <td>t3_361cco</td>\n      <td>t1_cra0qd0</td>\n      <td>-4</td>\n      <td>1433079241</td>\n      <td>0</td>\n      <td>0</td>\n      <td>cra1d35</td>\n      <td>worldnews</td>\n      <td>-4</td>\n      <td>NaN</td>\n      <td>NaN</td>\n      <td>NaN</td>\n    </tr>\n    <tr>\n      <th>5</th>\n      <td>[deleted]</td>\n      <td>False</td>\n      <td>False</td>\n      <td>t1_cqvze0l</td>\n      <td>[deleted]</td>\n      <td>0</td>\n      <td>1430571181</td>\n      <td>t5_2qh13</td>\n      <td>t3_34lnbr</td>\n      <td>t1_cqvye5y</td>\n      <td>-3</td>\n      <td>1432729493</td>\n      <td>0</td>\n      <td>0</td>\n      <td>cqvze0l</td>\n      <td>worldnews</td>\n      <td>-3</td>\n      <td>NaN</td>\n      <td>NaN</td>\n      <td>NaN</td>\n    </tr>\n    <tr>\n      <th>6</th>\n      <td>http://en.wikipedia.org/wiki/Celebration_Cruis...</td>\n      <td>False</td>\n      <td>False</td>\n      <td>t1_crqsdm6</td>\n      <td>Atheist101</td>\n      <td>0</td>\n      <td>1433078136</td>\n      <td>t5_323oy</td>\n      <td>t3_37v2sr</td>\n      <td>t1_crqdes4</td>\n      <td>-4</td>\n      <td>1433496812</td>\n      <td>0</td>\n      <td>0</td>\n      <td>crqsdm6</td>\n      <td>CasualConversation</td>\n      <td>-4</td>\n      <td>NaN</td>\n      <td>NaN</td>\n      <td>NaN</td>\n    </tr>\n    <tr>\n      <th>7</th>\n      <td>I'm not attacking them, I'm making an observat...</td>\n      <td>False</td>\n      <td>False</td>\n      <td>t1_crahjf8</td>\n      <td>utb040713</td>\n      <td>0</td>\n      <td>1431728711</td>\n      <td>t5_mouw</td>\n      <td>t3_3622fk</td>\n      <td>t1_cragizb</td>\n      <td>0</td>\n      <td>1433087005</td>\n      <td>0</td>\n      <td>0</td>\n      <td>crahjf8</td>\n      <td>science</td>\n      <td>0</td>\n      <td>NaN</td>\n      <td>NaN</td>\n      <td>NaN</td>\n    </tr>\n    <tr>\n      <th>8</th>\n      <td>Well, that's a vile and disgusting thing to sa...</td>\n      <td>False</td>\n      <td>False</td>\n      <td>t1_cr4qp74</td>\n      <td>Fractal_Soul</td>\n      <td>0</td>\n      <td>1431286132</td>\n      <td>t5_2cneq</td>\n      <td>t3_35ffem</td>\n      <td>t1_cr4div8</td>\n      <td>0</td>\n      <td>1432881767</td>\n      <td>0</td>\n      <td>0</td>\n      <td>cr4qp74</td>\n      <td>politics</td>\n      <td>0</td>\n      <td>NaN</td>\n      <td>NaN</td>\n      <td>NaN</td>\n    </tr>\n    <tr>\n      <th>9</th>\n      <td>Are you 15? Lol</td>\n      <td>False</td>\n      <td>False</td>\n      <td>t1_crcbtar</td>\n      <td>chuchubaba</td>\n      <td>0</td>\n      <td>1431900496</td>\n      <td>t5_2qh03</td>\n      <td>t3_369dwg</td>\n      <td>t1_crc88ht</td>\n      <td>0</td>\n      <td>1433118815</td>\n      <td>0</td>\n      <td>0</td>\n      <td>crcbtar</td>\n      <td>gaming</td>\n      <td>0</td>\n      <td>NaN</td>\n      <td>NaN</td>\n      <td>NaN</td>\n    </tr>\n  </tbody>\n</table>\n</div>"
     },
     "execution_count": 3,
     "metadata": {},
     "output_type": "execute_result"
    }
   ]
  },
  {
   "cell_type": "code",
   "execution_count": 4,
   "outputs": [],
   "source": [
    "# filter raw data\n",
    "sql_query = \" select body\" \\\n",
    "            \"       , name\" \\\n",
    "            \"       , link_id\" \\\n",
    "            \"       , parent_id\" \\\n",
    "            \"       , score\" \\\n",
    "            \" from raw_data_df\" \\\n",
    "            \" where length(body) < 200 and body <> '[deleted]'\"\n",
    "sdf = ps.sqldf(sql_query) # csak sdf lehet a neve"
   ],
   "metadata": {
    "collapsed": false,
    "pycharm": {
     "name": "#%%\n"
    }
   }
  },
  {
   "cell_type": "code",
   "execution_count": 5,
   "outputs": [],
   "source": [
    "del raw_data_df"
   ],
   "metadata": {
    "collapsed": false,
    "pycharm": {
     "name": "#%%\n"
    }
   }
  },
  {
   "cell_type": "code",
   "execution_count": 6,
   "outputs": [],
   "source": [
    "sdf.replace(r'https?://(www.)?[-a-zA-Z0-9@:%.+~#=]{1,256}.[a-zA-Z0-9()]{1,6}\\b([-a-zA-Z0-9(_)@:%+.~#?&//=]*)','',regex=True, inplace = True)\n",
    "sdf.replace(r'(/u/)?(r/)?(^)?(\\\\)?','',regex=True, inplace = True)\n",
    "sdf.replace(r'(&gt;)','>',regex=True, inplace = True)\n",
    "sdf.replace(r'(&lt)','<',regex=True, inplace = True)\n",
    "sdf.replace(r'(&amp;)','&',regex=True, inplace = True)"
   ],
   "metadata": {
    "collapsed": false,
    "pycharm": {
     "name": "#%%\n"
    }
   }
  },
  {
   "cell_type": "code",
   "execution_count": 7,
   "outputs": [],
   "source": [
    "response_df = sdf.rename(columns={'body': 'response'})"
   ],
   "metadata": {
    "collapsed": false,
    "pycharm": {
     "name": "#%%\n"
    }
   }
  },
  {
   "cell_type": "code",
   "execution_count": 8,
   "outputs": [
    {
     "data": {
      "text/plain": "                                            response        name    link_id  \\\n0  They've also been rather clear on defining a f...  t1_cr43h2c  t3_35eepj   \n1                                     God bless you.  t1_cr5rn0g  t3_35liga   \n2  Western corporations don't give a rats arse to...  t1_cra1d35  t3_361cco   \n3                                                     t1_crqsdm6  t3_37v2sr   \n4  Well, that's a vile and disgusting thing to sa...  t1_cr4qp74  t3_35ffem   \n5                                    Are you 15? Lol  t1_crcbtar  t3_369dwg   \n6  Oh okay, cause a lot of people post similar \"t...  t1_crjr1yc  t3_372bqp   \n7  > according to analysts who monitor web chatte...  t1_cr2nszt  t3_357t9u   \n8  Minavo Communications provides IVR solutions, ...  t1_cr5cntq  t3_35kx45   \n9        Pfft, Convolvulaceae is where it's at. ;-)   t1_crmt7hn  t3_37gbrz   \n\n    parent_id  score  \n0  t1_cr439ea     19  \n1  t1_cr5qa14     13  \n2  t1_cra0qd0     -4  \n3  t1_crqdes4     -4  \n4  t1_cr4div8      0  \n5  t1_crc88ht      0  \n6  t1_crj8tdk      0  \n7   t3_357t9u      0  \n8   t3_35kx45      1  \n9  t1_crmsccb      1  ",
      "text/html": "<div>\n<style scoped>\n    .dataframe tbody tr th:only-of-type {\n        vertical-align: middle;\n    }\n\n    .dataframe tbody tr th {\n        vertical-align: top;\n    }\n\n    .dataframe thead th {\n        text-align: right;\n    }\n</style>\n<table border=\"1\" class=\"dataframe\">\n  <thead>\n    <tr style=\"text-align: right;\">\n      <th></th>\n      <th>response</th>\n      <th>name</th>\n      <th>link_id</th>\n      <th>parent_id</th>\n      <th>score</th>\n    </tr>\n  </thead>\n  <tbody>\n    <tr>\n      <th>0</th>\n      <td>They've also been rather clear on defining a f...</td>\n      <td>t1_cr43h2c</td>\n      <td>t3_35eepj</td>\n      <td>t1_cr439ea</td>\n      <td>19</td>\n    </tr>\n    <tr>\n      <th>1</th>\n      <td>God bless you.</td>\n      <td>t1_cr5rn0g</td>\n      <td>t3_35liga</td>\n      <td>t1_cr5qa14</td>\n      <td>13</td>\n    </tr>\n    <tr>\n      <th>2</th>\n      <td>Western corporations don't give a rats arse to...</td>\n      <td>t1_cra1d35</td>\n      <td>t3_361cco</td>\n      <td>t1_cra0qd0</td>\n      <td>-4</td>\n    </tr>\n    <tr>\n      <th>3</th>\n      <td></td>\n      <td>t1_crqsdm6</td>\n      <td>t3_37v2sr</td>\n      <td>t1_crqdes4</td>\n      <td>-4</td>\n    </tr>\n    <tr>\n      <th>4</th>\n      <td>Well, that's a vile and disgusting thing to sa...</td>\n      <td>t1_cr4qp74</td>\n      <td>t3_35ffem</td>\n      <td>t1_cr4div8</td>\n      <td>0</td>\n    </tr>\n    <tr>\n      <th>5</th>\n      <td>Are you 15? Lol</td>\n      <td>t1_crcbtar</td>\n      <td>t3_369dwg</td>\n      <td>t1_crc88ht</td>\n      <td>0</td>\n    </tr>\n    <tr>\n      <th>6</th>\n      <td>Oh okay, cause a lot of people post similar \"t...</td>\n      <td>t1_crjr1yc</td>\n      <td>t3_372bqp</td>\n      <td>t1_crj8tdk</td>\n      <td>0</td>\n    </tr>\n    <tr>\n      <th>7</th>\n      <td>&gt; according to analysts who monitor web chatte...</td>\n      <td>t1_cr2nszt</td>\n      <td>t3_357t9u</td>\n      <td>t3_357t9u</td>\n      <td>0</td>\n    </tr>\n    <tr>\n      <th>8</th>\n      <td>Minavo Communications provides IVR solutions, ...</td>\n      <td>t1_cr5cntq</td>\n      <td>t3_35kx45</td>\n      <td>t3_35kx45</td>\n      <td>1</td>\n    </tr>\n    <tr>\n      <th>9</th>\n      <td>Pfft, Convolvulaceae is where it's at. ;-)</td>\n      <td>t1_crmt7hn</td>\n      <td>t3_37gbrz</td>\n      <td>t1_crmsccb</td>\n      <td>1</td>\n    </tr>\n  </tbody>\n</table>\n</div>"
     },
     "execution_count": 8,
     "metadata": {},
     "output_type": "execute_result"
    }
   ],
   "source": [
    "response_df.head(10)"
   ],
   "metadata": {
    "collapsed": false,
    "pycharm": {
     "name": "#%%\n"
    }
   }
  },
  {
   "cell_type": "code",
   "execution_count": 10,
   "outputs": [],
   "source": [
    "# create query-response pairs\n",
    "sql_query = \" select inp.body\" \\\n",
    "            \"       , resp.response\" \\\n",
    "            \"       , resp.score\" \\\n",
    "            \" from response_df resp\" \\\n",
    "            \" left join sdf inp\" \\\n",
    "            \" on resp.parent_id = inp.name\" \\\n",
    "            \" where inp.body is not null and inp.body <> '' and resp.response <> ''\"\n",
    "sdf = ps.sqldf(sql_query)"
   ],
   "metadata": {
    "collapsed": false,
    "pycharm": {
     "name": "#%%\n"
    }
   }
  },
  {
   "cell_type": "code",
   "execution_count": 11,
   "outputs": [],
   "source": [
    "\n",
    "xy_df = sdf.rename(columns={'body': 'input'})"
   ],
   "metadata": {
    "collapsed": false,
    "pycharm": {
     "name": "#%%\n"
    }
   }
  },
  {
   "cell_type": "code",
   "execution_count": 12,
   "outputs": [],
   "source": [
    "del sdf"
   ],
   "metadata": {
    "collapsed": false,
    "pycharm": {
     "name": "#%%\n"
    }
   }
  },
  {
   "cell_type": "code",
   "execution_count": 13,
   "outputs": [
    {
     "data": {
      "text/plain": "                                               input  \\\n0  They've also been rather clear on defining a f...   \n1  Western corporations don't give a rats arse to...   \n2    What was the conversation? I just killed them.    \n3  Well it just shows us past behavior and what o...   \n4  Solid advice to avoid a shaky end for TheEarth...   \n5  The whole schools discrimination provision was...   \n6  Hahaha yeah we can do that too. I just thought...   \n7  Thank you!\\n\\nYeah, I like them and find them ...   \n8                                       2 line pass.   \n9  Well shit... I never used boot bands to blouse...   \n\n                                            response  score  \n0  No, they have not. What gave you that idea? Th...    -23  \n1  wow, ok have you ever heard of a thing called ...      6  \n2  \"Something something something, then I raped t...      1  \n3     Guess you aren't a big believer in \"firsts\"?\\n      1  \n4                                            Agreed!      1  \n5  The fact my daughter is bottom of the list in ...      1  \n6   Nothing wrong with multitasking during a movie.       1  \n7  Understandable. It's not a real exam if you do...      2  \n8                         False. But it was offside       1  \n9                                  My point exactly.      2  ",
      "text/html": "<div>\n<style scoped>\n    .dataframe tbody tr th:only-of-type {\n        vertical-align: middle;\n    }\n\n    .dataframe tbody tr th {\n        vertical-align: top;\n    }\n\n    .dataframe thead th {\n        text-align: right;\n    }\n</style>\n<table border=\"1\" class=\"dataframe\">\n  <thead>\n    <tr style=\"text-align: right;\">\n      <th></th>\n      <th>input</th>\n      <th>response</th>\n      <th>score</th>\n    </tr>\n  </thead>\n  <tbody>\n    <tr>\n      <th>0</th>\n      <td>They've also been rather clear on defining a f...</td>\n      <td>No, they have not. What gave you that idea? Th...</td>\n      <td>-23</td>\n    </tr>\n    <tr>\n      <th>1</th>\n      <td>Western corporations don't give a rats arse to...</td>\n      <td>wow, ok have you ever heard of a thing called ...</td>\n      <td>6</td>\n    </tr>\n    <tr>\n      <th>2</th>\n      <td>What was the conversation? I just killed them.</td>\n      <td>\"Something something something, then I raped t...</td>\n      <td>1</td>\n    </tr>\n    <tr>\n      <th>3</th>\n      <td>Well it just shows us past behavior and what o...</td>\n      <td>Guess you aren't a big believer in \"firsts\"?\\n</td>\n      <td>1</td>\n    </tr>\n    <tr>\n      <th>4</th>\n      <td>Solid advice to avoid a shaky end for TheEarth...</td>\n      <td>Agreed!</td>\n      <td>1</td>\n    </tr>\n    <tr>\n      <th>5</th>\n      <td>The whole schools discrimination provision was...</td>\n      <td>The fact my daughter is bottom of the list in ...</td>\n      <td>1</td>\n    </tr>\n    <tr>\n      <th>6</th>\n      <td>Hahaha yeah we can do that too. I just thought...</td>\n      <td>Nothing wrong with multitasking during a movie.</td>\n      <td>1</td>\n    </tr>\n    <tr>\n      <th>7</th>\n      <td>Thank you!\\n\\nYeah, I like them and find them ...</td>\n      <td>Understandable. It's not a real exam if you do...</td>\n      <td>2</td>\n    </tr>\n    <tr>\n      <th>8</th>\n      <td>2 line pass.</td>\n      <td>False. But it was offside</td>\n      <td>1</td>\n    </tr>\n    <tr>\n      <th>9</th>\n      <td>Well shit... I never used boot bands to blouse...</td>\n      <td>My point exactly.</td>\n      <td>2</td>\n    </tr>\n  </tbody>\n</table>\n</div>"
     },
     "execution_count": 13,
     "metadata": {},
     "output_type": "execute_result"
    }
   ],
   "source": [
    "# show top 10 rows\n",
    "xy_df.head(10)"
   ],
   "metadata": {
    "collapsed": false,
    "pycharm": {
     "name": "#%%\n"
    }
   }
  },
  {
   "cell_type": "code",
   "execution_count": 14,
   "outputs": [],
   "source": [
    "# export to json\n",
    "# 960411 sor, 5 oszlop\n",
    "#response_df.to_json('filtered_data_2015_05.json', orient='records', lines=True)\n",
    "# 485400 sor, 3 oszlop\n",
    "xy_df.to_json('xy_data_2015_05.json', orient='records', lines=True)"
   ],
   "metadata": {
    "collapsed": false,
    "pycharm": {
     "name": "#%%\n"
    }
   }
  },
  {
   "cell_type": "code",
   "execution_count": 15,
   "outputs": [],
   "source": [
    "del response_df\n",
    "del xy_df"
   ],
   "metadata": {
    "collapsed": false,
    "pycharm": {
     "name": "#%%\n"
    }
   }
  },
  {
   "cell_type": "code",
   "source": [
    "xy_data_df = pd.read_json(r'xy_data_2015_05.json', orient='records', lines=True)"
   ],
   "metadata": {
    "collapsed": false,
    "pycharm": {
     "name": "#%%\n"
    }
   },
   "execution_count": 16,
   "outputs": []
  },
  {
   "cell_type": "code",
   "execution_count": 17,
   "outputs": [
    {
     "name": "stdout",
     "output_type": "stream",
     "text": [
      "959802\n"
     ]
    }
   ],
   "source": [
    "# Tokenize the words in our headlines\n",
    "\n",
    "new_df = pd.concat([xy_data_df['input'], xy_data_df['response']])\n",
    "print(len(new_df))\n"
   ],
   "metadata": {
    "collapsed": false,
    "pycharm": {
     "name": "#%%\n"
    }
   }
  },
  {
   "cell_type": "code",
   "execution_count": 18,
   "outputs": [
    {
     "name": "stdout",
     "output_type": "stream",
     "text": [
      "Total words:  119632\n",
      "[[2], [150], [2], [879], [2], [10848], [12233]]\n"
     ]
    }
   ],
   "source": [
    "tokenizer = Tokenizer()\n",
    "tokenizer.fit_on_texts(new_df)\n",
    "\n",
    "total_words = len(tokenizer.word_index) + 1\n",
    "print('Total words: ', total_words)\n",
    "print(tokenizer.texts_to_sequences(['a','man','a','plan','a','canal','panama']))"
   ],
   "metadata": {
    "collapsed": false,
    "pycharm": {
     "name": "#%%\n"
    }
   }
  },
  {
   "cell_type": "code",
   "execution_count": 22,
   "outputs": [],
   "source": [
    "subset_dict = {str(value): 0 for key, value in tokenizer.word_index.items()}\n",
    "\n",
    "input_sequences = []\n",
    "for line in xy_data_df.iterrows():\n",
    "    # Convert our headline into a sequence of tokens\n",
    "    token_list = tokenizer.texts_to_sequences([line[1][0]])[0]\n",
    "\n",
    "    for token in token_list:\n",
    "        subset_dict[str(token)] += 1\n",
    "\n",
    "    # print('input')\n",
    "    # print(token_list)\n",
    "    # print(tokenizer.sequences_to_texts([token_list]))\n",
    "    # print()\n",
    "\n",
    "    token_list = tokenizer.texts_to_sequences([line[1][1]])[0]\n",
    "\n",
    "    # print('response')\n",
    "    # print(token_list)\n",
    "    # print(tokenizer.sequences_to_texts([token_list]))\n",
    "    # print()\n",
    "\n",
    "    for token in token_list:\n",
    "        subset_dict[str(token)] += 1"
   ],
   "metadata": {
    "collapsed": false,
    "pycharm": {
     "name": "#%%\n"
    }
   }
  },
  {
   "cell_type": "code",
   "execution_count": 50,
   "outputs": [
    {
     "name": "stdout",
     "output_type": "stream",
     "text": [
      "the a i to you and of is it that in for not this are have on but be was they just like with it's so my what if\n"
     ]
    },
    {
     "data": {
      "text/plain": "<Figure size 432x288 with 1 Axes>",
      "image/png": "[encoded data removed]"
     },
     "metadata": {
      "needs_background": "light"
     },
     "output_type": "display_data"
    }
   ],
   "source": [
    "import matplotlib.pyplot as plt\n",
    "list_c = [i for i in range(30)]\n",
    "stuff = tokenizer.sequences_to_texts([list_c])[0]\n",
    "print(stuff)\n",
    "\n",
    "x = stuff.split()\n",
    "\n",
    "\n",
    "plt.bar(x, list(subset_dict.values())[:len(x)], align = 'center')\n",
    "plt.show()\n",
    "\n",
    "\n"
   ],
   "metadata": {
    "collapsed": false,
    "pycharm": {
     "name": "#%%\n"
    }
   }
  }
 ],
 "metadata": {
  "kernelspec": {
   "name": "pycharm-c5da6c0d",
   "language": "python",
   "display_name": "PyCharm (conloquor)"
  },
  "language_info": {
   "codemirror_mode": {
    "name": "ipython",
    "version": 2
   },
   "file_extension": ".py",
   "mimetype": "text/x-python",
   "name": "python",
   "nbconvert_exporter": "python",
   "pygments_lexer": "ipython2",
   "version": "2.7.6"
  }
 },
 "nbformat": 4,
 "nbformat_minor": 0
}