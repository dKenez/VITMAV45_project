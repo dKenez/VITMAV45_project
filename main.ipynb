{
  "nbformat": 4,
  "nbformat_minor": 0,
  "metadata": {
    "accelerator": "GPU",
    "colab": {
      "name": "hyperparam.ipynb",
      "provenance": [],
      "collapsed_sections": []
    },
    "kernelspec": {
      "display_name": "Python 3",
      "language": "python",
      "name": "python3"
    },
    "language_info": {
      "codemirror_mode": {
        "name": "ipython",
        "version": 3
      },
      "file_extension": ".py",
      "mimetype": "text/x-python",
      "name": "python",
      "nbconvert_exporter": "python",
      "pygments_lexer": "ipython3",
      "version": "3.8.5"
    }
  },
  "cells": [
    {
      "cell_type": "markdown",
      "metadata": {
        "collapsed": true,
        "id": "SB3U2Uihao-z",
        "pycharm": {
          "name": "#%% md\n"
        }
      },
      "source": [
        "## Data preparation and preprocessing\n",
        "\n",
        "### Short introduction\n",
        "\n",
        "We are the Conloquor team, which means dialogue in latin. We will be developing a chatbot for our project this semester.\n",
        "\n",
        "Members:\n",
        "\n",
        "- Béres Bálint\n",
        "- Drexler Konrád\n",
        "- Drexler Kristóf\n",
        "\n",
        "### Data source\n",
        "\n",
        "We found a dataset on [reddit](https://www.reddit.com/r/datasets/comments/3bxlg7/i_have_every_publicly_available_reddit_comment/)\n",
        "which includes all the reddit comments categorized by month. A user uploaded the entire dataset to google's\n",
        "bigquery platform, here's the [reddit](https://www.reddit.com/r/bigquery/comments/3cej2b/17_billion_reddit_comments_loaded_on_bigquery/)\n",
        "thread.\n",
        "\n",
        "### Downloading the data\n",
        "\n",
        "We chose to use comments from may, 2015 for our project. For this we ran the following SQL query on the bigquery platform.\n",
        "\n",
        "```SQL\n",
        "select *\n",
        "from `fh-bigquery.reddit_comments.2015_05`\n",
        "where subreddit like 'science'\n",
        "    or subreddit like 'politics'\n",
        "    or subreddit like 'gaming'\n",
        "    or subreddit like 'worldnews'\n",
        "    or subreddit like 'CasualConversation'\n",
        "    or subreddit like 'sports'\n",
        "```\n",
        "\n",
        "At first we downloaded all the comments made that month, but the resulting file was 5GB compressed.\n",
        "Therefore, we limited the source subreddits to **r/science**, **r/politics**, **r/gaming**,\n",
        "**r/worldnews**, **r/CasualConversation** and **r/sports**. This query still yielded 1.45 million\n",
        "comments to work with, but was a manageable size. We exported the resulting table to a json file;\n",
        " `data_2015_05.json`. This `.json` is available on my [google drive](https://drive.google.com/file/d/13n1ET0mppD6i-DjqyJIFjAiMQp6V7v6q/view?usp=sharing).\n",
        " In the future, the project will automatically download the data."
      ]
    },
    {
      "cell_type": "markdown",
      "metadata": {
        "id": "sEMVmHUVao-4"
      },
      "source": [
        "## Formatting the data for preprocessing\n",
        "\n",
        "The initial json file still had a lot of unnecessary columns and unusable rows. Using further SQL queries we\n",
        "trimmed and transformed the data to fit our needs. At the end of the process we were left with just short of\n",
        "480000 message-response pairs. This was done by by filtering out messages longer than 200 characters, [deleted] messages\n",
        "and hyperlink only messages to name a few."
      ]
    },
    {
      "cell_type": "code",
      "metadata": {
        "colab": {
          "base_uri": "https://localhost:8080/"
        },
        "id": "a3s43kYIzHIB",
        "outputId": "e6f04bc7-c43e-4869-ff40-f5c4d2e45c45"
      },
      "source": [
        "# pandasql is not in the google colab repertoir by default, it needs to be installed manually\n",
        "!pip install pandasql"
      ],
      "execution_count": null,
      "outputs": [
        {
          "output_type": "stream",
          "text": [
            "Requirement already satisfied: pandasql in /usr/local/lib/python3.6/dist-packages (0.7.3)\n",
            "Requirement already satisfied: numpy in /usr/local/lib/python3.6/dist-packages (from pandasql) (1.18.5)\n",
            "Requirement already satisfied: sqlalchemy in /usr/local/lib/python3.6/dist-packages (from pandasql) (1.3.20)\n",
            "Requirement already satisfied: pandas in /usr/local/lib/python3.6/dist-packages (from pandasql) (1.1.4)\n",
            "Requirement already satisfied: python-dateutil>=2.7.3 in /usr/local/lib/python3.6/dist-packages (from pandas->pandasql) (2.8.1)\n",
            "Requirement already satisfied: pytz>=2017.2 in /usr/local/lib/python3.6/dist-packages (from pandas->pandasql) (2018.9)\n",
            "Requirement already satisfied: six>=1.5 in /usr/local/lib/python3.6/dist-packages (from python-dateutil>=2.7.3->pandas->pandasql) (1.15.0)\n"
          ],
          "name": "stdout"
        }
      ]
    },
    {
      "cell_type": "code",
      "metadata": {
        "id": "gxlc4KJbao-5",
        "pycharm": {
          "name": "#%%\n"
        }
      },
      "source": [
        "# import statements\n",
        "import pandas as pd\n",
        "import pandasql as ps"
      ],
      "execution_count": null,
      "outputs": []
    },
    {
      "cell_type": "code",
      "metadata": {
        "id": "MHxBu3ziao_D",
        "pycharm": {
          "name": "#%%\n"
        }
      },
      "source": [
        "# Create dataframe from json file\n",
        "raw_data_df = pd.read_json(r'data_2015_05.json', orient='records', lines=True)"
      ],
      "execution_count": null,
      "outputs": []
    },
    {
      "cell_type": "code",
      "metadata": {
        "id": "niQWxwD6ao_I",
        "pycharm": {
          "name": "#%%\n"
        },
        "outputId": "3d08379b-8e1b-496e-eea5-3a3b055c1763"
      },
      "source": [
        "# Show top ten rows\n",
        "raw_data_df.head(10)"
      ],
      "execution_count": null,
      "outputs": [
        {
          "output_type": "execute_result",
          "data": {
            "text/html": [
              "<div>\n",
              "<style scoped>\n",
              "    .dataframe tbody tr th:only-of-type {\n",
              "        vertical-align: middle;\n",
              "    }\n",
              "\n",
              "    .dataframe tbody tr th {\n",
              "        vertical-align: top;\n",
              "    }\n",
              "\n",
              "    .dataframe thead th {\n",
              "        text-align: right;\n",
              "    }\n",
              "</style>\n",
              "<table border=\"1\" class=\"dataframe\">\n",
              "  <thead>\n",
              "    <tr style=\"text-align: right;\">\n",
              "      <th></th>\n",
              "      <th>body</th>\n",
              "      <th>score_hidden</th>\n",
              "      <th>archived</th>\n",
              "      <th>name</th>\n",
              "      <th>author</th>\n",
              "      <th>downs</th>\n",
              "      <th>created_utc</th>\n",
              "      <th>subreddit_id</th>\n",
              "      <th>link_id</th>\n",
              "      <th>parent_id</th>\n",
              "      <th>score</th>\n",
              "      <th>retrieved_on</th>\n",
              "      <th>controversiality</th>\n",
              "      <th>gilded</th>\n",
              "      <th>id</th>\n",
              "      <th>subreddit</th>\n",
              "      <th>ups</th>\n",
              "      <th>author_flair_text</th>\n",
              "      <th>author_flair_css_class</th>\n",
              "      <th>distinguished</th>\n",
              "    </tr>\n",
              "  </thead>\n",
              "  <tbody>\n",
              "    <tr>\n",
              "      <th>0</th>\n",
              "      <td>That wasn't just a personal belief of his. It'...</td>\n",
              "      <td>False</td>\n",
              "      <td>False</td>\n",
              "      <td>t1_cr7h0ln</td>\n",
              "      <td>tejon</td>\n",
              "      <td>0</td>\n",
              "      <td>1431494075</td>\n",
              "      <td>t5_2cneq</td>\n",
              "      <td>t3_35ql9d</td>\n",
              "      <td>t1_cr7fnj4</td>\n",
              "      <td>136</td>\n",
              "      <td>1433034878</td>\n",
              "      <td>0</td>\n",
              "      <td>0</td>\n",
              "      <td>cr7h0ln</td>\n",
              "      <td>politics</td>\n",
              "      <td>136</td>\n",
              "      <td>NaN</td>\n",
              "      <td>NaN</td>\n",
              "      <td>NaN</td>\n",
              "    </tr>\n",
              "    <tr>\n",
              "      <th>1</th>\n",
              "      <td>I think you're on to something there. But to b...</td>\n",
              "      <td>False</td>\n",
              "      <td>False</td>\n",
              "      <td>t1_crpxkmu</td>\n",
              "      <td>Tangpo</td>\n",
              "      <td>0</td>\n",
              "      <td>1432999141</td>\n",
              "      <td>t5_2cneq</td>\n",
              "      <td>t3_37tyhm</td>\n",
              "      <td>t1_crpw8y8</td>\n",
              "      <td>17</td>\n",
              "      <td>1433393342</td>\n",
              "      <td>0</td>\n",
              "      <td>0</td>\n",
              "      <td>crpxkmu</td>\n",
              "      <td>politics</td>\n",
              "      <td>17</td>\n",
              "      <td>NaN</td>\n",
              "      <td>NaN</td>\n",
              "      <td>NaN</td>\n",
              "    </tr>\n",
              "    <tr>\n",
              "      <th>2</th>\n",
              "      <td>They've also been rather clear on defining a f...</td>\n",
              "      <td>False</td>\n",
              "      <td>False</td>\n",
              "      <td>t1_cr43h2c</td>\n",
              "      <td>Qu1nlan</td>\n",
              "      <td>0</td>\n",
              "      <td>1431220695</td>\n",
              "      <td>t5_2cneq</td>\n",
              "      <td>t3_35eepj</td>\n",
              "      <td>t1_cr439ea</td>\n",
              "      <td>19</td>\n",
              "      <td>1432870611</td>\n",
              "      <td>0</td>\n",
              "      <td>0</td>\n",
              "      <td>cr43h2c</td>\n",
              "      <td>politics</td>\n",
              "      <td>19</td>\n",
              "      <td>NaN</td>\n",
              "      <td>NaN</td>\n",
              "      <td>NaN</td>\n",
              "    </tr>\n",
              "    <tr>\n",
              "      <th>3</th>\n",
              "      <td>God bless you.</td>\n",
              "      <td>False</td>\n",
              "      <td>False</td>\n",
              "      <td>t1_cr5rn0g</td>\n",
              "      <td>broncoz33</td>\n",
              "      <td>0</td>\n",
              "      <td>1431370502</td>\n",
              "      <td>t5_2qh03</td>\n",
              "      <td>t3_35liga</td>\n",
              "      <td>t1_cr5qa14</td>\n",
              "      <td>13</td>\n",
              "      <td>1432899458</td>\n",
              "      <td>0</td>\n",
              "      <td>0</td>\n",
              "      <td>cr5rn0g</td>\n",
              "      <td>gaming</td>\n",
              "      <td>13</td>\n",
              "      <td>NaN</td>\n",
              "      <td>NaN</td>\n",
              "      <td>NaN</td>\n",
              "    </tr>\n",
              "    <tr>\n",
              "      <th>4</th>\n",
              "      <td>Western corporations don't give a rats arse to...</td>\n",
              "      <td>False</td>\n",
              "      <td>False</td>\n",
              "      <td>t1_cra1d35</td>\n",
              "      <td>critfist</td>\n",
              "      <td>0</td>\n",
              "      <td>1431701414</td>\n",
              "      <td>t5_2qh13</td>\n",
              "      <td>t3_361cco</td>\n",
              "      <td>t1_cra0qd0</td>\n",
              "      <td>-4</td>\n",
              "      <td>1433079241</td>\n",
              "      <td>0</td>\n",
              "      <td>0</td>\n",
              "      <td>cra1d35</td>\n",
              "      <td>worldnews</td>\n",
              "      <td>-4</td>\n",
              "      <td>NaN</td>\n",
              "      <td>NaN</td>\n",
              "      <td>NaN</td>\n",
              "    </tr>\n",
              "    <tr>\n",
              "      <th>5</th>\n",
              "      <td>[deleted]</td>\n",
              "      <td>False</td>\n",
              "      <td>False</td>\n",
              "      <td>t1_cqvze0l</td>\n",
              "      <td>[deleted]</td>\n",
              "      <td>0</td>\n",
              "      <td>1430571181</td>\n",
              "      <td>t5_2qh13</td>\n",
              "      <td>t3_34lnbr</td>\n",
              "      <td>t1_cqvye5y</td>\n",
              "      <td>-3</td>\n",
              "      <td>1432729493</td>\n",
              "      <td>0</td>\n",
              "      <td>0</td>\n",
              "      <td>cqvze0l</td>\n",
              "      <td>worldnews</td>\n",
              "      <td>-3</td>\n",
              "      <td>NaN</td>\n",
              "      <td>NaN</td>\n",
              "      <td>NaN</td>\n",
              "    </tr>\n",
              "    <tr>\n",
              "      <th>6</th>\n",
              "      <td>http://en.wikipedia.org/wiki/Celebration_Cruis...</td>\n",
              "      <td>False</td>\n",
              "      <td>False</td>\n",
              "      <td>t1_crqsdm6</td>\n",
              "      <td>Atheist101</td>\n",
              "      <td>0</td>\n",
              "      <td>1433078136</td>\n",
              "      <td>t5_323oy</td>\n",
              "      <td>t3_37v2sr</td>\n",
              "      <td>t1_crqdes4</td>\n",
              "      <td>-4</td>\n",
              "      <td>1433496812</td>\n",
              "      <td>0</td>\n",
              "      <td>0</td>\n",
              "      <td>crqsdm6</td>\n",
              "      <td>CasualConversation</td>\n",
              "      <td>-4</td>\n",
              "      <td>NaN</td>\n",
              "      <td>NaN</td>\n",
              "      <td>NaN</td>\n",
              "    </tr>\n",
              "    <tr>\n",
              "      <th>7</th>\n",
              "      <td>I'm not attacking them, I'm making an observat...</td>\n",
              "      <td>False</td>\n",
              "      <td>False</td>\n",
              "      <td>t1_crahjf8</td>\n",
              "      <td>utb040713</td>\n",
              "      <td>0</td>\n",
              "      <td>1431728711</td>\n",
              "      <td>t5_mouw</td>\n",
              "      <td>t3_3622fk</td>\n",
              "      <td>t1_cragizb</td>\n",
              "      <td>0</td>\n",
              "      <td>1433087005</td>\n",
              "      <td>0</td>\n",
              "      <td>0</td>\n",
              "      <td>crahjf8</td>\n",
              "      <td>science</td>\n",
              "      <td>0</td>\n",
              "      <td>NaN</td>\n",
              "      <td>NaN</td>\n",
              "      <td>NaN</td>\n",
              "    </tr>\n",
              "    <tr>\n",
              "      <th>8</th>\n",
              "      <td>Well, that's a vile and disgusting thing to sa...</td>\n",
              "      <td>False</td>\n",
              "      <td>False</td>\n",
              "      <td>t1_cr4qp74</td>\n",
              "      <td>Fractal_Soul</td>\n",
              "      <td>0</td>\n",
              "      <td>1431286132</td>\n",
              "      <td>t5_2cneq</td>\n",
              "      <td>t3_35ffem</td>\n",
              "      <td>t1_cr4div8</td>\n",
              "      <td>0</td>\n",
              "      <td>1432881767</td>\n",
              "      <td>0</td>\n",
              "      <td>0</td>\n",
              "      <td>cr4qp74</td>\n",
              "      <td>politics</td>\n",
              "      <td>0</td>\n",
              "      <td>NaN</td>\n",
              "      <td>NaN</td>\n",
              "      <td>NaN</td>\n",
              "    </tr>\n",
              "    <tr>\n",
              "      <th>9</th>\n",
              "      <td>Are you 15? Lol</td>\n",
              "      <td>False</td>\n",
              "      <td>False</td>\n",
              "      <td>t1_crcbtar</td>\n",
              "      <td>chuchubaba</td>\n",
              "      <td>0</td>\n",
              "      <td>1431900496</td>\n",
              "      <td>t5_2qh03</td>\n",
              "      <td>t3_369dwg</td>\n",
              "      <td>t1_crc88ht</td>\n",
              "      <td>0</td>\n",
              "      <td>1433118815</td>\n",
              "      <td>0</td>\n",
              "      <td>0</td>\n",
              "      <td>crcbtar</td>\n",
              "      <td>gaming</td>\n",
              "      <td>0</td>\n",
              "      <td>NaN</td>\n",
              "      <td>NaN</td>\n",
              "      <td>NaN</td>\n",
              "    </tr>\n",
              "  </tbody>\n",
              "</table>\n",
              "</div>"
            ],
            "text/plain": [
              "                                                body  score_hidden  archived  \\\n",
              "0  That wasn't just a personal belief of his. It'...         False     False   \n",
              "1  I think you're on to something there. But to b...         False     False   \n",
              "2  They've also been rather clear on defining a f...         False     False   \n",
              "3                                     God bless you.         False     False   \n",
              "4  Western corporations don't give a rats arse to...         False     False   \n",
              "5                                          [deleted]         False     False   \n",
              "6  http://en.wikipedia.org/wiki/Celebration_Cruis...         False     False   \n",
              "7  I'm not attacking them, I'm making an observat...         False     False   \n",
              "8  Well, that's a vile and disgusting thing to sa...         False     False   \n",
              "9                                    Are you 15? Lol         False     False   \n",
              "\n",
              "         name        author  downs  created_utc subreddit_id    link_id  \\\n",
              "0  t1_cr7h0ln         tejon      0   1431494075     t5_2cneq  t3_35ql9d   \n",
              "1  t1_crpxkmu        Tangpo      0   1432999141     t5_2cneq  t3_37tyhm   \n",
              "2  t1_cr43h2c       Qu1nlan      0   1431220695     t5_2cneq  t3_35eepj   \n",
              "3  t1_cr5rn0g     broncoz33      0   1431370502     t5_2qh03  t3_35liga   \n",
              "4  t1_cra1d35      critfist      0   1431701414     t5_2qh13  t3_361cco   \n",
              "5  t1_cqvze0l     [deleted]      0   1430571181     t5_2qh13  t3_34lnbr   \n",
              "6  t1_crqsdm6    Atheist101      0   1433078136     t5_323oy  t3_37v2sr   \n",
              "7  t1_crahjf8     utb040713      0   1431728711      t5_mouw  t3_3622fk   \n",
              "8  t1_cr4qp74  Fractal_Soul      0   1431286132     t5_2cneq  t3_35ffem   \n",
              "9  t1_crcbtar    chuchubaba      0   1431900496     t5_2qh03  t3_369dwg   \n",
              "\n",
              "    parent_id  score  retrieved_on  controversiality  gilded       id  \\\n",
              "0  t1_cr7fnj4    136    1433034878                 0       0  cr7h0ln   \n",
              "1  t1_crpw8y8     17    1433393342                 0       0  crpxkmu   \n",
              "2  t1_cr439ea     19    1432870611                 0       0  cr43h2c   \n",
              "3  t1_cr5qa14     13    1432899458                 0       0  cr5rn0g   \n",
              "4  t1_cra0qd0     -4    1433079241                 0       0  cra1d35   \n",
              "5  t1_cqvye5y     -3    1432729493                 0       0  cqvze0l   \n",
              "6  t1_crqdes4     -4    1433496812                 0       0  crqsdm6   \n",
              "7  t1_cragizb      0    1433087005                 0       0  crahjf8   \n",
              "8  t1_cr4div8      0    1432881767                 0       0  cr4qp74   \n",
              "9  t1_crc88ht      0    1433118815                 0       0  crcbtar   \n",
              "\n",
              "            subreddit  ups author_flair_text author_flair_css_class  \\\n",
              "0            politics  136               NaN                    NaN   \n",
              "1            politics   17               NaN                    NaN   \n",
              "2            politics   19               NaN                    NaN   \n",
              "3              gaming   13               NaN                    NaN   \n",
              "4           worldnews   -4               NaN                    NaN   \n",
              "5           worldnews   -3               NaN                    NaN   \n",
              "6  CasualConversation   -4               NaN                    NaN   \n",
              "7             science    0               NaN                    NaN   \n",
              "8            politics    0               NaN                    NaN   \n",
              "9              gaming    0               NaN                    NaN   \n",
              "\n",
              "  distinguished  \n",
              "0           NaN  \n",
              "1           NaN  \n",
              "2           NaN  \n",
              "3           NaN  \n",
              "4           NaN  \n",
              "5           NaN  \n",
              "6           NaN  \n",
              "7           NaN  \n",
              "8           NaN  \n",
              "9           NaN  "
            ]
          },
          "metadata": {
            "tags": []
          },
          "execution_count": 7
        }
      ]
    },
    {
      "cell_type": "code",
      "metadata": {
        "id": "UMyHHsWfao_N",
        "pycharm": {
          "name": "#%%\n"
        }
      },
      "source": [
        "# Filter raw data:\n",
        "# select only rows which have a length less than 200, and the comment wasn't [deleted]\n",
        "sql_query = \" select body\" \\\n",
        "            \"       , name\" \\\n",
        "            \"       , link_id\" \\\n",
        "            \"       , parent_id\" \\\n",
        "            \"       , score\" \\\n",
        "            \" from raw_data_df\" \\\n",
        "            \" where length(body) < 200 and body <> '[deleted]'\"\n",
        "# Can only be saved as sdf since this is how pandas works.\n",
        "sdf = ps.sqldf(sql_query)"
      ],
      "execution_count": null,
      "outputs": []
    },
    {
      "cell_type": "code",
      "metadata": {
        "id": "DEZzlYTfao_R",
        "pycharm": {
          "name": "#%%\n"
        }
      },
      "source": [
        "# Delete the original Dataframe to save memory\n",
        "del raw_data_df"
      ],
      "execution_count": null,
      "outputs": []
    },
    {
      "cell_type": "code",
      "metadata": {
        "id": "00UrRZzmao_V",
        "pycharm": {
          "name": "#%%\n"
        }
      },
      "source": [
        "# List of regular expressions to further filter the bodies of the comments;\n",
        "\n",
        "# Remove all links from the comments\n",
        "sdf.replace(r'https?://(www.)?[-a-zA-Z0-9@:%.+~#=]{1,256}.[a-zA-Z0-9()]{1,6}\\b([-a-zA-Z0-9(_)@:%+.~#?&//=]*)','',regex=True, inplace = True)\n",
        "\n",
        "# Remove all user links/subreddit links\n",
        "sdf.replace(r'(/u/)?(r/)?(^)?(\\\\)?','',regex=True, inplace = True)\n",
        "\n",
        "# Replace '&gt;' and '&lt' with '<' and '>' respectively\n",
        "sdf.replace(r'(&gt;)','>',regex=True, inplace = True)\n",
        "sdf.replace(r'(&lt)','<',regex=True, inplace = True)\n",
        "\n",
        "# Replace '&amp' with an ampersand\n",
        "sdf.replace(r'(&amp;)','&',regex=True, inplace = True)"
      ],
      "execution_count": null,
      "outputs": []
    },
    {
      "cell_type": "code",
      "metadata": {
        "id": "5hr7A3Soao_Y",
        "pycharm": {
          "name": "#%%\n"
        }
      },
      "source": [
        "# Rename body column to response\n",
        "response_df = sdf.rename(columns={'body': 'response'})"
      ],
      "execution_count": null,
      "outputs": []
    },
    {
      "cell_type": "code",
      "metadata": {
        "id": "SbtPdD-Hao_b",
        "pycharm": {
          "name": "#%%\n"
        },
        "outputId": "a5b2c60e-f33b-4575-cb34-f3c35bdd88e5"
      },
      "source": [
        "# Show top ten rows\n",
        "response_df.head(10)"
      ],
      "execution_count": null,
      "outputs": [
        {
          "output_type": "execute_result",
          "data": {
            "text/html": [
              "<div>\n",
              "<style scoped>\n",
              "    .dataframe tbody tr th:only-of-type {\n",
              "        vertical-align: middle;\n",
              "    }\n",
              "\n",
              "    .dataframe tbody tr th {\n",
              "        vertical-align: top;\n",
              "    }\n",
              "\n",
              "    .dataframe thead th {\n",
              "        text-align: right;\n",
              "    }\n",
              "</style>\n",
              "<table border=\"1\" class=\"dataframe\">\n",
              "  <thead>\n",
              "    <tr style=\"text-align: right;\">\n",
              "      <th></th>\n",
              "      <th>response</th>\n",
              "      <th>name</th>\n",
              "      <th>link_id</th>\n",
              "      <th>parent_id</th>\n",
              "      <th>score</th>\n",
              "    </tr>\n",
              "  </thead>\n",
              "  <tbody>\n",
              "    <tr>\n",
              "      <th>0</th>\n",
              "      <td>They've also been rather clear on defining a f...</td>\n",
              "      <td>t1_cr43h2c</td>\n",
              "      <td>t3_35eepj</td>\n",
              "      <td>t1_cr439ea</td>\n",
              "      <td>19</td>\n",
              "    </tr>\n",
              "    <tr>\n",
              "      <th>1</th>\n",
              "      <td>God bless you.</td>\n",
              "      <td>t1_cr5rn0g</td>\n",
              "      <td>t3_35liga</td>\n",
              "      <td>t1_cr5qa14</td>\n",
              "      <td>13</td>\n",
              "    </tr>\n",
              "    <tr>\n",
              "      <th>2</th>\n",
              "      <td>Western corporations don't give a rats arse to...</td>\n",
              "      <td>t1_cra1d35</td>\n",
              "      <td>t3_361cco</td>\n",
              "      <td>t1_cra0qd0</td>\n",
              "      <td>-4</td>\n",
              "    </tr>\n",
              "    <tr>\n",
              "      <th>3</th>\n",
              "      <td></td>\n",
              "      <td>t1_crqsdm6</td>\n",
              "      <td>t3_37v2sr</td>\n",
              "      <td>t1_crqdes4</td>\n",
              "      <td>-4</td>\n",
              "    </tr>\n",
              "    <tr>\n",
              "      <th>4</th>\n",
              "      <td>Well, that's a vile and disgusting thing to sa...</td>\n",
              "      <td>t1_cr4qp74</td>\n",
              "      <td>t3_35ffem</td>\n",
              "      <td>t1_cr4div8</td>\n",
              "      <td>0</td>\n",
              "    </tr>\n",
              "    <tr>\n",
              "      <th>5</th>\n",
              "      <td>Are you 15? Lol</td>\n",
              "      <td>t1_crcbtar</td>\n",
              "      <td>t3_369dwg</td>\n",
              "      <td>t1_crc88ht</td>\n",
              "      <td>0</td>\n",
              "    </tr>\n",
              "    <tr>\n",
              "      <th>6</th>\n",
              "      <td>Oh okay, cause a lot of people post similar \"t...</td>\n",
              "      <td>t1_crjr1yc</td>\n",
              "      <td>t3_372bqp</td>\n",
              "      <td>t1_crj8tdk</td>\n",
              "      <td>0</td>\n",
              "    </tr>\n",
              "    <tr>\n",
              "      <th>7</th>\n",
              "      <td>&gt; according to analysts who monitor web chatte...</td>\n",
              "      <td>t1_cr2nszt</td>\n",
              "      <td>t3_357t9u</td>\n",
              "      <td>t3_357t9u</td>\n",
              "      <td>0</td>\n",
              "    </tr>\n",
              "    <tr>\n",
              "      <th>8</th>\n",
              "      <td>Minavo Communications provides IVR solutions, ...</td>\n",
              "      <td>t1_cr5cntq</td>\n",
              "      <td>t3_35kx45</td>\n",
              "      <td>t3_35kx45</td>\n",
              "      <td>1</td>\n",
              "    </tr>\n",
              "    <tr>\n",
              "      <th>9</th>\n",
              "      <td>Pfft, Convolvulaceae is where it's at. ;-)</td>\n",
              "      <td>t1_crmt7hn</td>\n",
              "      <td>t3_37gbrz</td>\n",
              "      <td>t1_crmsccb</td>\n",
              "      <td>1</td>\n",
              "    </tr>\n",
              "  </tbody>\n",
              "</table>\n",
              "</div>"
            ],
            "text/plain": [
              "                                            response        name    link_id  \\\n",
              "0  They've also been rather clear on defining a f...  t1_cr43h2c  t3_35eepj   \n",
              "1                                     God bless you.  t1_cr5rn0g  t3_35liga   \n",
              "2  Western corporations don't give a rats arse to...  t1_cra1d35  t3_361cco   \n",
              "3                                                     t1_crqsdm6  t3_37v2sr   \n",
              "4  Well, that's a vile and disgusting thing to sa...  t1_cr4qp74  t3_35ffem   \n",
              "5                                    Are you 15? Lol  t1_crcbtar  t3_369dwg   \n",
              "6  Oh okay, cause a lot of people post similar \"t...  t1_crjr1yc  t3_372bqp   \n",
              "7  > according to analysts who monitor web chatte...  t1_cr2nszt  t3_357t9u   \n",
              "8  Minavo Communications provides IVR solutions, ...  t1_cr5cntq  t3_35kx45   \n",
              "9        Pfft, Convolvulaceae is where it's at. ;-)   t1_crmt7hn  t3_37gbrz   \n",
              "\n",
              "    parent_id  score  \n",
              "0  t1_cr439ea     19  \n",
              "1  t1_cr5qa14     13  \n",
              "2  t1_cra0qd0     -4  \n",
              "3  t1_crqdes4     -4  \n",
              "4  t1_cr4div8      0  \n",
              "5  t1_crc88ht      0  \n",
              "6  t1_crj8tdk      0  \n",
              "7   t3_357t9u      0  \n",
              "8   t3_35kx45      1  \n",
              "9  t1_crmsccb      1  "
            ]
          },
          "metadata": {
            "tags": []
          },
          "execution_count": 12
        }
      ]
    },
    {
      "cell_type": "code",
      "metadata": {
        "id": "PZPyPe6Gao_d",
        "pycharm": {
          "name": "#%%\n"
        }
      },
      "source": [
        "# Create query-response pairs\n",
        "# Join the two tables to make a single one\n",
        "# Concatenate '<eos>' to the end, and '<sos>' to the start of the response and store each of them, in a different column\n",
        "sql_query = \" select inp.body\" \\\n",
        "            \"       , resp.response || ' <eos>'\" \\\n",
        "            \"       , '<sos> ' || resp.response\" \\\n",
        "            \" from response_df resp\" \\\n",
        "            \" left join sdf inp\" \\\n",
        "            \" on resp.parent_id = inp.name\" \\\n",
        "            \" where inp.body is not null and inp.body <> '' and resp.response <> ''\"\n",
        "# Can only be saved as sdf since this is how pandas works.\n",
        "sdf = ps.sqldf(sql_query)"
      ],
      "execution_count": null,
      "outputs": []
    },
    {
      "cell_type": "code",
      "metadata": {
        "id": "ZNxi99eHao_g",
        "pycharm": {
          "name": "#%%\n"
        }
      },
      "source": [
        "# Rename body to input, second column to output and third column to output_input\n",
        "xy_df = sdf.rename(columns={'body': 'input', \"resp.response || ' <eos>'\": 'output', \"'<sos> ' || resp.response\": 'output_input'})"
      ],
      "execution_count": null,
      "outputs": []
    },
    {
      "cell_type": "code",
      "metadata": {
        "id": "6iIQgy2Kao_j",
        "pycharm": {
          "name": "#%%\n"
        }
      },
      "source": [
        "# Delete sdf to free up memory\n",
        "del sdf"
      ],
      "execution_count": null,
      "outputs": []
    },
    {
      "cell_type": "code",
      "metadata": {
        "id": "2EoCaI8bao_m",
        "pycharm": {
          "name": "#%%\n"
        },
        "outputId": "254ffd15-8413-46ca-eea6-5ef4356a09c3"
      },
      "source": [
        "# show top ten rows of the new dataframe\n",
        "xy_df.head(10)"
      ],
      "execution_count": null,
      "outputs": [
        {
          "output_type": "execute_result",
          "data": {
            "text/html": [
              "<div>\n",
              "<style scoped>\n",
              "    .dataframe tbody tr th:only-of-type {\n",
              "        vertical-align: middle;\n",
              "    }\n",
              "\n",
              "    .dataframe tbody tr th {\n",
              "        vertical-align: top;\n",
              "    }\n",
              "\n",
              "    .dataframe thead th {\n",
              "        text-align: right;\n",
              "    }\n",
              "</style>\n",
              "<table border=\"1\" class=\"dataframe\">\n",
              "  <thead>\n",
              "    <tr style=\"text-align: right;\">\n",
              "      <th></th>\n",
              "      <th>input</th>\n",
              "      <th>output</th>\n",
              "      <th>output_input</th>\n",
              "    </tr>\n",
              "  </thead>\n",
              "  <tbody>\n",
              "    <tr>\n",
              "      <th>0</th>\n",
              "      <td>They've also been rather clear on defining a f...</td>\n",
              "      <td>No, they have not. What gave you that idea? Th...</td>\n",
              "      <td>&lt;sos&gt; No, they have not. What gave you that id...</td>\n",
              "    </tr>\n",
              "    <tr>\n",
              "      <th>1</th>\n",
              "      <td>Western corporations don't give a rats arse to...</td>\n",
              "      <td>wow, ok have you ever heard of a thing called ...</td>\n",
              "      <td>&lt;sos&gt; wow, ok have you ever heard of a thing c...</td>\n",
              "    </tr>\n",
              "    <tr>\n",
              "      <th>2</th>\n",
              "      <td>What was the conversation? I just killed them.</td>\n",
              "      <td>\"Something something something, then I raped t...</td>\n",
              "      <td>&lt;sos&gt; \"Something something something, then I r...</td>\n",
              "    </tr>\n",
              "    <tr>\n",
              "      <th>3</th>\n",
              "      <td>Well it just shows us past behavior and what o...</td>\n",
              "      <td>Guess you aren't a big believer in \"firsts\"?\\n...</td>\n",
              "      <td>&lt;sos&gt; Guess you aren't a big believer in \"firs...</td>\n",
              "    </tr>\n",
              "    <tr>\n",
              "      <th>4</th>\n",
              "      <td>Solid advice to avoid a shaky end for TheEarth...</td>\n",
              "      <td>Agreed! &lt;eos&gt;</td>\n",
              "      <td>&lt;sos&gt; Agreed!</td>\n",
              "    </tr>\n",
              "    <tr>\n",
              "      <th>5</th>\n",
              "      <td>The whole schools discrimination provision was...</td>\n",
              "      <td>The fact my daughter is bottom of the list in ...</td>\n",
              "      <td>&lt;sos&gt; The fact my daughter is bottom of the li...</td>\n",
              "    </tr>\n",
              "    <tr>\n",
              "      <th>6</th>\n",
              "      <td>Hahaha yeah we can do that too. I just thought...</td>\n",
              "      <td>Nothing wrong with multitasking during a movie...</td>\n",
              "      <td>&lt;sos&gt; Nothing wrong with multitasking during a...</td>\n",
              "    </tr>\n",
              "    <tr>\n",
              "      <th>7</th>\n",
              "      <td>Thank you!\\n\\nYeah, I like them and find them ...</td>\n",
              "      <td>Understandable. It's not a real exam if you do...</td>\n",
              "      <td>&lt;sos&gt; Understandable. It's not a real exam if ...</td>\n",
              "    </tr>\n",
              "    <tr>\n",
              "      <th>8</th>\n",
              "      <td>2 line pass.</td>\n",
              "      <td>False. But it was offside  &lt;eos&gt;</td>\n",
              "      <td>&lt;sos&gt; False. But it was offside</td>\n",
              "    </tr>\n",
              "    <tr>\n",
              "      <th>9</th>\n",
              "      <td>Well shit... I never used boot bands to blouse...</td>\n",
              "      <td>My point exactly. &lt;eos&gt;</td>\n",
              "      <td>&lt;sos&gt; My point exactly.</td>\n",
              "    </tr>\n",
              "  </tbody>\n",
              "</table>\n",
              "</div>"
            ],
            "text/plain": [
              "                                               input  \\\n",
              "0  They've also been rather clear on defining a f...   \n",
              "1  Western corporations don't give a rats arse to...   \n",
              "2    What was the conversation? I just killed them.    \n",
              "3  Well it just shows us past behavior and what o...   \n",
              "4  Solid advice to avoid a shaky end for TheEarth...   \n",
              "5  The whole schools discrimination provision was...   \n",
              "6  Hahaha yeah we can do that too. I just thought...   \n",
              "7  Thank you!\\n\\nYeah, I like them and find them ...   \n",
              "8                                       2 line pass.   \n",
              "9  Well shit... I never used boot bands to blouse...   \n",
              "\n",
              "                                              output  \\\n",
              "0  No, they have not. What gave you that idea? Th...   \n",
              "1  wow, ok have you ever heard of a thing called ...   \n",
              "2  \"Something something something, then I raped t...   \n",
              "3  Guess you aren't a big believer in \"firsts\"?\\n...   \n",
              "4                                      Agreed! <eos>   \n",
              "5  The fact my daughter is bottom of the list in ...   \n",
              "6  Nothing wrong with multitasking during a movie...   \n",
              "7  Understandable. It's not a real exam if you do...   \n",
              "8                   False. But it was offside  <eos>   \n",
              "9                            My point exactly. <eos>   \n",
              "\n",
              "                                        output_input  \n",
              "0  <sos> No, they have not. What gave you that id...  \n",
              "1  <sos> wow, ok have you ever heard of a thing c...  \n",
              "2  <sos> \"Something something something, then I r...  \n",
              "3  <sos> Guess you aren't a big believer in \"firs...  \n",
              "4                                      <sos> Agreed!  \n",
              "5  <sos> The fact my daughter is bottom of the li...  \n",
              "6  <sos> Nothing wrong with multitasking during a...  \n",
              "7  <sos> Understandable. It's not a real exam if ...  \n",
              "8                   <sos> False. But it was offside   \n",
              "9                            <sos> My point exactly.  "
            ]
          },
          "metadata": {
            "tags": []
          },
          "execution_count": 16
        }
      ]
    },
    {
      "cell_type": "code",
      "metadata": {
        "id": "FUhZ2f3Sao_p",
        "pycharm": {
          "name": "#%%\n"
        }
      },
      "source": [
        "# Export to a json file this is so we don't have to run all previous cells again\n",
        "xy_df.to_json('xy_data_2015_05.json', orient='records', lines=True)"
      ],
      "execution_count": null,
      "outputs": []
    },
    {
      "cell_type": "code",
      "metadata": {
        "id": "hKfDC8bBao_r",
        "pycharm": {
          "name": "#%%\n"
        }
      },
      "source": [
        "# Delete all to free memory\n",
        "del response_df\n",
        "del xy_df\n",
        "del sql_query"
      ],
      "execution_count": null,
      "outputs": []
    },
    {
      "cell_type": "markdown",
      "metadata": {
        "id": "nkW6Bxn-ao_u",
        "pycharm": {
          "name": "#%% md\n"
        }
      },
      "source": [
        "## Preprocessing\n",
        "\n",
        "Now that we have a dataset of usable message-response pairs, lets preprocess the data. The tokenizer encodes words into numbers,\n",
        "a seperate tokenizer is used for the the message data and the output data. Next, we padded the messages to have a fixed size for all of our messages.\n",
        "The `.json` file created in the previous section can be downloaded from this [google drive](https://drive.google.com/file/d/1J65cyCx6Zp1AgzTCGrB1Oqye9nkokmot/view?usp=sharing) link."
      ]
    },
    {
      "cell_type": "code",
      "metadata": {
        "colab": {
          "base_uri": "https://localhost:8080/"
        },
        "id": "QuF0jZQgIj7e",
        "outputId": "70f86657-943e-4152-bb3f-941925b69f3d"
      },
      "source": [
        "!pip install googledrivedownloader"
      ],
      "execution_count": null,
      "outputs": [
        {
          "output_type": "stream",
          "text": [
            "Requirement already satisfied: googledrivedownloader in /usr/local/lib/python3.6/dist-packages (0.4)\n"
          ],
          "name": "stdout"
        }
      ]
    },
    {
      "cell_type": "code",
      "metadata": {
        "id": "SNBgPbM6Ij7e",
        "colab": {
          "base_uri": "https://localhost:8080/"
        },
        "outputId": "3ab518fc-be91-491c-c654-861ee85f84ee"
      },
      "source": [
        "from google_drive_downloader import GoogleDriveDownloader as gdd\n",
        "\n",
        "gdd.download_file_from_google_drive(file_id='1J65cyCx6Zp1AgzTCGrB1Oqye9nkokmot',\n",
        "                                    dest_path='./xy_data_2015_05.json',\n",
        "                                    unzip=False)"
      ],
      "execution_count": 1,
      "outputs": [
        {
          "output_type": "stream",
          "text": [
            "Downloading 1J65cyCx6Zp1AgzTCGrB1Oqye9nkokmot into ./xy_data_2015_05.json... Done.\n"
          ],
          "name": "stdout"
        }
      ]
    },
    {
      "cell_type": "code",
      "metadata": {
        "id": "sORG9BopoAmz"
      },
      "source": [
        "# import statements\n",
        "import pandas as pd\n",
        "from tensorflow.keras.preprocessing.text import Tokenizer\n",
        "from tensorflow.keras.preprocessing.sequence import pad_sequences"
      ],
      "execution_count": 2,
      "outputs": []
    },
    {
      "cell_type": "code",
      "metadata": {
        "id": "_S8QE5W8ao_v",
        "pycharm": {
          "name": "#%%\n"
        }
      },
      "source": [
        "# Load data from the saved json file\n",
        "xy_data_df = pd.read_json(r'xy_data_2015_05.json', orient='records', lines=True)"
      ],
      "execution_count": 3,
      "outputs": []
    },
    {
      "cell_type": "code",
      "metadata": {
        "id": "IzOvzPVunvnY"
      },
      "source": [
        "# for testing purposes we reduced the dataframe to the first 10000 comments\n",
        "xy_data_df = xy_data_df[0:10000]  "
      ],
      "execution_count": 4,
      "outputs": []
    },
    {
      "cell_type": "code",
      "metadata": {
        "colab": {
          "base_uri": "https://localhost:8080/"
        },
        "id": "eRulvOPuao_x",
        "pycharm": {
          "name": "#%%\n"
        },
        "outputId": "4bf1fba9-cc5d-4237-ef31-1c7dc57bdcdd"
      },
      "source": [
        "# Check a random row from the dataframe\n",
        "print(xy_data_df['input'][172])\n",
        "print()\n",
        "print(xy_data_df['output'][172])\n",
        "print()\n",
        "print(xy_data_df['output_input'][172])"
      ],
      "execution_count": 5,
      "outputs": [
        {
          "output_type": "stream",
          "text": [
            "Do tell. How is it not true? \n",
            "Other than character skins, how are they not just pre set loadouts? \n",
            "\n",
            "you could unlock extra guys. one had a jet-pack if I remember correctly and another had invisibility.  <eos>\n",
            "\n",
            "<sos> you could unlock extra guys. one had a jet-pack if I remember correctly and another had invisibility. \n"
          ],
          "name": "stdout"
        }
      ]
    },
    {
      "cell_type": "code",
      "metadata": {
        "id": "AzAIx4otv0r2"
      },
      "source": [
        "# set max number of words recognized by the model\n",
        "MAX_NUM_WORDS = 5000"
      ],
      "execution_count": 8,
      "outputs": []
    },
    {
      "cell_type": "code",
      "metadata": {
        "colab": {
          "base_uri": "https://localhost:8080/"
        },
        "id": "tswU1Rn5ao_z",
        "pycharm": {
          "name": "#%%\n"
        },
        "outputId": "982c66e0-ceb3-4471-8cb0-d93655085927"
      },
      "source": [
        "# Text from the input column is tokenized\n",
        "\n",
        "input_tokenizer = Tokenizer(num_words=MAX_NUM_WORDS)\n",
        "\n",
        "# Tokenizer is fitted\n",
        "input_tokenizer.fit_on_texts(xy_data_df['input'])\n",
        "\n",
        "# Sequences are generated from the text\n",
        "input_integer_seq = input_tokenizer.texts_to_sequences(xy_data_df['input'])\n",
        "\n",
        "# { word: index} dictionary of the input_tokenizer\n",
        "word2idx_inputs = input_tokenizer.word_index\n",
        "print('Total unique words in the input: %s' % len(word2idx_inputs))\n",
        "\n",
        "# Word count and max input sentence length are stored\n",
        "max_input_len = max(len(sen) for sen in input_integer_seq)\n",
        "print(\"Length of longest sentence in input: %g\" % max_input_len)"
      ],
      "execution_count": 9,
      "outputs": [
        {
          "output_type": "stream",
          "text": [
            "Total unique words in the input: 11994\n",
            "Length of longest sentence in input: 40\n"
          ],
          "name": "stdout"
        }
      ]
    },
    {
      "cell_type": "code",
      "metadata": {
        "colab": {
          "base_uri": "https://localhost:8080/"
        },
        "id": "MtS7a196ao_1",
        "pycharm": {
          "name": "#%%\n"
        },
        "outputId": "738fd1c2-3b52-452f-d8f6-778e9c164b03"
      },
      "source": [
        "# Text from the output and output_input columns are tokenized\n",
        "# the regex given is the default filter minus the '<' and '>' symbols,\n",
        "# as these have been handled using SQL in the previous section\n",
        "output_tokenizer = Tokenizer(num_words=MAX_NUM_WORDS, filters='!\"#$%&()*+,-./:;=?@[\\\\]^_`{|}~\\t\\n)')\n",
        "\n",
        "# Tokenizer is fitted\n",
        "output_tokenizer.fit_on_texts(pd.concat([xy_data_df['output'], xy_data_df['output_input']]))\n",
        "\n",
        "# Sequences are generated from the text\n",
        "output_integer_seq = output_tokenizer.texts_to_sequences(xy_data_df['output'])\n",
        "output_input_integer_seq = output_tokenizer.texts_to_sequences(xy_data_df['output_input'])\n",
        "\n",
        "# { word: index} dictionary of the output_tokenizer\n",
        "word2idx_outputs = output_tokenizer.word_index\n",
        "print('Total unique words in the output: %s' % len(word2idx_outputs))\n",
        "\n",
        "# Word count and max output sentence length are stored\n",
        "num_words_output = len(word2idx_outputs) + 1\n",
        "max_out_len = max(len(sen) for sen in output_integer_seq)\n",
        "print(\"Length of longest sentence in the output: %g\" % max_out_len)"
      ],
      "execution_count": 10,
      "outputs": [
        {
          "output_type": "stream",
          "text": [
            "Total unique words in the output: 13878\n",
            "Length of longest sentence in the output: 44\n"
          ],
          "name": "stdout"
        }
      ]
    },
    {
      "cell_type": "code",
      "metadata": {
        "colab": {
          "base_uri": "https://localhost:8080/"
        },
        "id": "0r8kBekjao_4",
        "pycharm": {
          "name": "#%%\n"
        },
        "outputId": "3ef7e034-e1b6-4baf-b8d3-18ac8ece0bab"
      },
      "source": [
        "# input_integer_seq is padded which will be fed into the encoder\n",
        "# max_input_len stores the maximum output sentence length\n",
        "encoder_input_sequences = pad_sequences(input_integer_seq, maxlen=max_input_len)\n",
        "print(\"encoder_input_sequences.shape:\", encoder_input_sequences.shape)\n",
        "print(\"encoder_input_sequences[172]:\", encoder_input_sequences[172])"
      ],
      "execution_count": 11,
      "outputs": [
        {
          "output_type": "stream",
          "text": [
            "encoder_input_sequences.shape: (10000, 40)\n",
            "encoder_input_sequences[172]: [  0   0   0   0   0   0   0   0   0   0   0   0   0   0   0   0   0   0\n",
            "   0   0   0   0   0  30 288  39   5   9  16 210  92  77 551  39  14  24\n",
            "  16  25 818 607]\n"
          ],
          "name": "stdout"
        }
      ]
    },
    {
      "cell_type": "code",
      "metadata": {
        "colab": {
          "base_uri": "https://localhost:8080/"
        },
        "id": "IPso2nzrao_6",
        "pycharm": {
          "name": "#%%\n"
        },
        "outputId": "19e467e4-fc2a-44b5-f67a-a79f5631c919"
      },
      "source": [
        "# Example word indices from input_tokenizer\n",
        "print(word2idx_inputs[\"ill\"])\n",
        "print(word2idx_inputs[\"skins\"])"
      ],
      "execution_count": 12,
      "outputs": [
        {
          "output_type": "stream",
          "text": [
            "1766\n",
            "6740\n"
          ],
          "name": "stdout"
        }
      ]
    },
    {
      "cell_type": "code",
      "metadata": {
        "colab": {
          "base_uri": "https://localhost:8080/"
        },
        "id": "BVn8TGY5ao_8",
        "pycharm": {
          "name": "#%%\n"
        },
        "outputId": "7f6e3f00-7683-4031-bfb0-9e1096ec8178"
      },
      "source": [
        "# output_input_integer_seq is padded which will be fed into the decoder\n",
        "# max_out_len stores the maximum output sentence length\n",
        "decoder_input_sequences = pad_sequences(output_input_integer_seq, maxlen=max_out_len, padding='post')\n",
        "print(\"decoder_input_sequences.shape:\", decoder_input_sequences.shape)\n",
        "print(\"decoder_input_sequences[172]:\", decoder_input_sequences[172])"
      ],
      "execution_count": 13,
      "outputs": [
        {
          "output_type": "stream",
          "text": [
            "decoder_input_sequences.shape: (10000, 44)\n",
            "decoder_input_sequences[172]: [   2    7  103 3228 1127  347   44   85    5 1542 2674   30    4  287\n",
            " 2243    8  232   85    0    0    0    0    0    0    0    0    0    0\n",
            "    0    0    0    0    0    0    0    0    0    0    0    0    0    0\n",
            "    0    0]\n"
          ],
          "name": "stdout"
        }
      ]
    },
    {
      "cell_type": "code",
      "metadata": {
        "colab": {
          "base_uri": "https://localhost:8080/"
        },
        "id": "igLnaDB3apAA",
        "pycharm": {
          "name": "#%%\n"
        },
        "outputId": "d52ca6a3-01c5-43de-cdff-dbd1575c8a6b"
      },
      "source": [
        "# Example word indices from output_tokenizer\n",
        "print(word2idx_outputs[\"<eos>\"])\n",
        "print(word2idx_outputs[\"not\"])\n",
        "print(word2idx_outputs[\"correctly\"])\n",
        "# print(word2idx_outputs[\"invisibility\"])"
      ],
      "execution_count": 14,
      "outputs": [
        {
          "output_type": "stream",
          "text": [
            "1\n",
            "15\n",
            "2243\n"
          ],
          "name": "stdout"
        }
      ]
    },
    {
      "cell_type": "markdown",
      "metadata": {
        "id": "Zxf-TMK821Zi"
      },
      "source": [
        "The following two cells visualize the progress made up until this point"
      ]
    },
    {
      "cell_type": "code",
      "metadata": {
        "id": "-_eh2FnzapAC",
        "pycharm": {
          "name": "#%%\n"
        }
      },
      "source": [
        "subset_dict = {str(value): 0 for key, value in input_tokenizer.word_index.items()}\n",
        "input_sequences = []\n",
        "\n",
        "# The input and response sentences are tokenized \n",
        "# and the token occurrences are counted in subset_dict\n",
        "for line in xy_data_df.iterrows():\n",
        "\n",
        "    # Input tokenization\n",
        "    token_list = input_tokenizer.texts_to_sequences([line[1][0]])[0]\n",
        "\n",
        "    for token in token_list:\n",
        "        subset_dict[str(token)] += 1\n",
        "\n",
        "    # print('input')\n",
        "    # print(token_list)\n",
        "    # print(tokenizer.sequences_to_texts([token_list]))\n",
        "    # print()\n",
        "\n",
        "    # Response tokenization\n",
        "    token_list = input_tokenizer.texts_to_sequences([line[1][1]])[0]\n",
        "\n",
        "    # print('response')\n",
        "    # print(token_list)\n",
        "    # print(tokenizer.sequences_to_texts([token_list]))\n",
        "    # print()\n",
        "\n",
        "    for token in token_list:\n",
        "        subset_dict[str(token)] += 1"
      ],
      "execution_count": 15,
      "outputs": []
    },
    {
      "cell_type": "code",
      "metadata": {
        "colab": {
          "base_uri": "https://localhost:8080/",
          "height": 283
        },
        "id": "Qkxo2bw6apAE",
        "pycharm": {
          "name": "#%%\n"
        },
        "outputId": "5bb3820b-a6f4-4148-94fe-13c533440ed2"
      },
      "source": [
        "import matplotlib.pyplot as plt\n",
        "\n",
        "# A sequence from 0 to 29 is created\n",
        "list_c = [i for i in range(30)]\n",
        "\n",
        "# The string value of the 30 most used tokens are retrieved\n",
        "example_seq = input_tokenizer.sequences_to_texts([list_c])[0]\n",
        "print(example_seq)\n",
        "\n",
        "# Turns the example_seq string into a list of words\n",
        "x = example_seq.split()\n",
        "\n",
        "# The 30 most popular words are plotted based on their occurrence\n",
        "plt.bar(x, list(subset_dict.values())[:len(x)], align = 'center')\n",
        "plt.show()"
      ],
      "execution_count": 16,
      "outputs": [
        {
          "output_type": "stream",
          "text": [
            "the a i to is you and of it that in for this are be not on have but what like was with they just my so it's as\n"
          ],
          "name": "stdout"
        },
        {
          "output_type": "display_data",
          "data": {
            "image/png": "[encoded data removed]",
            "text/plain": [
              "<Figure size 432x288 with 1 Axes>"
            ]
          },
          "metadata": {
            "tags": [],
            "needs_background": "light"
          }
        }
      ]
    },
    {
      "cell_type": "markdown",
      "metadata": {
        "id": "WJDxlk7P3Oz8"
      },
      "source": [
        "### Word embeddings\n",
        "\n",
        "This is where our work for the second milestone starts. We relied heavily on [this](https://stackabuse.com/python-for-nlp-neural-machine-translation-with-seq2seq-in-keras/) guide on stackabuse. Although we made several modifications to get it to work with our dataset.\n",
        "\n",
        "The following section embeds the words recognized by the model in a vector with 100 dimensions."
      ]
    },
    {
      "cell_type": "code",
      "metadata": {
        "id": "-oGmjDXy3x-u"
      },
      "source": [
        "# import statements\n",
        "from numpy import array\n",
        "from numpy import asarray\n",
        "from numpy import zeros"
      ],
      "execution_count": 17,
      "outputs": []
    },
    {
      "cell_type": "code",
      "metadata": {
        "colab": {
          "base_uri": "https://localhost:8080/"
        },
        "id": "06Y_EJxugMNY",
        "outputId": "b194f3e0-d307-47bc-f109-c69117ec36d1"
      },
      "source": [
        "# we used the pretrained vector embedding model GloVe\n",
        "!wget http://nlp.stanford.edu/data/glove.6B.zip glove.6B.zip"
      ],
      "execution_count": 6,
      "outputs": [
        {
          "output_type": "stream",
          "text": [
            "--2020-12-10 13:20:10--  http://nlp.stanford.edu/data/glove.6B.zip\n",
            "Resolving nlp.stanford.edu (nlp.stanford.edu)... 171.64.67.140\n",
            "Connecting to nlp.stanford.edu (nlp.stanford.edu)|171.64.67.140|:80... connected.\n",
            "HTTP request sent, awaiting response... 302 Found\n",
            "Location: https://nlp.stanford.edu/data/glove.6B.zip [following]\n",
            "--2020-12-10 13:20:10--  https://nlp.stanford.edu/data/glove.6B.zip\n",
            "Connecting to nlp.stanford.edu (nlp.stanford.edu)|171.64.67.140|:443... connected.\n",
            "HTTP request sent, awaiting response... 301 Moved Permanently\n",
            "Location: http://downloads.cs.stanford.edu/nlp/data/glove.6B.zip [following]\n",
            "--2020-12-10 13:20:11--  http://downloads.cs.stanford.edu/nlp/data/glove.6B.zip\n",
            "Resolving downloads.cs.stanford.edu (downloads.cs.stanford.edu)... 171.64.64.22\n",
            "Connecting to downloads.cs.stanford.edu (downloads.cs.stanford.edu)|171.64.64.22|:80... connected.\n",
            "HTTP request sent, awaiting response... 200 OK\n",
            "Length: 862182613 (822M) [application/zip]\n",
            "Saving to: ‘glove.6B.zip’\n",
            "\n",
            "glove.6B.zip        100%[===================>] 822.24M  2.05MB/s    in 6m 28s  \n",
            "\n",
            "2020-12-10 13:26:38 (2.12 MB/s) - ‘glove.6B.zip’ saved [862182613/862182613]\n",
            "\n",
            "--2020-12-10 13:26:38--  http://glove.6b.zip/\n",
            "Resolving glove.6b.zip (glove.6b.zip)... failed: Name or service not known.\n",
            "wget: unable to resolve host address ‘glove.6b.zip’\n",
            "FINISHED --2020-12-10 13:26:38--\n",
            "Total wall clock time: 6m 28s\n",
            "Downloaded: 1 files, 822M in 6m 28s (2.12 MB/s)\n"
          ],
          "name": "stdout"
        }
      ]
    },
    {
      "cell_type": "code",
      "metadata": {
        "colab": {
          "base_uri": "https://localhost:8080/"
        },
        "id": "nAOz5_TghCFv",
        "outputId": "e336d0f5-dbc1-4380-dae7-9e169030b284"
      },
      "source": [
        "# unzip the downloaded file\n",
        "!unzip glove.6B.zip"
      ],
      "execution_count": 7,
      "outputs": [
        {
          "output_type": "stream",
          "text": [
            "Archive:  glove.6B.zip\n",
            "  inflating: glove.6B.50d.txt        \n",
            "  inflating: glove.6B.100d.txt       \n",
            "  inflating: glove.6B.200d.txt       \n",
            "  inflating: glove.6B.300d.txt       \n"
          ],
          "name": "stdout"
        }
      ]
    },
    {
      "cell_type": "code",
      "metadata": {
        "id": "nS95Z6ZnidiS"
      },
      "source": [
        "#set embedding size\n",
        "EMBEDDING_SIZE = 100"
      ],
      "execution_count": 18,
      "outputs": []
    },
    {
      "cell_type": "code",
      "metadata": {
        "id": "tybbgBOJicUE"
      },
      "source": [
        "# the embedding dictionary is a dictionary with the key being a word,\n",
        "# and the value being the corresponding 100d vector\n",
        "embeddings_dictionary = dict()\n",
        "\n",
        "# open the file containing the 100d vectors\n",
        "glove_file = open(r'glove.6B.100d.txt', encoding=\"utf8\")\n",
        "\n",
        "# iterate over the lines in the file\n",
        "for line in glove_file:\n",
        "    records = line.split()  # split along whitespaces\n",
        "    word = records[0]       # the word itself is the first element of the list\n",
        "    # the vector representation is the rest of the elements\n",
        "    vector_dimensions = asarray(records[1:], dtype='float32')  \n",
        "    embeddings_dictionary[word] = vector_dimensions  # insert word: vector representation into dictionary\n",
        "glove_file.close()  # close GloVe file"
      ],
      "execution_count": 19,
      "outputs": []
    },
    {
      "cell_type": "code",
      "metadata": {
        "id": "1MgCAIsHiekB"
      },
      "source": [
        "# create the embedding matrix\n",
        "\n",
        "# limit the number of words understood by the model to MAX_NUM_WORDS\n",
        "num_words = min(MAX_NUM_WORDS, len(word2idx_inputs) + 1)\n",
        "# create embedding matrix filled with zeroes\n",
        "embedding_matrix = zeros((num_words, EMBEDDING_SIZE))\n",
        "\n",
        "# iterate over the first MAX_NUM_WORDS collected by the tokenizer\n",
        "for word, index in list(word2idx_inputs.items())[:num_words-1]:\n",
        "  # get embedding vector corresponding to the given word\n",
        "  embedding_vector = embeddings_dictionary.get(word)\n",
        "  # if embedding vector exists, the insert into relevant column of the mbedding matrix\n",
        "  # null vector by default\n",
        "  if embedding_vector is not None:\n",
        "      embedding_matrix[index] = embedding_vector"
      ],
      "execution_count": 20,
      "outputs": []
    },
    {
      "cell_type": "code",
      "metadata": {
        "id": "22y2NO6n9Y0E"
      },
      "source": [
        "# some testing\n",
        "index = 4997"
      ],
      "execution_count": 21,
      "outputs": []
    },
    {
      "cell_type": "code",
      "metadata": {
        "colab": {
          "base_uri": "https://localhost:8080/"
        },
        "id": "8Tp04_Sur5nj",
        "outputId": "fde78080-2551-412e-c6cd-311b11abae4c"
      },
      "source": [
        "# print last word\n",
        "print(list(word2idx_inputs.items())[index])"
      ],
      "execution_count": 22,
      "outputs": [
        {
          "output_type": "stream",
          "text": [
            "('superpowers', 4998)\n"
          ],
          "name": "stdout"
        }
      ]
    },
    {
      "cell_type": "code",
      "metadata": {
        "colab": {
          "base_uri": "https://localhost:8080/"
        },
        "id": "6Eq2JKmIi9dY",
        "outputId": "38471f8e-af8a-4ea4-d52b-b06e38236f13"
      },
      "source": [
        "# print embedding of word from the embedding dictionary\n",
        "print(embeddings_dictionary[list(word2idx_inputs.items())[index][0]])"
      ],
      "execution_count": 23,
      "outputs": [
        {
          "output_type": "stream",
          "text": [
            "[ 8.2561e-01  7.0368e-01  1.0856e+00  1.8640e-01 -3.3048e-01 -1.1595e+00\n",
            " -4.0692e-02 -1.5319e-01  1.8652e-01 -3.2869e-01 -7.1025e-02 -4.5381e-01\n",
            "  4.2302e-01  3.7044e-01  1.1495e-01 -2.8965e-01  3.6515e-01  4.5981e-01\n",
            " -1.7285e-01 -8.6656e-01  3.5760e-01  1.1741e-01  1.0402e-01 -1.6487e-01\n",
            "  8.5793e-01  4.4120e-02 -3.1421e-01  4.0868e-01 -1.0667e-02 -9.8774e-02\n",
            "  5.4666e-01 -1.0250e-01 -6.8991e-01 -6.8826e-01  3.0186e-01 -1.6146e-02\n",
            "  1.5912e-01 -5.5968e-01 -5.7463e-01  1.5893e-02 -4.1537e-01  6.1719e-01\n",
            " -1.7870e-01 -4.5237e-01  1.6250e-01 -3.7825e-02  9.4251e-01  4.8348e-01\n",
            "  2.3142e-01  2.6951e-01 -6.6098e-01  3.8090e-01 -4.2468e-01  7.1296e-01\n",
            "  1.1183e+00  3.7083e-02  4.7085e-01 -4.0589e-01 -6.6160e-01  9.4728e-02\n",
            "  1.2168e-01  5.2807e-01 -3.9111e-01  1.3211e-01 -5.3060e-02  2.4917e-01\n",
            " -2.5457e-01  4.3781e-04  1.5508e-01  2.7041e-01  5.7762e-02 -3.7124e-01\n",
            " -1.8106e-01  5.6205e-02 -8.4670e-01  9.5469e-03 -1.7227e-01 -7.2889e-01\n",
            " -5.0670e-01  2.1736e-01  3.8822e-01  1.4572e-02 -2.4214e-02  1.9026e-01\n",
            " -4.2015e-01  5.9801e-01 -4.6110e-01  3.9478e-01 -4.7045e-02 -4.0005e-01\n",
            " -8.2492e-01  2.4899e-01  3.6174e-01 -2.5125e-01  1.3955e-01 -3.7270e-01\n",
            " -2.9176e-01  1.7282e-01 -5.6650e-02  7.1876e-01]\n"
          ],
          "name": "stdout"
        }
      ]
    },
    {
      "cell_type": "code",
      "metadata": {
        "colab": {
          "base_uri": "https://localhost:8080/"
        },
        "id": "o53dqL4njpW7",
        "outputId": "3308a9b4-88bf-4975-e7b8-3c96fe631fad"
      },
      "source": [
        "# print embedding of word from the embedding matrix\n",
        "print(embedding_matrix[list(word2idx_inputs.items())[index][1]])"
      ],
      "execution_count": 24,
      "outputs": [
        {
          "output_type": "stream",
          "text": [
            "[ 8.25609982e-01  7.03679979e-01  1.08560002e+00  1.86399996e-01\n",
            " -3.30480009e-01 -1.15950000e+00 -4.06920016e-02 -1.53190002e-01\n",
            "  1.86519995e-01 -3.28689992e-01 -7.10249990e-02 -4.53810006e-01\n",
            "  4.23020005e-01  3.70440006e-01  1.14950001e-01 -2.89649993e-01\n",
            "  3.65150005e-01  4.59809989e-01 -1.72849998e-01 -8.66559982e-01\n",
            "  3.57600003e-01  1.17409997e-01  1.04020000e-01 -1.64869994e-01\n",
            "  8.57930005e-01  4.41199988e-02 -3.14209998e-01  4.08679992e-01\n",
            " -1.06670000e-02 -9.87740010e-02  5.46660006e-01 -1.02499999e-01\n",
            " -6.89909995e-01 -6.88260019e-01  3.01860005e-01 -1.61460005e-02\n",
            "  1.59119993e-01 -5.59679985e-01 -5.74630022e-01  1.58929992e-02\n",
            " -4.15369987e-01  6.17190003e-01 -1.78700000e-01 -4.52369988e-01\n",
            "  1.62499994e-01 -3.78249995e-02  9.42510009e-01  4.83480006e-01\n",
            "  2.31419995e-01  2.69510001e-01 -6.60979986e-01  3.80899996e-01\n",
            " -4.24679995e-01  7.12960005e-01  1.11829996e+00  3.70829999e-02\n",
            "  4.70849991e-01 -4.05889988e-01 -6.61599994e-01  9.47280005e-02\n",
            "  1.21679999e-01  5.28069973e-01 -3.91110003e-01  1.32110000e-01\n",
            " -5.30599989e-02  2.49170005e-01 -2.54570007e-01  4.37809998e-04\n",
            "  1.55080006e-01  2.70410001e-01  5.77620007e-02 -3.71239990e-01\n",
            " -1.81060001e-01  5.62050007e-02 -8.46700013e-01  9.54690017e-03\n",
            " -1.72270000e-01 -7.28890002e-01 -5.06699979e-01  2.17360005e-01\n",
            "  3.88220012e-01  1.45720001e-02 -2.42139995e-02  1.90259993e-01\n",
            " -4.20150012e-01  5.98010004e-01 -4.61100012e-01  3.94780010e-01\n",
            " -4.70449999e-02 -4.00050014e-01 -8.24919999e-01  2.48989999e-01\n",
            "  3.61739993e-01 -2.51249999e-01  1.39550000e-01 -3.72700006e-01\n",
            " -2.91759998e-01  1.72820002e-01 -5.66500016e-02  7.18760014e-01]\n"
          ],
          "name": "stdout"
        }
      ]
    },
    {
      "cell_type": "markdown",
      "metadata": {
        "id": "4dRfhYAe5cQT"
      },
      "source": [
        "### Model structure\n",
        "This section builds the model and trains it based on the data compiled in the previous sections."
      ]
    },
    {
      "cell_type": "code",
      "metadata": {
        "id": "lPFoENGTABz7"
      },
      "source": [
        "# Macros are defined for training.\n",
        "BATCH_SIZE = 64\n",
        "EPOCHS = 20"
      ],
      "execution_count": 72,
      "outputs": []
    },
    {
      "cell_type": "code",
      "metadata": {
        "id": "Ls-gfBDlkYt8"
      },
      "source": [
        "# import statements\n",
        "import numpy as np\n",
        "from tensorflow.keras.layers import Embedding"
      ],
      "execution_count": 73,
      "outputs": []
    },
    {
      "cell_type": "code",
      "metadata": {
        "id": "gajlpyg887XD"
      },
      "source": [
        "# create embedding layer from embedding matrix\n",
        "embedding_layer = Embedding(num_words, EMBEDDING_SIZE, weights=[embedding_matrix], input_length=max_input_len)"
      ],
      "execution_count": 74,
      "outputs": []
    },
    {
      "cell_type": "code",
      "metadata": {
        "colab": {
          "base_uri": "https://localhost:8080/"
        },
        "id": "XqTmsY7DsuBJ",
        "outputId": "ec953ecc-2c0a-4da8-d8c7-3c0aa60b5635"
      },
      "source": [
        "print(type(embedding_layer))"
      ],
      "execution_count": 151,
      "outputs": [
        {
          "output_type": "stream",
          "text": [
            "<class 'tensorflow.python.keras.layers.embeddings.Embedding'>\n"
          ],
          "name": "stdout"
        }
      ]
    },
    {
      "cell_type": "code",
      "metadata": {
        "id": "rSmKeGFllCRW"
      },
      "source": [
        "# get input sentences\n",
        "input_sentences = xy_data_df['input']"
      ],
      "execution_count": 75,
      "outputs": []
    },
    {
      "cell_type": "code",
      "metadata": {
        "id": "-PS8nYYD8gVp"
      },
      "source": [
        "# pad output sequences to the same length,\n",
        "# namely to the maximum length of the output sequences\n",
        "decoder_output_sequences = pad_sequences(output_integer_seq, maxlen=max_out_len, padding='post')"
      ],
      "execution_count": 76,
      "outputs": []
    },
    {
      "cell_type": "code",
      "metadata": {
        "colab": {
          "base_uri": "https://localhost:8080/"
        },
        "id": "mw8_H-53a0dh",
        "outputId": "80e983c3-0863-4139-bd76-477345925497"
      },
      "source": [
        "print(type(decoder_output_sequences))\r\n",
        "print(decoder_output_sequences.shape)\r\n",
        "print(decoder_output_sequences[0])\r\n",
        "id_list = list(word2idx_outputs)\r\n",
        "\r\n",
        "print(xy_data_df['output'][0])"
      ],
      "execution_count": 294,
      "outputs": [
        {
          "output_type": "stream",
          "text": [
            "<class 'numpy.ndarray'>\n",
            "(10000, 44)\n",
            "[  35   24   20   15   31  527    7   12  247    3   20 4190   12    3\n",
            "  455   10    3 1195 4191  127   10    3   55    6    3  161   10    1\n",
            "    0    0    0    0    0    0    0    0    0    0    0    0    0    0\n",
            "    0    0]\n",
            "No, they have not. What gave you that idea? The have ruled that the rights of the mother outweigh those of the unborn up to the point of viability. <eos>\n"
          ],
          "name": "stdout"
        }
      ]
    },
    {
      "cell_type": "code",
      "metadata": {
        "id": "U6a5MFBghIaz"
      },
      "source": [
        "from tensorflow.keras.utils import Sequence\r\n",
        "import math"
      ],
      "execution_count": 78,
      "outputs": []
    },
    {
      "cell_type": "code",
      "metadata": {
        "id": "Vdi3LnjOg0uK"
      },
      "source": [
        "class LSTM_train_data_generator(Sequence):\r\n",
        "\r\n",
        "    def __init__(self, x_set_1, x_set_2, y_set, batch_size, max_out_len, num_words):\r\n",
        "        self.x_1, self.x_2, self.y = x_set_1, x_set_2, y_set\r\n",
        "        self.batch_size = batch_size\r\n",
        "        self.max_out_len = max_out_len\r\n",
        "        self.num_words = num_words\r\n",
        "        self.whole_batch = batch_size\r\n",
        "        print(self.whole_batch)\r\n",
        "        assert len(self.x_1) == len(self.x_2)\r\n",
        "        assert len(self.x_2) == len(self.y)\r\n",
        "\r\n",
        "    def __len__(self):\r\n",
        "        return math.floor(len(self.x_1) / self.whole_batch)\r\n",
        "\r\n",
        "    def __getitem__(self, idx):\r\n",
        "        batch_x_1 = self.x_1[idx*self.whole_batch : (idx + 1)*self.whole_batch]\r\n",
        "        batch_x_2 = self.x_2[idx*self.whole_batch : (idx + 1)*self.whole_batch]\r\n",
        "        batch_y = self.y[idx*self.whole_batch : (idx + 1)*self.whole_batch]\r\n",
        "\r\n",
        "        train_batch_x_1 = batch_x_1[:self.batch_size]\r\n",
        "        train_batch_x_2 = batch_x_2[:self.batch_size]\r\n",
        "        train_batch_y = batch_y[:self.batch_size]\r\n",
        "\r\n",
        "        train_decoder_targets_one_hot = np.zeros((\r\n",
        "                self.batch_size,\r\n",
        "                self.max_out_len,\r\n",
        "                self.num_words),dtype='float32')\r\n",
        "        \r\n",
        "        # fill the previously created null hypermatrix with one hot columns in the following fashion:\r\n",
        "        # Insert value 1 into every r-th row of every c-th column of every m-th matrix where;\r\n",
        "        # m is the index of the sentence in decoder_output_sequences: 1-st sentence -> m = 0, n-th sentence -> m = n-1\r\n",
        "        # c is the place of the word in the sentence: 1-st word in sentence -> c = 0, n-th word in sentence -> c = n-1\r\n",
        "        # r is the value given to the word by th output tokenizer: '<eos>' -> r = 1, 'not' -> r = 15\r\n",
        "        \r\n",
        "        for m, sequence in enumerate(train_batch_y):\r\n",
        "          for c, r in enumerate(sequence):\r\n",
        "              train_decoder_targets_one_hot[m, c, r] = 1        \r\n",
        "\r\n",
        "        return [train_batch_x_1, train_batch_x_2], train_decoder_targets_one_hot"
      ],
      "execution_count": 295,
      "outputs": []
    },
    {
      "cell_type": "code",
      "metadata": {
        "id": "cgz_IQZcPh2F"
      },
      "source": [
        "class LSTM_val_data_generator(Sequence):\r\n",
        "\r\n",
        "    def __init__(self, x_set_1, x_set_2, y_set, batch_size, max_out_len, num_words):\r\n",
        "        self.x_1, self.x_2, self.y = x_set_1, x_set_2, y_set\r\n",
        "        self.batch_size = batch_size\r\n",
        "        self.max_out_len = max_out_len\r\n",
        "        self.num_words = num_words\r\n",
        "        self.whole_batch = 2*batch_size\r\n",
        "        print(self.whole_batch)\r\n",
        "        assert len(self.x_1) == len(self.x_2)\r\n",
        "        assert len(self.x_2) == len(self.y)\r\n",
        "\r\n",
        "    def __len__(self):\r\n",
        "        return math.floor(len(self.x_1) / self.whole_batch)\r\n",
        "\r\n",
        "    def __getitem__(self, idx):\r\n",
        "        batch_x_1 = self.x_1[idx*self.whole_batch : (idx + 1)*self.whole_batch]\r\n",
        "        batch_x_2 = self.x_2[idx*self.whole_batch : (idx + 1)*self.whole_batch]\r\n",
        "        batch_y = self.y[idx*self.whole_batch : (idx + 1)*self.whole_batch]\r\n",
        "        \r\n",
        "        val_batch_x_1 = batch_x_1[self.batch_size:]\r\n",
        "        val_batch_x_2 = batch_x_2[self.batch_size:]\r\n",
        "        val_batch_y = batch_y[self.batch_size:]\r\n",
        "\r\n",
        "        val_decoder_targets_one_hot = np.zeros((\r\n",
        "          self.batch_size,\r\n",
        "          self.max_out_len,\r\n",
        "          self.num_words),dtype='float32')\r\n",
        "        \r\n",
        "        for m, sequence in enumerate(val_batch_y):\r\n",
        "          for c, r in enumerate(sequence):\r\n",
        "              val_decoder_targets_one_hot[m, c, r] = 1\r\n",
        "\r\n",
        "        return [val_batch_x_1, val_batch_x_2], val_decoder_targets_one_hot"
      ],
      "execution_count": 288,
      "outputs": []
    },
    {
      "cell_type": "code",
      "metadata": {
        "id": "fWC4ofYM-Z_f"
      },
      "source": [
        "# set number of LSTM nodes\n",
        "LSTM_NODES = 256"
      ],
      "execution_count": 272,
      "outputs": []
    },
    {
      "cell_type": "code",
      "metadata": {
        "id": "oqA9TiHL-mkN"
      },
      "source": [
        "# import statements\n",
        "from tensorflow.keras.layers import LSTM, Input, Dense\n",
        "from tensorflow.keras import Model"
      ],
      "execution_count": 273,
      "outputs": []
    },
    {
      "cell_type": "code",
      "metadata": {
        "id": "-mnlyJIfD-i0"
      },
      "source": [
        "encoder_inputs_placeholder = Input(shape=(max_input_len,))"
      ],
      "execution_count": 274,
      "outputs": []
    },
    {
      "cell_type": "code",
      "metadata": {
        "id": "-sZbT4VE-WWv"
      },
      "source": [
        "# The encoder of the model is defined.\n",
        "# The input of the encoder are the sentences and the output is\n",
        "# the hidden state and cell state of the LSTM. \n",
        "\n",
        "x = embedding_layer(encoder_inputs_placeholder)\n",
        "encoder = LSTM(LSTM_NODES, return_state=True)\n",
        "\n",
        "encoder_outputs, h, c = encoder(x)\n",
        "encoder_states = [h, c]"
      ],
      "execution_count": 275,
      "outputs": []
    },
    {
      "cell_type": "code",
      "metadata": {
        "id": "64I8n09j--9E"
      },
      "source": [
        "# The decoder is defined.\n",
        "# The input of the decoder are the hidden state and cell state of the\n",
        "# encoder and the input sentence.\n",
        "decoder_inputs_placeholder = Input(shape=(max_out_len,))\n",
        "\n",
        "decoder_embedding = Embedding(num_words, LSTM_NODES)\n",
        "decoder_inputs_x = decoder_embedding(decoder_inputs_placeholder)\n",
        "\n",
        "decoder_lstm = LSTM(LSTM_NODES, return_sequences=True, return_state=True)\n",
        "decoder_outputs, _, _ = decoder_lstm(decoder_inputs_x, initial_state=encoder_states)"
      ],
      "execution_count": 276,
      "outputs": []
    },
    {
      "cell_type": "code",
      "metadata": {
        "id": "pxvM_HsZ-xtb"
      },
      "source": [
        "# The output of the decoder is given to a dense layer to predict\n",
        "# the decoder output.\n",
        "decoder_dense = Dense(num_words, activation='softmax')\n",
        "decoder_outputs = decoder_dense(decoder_outputs)"
      ],
      "execution_count": 277,
      "outputs": []
    },
    {
      "cell_type": "code",
      "metadata": {
        "id": "NMeFFYTxHUTQ"
      },
      "source": [
        ""
      ],
      "execution_count": null,
      "outputs": []
    },
    {
      "cell_type": "code",
      "metadata": {
        "id": "DGYLTU2V_K67"
      },
      "source": [
        "# The model is connected and compiled. There are two inputs: the\n",
        "# encoder and the decoder input.\n",
        "model = Model([encoder_inputs_placeholder,\n",
        "  decoder_inputs_placeholder], decoder_outputs)\n",
        "model.compile(\n",
        "    optimizer='rmsprop',\n",
        "    loss='categorical_crossentropy',\n",
        "    metrics=['accuracy', 'val_accuracy']\n",
        ")"
      ],
      "execution_count": 278,
      "outputs": []
    },
    {
      "cell_type": "code",
      "metadata": {
        "colab": {
          "base_uri": "https://localhost:8080/",
          "height": 533
        },
        "id": "EK08hHKr_U7i",
        "outputId": "b755e935-fe4e-4ad9-b7ee-a6158843f47e"
      },
      "source": [
        "# The structure of the model is plotted.\n",
        "from keras.utils import plot_model\n",
        "plot_model(model, to_file='model_plot4a.png', show_shapes=True, show_layer_names=True)"
      ],
      "execution_count": 279,
      "outputs": [
        {
          "output_type": "execute_result",
          "data": {
            "image/png": "[encoded data removed]",
            "text/plain": [
              "<IPython.core.display.Image object>"
            ]
          },
          "metadata": {
            "tags": []
          },
          "execution_count": 279
        }
      ]
    },
    {
      "cell_type": "code",
      "metadata": {
        "colab": {
          "base_uri": "https://localhost:8080/"
        },
        "id": "gVIOHfN-AQqy",
        "outputId": "3194ce7a-e15f-4764-d190-c4865b2cea5b"
      },
      "source": [
        "# Input shapes are printed.\n",
        "print(encoder_input_sequences.shape)\n",
        "print(decoder_input_sequences.shape)"
      ],
      "execution_count": 296,
      "outputs": [
        {
          "output_type": "stream",
          "text": [
            "(10000, 40)\n",
            "(10000, 44)\n"
          ],
          "name": "stdout"
        }
      ]
    },
    {
      "cell_type": "code",
      "metadata": {
        "colab": {
          "base_uri": "https://localhost:8080/"
        },
        "id": "WjPNj88TkSLq",
        "outputId": "0362fb36-db4c-42c9-9a79-6fb79fed5212"
      },
      "source": [
        "train_data = LSTM_train_data_generator(encoder_input_sequences, decoder_input_sequences, decoder_output_sequences, BATCH_SIZE, max_out_len, num_words)\r\n",
        "val_data = LSTM_val_data_generator(encoder_input_sequences, decoder_input_sequences, decoder_output_sequences, BATCH_SIZE, max_out_len, num_words)\r\n",
        "b = val_data[0]\r\n",
        "print(b[0][0].shape)\r\n",
        "print(encoder_input_sequences.shape)\r\n",
        "print(b[0][0][0])\r\n",
        "print(encoder_input_sequences[0])\r\n",
        "\r\n",
        "print(b[0][1].shape)\r\n",
        "print(decoder_input_sequences.shape)\r\n",
        "print(b[0][1][0])\r\n",
        "print(decoder_input_sequences[0])\r\n",
        "\r\n",
        "print(b[1].shape)\r\n",
        "print(decoder_output_sequences.shape)\r\n",
        "print(b[1][0][1][24])\r\n",
        "print(decoder_output_sequences[0])"
      ],
      "execution_count": 289,
      "outputs": [
        {
          "output_type": "stream",
          "text": [
            "128\n",
            "128\n",
            "(64, 40)\n",
            "(10000, 40)\n",
            "[   0    0    0    0    0    0    0    0    0    0    0    0    0    0\n",
            "    0    0    0    0    0  105    6  211    9 1399  242 2626  898  117\n",
            "  113   58    8    1 3084    7    1  537  646    8 3731  130]\n",
            "[   0    0    0    0    0    0    0    0    0    0    0    0    0    0\n",
            "    0    0    0    0    0    0    0 1517  131   89  339 1306   17 4687\n",
            "    2 2615   29  206    8    2  807  339   77  114  181 3717]\n",
            "(64, 44)\n",
            "(10000, 44)\n",
            "[  2 226   9   5 502 131   0   0   0   0   0   0   0   0   0   0   0   0\n",
            "   0   0   0   0   0   0   0   0   0   0   0   0   0   0   0   0   0   0\n",
            "   0   0   0   0   0   0   0   0]\n",
            "[   2   35   24   20   15   31  527    7   12  247    3   20 4190   12\n",
            "    3  455   10    3 1195 4191  127   10    3   55    6    3  161   10\n",
            "    0    0    0    0    0    0    0    0    0    0    0    0    0    0\n",
            "    0    0]\n",
            "(64, 44, 5000)\n",
            "(10000, 44)\n",
            "0.0\n",
            "[  35   24   20   15   31  527    7   12  247    3   20 4190   12    3\n",
            "  455   10    3 1195 4191  127   10    3   55    6    3  161   10    1\n",
            "    0    0    0    0    0    0    0    0    0    0    0    0    0    0\n",
            "    0    0]\n"
          ],
          "name": "stdout"
        }
      ]
    },
    {
      "cell_type": "code",
      "metadata": {
        "colab": {
          "base_uri": "https://localhost:8080/",
          "height": 395
        },
        "id": "gvOjlh1jPFll",
        "outputId": "b4266463-b04a-43aa-d639-97fa53e27cf6"
      },
      "source": [
        "# The model is trained.\r\n",
        "r = model.fit(\r\n",
        "    x=train_data,\r\n",
        "    \r\n",
        "    batch_size=BATCH_SIZE,\r\n",
        "    epochs=20\r\n",
        "    # validation_split=0.2,\r\n",
        ")"
      ],
      "execution_count": 292,
      "outputs": [
        {
          "output_type": "error",
          "ename": "TypeError",
          "evalue": "ignored",
          "traceback": [
            "\u001b[0;31m---------------------------------------------------------------------------\u001b[0m",
            "\u001b[0;31mTypeError\u001b[0m                                 Traceback (most recent call last)",
            "\u001b[0;32m<ipython-input-292-81887d4542f8>\u001b[0m in \u001b[0;36m<module>\u001b[0;34m()\u001b[0m\n\u001b[1;32m      1\u001b[0m \u001b[0;31m# The model is trained.\u001b[0m\u001b[0;34m\u001b[0m\u001b[0;34m\u001b[0m\u001b[0;34m\u001b[0m\u001b[0m\n\u001b[1;32m      2\u001b[0m r = model.fit(\n\u001b[0;32m----> 3\u001b[0;31m     \u001b[0mx\u001b[0m\u001b[0;34m=\u001b[0m\u001b[0mtrain_data\u001b[0m\u001b[0;34m\u001b[0m\u001b[0;34m\u001b[0m\u001b[0m\n\u001b[0m\u001b[1;32m      4\u001b[0m     \u001b[0;31m# validation_split=0.2,\u001b[0m\u001b[0;34m\u001b[0m\u001b[0;34m\u001b[0m\u001b[0;34m\u001b[0m\u001b[0m\n\u001b[1;32m      5\u001b[0m )\n",
            "\u001b[0;32m/usr/local/lib/python3.6/dist-packages/tensorflow/python/keras/engine/training.py\u001b[0m in \u001b[0;36m_method_wrapper\u001b[0;34m(self, *args, **kwargs)\u001b[0m\n\u001b[1;32m    106\u001b[0m   \u001b[0;32mdef\u001b[0m \u001b[0m_method_wrapper\u001b[0m\u001b[0;34m(\u001b[0m\u001b[0mself\u001b[0m\u001b[0;34m,\u001b[0m \u001b[0;34m*\u001b[0m\u001b[0margs\u001b[0m\u001b[0;34m,\u001b[0m \u001b[0;34m**\u001b[0m\u001b[0mkwargs\u001b[0m\u001b[0;34m)\u001b[0m\u001b[0;34m:\u001b[0m\u001b[0;34m\u001b[0m\u001b[0;34m\u001b[0m\u001b[0m\n\u001b[1;32m    107\u001b[0m     \u001b[0;32mif\u001b[0m \u001b[0;32mnot\u001b[0m \u001b[0mself\u001b[0m\u001b[0;34m.\u001b[0m\u001b[0m_in_multi_worker_mode\u001b[0m\u001b[0;34m(\u001b[0m\u001b[0;34m)\u001b[0m\u001b[0;34m:\u001b[0m  \u001b[0;31m# pylint: disable=protected-access\u001b[0m\u001b[0;34m\u001b[0m\u001b[0;34m\u001b[0m\u001b[0m\n\u001b[0;32m--> 108\u001b[0;31m       \u001b[0;32mreturn\u001b[0m \u001b[0mmethod\u001b[0m\u001b[0;34m(\u001b[0m\u001b[0mself\u001b[0m\u001b[0;34m,\u001b[0m \u001b[0;34m*\u001b[0m\u001b[0margs\u001b[0m\u001b[0;34m,\u001b[0m \u001b[0;34m**\u001b[0m\u001b[0mkwargs\u001b[0m\u001b[0;34m)\u001b[0m\u001b[0;34m\u001b[0m\u001b[0;34m\u001b[0m\u001b[0m\n\u001b[0m\u001b[1;32m    109\u001b[0m \u001b[0;34m\u001b[0m\u001b[0m\n\u001b[1;32m    110\u001b[0m     \u001b[0;31m# Running inside `run_distribute_coordinator` already.\u001b[0m\u001b[0;34m\u001b[0m\u001b[0;34m\u001b[0m\u001b[0;34m\u001b[0m\u001b[0m\n",
            "\u001b[0;32m/usr/local/lib/python3.6/dist-packages/tensorflow/python/keras/engine/training.py\u001b[0m in \u001b[0;36mfit\u001b[0;34m(self, x, y, batch_size, epochs, verbose, callbacks, validation_split, validation_data, shuffle, class_weight, sample_weight, initial_epoch, steps_per_epoch, validation_steps, validation_batch_size, validation_freq, max_queue_size, workers, use_multiprocessing)\u001b[0m\n\u001b[1;32m   1096\u001b[0m                 batch_size=batch_size):\n\u001b[1;32m   1097\u001b[0m               \u001b[0mcallbacks\u001b[0m\u001b[0;34m.\u001b[0m\u001b[0mon_train_batch_begin\u001b[0m\u001b[0;34m(\u001b[0m\u001b[0mstep\u001b[0m\u001b[0;34m)\u001b[0m\u001b[0;34m\u001b[0m\u001b[0;34m\u001b[0m\u001b[0m\n\u001b[0;32m-> 1098\u001b[0;31m               \u001b[0mtmp_logs\u001b[0m \u001b[0;34m=\u001b[0m \u001b[0mtrain_function\u001b[0m\u001b[0;34m(\u001b[0m\u001b[0miterator\u001b[0m\u001b[0;34m)\u001b[0m\u001b[0;34m\u001b[0m\u001b[0;34m\u001b[0m\u001b[0m\n\u001b[0m\u001b[1;32m   1099\u001b[0m               \u001b[0;32mif\u001b[0m \u001b[0mdata_handler\u001b[0m\u001b[0;34m.\u001b[0m\u001b[0mshould_sync\u001b[0m\u001b[0;34m:\u001b[0m\u001b[0;34m\u001b[0m\u001b[0;34m\u001b[0m\u001b[0m\n\u001b[1;32m   1100\u001b[0m                 \u001b[0mcontext\u001b[0m\u001b[0;34m.\u001b[0m\u001b[0masync_wait\u001b[0m\u001b[0;34m(\u001b[0m\u001b[0;34m)\u001b[0m\u001b[0;34m\u001b[0m\u001b[0;34m\u001b[0m\u001b[0m\n",
            "\u001b[0;32m/usr/local/lib/python3.6/dist-packages/tensorflow/python/eager/def_function.py\u001b[0m in \u001b[0;36m__call__\u001b[0;34m(self, *args, **kwds)\u001b[0m\n\u001b[1;32m    778\u001b[0m       \u001b[0;32melse\u001b[0m\u001b[0;34m:\u001b[0m\u001b[0;34m\u001b[0m\u001b[0;34m\u001b[0m\u001b[0m\n\u001b[1;32m    779\u001b[0m         \u001b[0mcompiler\u001b[0m \u001b[0;34m=\u001b[0m \u001b[0;34m\"nonXla\"\u001b[0m\u001b[0;34m\u001b[0m\u001b[0;34m\u001b[0m\u001b[0m\n\u001b[0;32m--> 780\u001b[0;31m         \u001b[0mresult\u001b[0m \u001b[0;34m=\u001b[0m \u001b[0mself\u001b[0m\u001b[0;34m.\u001b[0m\u001b[0m_call\u001b[0m\u001b[0;34m(\u001b[0m\u001b[0;34m*\u001b[0m\u001b[0margs\u001b[0m\u001b[0;34m,\u001b[0m \u001b[0;34m**\u001b[0m\u001b[0mkwds\u001b[0m\u001b[0;34m)\u001b[0m\u001b[0;34m\u001b[0m\u001b[0;34m\u001b[0m\u001b[0m\n\u001b[0m\u001b[1;32m    781\u001b[0m \u001b[0;34m\u001b[0m\u001b[0m\n\u001b[1;32m    782\u001b[0m       \u001b[0mnew_tracing_count\u001b[0m \u001b[0;34m=\u001b[0m \u001b[0mself\u001b[0m\u001b[0;34m.\u001b[0m\u001b[0m_get_tracing_count\u001b[0m\u001b[0;34m(\u001b[0m\u001b[0;34m)\u001b[0m\u001b[0;34m\u001b[0m\u001b[0;34m\u001b[0m\u001b[0m\n",
            "\u001b[0;32m/usr/local/lib/python3.6/dist-packages/tensorflow/python/eager/def_function.py\u001b[0m in \u001b[0;36m_call\u001b[0;34m(self, *args, **kwds)\u001b[0m\n\u001b[1;32m    805\u001b[0m       \u001b[0;31m# In this case we have created variables on the first call, so we run the\u001b[0m\u001b[0;34m\u001b[0m\u001b[0;34m\u001b[0m\u001b[0;34m\u001b[0m\u001b[0m\n\u001b[1;32m    806\u001b[0m       \u001b[0;31m# defunned version which is guaranteed to never create variables.\u001b[0m\u001b[0;34m\u001b[0m\u001b[0;34m\u001b[0m\u001b[0;34m\u001b[0m\u001b[0m\n\u001b[0;32m--> 807\u001b[0;31m       \u001b[0;32mreturn\u001b[0m \u001b[0mself\u001b[0m\u001b[0;34m.\u001b[0m\u001b[0m_stateless_fn\u001b[0m\u001b[0;34m(\u001b[0m\u001b[0;34m*\u001b[0m\u001b[0margs\u001b[0m\u001b[0;34m,\u001b[0m \u001b[0;34m**\u001b[0m\u001b[0mkwds\u001b[0m\u001b[0;34m)\u001b[0m  \u001b[0;31m# pylint: disable=not-callable\u001b[0m\u001b[0;34m\u001b[0m\u001b[0;34m\u001b[0m\u001b[0m\n\u001b[0m\u001b[1;32m    808\u001b[0m     \u001b[0;32melif\u001b[0m \u001b[0mself\u001b[0m\u001b[0;34m.\u001b[0m\u001b[0m_stateful_fn\u001b[0m \u001b[0;32mis\u001b[0m \u001b[0;32mnot\u001b[0m \u001b[0;32mNone\u001b[0m\u001b[0;34m:\u001b[0m\u001b[0;34m\u001b[0m\u001b[0;34m\u001b[0m\u001b[0m\n\u001b[1;32m    809\u001b[0m       \u001b[0;31m# Release the lock early so that multiple threads can perform the call\u001b[0m\u001b[0;34m\u001b[0m\u001b[0;34m\u001b[0m\u001b[0;34m\u001b[0m\u001b[0m\n",
            "\u001b[0;31mTypeError\u001b[0m: 'NoneType' object is not callable"
          ]
        }
      ]
    },
    {
      "cell_type": "code",
      "metadata": {
        "colab": {
          "base_uri": "https://localhost:8080/"
        },
        "id": "Bp3MUKkzl8Xq",
        "outputId": "dbef5a8d-40b1-4083-fcf2-bf5f345201b7"
      },
      "source": [
        "# The model is trained.\r\n",
        "r = model.fit(\r\n",
        "    x=a,\r\n",
        "    batch_size=BATCH_SIZE,\r\n",
        "    epochs=EPOCHS,\r\n",
        "    # validation_split=0.2,\r\n",
        ")"
      ],
      "execution_count": null,
      "outputs": [
        {
          "output_type": "stream",
          "text": [
            "Epoch 1/20\n",
            "156/156 [==============================] - 12s 75ms/step - loss: 1.8340 - accuracy: 0.7254\n",
            "Epoch 2/20\n",
            "156/156 [==============================] - 12s 76ms/step - loss: 1.7728 - accuracy: 0.7310\n",
            "Epoch 3/20\n",
            "156/156 [==============================] - 12s 76ms/step - loss: 1.7237 - accuracy: 0.7356\n",
            "Epoch 4/20\n",
            "156/156 [==============================] - 12s 76ms/step - loss: 1.6878 - accuracy: 0.7382\n",
            "Epoch 5/20\n",
            "156/156 [==============================] - 12s 76ms/step - loss: 1.6566 - accuracy: 0.7401\n",
            "Epoch 6/20\n",
            "156/156 [==============================] - 12s 75ms/step - loss: 1.6286 - accuracy: 0.7416\n",
            "Epoch 7/20\n",
            "156/156 [==============================] - 12s 76ms/step - loss: 1.6023 - accuracy: 0.7433\n",
            "Epoch 8/20\n",
            "156/156 [==============================] - 12s 75ms/step - loss: 1.5767 - accuracy: 0.7448\n",
            "Epoch 9/20\n",
            "156/156 [==============================] - 12s 77ms/step - loss: 1.5519 - accuracy: 0.7463\n",
            "Epoch 10/20\n",
            "156/156 [==============================] - 12s 77ms/step - loss: 1.5262 - accuracy: 0.7480\n",
            "Epoch 11/20\n",
            "156/156 [==============================] - 12s 77ms/step - loss: 1.5001 - accuracy: 0.7496\n",
            "Epoch 12/20\n",
            "156/156 [==============================] - 12s 76ms/step - loss: 1.4742 - accuracy: 0.7513\n",
            "Epoch 13/20\n",
            "156/156 [==============================] - 12s 77ms/step - loss: 1.4467 - accuracy: 0.7535\n",
            "Epoch 14/20\n",
            "156/156 [==============================] - 12s 78ms/step - loss: 1.4193 - accuracy: 0.7553\n",
            "Epoch 15/20\n",
            "156/156 [==============================] - 12s 76ms/step - loss: 1.3915 - accuracy: 0.7574\n",
            "Epoch 16/20\n",
            "156/156 [==============================] - 12s 77ms/step - loss: 1.3638 - accuracy: 0.7597\n",
            "Epoch 17/20\n",
            "156/156 [==============================] - 12s 77ms/step - loss: 1.3352 - accuracy: 0.7626\n",
            "Epoch 18/20\n",
            "156/156 [==============================] - 12s 77ms/step - loss: 1.3069 - accuracy: 0.7654\n",
            "Epoch 19/20\n",
            "156/156 [==============================] - 12s 77ms/step - loss: 1.2783 - accuracy: 0.7683\n",
            "Epoch 20/20\n",
            "156/156 [==============================] - 12s 78ms/step - loss: 1.2505 - accuracy: 0.7713\n"
          ],
          "name": "stdout"
        }
      ]
    },
    {
      "cell_type": "code",
      "metadata": {
        "colab": {
          "base_uri": "https://localhost:8080/"
        },
        "id": "P4upXshJ_jw-",
        "outputId": "47d29c72-6b32-4f1f-fed6-bdd0ca4b6c75"
      },
      "source": [
        "# The model is trained.\n",
        "r = model.fit(\n",
        "    [encoder_input_sequences, decoder_input_sequences],\n",
        "    decoder_targets_one_hot,\n",
        "    batch_size=BATCH_SIZE,\n",
        "    epochs=EPOCHS,\n",
        "    validation_split=0.2,\n",
        ")"
      ],
      "execution_count": null,
      "outputs": [
        {
          "output_type": "stream",
          "text": [
            "Epoch 1/20\n",
            "125/125 [==============================] - 11s 90ms/step - loss: 2.2361 - accuracy: 0.7057 - val_loss: 1.8554 - val_accuracy: 0.7257\n",
            "Epoch 2/20\n",
            "125/125 [==============================] - 11s 85ms/step - loss: 1.8481 - accuracy: 0.7246 - val_loss: 1.8161 - val_accuracy: 0.7279\n",
            "Epoch 3/20\n",
            "125/125 [==============================] - 11s 84ms/step - loss: 1.7931 - accuracy: 0.7282 - val_loss: 1.7757 - val_accuracy: 0.7328\n",
            "Epoch 4/20\n",
            "125/125 [==============================] - 10s 84ms/step - loss: 1.7442 - accuracy: 0.7332 - val_loss: 1.7476 - val_accuracy: 0.7358\n",
            "Epoch 5/20\n",
            "125/125 [==============================] - 11s 84ms/step - loss: 1.7053 - accuracy: 0.7360 - val_loss: 1.7268 - val_accuracy: 0.7380\n",
            "Epoch 6/20\n",
            "125/125 [==============================] - 10s 84ms/step - loss: 1.6725 - accuracy: 0.7381 - val_loss: 1.7146 - val_accuracy: 0.7392\n",
            "Epoch 7/20\n",
            "125/125 [==============================] - 10s 83ms/step - loss: 1.6429 - accuracy: 0.7399 - val_loss: 1.7078 - val_accuracy: 0.7396\n",
            "Epoch 8/20\n",
            "125/125 [==============================] - 10s 84ms/step - loss: 1.6152 - accuracy: 0.7414 - val_loss: 1.7037 - val_accuracy: 0.7400\n",
            "Epoch 9/20\n",
            "125/125 [==============================] - 10s 84ms/step - loss: 1.5878 - accuracy: 0.7430 - val_loss: 1.7005 - val_accuracy: 0.7409\n",
            "Epoch 10/20\n",
            "125/125 [==============================] - 10s 84ms/step - loss: 1.5615 - accuracy: 0.7443 - val_loss: 1.7014 - val_accuracy: 0.7406\n",
            "Epoch 11/20\n",
            "125/125 [==============================] - 10s 83ms/step - loss: 1.5355 - accuracy: 0.7457 - val_loss: 1.7026 - val_accuracy: 0.7408\n",
            "Epoch 12/20\n",
            "125/125 [==============================] - 10s 83ms/step - loss: 1.5084 - accuracy: 0.7474 - val_loss: 1.7042 - val_accuracy: 0.7406\n",
            "Epoch 13/20\n",
            "125/125 [==============================] - 10s 83ms/step - loss: 1.4812 - accuracy: 0.7491 - val_loss: 1.7101 - val_accuracy: 0.7401\n",
            "Epoch 14/20\n",
            "125/125 [==============================] - 10s 84ms/step - loss: 1.4536 - accuracy: 0.7508 - val_loss: 1.7153 - val_accuracy: 0.7408\n",
            "Epoch 15/20\n",
            "125/125 [==============================] - 10s 84ms/step - loss: 1.4265 - accuracy: 0.7528 - val_loss: 1.7217 - val_accuracy: 0.7401\n",
            "Epoch 16/20\n",
            "125/125 [==============================] - 10s 84ms/step - loss: 1.3978 - accuracy: 0.7548 - val_loss: 1.7293 - val_accuracy: 0.7398\n",
            "Epoch 17/20\n",
            "125/125 [==============================] - 11s 85ms/step - loss: 1.3685 - accuracy: 0.7571 - val_loss: 1.7368 - val_accuracy: 0.7388\n",
            "Epoch 18/20\n",
            "125/125 [==============================] - 10s 83ms/step - loss: 1.3398 - accuracy: 0.7593 - val_loss: 1.7454 - val_accuracy: 0.7388\n",
            "Epoch 19/20\n",
            "125/125 [==============================] - 11s 85ms/step - loss: 1.3112 - accuracy: 0.7618 - val_loss: 1.7595 - val_accuracy: 0.7387\n",
            "Epoch 20/20\n",
            "125/125 [==============================] - 10s 84ms/step - loss: 1.2824 - accuracy: 0.7644 - val_loss: 1.7696 - val_accuracy: 0.7379\n"
          ],
          "name": "stdout"
        }
      ]
    },
    {
      "cell_type": "markdown",
      "metadata": {
        "id": "jHNsJMdD5mDE"
      },
      "source": [
        "### Modifying the model for predictions\n",
        "In the following section the model is changed for predictions. The output sentence is predicted word by word. At every step the an output word will be predicted based on the results of the previous prediction"
      ]
    },
    {
      "cell_type": "code",
      "metadata": {
        "id": "vMEvGg3mBdXQ"
      },
      "source": [
        "# Encoder model is the same as last time.\n",
        "encoder_model = Model(encoder_inputs_placeholder, encoder_states)"
      ],
      "execution_count": 118,
      "outputs": []
    },
    {
      "cell_type": "code",
      "metadata": {
        "id": "Ya9E-80cC6_W"
      },
      "source": [
        "# Input layers receive the hidden and cell states of the decoder. \n",
        "decoder_state_input_h = Input(shape=(LSTM_NODES,))\n",
        "decoder_state_input_c = Input(shape=(LSTM_NODES,))\n",
        "decoder_states_inputs = [decoder_state_input_h, decoder_state_input_c]"
      ],
      "execution_count": 119,
      "outputs": []
    },
    {
      "cell_type": "code",
      "metadata": {
        "id": "KJk3ObGGC9J0"
      },
      "source": [
        "# At each step the decoder will receive one word.\n",
        "# Decoder embedding layer is modified.\n",
        "decoder_inputs_single = Input(shape=(1,))\n",
        "decoder_inputs_single_x = decoder_embedding(decoder_inputs_single)"
      ],
      "execution_count": 120,
      "outputs": []
    },
    {
      "cell_type": "code",
      "metadata": {
        "id": "kdz9LX41C9sI"
      },
      "source": [
        "# Placeholder for decoder outputs\n",
        "decoder_outputs, h, c = decoder_lstm(decoder_inputs_single_x, initial_state=decoder_states_inputs)"
      ],
      "execution_count": 121,
      "outputs": []
    },
    {
      "cell_type": "code",
      "metadata": {
        "id": "Nb8AxvELDBPx"
      },
      "source": [
        "# The decoder output is passed through a dense layer. \n",
        "decoder_states = [h, c]\n",
        "decoder_outputs = decoder_dense(decoder_outputs)"
      ],
      "execution_count": 122,
      "outputs": []
    },
    {
      "cell_type": "code",
      "metadata": {
        "id": "wE4MiBbjDDKz"
      },
      "source": [
        "# Decoder model definition\n",
        "decoder_model = Model(\n",
        "    [decoder_inputs_single] + decoder_states_inputs,\n",
        "    [decoder_outputs] + decoder_states\n",
        ")"
      ],
      "execution_count": 123,
      "outputs": []
    },
    {
      "cell_type": "code",
      "metadata": {
        "colab": {
          "base_uri": "https://localhost:8080/",
          "height": 312
        },
        "id": "7SA9hGKVHHvY",
        "outputId": "ebfd4483-fe55-4d0c-c828-e4e1eaac3239"
      },
      "source": [
        "# Plot the decoder LSTM\r\n",
        "from keras.utils import plot_model\r\n",
        "plot_model(encoder_model, to_file='model_plot_dec.png', show_shapes=True, show_layer_names=True)"
      ],
      "execution_count": 124,
      "outputs": [
        {
          "output_type": "execute_result",
          "data": {
            "image/png": "[encoded data removed]",
            "text/plain": [
              "<IPython.core.display.Image object>"
            ]
          },
          "metadata": {
            "tags": []
          },
          "execution_count": 124
        }
      ]
    },
    {
      "cell_type": "code",
      "metadata": {
        "colab": {
          "base_uri": "https://localhost:8080/",
          "height": 422
        },
        "id": "-MR8DiB7DFc_",
        "outputId": "29d6d5fe-bacf-49d0-957f-abf2553bef5c"
      },
      "source": [
        "# Plot the decoder LSTM\n",
        "from keras.utils import plot_model\n",
        "plot_model(decoder_model, to_file='model_plot_dec.png', show_shapes=True, show_layer_names=True)"
      ],
      "execution_count": 125,
      "outputs": [
        {
          "output_type": "execute_result",
          "data": {
            "image/png": "[encoded data removed]",
            "text/plain": [
              "<IPython.core.display.Image object>"
            ]
          },
          "metadata": {
            "tags": []
          },
          "execution_count": 125
        }
      ]
    },
    {
      "cell_type": "code",
      "metadata": {
        "id": "i7t42dCwDdzh"
      },
      "source": [
        "# Dictionaries for input and ouput\n",
        "# They help converting the integers back to words.\n",
        "idx2word_input = {v:k for k, v in word2idx_inputs.items()}\n",
        "idx2word_target = {v:k for k, v in word2idx_outputs.items()}"
      ],
      "execution_count": 126,
      "outputs": []
    },
    {
      "cell_type": "code",
      "metadata": {
        "id": "BxhRbRdYDhc7"
      },
      "source": [
        "# Predicts the answer for an input sentence.\n",
        "def answer_sentence(input_seq):\n",
        "    # The encoder model predicts the hidden and cell state.\n",
        "    states_value = encoder_model.predict(input_seq)\n",
        "    # Target stores the integer representation of <sos>\n",
        "    target_seq = np.zeros((1, 1))\n",
        "    target_seq[0, 0] = word2idx_outputs['<sos>']\n",
        "    # Eos stores the integer representation of <eos>\n",
        "    eos = word2idx_outputs['<eos>']\n",
        "    # Stores the response\n",
        "    output_sentence = []\n",
        "\n",
        "    # Every iteration a word of the output sentence is predicted.\n",
        "    for _ in range(max_out_len):\n",
        "        # The output, the hidden and cell states are predicted.\n",
        "        output_tokens, h, c = decoder_model.predict([target_seq] + states_value)\n",
        "        # The most probable word is selected.\n",
        "        idx = np.argmax(output_tokens[0, 0, :])\n",
        "        # If the word is <eos>, the loop ends.\n",
        "        if eos == idx:\n",
        "            break\n",
        "\n",
        "        word = ''\n",
        "        # The token is converted to a word and added to the output sentence\n",
        "        if idx > 0:\n",
        "            word = idx2word_target[idx]\n",
        "            output_sentence.append(word)\n",
        "        # Target_eq and states_value are refreshed.\n",
        "        target_seq[0, 0] = idx\n",
        "        states_value = [h, c]\n",
        "\n",
        "    return ' '.join(output_sentence)"
      ],
      "execution_count": 128,
      "outputs": []
    },
    {
      "cell_type": "markdown",
      "metadata": {
        "id": "r6I9HUDM-EBb"
      },
      "source": [
        "### Save model\n",
        "This section saves and download the model. The saved model was too large for github, it is available as a [google drive](https://drive.google.com/file/d/1mpYifGZ_TLrer6ZgRtNKO25xSuMOPi1u/view?usp=sharing) link."
      ]
    },
    {
      "cell_type": "code",
      "metadata": {
        "colab": {
          "base_uri": "https://localhost:8080/"
        },
        "id": "BmzPtmgqGHrd",
        "outputId": "d52e21ce-2aa4-4beb-f21b-8794b92a0056"
      },
      "source": [
        "# save model\n",
        "model.save('model_2')"
      ],
      "execution_count": null,
      "outputs": [
        {
          "output_type": "stream",
          "text": [
            "WARNING:tensorflow:From /usr/local/lib/python3.6/dist-packages/tensorflow/python/training/tracking/tracking.py:111: Model.state_updates (from tensorflow.python.keras.engine.training) is deprecated and will be removed in a future version.\n",
            "Instructions for updating:\n",
            "This property should not be used in TensorFlow 2.0, as updates are applied automatically.\n",
            "WARNING:tensorflow:From /usr/local/lib/python3.6/dist-packages/tensorflow/python/training/tracking/tracking.py:111: Layer.updates (from tensorflow.python.keras.engine.base_layer) is deprecated and will be removed in a future version.\n",
            "Instructions for updating:\n",
            "This property should not be used in TensorFlow 2.0, as updates are applied automatically.\n",
            "INFO:tensorflow:Assets written to: model_2/assets\n"
          ],
          "name": "stdout"
        }
      ]
    },
    {
      "cell_type": "code",
      "metadata": {
        "colab": {
          "base_uri": "https://localhost:8080/"
        },
        "id": "1wq5uZwCG8h2",
        "outputId": "dccb9065-e258-4654-8ddb-d12666c2c6dc"
      },
      "source": [
        "# zip saved model\n",
        "!zip -r model_2.zip model_2"
      ],
      "execution_count": null,
      "outputs": [
        {
          "output_type": "stream",
          "text": [
            "  adding: model_2/ (stored 0%)\n",
            "  adding: model_2/assets/ (stored 0%)\n",
            "  adding: model_2/saved_model.pb (deflated 90%)\n",
            "  adding: model_2/variables/ (stored 0%)\n",
            "  adding: model_2/variables/variables.data-00000-of-00001 (deflated 7%)\n",
            "  adding: model_2/variables/variables.index (deflated 64%)\n"
          ],
          "name": "stdout"
        }
      ]
    },
    {
      "cell_type": "code",
      "metadata": {
        "colab": {
          "base_uri": "https://localhost:8080/",
          "height": 34
        },
        "id": "Obm4qbiHG-z_",
        "outputId": "138b38f2-1a3b-4f54-b14a-fb0f754f7826"
      },
      "source": [
        "# download saved model\n",
        "from google.colab import files\n",
        "files.download('model_1.zip')"
      ],
      "execution_count": null,
      "outputs": [
        {
          "output_type": "display_data",
          "data": {
            "application/javascript": [
              "\n",
              "    async function download(id, filename, size) {\n",
              "      if (!google.colab.kernel.accessAllowed) {\n",
              "        return;\n",
              "      }\n",
              "      const div = document.createElement('div');\n",
              "      const label = document.createElement('label');\n",
              "      label.textContent = `Downloading \"${filename}\": `;\n",
              "      div.appendChild(label);\n",
              "      const progress = document.createElement('progress');\n",
              "      progress.max = size;\n",
              "      div.appendChild(progress);\n",
              "      document.body.appendChild(div);\n",
              "\n",
              "      const buffers = [];\n",
              "      let downloaded = 0;\n",
              "\n",
              "      const channel = await google.colab.kernel.comms.open(id);\n",
              "      // Send a message to notify the kernel that we're ready.\n",
              "      channel.send({})\n",
              "\n",
              "      for await (const message of channel.messages) {\n",
              "        // Send a message to notify the kernel that we're ready.\n",
              "        channel.send({})\n",
              "        if (message.buffers) {\n",
              "          for (const buffer of message.buffers) {\n",
              "            buffers.push(buffer);\n",
              "            downloaded += buffer.byteLength;\n",
              "            progress.value = downloaded;\n",
              "          }\n",
              "        }\n",
              "      }\n",
              "      const blob = new Blob(buffers, {type: 'application/binary'});\n",
              "      const a = document.createElement('a');\n",
              "      a.href = window.URL.createObjectURL(blob);\n",
              "      a.download = filename;\n",
              "      div.appendChild(a);\n",
              "      a.click();\n",
              "      div.remove();\n",
              "    }\n",
              "  "
            ],
            "text/plain": [
              "<IPython.core.display.Javascript object>"
            ]
          },
          "metadata": {
            "tags": []
          }
        },
        {
          "output_type": "display_data",
          "data": {
            "application/javascript": [
              "download(\"download_95fcf218-95d5-410d-b33d-1ac19d75d4ef\", \"model_1.zip\", 29592038)"
            ],
            "text/plain": [
              "<IPython.core.display.Javascript object>"
            ]
          },
          "metadata": {
            "tags": []
          }
        }
      ]
    },
    {
      "cell_type": "code",
      "metadata": {
        "colab": {
          "base_uri": "https://localhost:8080/"
        },
        "id": "oG7KjRxPgm-b",
        "outputId": "f84430d3-15db-457d-c842-585efee92eb6"
      },
      "source": [
        "# zip saved model\n",
        "!zip -r output.zip output\n"
      ],
      "execution_count": null,
      "outputs": [
        {
          "output_type": "stream",
          "text": [
            "  adding: output/ (stored 0%)\n",
            "  adding: output/Chatbot_hyperband/ (stored 0%)\n",
            "  adding: output/Chatbot_hyperband/trial_9c971e2c3189ac58d226c86be9e7137b/ (stored 0%)\n",
            "  adding: output/Chatbot_hyperband/trial_9c971e2c3189ac58d226c86be9e7137b/checkpoints/ (stored 0%)\n",
            "  adding: output/Chatbot_hyperband/trial_9c971e2c3189ac58d226c86be9e7137b/checkpoints/epoch_0/ (stored 0%)\n",
            "  adding: output/Chatbot_hyperband/trial_9c971e2c3189ac58d226c86be9e7137b/checkpoints/epoch_0/checkpoint.index (deflated 69%)\n",
            "  adding: output/Chatbot_hyperband/trial_9c971e2c3189ac58d226c86be9e7137b/checkpoints/epoch_0/checkpoint (deflated 48%)\n",
            "  adding: output/Chatbot_hyperband/trial_9c971e2c3189ac58d226c86be9e7137b/checkpoints/epoch_0/checkpoint.data-00000-of-00001 (deflated 15%)\n",
            "  adding: output/Chatbot_hyperband/trial_9c971e2c3189ac58d226c86be9e7137b/trial.json (deflated 62%)\n",
            "  adding: output/Chatbot_hyperband/trial_a331379b7aa8a2df7f5b5e190b0679fa/ (stored 0%)\n",
            "  adding: output/Chatbot_hyperband/trial_a331379b7aa8a2df7f5b5e190b0679fa/checkpoints/ (stored 0%)\n",
            "  adding: output/Chatbot_hyperband/trial_a331379b7aa8a2df7f5b5e190b0679fa/checkpoints/epoch_0/ (stored 0%)\n",
            "  adding: output/Chatbot_hyperband/trial_a331379b7aa8a2df7f5b5e190b0679fa/checkpoints/epoch_0/checkpoint.index (deflated 66%)\n",
            "  adding: output/Chatbot_hyperband/trial_a331379b7aa8a2df7f5b5e190b0679fa/checkpoints/epoch_0/checkpoint (deflated 48%)\n",
            "  adding: output/Chatbot_hyperband/trial_a331379b7aa8a2df7f5b5e190b0679fa/checkpoints/epoch_0/checkpoint.data-00000-of-00001 (deflated 9%)\n",
            "  adding: output/Chatbot_hyperband/trial_a331379b7aa8a2df7f5b5e190b0679fa/trial.json (deflated 62%)\n",
            "  adding: output/Chatbot_hyperband/trial_0b28fc989da146840cc84ebc0d75a29b/ (stored 0%)\n",
            "  adding: output/Chatbot_hyperband/trial_0b28fc989da146840cc84ebc0d75a29b/checkpoints/ (stored 0%)\n",
            "  adding: output/Chatbot_hyperband/trial_0b28fc989da146840cc84ebc0d75a29b/checkpoints/epoch_0/ (stored 0%)\n",
            "  adding: output/Chatbot_hyperband/trial_0b28fc989da146840cc84ebc0d75a29b/checkpoints/epoch_0/checkpoint.index (deflated 55%)\n",
            "  adding: output/Chatbot_hyperband/trial_0b28fc989da146840cc84ebc0d75a29b/checkpoints/epoch_0/checkpoint (deflated 48%)\n",
            "  adding: output/Chatbot_hyperband/trial_0b28fc989da146840cc84ebc0d75a29b/checkpoints/epoch_0/checkpoint.data-00000-of-00001 (deflated 8%)\n",
            "  adding: output/Chatbot_hyperband/trial_0b28fc989da146840cc84ebc0d75a29b/trial.json (deflated 62%)\n",
            "  adding: output/Chatbot_hyperband/trial_3520464fef6e74138cc4daee1b31c1df/ (stored 0%)\n",
            "  adding: output/Chatbot_hyperband/trial_3520464fef6e74138cc4daee1b31c1df/checkpoints/ (stored 0%)\n",
            "  adding: output/Chatbot_hyperband/trial_3520464fef6e74138cc4daee1b31c1df/checkpoints/epoch_0/ (stored 0%)\n",
            "  adding: output/Chatbot_hyperband/trial_3520464fef6e74138cc4daee1b31c1df/checkpoints/epoch_0/checkpoint.index (deflated 66%)\n",
            "  adding: output/Chatbot_hyperband/trial_3520464fef6e74138cc4daee1b31c1df/checkpoints/epoch_0/checkpoint (deflated 48%)\n",
            "  adding: output/Chatbot_hyperband/trial_3520464fef6e74138cc4daee1b31c1df/checkpoints/epoch_0/checkpoint.data-00000-of-00001 (deflated 9%)\n",
            "  adding: output/Chatbot_hyperband/trial_3520464fef6e74138cc4daee1b31c1df/trial.json (deflated 61%)\n",
            "  adding: output/Chatbot_hyperband/trial_a1ca0ab706aa253cc1682c99e6dfb3ce/ (stored 0%)\n",
            "  adding: output/Chatbot_hyperband/trial_a1ca0ab706aa253cc1682c99e6dfb3ce/checkpoints/ (stored 0%)\n",
            "  adding: output/Chatbot_hyperband/trial_a1ca0ab706aa253cc1682c99e6dfb3ce/checkpoints/epoch_0/ (stored 0%)\n",
            "  adding: output/Chatbot_hyperband/trial_a1ca0ab706aa253cc1682c99e6dfb3ce/checkpoints/epoch_0/checkpoint.index (deflated 65%)\n",
            "  adding: output/Chatbot_hyperband/trial_a1ca0ab706aa253cc1682c99e6dfb3ce/checkpoints/epoch_0/checkpoint (deflated 48%)\n",
            "  adding: output/Chatbot_hyperband/trial_a1ca0ab706aa253cc1682c99e6dfb3ce/checkpoints/epoch_0/checkpoint.data-00000-of-00001 (deflated 7%)\n",
            "  adding: output/Chatbot_hyperband/trial_a1ca0ab706aa253cc1682c99e6dfb3ce/trial.json (deflated 62%)\n",
            "  adding: output/Chatbot_hyperband/trial_91bdbf90142e4387540338b4e2a56099/ (stored 0%)\n",
            "  adding: output/Chatbot_hyperband/trial_91bdbf90142e4387540338b4e2a56099/checkpoints/ (stored 0%)\n",
            "  adding: output/Chatbot_hyperband/trial_91bdbf90142e4387540338b4e2a56099/checkpoints/epoch_0/ (stored 0%)\n",
            "  adding: output/Chatbot_hyperband/trial_91bdbf90142e4387540338b4e2a56099/checkpoints/epoch_0/checkpoint.index (deflated 66%)\n",
            "  adding: output/Chatbot_hyperband/trial_91bdbf90142e4387540338b4e2a56099/checkpoints/epoch_0/checkpoint (deflated 48%)\n",
            "  adding: output/Chatbot_hyperband/trial_91bdbf90142e4387540338b4e2a56099/checkpoints/epoch_0/checkpoint.data-00000-of-00001 (deflated 7%)\n",
            "  adding: output/Chatbot_hyperband/trial_91bdbf90142e4387540338b4e2a56099/trial.json (deflated 62%)\n",
            "  adding: output/Chatbot_hyperband/trial_048298ed2f629b5ba24172ab258bda29/ (stored 0%)\n",
            "  adding: output/Chatbot_hyperband/trial_048298ed2f629b5ba24172ab258bda29/checkpoints/ (stored 0%)\n",
            "  adding: output/Chatbot_hyperband/trial_048298ed2f629b5ba24172ab258bda29/checkpoints/epoch_0/ (stored 0%)\n",
            "  adding: output/Chatbot_hyperband/trial_048298ed2f629b5ba24172ab258bda29/checkpoints/epoch_0/checkpoint.index (deflated 67%)\n",
            "  adding: output/Chatbot_hyperband/trial_048298ed2f629b5ba24172ab258bda29/checkpoints/epoch_0/checkpoint (deflated 48%)\n",
            "  adding: output/Chatbot_hyperband/trial_048298ed2f629b5ba24172ab258bda29/checkpoints/epoch_0/checkpoint.data-00000-of-00001 (deflated 7%)\n",
            "  adding: output/Chatbot_hyperband/trial_048298ed2f629b5ba24172ab258bda29/trial.json (deflated 62%)\n",
            "  adding: output/Chatbot_hyperband/trial_32e0b2bdd180f859c36ccabc49b8c3db/ (stored 0%)\n",
            "  adding: output/Chatbot_hyperband/trial_32e0b2bdd180f859c36ccabc49b8c3db/checkpoints/ (stored 0%)\n",
            "  adding: output/Chatbot_hyperband/trial_32e0b2bdd180f859c36ccabc49b8c3db/checkpoints/epoch_0/ (stored 0%)\n",
            "  adding: output/Chatbot_hyperband/trial_32e0b2bdd180f859c36ccabc49b8c3db/checkpoints/epoch_0/checkpoint.index (deflated 55%)\n",
            "  adding: output/Chatbot_hyperband/trial_32e0b2bdd180f859c36ccabc49b8c3db/checkpoints/epoch_0/checkpoint (deflated 48%)\n",
            "  adding: output/Chatbot_hyperband/trial_32e0b2bdd180f859c36ccabc49b8c3db/checkpoints/epoch_0/checkpoint.data-00000-of-00001 (deflated 8%)\n",
            "  adding: output/Chatbot_hyperband/trial_32e0b2bdd180f859c36ccabc49b8c3db/trial.json (deflated 62%)\n",
            "  adding: output/Chatbot_hyperband/trial_43277f430d8d863d56b19e804ece9ee3/ (stored 0%)\n",
            "  adding: output/Chatbot_hyperband/trial_43277f430d8d863d56b19e804ece9ee3/checkpoints/ (stored 0%)\n",
            "  adding: output/Chatbot_hyperband/trial_43277f430d8d863d56b19e804ece9ee3/checkpoints/epoch_0/ (stored 0%)\n",
            "  adding: output/Chatbot_hyperband/trial_43277f430d8d863d56b19e804ece9ee3/checkpoints/epoch_0/checkpoint.index (deflated 58%)\n",
            "  adding: output/Chatbot_hyperband/trial_43277f430d8d863d56b19e804ece9ee3/checkpoints/epoch_0/checkpoint (deflated 48%)\n",
            "  adding: output/Chatbot_hyperband/trial_43277f430d8d863d56b19e804ece9ee3/checkpoints/epoch_0/checkpoint.data-00000-of-00001 (deflated 8%)\n",
            "  adding: output/Chatbot_hyperband/trial_43277f430d8d863d56b19e804ece9ee3/trial.json (deflated 62%)\n",
            "  adding: output/Chatbot_hyperband/tuner0.json (stored 0%)\n",
            "  adding: output/Chatbot_hyperband/trial_fbb32bb5ed7ffa9cd241f96793331907/ (stored 0%)\n",
            "  adding: output/Chatbot_hyperband/trial_fbb32bb5ed7ffa9cd241f96793331907/checkpoints/ (stored 0%)\n",
            "  adding: output/Chatbot_hyperband/trial_fbb32bb5ed7ffa9cd241f96793331907/checkpoints/epoch_0/ (stored 0%)\n",
            "  adding: output/Chatbot_hyperband/trial_fbb32bb5ed7ffa9cd241f96793331907/checkpoints/epoch_0/checkpoint.index (deflated 67%)\n",
            "  adding: output/Chatbot_hyperband/trial_fbb32bb5ed7ffa9cd241f96793331907/checkpoints/epoch_0/checkpoint (deflated 48%)\n",
            "  adding: output/Chatbot_hyperband/trial_fbb32bb5ed7ffa9cd241f96793331907/checkpoints/epoch_0/checkpoint.data-00000-of-00001 (deflated 10%)\n",
            "  adding: output/Chatbot_hyperband/trial_fbb32bb5ed7ffa9cd241f96793331907/trial.json (deflated 62%)\n",
            "  adding: output/Chatbot_hyperband/trial_b194d98d0e589db3bac388c0d17d70ab/ (stored 0%)\n",
            "  adding: output/Chatbot_hyperband/trial_b194d98d0e589db3bac388c0d17d70ab/checkpoints/ (stored 0%)\n",
            "  adding: output/Chatbot_hyperband/trial_b194d98d0e589db3bac388c0d17d70ab/checkpoints/epoch_0/ (stored 0%)\n",
            "  adding: output/Chatbot_hyperband/trial_b194d98d0e589db3bac388c0d17d70ab/checkpoints/epoch_0/checkpoint.index (deflated 68%)\n",
            "  adding: output/Chatbot_hyperband/trial_b194d98d0e589db3bac388c0d17d70ab/checkpoints/epoch_0/checkpoint (deflated 48%)\n",
            "  adding: output/Chatbot_hyperband/trial_b194d98d0e589db3bac388c0d17d70ab/checkpoints/epoch_0/checkpoint.data-00000-of-00001 (deflated 8%)\n",
            "  adding: output/Chatbot_hyperband/trial_b194d98d0e589db3bac388c0d17d70ab/trial.json (deflated 62%)\n",
            "  adding: output/Chatbot_hyperband/trial_021601c32403b323532a11867906961b/ (stored 0%)\n",
            "  adding: output/Chatbot_hyperband/trial_021601c32403b323532a11867906961b/checkpoints/ (stored 0%)\n",
            "  adding: output/Chatbot_hyperband/trial_021601c32403b323532a11867906961b/checkpoints/epoch_0/ (stored 0%)\n",
            "  adding: output/Chatbot_hyperband/trial_021601c32403b323532a11867906961b/checkpoints/epoch_0/checkpoint.index (deflated 54%)\n",
            "  adding: output/Chatbot_hyperband/trial_021601c32403b323532a11867906961b/checkpoints/epoch_0/checkpoint (deflated 48%)\n",
            "  adding: output/Chatbot_hyperband/trial_021601c32403b323532a11867906961b/checkpoints/epoch_0/checkpoint.data-00000-of-00001 (deflated 8%)\n",
            "  adding: output/Chatbot_hyperband/trial_021601c32403b323532a11867906961b/trial.json (deflated 62%)\n",
            "  adding: output/Chatbot_hyperband/trial_8ec9797d824eeb7627462f3a82f228e7/ (stored 0%)\n",
            "  adding: output/Chatbot_hyperband/trial_8ec9797d824eeb7627462f3a82f228e7/checkpoints/ (stored 0%)\n",
            "  adding: output/Chatbot_hyperband/trial_8ec9797d824eeb7627462f3a82f228e7/checkpoints/epoch_0/ (stored 0%)\n",
            "  adding: output/Chatbot_hyperband/trial_8ec9797d824eeb7627462f3a82f228e7/checkpoints/epoch_0/checkpoint.index (deflated 67%)\n",
            "  adding: output/Chatbot_hyperband/trial_8ec9797d824eeb7627462f3a82f228e7/checkpoints/epoch_0/checkpoint (deflated 48%)\n",
            "  adding: output/Chatbot_hyperband/trial_8ec9797d824eeb7627462f3a82f228e7/checkpoints/epoch_0/checkpoint.data-00000-of-00001 (deflated 11%)\n",
            "  adding: output/Chatbot_hyperband/trial_8ec9797d824eeb7627462f3a82f228e7/trial.json (deflated 61%)\n",
            "  adding: output/Chatbot_hyperband/trial_51c9d181622148998413cbb6406504ad/ (stored 0%)\n",
            "  adding: output/Chatbot_hyperband/trial_51c9d181622148998413cbb6406504ad/checkpoints/ (stored 0%)\n",
            "  adding: output/Chatbot_hyperband/trial_51c9d181622148998413cbb6406504ad/checkpoints/epoch_0/ (stored 0%)\n",
            "  adding: output/Chatbot_hyperband/trial_51c9d181622148998413cbb6406504ad/checkpoints/epoch_0/checkpoint.index (deflated 67%)\n",
            "  adding: output/Chatbot_hyperband/trial_51c9d181622148998413cbb6406504ad/checkpoints/epoch_0/checkpoint (deflated 48%)\n",
            "  adding: output/Chatbot_hyperband/trial_51c9d181622148998413cbb6406504ad/checkpoints/epoch_0/checkpoint.data-00000-of-00001 (deflated 7%)\n",
            "  adding: output/Chatbot_hyperband/trial_51c9d181622148998413cbb6406504ad/trial.json (deflated 61%)\n",
            "  adding: output/Chatbot_hyperband/trial_e0455bc546b49412c953ab6d850963d6/ (stored 0%)\n",
            "  adding: output/Chatbot_hyperband/trial_e0455bc546b49412c953ab6d850963d6/checkpoints/ (stored 0%)\n",
            "  adding: output/Chatbot_hyperband/trial_e0455bc546b49412c953ab6d850963d6/checkpoints/epoch_0/ (stored 0%)\n",
            "  adding: output/Chatbot_hyperband/trial_e0455bc546b49412c953ab6d850963d6/checkpoints/epoch_0/checkpoint.index (deflated 65%)\n",
            "  adding: output/Chatbot_hyperband/trial_e0455bc546b49412c953ab6d850963d6/checkpoints/epoch_0/checkpoint (deflated 48%)\n",
            "  adding: output/Chatbot_hyperband/trial_e0455bc546b49412c953ab6d850963d6/checkpoints/epoch_0/checkpoint.data-00000-of-00001 (deflated 7%)\n",
            "  adding: output/Chatbot_hyperband/trial_e0455bc546b49412c953ab6d850963d6/trial.json (deflated 62%)\n",
            "  adding: output/Chatbot_hyperband/trial_87f60c567b70275a29b2a0cbbf1c54bf/ (stored 0%)\n",
            "  adding: output/Chatbot_hyperband/trial_87f60c567b70275a29b2a0cbbf1c54bf/checkpoints/ (stored 0%)\n",
            "  adding: output/Chatbot_hyperband/trial_87f60c567b70275a29b2a0cbbf1c54bf/checkpoints/epoch_0/ (stored 0%)\n",
            "  adding: output/Chatbot_hyperband/trial_87f60c567b70275a29b2a0cbbf1c54bf/checkpoints/epoch_0/checkpoint.index (deflated 67%)\n",
            "  adding: output/Chatbot_hyperband/trial_87f60c567b70275a29b2a0cbbf1c54bf/checkpoints/epoch_0/checkpoint (deflated 48%)\n",
            "  adding: output/Chatbot_hyperband/trial_87f60c567b70275a29b2a0cbbf1c54bf/checkpoints/epoch_0/checkpoint.data-00000-of-00001 (deflated 7%)\n",
            "  adding: output/Chatbot_hyperband/trial_87f60c567b70275a29b2a0cbbf1c54bf/trial.json (deflated 62%)\n",
            "  adding: output/Chatbot_hyperband/oracle.json (deflated 54%)\n",
            "  adding: output/Chatbot_hyperband/trial_9bae87acbd123c5443469c719e654a7d/ (stored 0%)\n",
            "  adding: output/Chatbot_hyperband/trial_9bae87acbd123c5443469c719e654a7d/checkpoints/ (stored 0%)\n",
            "  adding: output/Chatbot_hyperband/trial_9bae87acbd123c5443469c719e654a7d/checkpoints/epoch_0/ (stored 0%)\n",
            "  adding: output/Chatbot_hyperband/trial_9bae87acbd123c5443469c719e654a7d/checkpoints/epoch_0/checkpoint.index (deflated 58%)\n",
            "  adding: output/Chatbot_hyperband/trial_9bae87acbd123c5443469c719e654a7d/checkpoints/epoch_0/checkpoint (deflated 48%)\n",
            "  adding: output/Chatbot_hyperband/trial_9bae87acbd123c5443469c719e654a7d/checkpoints/epoch_0/checkpoint.data-00000-of-00001 (deflated 9%)\n",
            "  adding: output/Chatbot_hyperband/trial_9bae87acbd123c5443469c719e654a7d/trial.json (deflated 62%)\n",
            "  adding: output/Chatbot_hyperband/trial_3c98cfe739c4b145bebd25599b3a6855/ (stored 0%)\n",
            "  adding: output/Chatbot_hyperband/trial_3c98cfe739c4b145bebd25599b3a6855/checkpoints/ (stored 0%)\n",
            "  adding: output/Chatbot_hyperband/trial_3c98cfe739c4b145bebd25599b3a6855/checkpoints/epoch_0/ (stored 0%)\n",
            "  adding: output/Chatbot_hyperband/trial_3c98cfe739c4b145bebd25599b3a6855/checkpoints/epoch_0/checkpoint.index (deflated 66%)\n",
            "  adding: output/Chatbot_hyperband/trial_3c98cfe739c4b145bebd25599b3a6855/checkpoints/epoch_0/checkpoint (deflated 48%)\n",
            "  adding: output/Chatbot_hyperband/trial_3c98cfe739c4b145bebd25599b3a6855/checkpoints/epoch_0/checkpoint.data-00000-of-00001 (deflated 9%)\n",
            "  adding: output/Chatbot_hyperband/trial_3c98cfe739c4b145bebd25599b3a6855/trial.json (deflated 62%)\n",
            "  adding: output/Chatbot_hyperband/trial_c239f0a5b05a837cb68669efc940f47d/ (stored 0%)\n",
            "  adding: output/Chatbot_hyperband/trial_c239f0a5b05a837cb68669efc940f47d/checkpoints/ (stored 0%)\n",
            "  adding: output/Chatbot_hyperband/trial_c239f0a5b05a837cb68669efc940f47d/checkpoints/epoch_0/ (stored 0%)\n",
            "  adding: output/Chatbot_hyperband/trial_c239f0a5b05a837cb68669efc940f47d/checkpoints/epoch_0/checkpoint.index (deflated 66%)\n",
            "  adding: output/Chatbot_hyperband/trial_c239f0a5b05a837cb68669efc940f47d/checkpoints/epoch_0/checkpoint (deflated 48%)\n",
            "  adding: output/Chatbot_hyperband/trial_c239f0a5b05a837cb68669efc940f47d/checkpoints/epoch_0/checkpoint.data-00000-of-00001 (deflated 9%)\n",
            "  adding: output/Chatbot_hyperband/trial_c239f0a5b05a837cb68669efc940f47d/trial.json (deflated 62%)\n",
            "  adding: output/Chatbot_hyperband/trial_4a5e4656a43be4edf87265bb94ac8b0b/ (stored 0%)\n",
            "  adding: output/Chatbot_hyperband/trial_4a5e4656a43be4edf87265bb94ac8b0b/checkpoints/ (stored 0%)\n",
            "  adding: output/Chatbot_hyperband/trial_4a5e4656a43be4edf87265bb94ac8b0b/checkpoints/epoch_0/ (stored 0%)\n",
            "  adding: output/Chatbot_hyperband/trial_4a5e4656a43be4edf87265bb94ac8b0b/checkpoints/epoch_0/checkpoint.index (deflated 67%)\n",
            "  adding: output/Chatbot_hyperband/trial_4a5e4656a43be4edf87265bb94ac8b0b/checkpoints/epoch_0/checkpoint (deflated 48%)\n",
            "  adding: output/Chatbot_hyperband/trial_4a5e4656a43be4edf87265bb94ac8b0b/checkpoints/epoch_0/checkpoint.data-00000-of-00001 (deflated 13%)\n",
            "  adding: output/Chatbot_hyperband/trial_4a5e4656a43be4edf87265bb94ac8b0b/trial.json (deflated 61%)\n",
            "  adding: output/Chatbot_hyperband/trial_552a7690b0edf550fdf2b5d2d4dfb1ef/ (stored 0%)\n",
            "  adding: output/Chatbot_hyperband/trial_552a7690b0edf550fdf2b5d2d4dfb1ef/checkpoints/ (stored 0%)\n",
            "  adding: output/Chatbot_hyperband/trial_552a7690b0edf550fdf2b5d2d4dfb1ef/checkpoints/epoch_0/ (stored 0%)\n",
            "  adding: output/Chatbot_hyperband/trial_552a7690b0edf550fdf2b5d2d4dfb1ef/checkpoints/epoch_0/checkpoint.index (deflated 69%)\n",
            "  adding: output/Chatbot_hyperband/trial_552a7690b0edf550fdf2b5d2d4dfb1ef/checkpoints/epoch_0/checkpoint (deflated 48%)\n",
            "  adding: output/Chatbot_hyperband/trial_552a7690b0edf550fdf2b5d2d4dfb1ef/checkpoints/epoch_0/checkpoint.data-00000-of-00001\n",
            "\n",
            "\n",
            "zip error: Interrupted (aborting)\n"
          ],
          "name": "stdout"
        }
      ]
    },
    {
      "cell_type": "code",
      "metadata": {
        "id": "gWdSSEfjLPqy",
        "colab": {
          "base_uri": "https://localhost:8080/",
          "height": 34
        },
        "outputId": "b6e44524-054d-4aba-9d77-ef5e151d95ca"
      },
      "source": [
        "from google.colab import files\n",
        "files.download('output.zip')"
      ],
      "execution_count": null,
      "outputs": [
        {
          "output_type": "display_data",
          "data": {
            "application/javascript": [
              "\n",
              "    async function download(id, filename, size) {\n",
              "      if (!google.colab.kernel.accessAllowed) {\n",
              "        return;\n",
              "      }\n",
              "      const div = document.createElement('div');\n",
              "      const label = document.createElement('label');\n",
              "      label.textContent = `Downloading \"${filename}\": `;\n",
              "      div.appendChild(label);\n",
              "      const progress = document.createElement('progress');\n",
              "      progress.max = size;\n",
              "      div.appendChild(progress);\n",
              "      document.body.appendChild(div);\n",
              "\n",
              "      const buffers = [];\n",
              "      let downloaded = 0;\n",
              "\n",
              "      const channel = await google.colab.kernel.comms.open(id);\n",
              "      // Send a message to notify the kernel that we're ready.\n",
              "      channel.send({})\n",
              "\n",
              "      for await (const message of channel.messages) {\n",
              "        // Send a message to notify the kernel that we're ready.\n",
              "        channel.send({})\n",
              "        if (message.buffers) {\n",
              "          for (const buffer of message.buffers) {\n",
              "            buffers.push(buffer);\n",
              "            downloaded += buffer.byteLength;\n",
              "            progress.value = downloaded;\n",
              "          }\n",
              "        }\n",
              "      }\n",
              "      const blob = new Blob(buffers, {type: 'application/binary'});\n",
              "      const a = document.createElement('a');\n",
              "      a.href = window.URL.createObjectURL(blob);\n",
              "      a.download = filename;\n",
              "      div.appendChild(a);\n",
              "      a.click();\n",
              "      div.remove();\n",
              "    }\n",
              "  "
            ],
            "text/plain": [
              "<IPython.core.display.Javascript object>"
            ]
          },
          "metadata": {
            "tags": []
          }
        },
        {
          "output_type": "display_data",
          "data": {
            "application/javascript": [
              "download(\"download_f8ae07cd-b8f5-49b7-928d-ba326b587231\", \"output.zip\", 7003572599)"
            ],
            "text/plain": [
              "<IPython.core.display.Javascript object>"
            ]
          },
          "metadata": {
            "tags": []
          }
        }
      ]
    },
    {
      "cell_type": "markdown",
      "metadata": {
        "id": "dKdGmwkwV9GQ"
      },
      "source": [
        "### Further training and hyperparameter optimization"
      ]
    },
    {
      "cell_type": "code",
      "metadata": {
        "colab": {
          "base_uri": "https://localhost:8080/",
          "height": 1000
        },
        "id": "YhZE69ItYcxf",
        "outputId": "37e8f94a-00f9-45c3-9c70-19633d856780"
      },
      "source": [
        "!pip install --upgrade tensorflow\n",
        "!pip install --upgrade tensorflow-gpu"
      ],
      "execution_count": null,
      "outputs": [
        {
          "output_type": "stream",
          "text": [
            "Collecting tensorflow\n",
            "\u001b[?25l  Downloading https://files.pythonhosted.org/packages/ad/ad/769c195c72ac72040635c66cd9ba7b0f4b4fc1ac67e59b99fa6988446c22/tensorflow-2.3.1-cp36-cp36m-manylinux2010_x86_64.whl (320.4MB)\n",
            "\u001b[K     |████████████████████████████████| 320.4MB 55kB/s \n",
            "\u001b[?25hRequirement already satisfied, skipping upgrade: protobuf>=3.9.2 in /usr/local/lib/python3.6/dist-packages (from tensorflow) (3.12.4)\n",
            "Requirement already satisfied, skipping upgrade: wrapt>=1.11.1 in /usr/local/lib/python3.6/dist-packages (from tensorflow) (1.12.1)\n",
            "Requirement already satisfied, skipping upgrade: numpy<1.19.0,>=1.16.0 in /usr/local/lib/python3.6/dist-packages (from tensorflow) (1.18.5)\n",
            "Requirement already satisfied, skipping upgrade: termcolor>=1.1.0 in /usr/local/lib/python3.6/dist-packages (from tensorflow) (1.1.0)\n",
            "Requirement already satisfied, skipping upgrade: absl-py>=0.7.0 in /usr/local/lib/python3.6/dist-packages (from tensorflow) (0.10.0)\n",
            "Requirement already satisfied, skipping upgrade: astunparse==1.6.3 in /usr/local/lib/python3.6/dist-packages (from tensorflow) (1.6.3)\n",
            "Requirement already satisfied, skipping upgrade: tensorboard<3,>=2.3.0 in /usr/local/lib/python3.6/dist-packages (from tensorflow) (2.3.0)\n",
            "Requirement already satisfied, skipping upgrade: grpcio>=1.8.6 in /usr/local/lib/python3.6/dist-packages (from tensorflow) (1.33.2)\n",
            "Requirement already satisfied, skipping upgrade: wheel>=0.26 in /usr/local/lib/python3.6/dist-packages (from tensorflow) (0.35.1)\n",
            "Requirement already satisfied, skipping upgrade: tensorflow-estimator<2.4.0,>=2.3.0 in /usr/local/lib/python3.6/dist-packages (from tensorflow) (2.3.0)\n",
            "Requirement already satisfied, skipping upgrade: opt-einsum>=2.3.2 in /usr/local/lib/python3.6/dist-packages (from tensorflow) (3.3.0)\n",
            "Requirement already satisfied, skipping upgrade: google-pasta>=0.1.8 in /usr/local/lib/python3.6/dist-packages (from tensorflow) (0.2.0)\n",
            "Requirement already satisfied, skipping upgrade: keras-preprocessing<1.2,>=1.1.1 in /usr/local/lib/python3.6/dist-packages (from tensorflow) (1.1.2)\n",
            "Requirement already satisfied, skipping upgrade: h5py<2.11.0,>=2.10.0 in /usr/local/lib/python3.6/dist-packages (from tensorflow) (2.10.0)\n",
            "Requirement already satisfied, skipping upgrade: six>=1.12.0 in /usr/local/lib/python3.6/dist-packages (from tensorflow) (1.15.0)\n",
            "Requirement already satisfied, skipping upgrade: gast==0.3.3 in /usr/local/lib/python3.6/dist-packages (from tensorflow) (0.3.3)\n",
            "Requirement already satisfied, skipping upgrade: setuptools in /usr/local/lib/python3.6/dist-packages (from protobuf>=3.9.2->tensorflow) (50.3.2)\n",
            "Requirement already satisfied, skipping upgrade: markdown>=2.6.8 in /usr/local/lib/python3.6/dist-packages (from tensorboard<3,>=2.3.0->tensorflow) (3.3.3)\n",
            "Requirement already satisfied, skipping upgrade: google-auth-oauthlib<0.5,>=0.4.1 in /usr/local/lib/python3.6/dist-packages (from tensorboard<3,>=2.3.0->tensorflow) (0.4.2)\n",
            "Requirement already satisfied, skipping upgrade: google-auth<2,>=1.6.3 in /usr/local/lib/python3.6/dist-packages (from tensorboard<3,>=2.3.0->tensorflow) (1.17.2)\n",
            "Requirement already satisfied, skipping upgrade: tensorboard-plugin-wit>=1.6.0 in /usr/local/lib/python3.6/dist-packages (from tensorboard<3,>=2.3.0->tensorflow) (1.7.0)\n",
            "Requirement already satisfied, skipping upgrade: requests<3,>=2.21.0 in /usr/local/lib/python3.6/dist-packages (from tensorboard<3,>=2.3.0->tensorflow) (2.23.0)\n",
            "Requirement already satisfied, skipping upgrade: werkzeug>=0.11.15 in /usr/local/lib/python3.6/dist-packages (from tensorboard<3,>=2.3.0->tensorflow) (1.0.1)\n",
            "Requirement already satisfied, skipping upgrade: importlib-metadata; python_version < \"3.8\" in /usr/local/lib/python3.6/dist-packages (from markdown>=2.6.8->tensorboard<3,>=2.3.0->tensorflow) (2.0.0)\n",
            "Requirement already satisfied, skipping upgrade: requests-oauthlib>=0.7.0 in /usr/local/lib/python3.6/dist-packages (from google-auth-oauthlib<0.5,>=0.4.1->tensorboard<3,>=2.3.0->tensorflow) (1.3.0)\n",
            "Requirement already satisfied, skipping upgrade: rsa<5,>=3.1.4; python_version >= \"3\" in /usr/local/lib/python3.6/dist-packages (from google-auth<2,>=1.6.3->tensorboard<3,>=2.3.0->tensorflow) (4.6)\n",
            "Requirement already satisfied, skipping upgrade: cachetools<5.0,>=2.0.0 in /usr/local/lib/python3.6/dist-packages (from google-auth<2,>=1.6.3->tensorboard<3,>=2.3.0->tensorflow) (4.1.1)\n",
            "Requirement already satisfied, skipping upgrade: pyasn1-modules>=0.2.1 in /usr/local/lib/python3.6/dist-packages (from google-auth<2,>=1.6.3->tensorboard<3,>=2.3.0->tensorflow) (0.2.8)\n",
            "Requirement already satisfied, skipping upgrade: idna<3,>=2.5 in /usr/local/lib/python3.6/dist-packages (from requests<3,>=2.21.0->tensorboard<3,>=2.3.0->tensorflow) (2.10)\n",
            "Requirement already satisfied, skipping upgrade: urllib3!=1.25.0,!=1.25.1,<1.26,>=1.21.1 in /usr/local/lib/python3.6/dist-packages (from requests<3,>=2.21.0->tensorboard<3,>=2.3.0->tensorflow) (1.24.3)\n",
            "Requirement already satisfied, skipping upgrade: certifi>=2017.4.17 in /usr/local/lib/python3.6/dist-packages (from requests<3,>=2.21.0->tensorboard<3,>=2.3.0->tensorflow) (2020.11.8)\n",
            "Requirement already satisfied, skipping upgrade: chardet<4,>=3.0.2 in /usr/local/lib/python3.6/dist-packages (from requests<3,>=2.21.0->tensorboard<3,>=2.3.0->tensorflow) (3.0.4)\n",
            "Requirement already satisfied, skipping upgrade: zipp>=0.5 in /usr/local/lib/python3.6/dist-packages (from importlib-metadata; python_version < \"3.8\"->markdown>=2.6.8->tensorboard<3,>=2.3.0->tensorflow) (3.4.0)\n",
            "Requirement already satisfied, skipping upgrade: oauthlib>=3.0.0 in /usr/local/lib/python3.6/dist-packages (from requests-oauthlib>=0.7.0->google-auth-oauthlib<0.5,>=0.4.1->tensorboard<3,>=2.3.0->tensorflow) (3.1.0)\n",
            "Requirement already satisfied, skipping upgrade: pyasn1>=0.1.3 in /usr/local/lib/python3.6/dist-packages (from rsa<5,>=3.1.4; python_version >= \"3\"->google-auth<2,>=1.6.3->tensorboard<3,>=2.3.0->tensorflow) (0.4.8)\n",
            "Installing collected packages: tensorflow\n",
            "  Found existing installation: tensorflow 2.3.0\n",
            "    Uninstalling tensorflow-2.3.0:\n",
            "      Successfully uninstalled tensorflow-2.3.0\n",
            "Successfully installed tensorflow-2.3.1\n"
          ],
          "name": "stdout"
        },
        {
          "output_type": "display_data",
          "data": {
            "application/vnd.colab-display-data+json": {
              "pip_warning": {
                "packages": [
                  "tensorflow"
                ]
              }
            }
          },
          "metadata": {
            "tags": []
          }
        },
        {
          "output_type": "stream",
          "text": [
            "Collecting tensorflow-gpu\n",
            "\u001b[?25l  Downloading https://files.pythonhosted.org/packages/18/99/ac32fd13d56e40d4c3e6150030132519997c0bb1f06f448d970e81b177e5/tensorflow_gpu-2.3.1-cp36-cp36m-manylinux2010_x86_64.whl (320.4MB)\n",
            "\u001b[K     |████████████████████████████████| 320.4MB 39kB/s \n",
            "\u001b[?25hRequirement already satisfied, skipping upgrade: six>=1.12.0 in /usr/local/lib/python3.6/dist-packages (from tensorflow-gpu) (1.15.0)\n",
            "Requirement already satisfied, skipping upgrade: grpcio>=1.8.6 in /usr/local/lib/python3.6/dist-packages (from tensorflow-gpu) (1.33.2)\n",
            "Requirement already satisfied, skipping upgrade: gast==0.3.3 in /usr/local/lib/python3.6/dist-packages (from tensorflow-gpu) (0.3.3)\n",
            "Requirement already satisfied, skipping upgrade: tensorflow-estimator<2.4.0,>=2.3.0 in /usr/local/lib/python3.6/dist-packages (from tensorflow-gpu) (2.3.0)\n",
            "Requirement already satisfied, skipping upgrade: opt-einsum>=2.3.2 in /usr/local/lib/python3.6/dist-packages (from tensorflow-gpu) (3.3.0)\n",
            "Requirement already satisfied, skipping upgrade: termcolor>=1.1.0 in /usr/local/lib/python3.6/dist-packages (from tensorflow-gpu) (1.1.0)\n",
            "Requirement already satisfied, skipping upgrade: tensorboard<3,>=2.3.0 in /usr/local/lib/python3.6/dist-packages (from tensorflow-gpu) (2.3.0)\n",
            "Requirement already satisfied, skipping upgrade: h5py<2.11.0,>=2.10.0 in /usr/local/lib/python3.6/dist-packages (from tensorflow-gpu) (2.10.0)\n",
            "Requirement already satisfied, skipping upgrade: protobuf>=3.9.2 in /usr/local/lib/python3.6/dist-packages (from tensorflow-gpu) (3.12.4)\n",
            "Requirement already satisfied, skipping upgrade: wrapt>=1.11.1 in /usr/local/lib/python3.6/dist-packages (from tensorflow-gpu) (1.12.1)\n",
            "Requirement already satisfied, skipping upgrade: absl-py>=0.7.0 in /usr/local/lib/python3.6/dist-packages (from tensorflow-gpu) (0.10.0)\n",
            "Requirement already satisfied, skipping upgrade: keras-preprocessing<1.2,>=1.1.1 in /usr/local/lib/python3.6/dist-packages (from tensorflow-gpu) (1.1.2)\n",
            "Requirement already satisfied, skipping upgrade: astunparse==1.6.3 in /usr/local/lib/python3.6/dist-packages (from tensorflow-gpu) (1.6.3)\n",
            "Requirement already satisfied, skipping upgrade: numpy<1.19.0,>=1.16.0 in /usr/local/lib/python3.6/dist-packages (from tensorflow-gpu) (1.18.5)\n",
            "Requirement already satisfied, skipping upgrade: wheel>=0.26 in /usr/local/lib/python3.6/dist-packages (from tensorflow-gpu) (0.35.1)\n",
            "Requirement already satisfied, skipping upgrade: google-pasta>=0.1.8 in /usr/local/lib/python3.6/dist-packages (from tensorflow-gpu) (0.2.0)\n",
            "Requirement already satisfied, skipping upgrade: google-auth-oauthlib<0.5,>=0.4.1 in /usr/local/lib/python3.6/dist-packages (from tensorboard<3,>=2.3.0->tensorflow-gpu) (0.4.2)\n",
            "Requirement already satisfied, skipping upgrade: requests<3,>=2.21.0 in /usr/local/lib/python3.6/dist-packages (from tensorboard<3,>=2.3.0->tensorflow-gpu) (2.23.0)\n",
            "Requirement already satisfied, skipping upgrade: setuptools>=41.0.0 in /usr/local/lib/python3.6/dist-packages (from tensorboard<3,>=2.3.0->tensorflow-gpu) (50.3.2)\n",
            "Requirement already satisfied, skipping upgrade: tensorboard-plugin-wit>=1.6.0 in /usr/local/lib/python3.6/dist-packages (from tensorboard<3,>=2.3.0->tensorflow-gpu) (1.7.0)\n",
            "Requirement already satisfied, skipping upgrade: werkzeug>=0.11.15 in /usr/local/lib/python3.6/dist-packages (from tensorboard<3,>=2.3.0->tensorflow-gpu) (1.0.1)\n",
            "Requirement already satisfied, skipping upgrade: google-auth<2,>=1.6.3 in /usr/local/lib/python3.6/dist-packages (from tensorboard<3,>=2.3.0->tensorflow-gpu) (1.17.2)\n",
            "Requirement already satisfied, skipping upgrade: markdown>=2.6.8 in /usr/local/lib/python3.6/dist-packages (from tensorboard<3,>=2.3.0->tensorflow-gpu) (3.3.3)\n",
            "Requirement already satisfied, skipping upgrade: requests-oauthlib>=0.7.0 in /usr/local/lib/python3.6/dist-packages (from google-auth-oauthlib<0.5,>=0.4.1->tensorboard<3,>=2.3.0->tensorflow-gpu) (1.3.0)\n",
            "Requirement already satisfied, skipping upgrade: certifi>=2017.4.17 in /usr/local/lib/python3.6/dist-packages (from requests<3,>=2.21.0->tensorboard<3,>=2.3.0->tensorflow-gpu) (2020.11.8)\n",
            "Requirement already satisfied, skipping upgrade: chardet<4,>=3.0.2 in /usr/local/lib/python3.6/dist-packages (from requests<3,>=2.21.0->tensorboard<3,>=2.3.0->tensorflow-gpu) (3.0.4)\n",
            "Requirement already satisfied, skipping upgrade: urllib3!=1.25.0,!=1.25.1,<1.26,>=1.21.1 in /usr/local/lib/python3.6/dist-packages (from requests<3,>=2.21.0->tensorboard<3,>=2.3.0->tensorflow-gpu) (1.24.3)\n",
            "Requirement already satisfied, skipping upgrade: idna<3,>=2.5 in /usr/local/lib/python3.6/dist-packages (from requests<3,>=2.21.0->tensorboard<3,>=2.3.0->tensorflow-gpu) (2.10)\n",
            "Requirement already satisfied, skipping upgrade: pyasn1-modules>=0.2.1 in /usr/local/lib/python3.6/dist-packages (from google-auth<2,>=1.6.3->tensorboard<3,>=2.3.0->tensorflow-gpu) (0.2.8)\n",
            "Requirement already satisfied, skipping upgrade: cachetools<5.0,>=2.0.0 in /usr/local/lib/python3.6/dist-packages (from google-auth<2,>=1.6.3->tensorboard<3,>=2.3.0->tensorflow-gpu) (4.1.1)\n",
            "Requirement already satisfied, skipping upgrade: rsa<5,>=3.1.4; python_version >= \"3\" in /usr/local/lib/python3.6/dist-packages (from google-auth<2,>=1.6.3->tensorboard<3,>=2.3.0->tensorflow-gpu) (4.6)\n",
            "Requirement already satisfied, skipping upgrade: importlib-metadata; python_version < \"3.8\" in /usr/local/lib/python3.6/dist-packages (from markdown>=2.6.8->tensorboard<3,>=2.3.0->tensorflow-gpu) (2.0.0)\n",
            "Requirement already satisfied, skipping upgrade: oauthlib>=3.0.0 in /usr/local/lib/python3.6/dist-packages (from requests-oauthlib>=0.7.0->google-auth-oauthlib<0.5,>=0.4.1->tensorboard<3,>=2.3.0->tensorflow-gpu) (3.1.0)\n",
            "Requirement already satisfied, skipping upgrade: pyasn1<0.5.0,>=0.4.6 in /usr/local/lib/python3.6/dist-packages (from pyasn1-modules>=0.2.1->google-auth<2,>=1.6.3->tensorboard<3,>=2.3.0->tensorflow-gpu) (0.4.8)\n",
            "Requirement already satisfied, skipping upgrade: zipp>=0.5 in /usr/local/lib/python3.6/dist-packages (from importlib-metadata; python_version < \"3.8\"->markdown>=2.6.8->tensorboard<3,>=2.3.0->tensorflow-gpu) (3.4.0)\n",
            "Installing collected packages: tensorflow-gpu\n",
            "Successfully installed tensorflow-gpu-2.3.1\n"
          ],
          "name": "stdout"
        },
        {
          "output_type": "display_data",
          "data": {
            "application/vnd.colab-display-data+json": {
              "pip_warning": {
                "packages": [
                  "tensorflow"
                ]
              }
            }
          },
          "metadata": {
            "tags": []
          }
        }
      ]
    },
    {
      "cell_type": "code",
      "metadata": {
        "colab": {
          "base_uri": "https://localhost:8080/",
          "height": 36
        },
        "id": "d3xL0IBuYp4x",
        "outputId": "ffee1448-ab09-42c2-a4a9-1ef3ae713d23"
      },
      "source": [
        "import tensorflow as tf\n",
        "tf.__version__"
      ],
      "execution_count": null,
      "outputs": [
        {
          "output_type": "execute_result",
          "data": {
            "application/vnd.google.colaboratory.intrinsic+json": {
              "type": "string"
            },
            "text/plain": [
              "'2.3.0'"
            ]
          },
          "metadata": {
            "tags": []
          },
          "execution_count": 96
        }
      ]
    },
    {
      "cell_type": "code",
      "metadata": {
        "colab": {
          "base_uri": "https://localhost:8080/"
        },
        "id": "KyotrvtdYrx4",
        "outputId": "5720ad0b-0d6c-48ee-b33f-b5c7a7d821de"
      },
      "source": [
        "!pip install keras-tuner"
      ],
      "execution_count": null,
      "outputs": [
        {
          "output_type": "stream",
          "text": [
            "Collecting keras-tuner\n",
            "\u001b[?25l  Downloading https://files.pythonhosted.org/packages/20/ec/1ef246787174b1e2bb591c95f29d3c1310070cad877824f907faba3dade9/keras-tuner-1.0.2.tar.gz (62kB)\n",
            "\r\u001b[K     |█████▏                          | 10kB 23.9MB/s eta 0:00:01\r\u001b[K     |██████████▍                     | 20kB 30.8MB/s eta 0:00:01\r\u001b[K     |███████████████▋                | 30kB 16.6MB/s eta 0:00:01\r\u001b[K     |████████████████████▉           | 40kB 11.7MB/s eta 0:00:01\r\u001b[K     |██████████████████████████      | 51kB 8.2MB/s eta 0:00:01\r\u001b[K     |███████████████████████████████▎| 61kB 8.6MB/s eta 0:00:01\r\u001b[K     |████████████████████████████████| 71kB 5.5MB/s \n",
            "\u001b[?25hRequirement already satisfied: packaging in /usr/local/lib/python3.6/dist-packages (from keras-tuner) (20.4)\n",
            "Requirement already satisfied: future in /usr/local/lib/python3.6/dist-packages (from keras-tuner) (0.16.0)\n",
            "Requirement already satisfied: numpy in /usr/local/lib/python3.6/dist-packages (from keras-tuner) (1.18.5)\n",
            "Requirement already satisfied: tabulate in /usr/local/lib/python3.6/dist-packages (from keras-tuner) (0.8.7)\n",
            "Collecting terminaltables\n",
            "  Downloading https://files.pythonhosted.org/packages/9b/c4/4a21174f32f8a7e1104798c445dacdc1d4df86f2f26722767034e4de4bff/terminaltables-3.1.0.tar.gz\n",
            "Collecting colorama\n",
            "  Downloading https://files.pythonhosted.org/packages/44/98/5b86278fbbf250d239ae0ecb724f8572af1c91f4a11edf4d36a206189440/colorama-0.4.4-py2.py3-none-any.whl\n",
            "Requirement already satisfied: tqdm in /usr/local/lib/python3.6/dist-packages (from keras-tuner) (4.41.1)\n",
            "Requirement already satisfied: requests in /usr/local/lib/python3.6/dist-packages (from keras-tuner) (2.23.0)\n",
            "Requirement already satisfied: scipy in /usr/local/lib/python3.6/dist-packages (from keras-tuner) (1.4.1)\n",
            "Requirement already satisfied: scikit-learn in /usr/local/lib/python3.6/dist-packages (from keras-tuner) (0.22.2.post1)\n",
            "Requirement already satisfied: six in /usr/local/lib/python3.6/dist-packages (from packaging->keras-tuner) (1.15.0)\n",
            "Requirement already satisfied: pyparsing>=2.0.2 in /usr/local/lib/python3.6/dist-packages (from packaging->keras-tuner) (2.4.7)\n",
            "Requirement already satisfied: urllib3!=1.25.0,!=1.25.1,<1.26,>=1.21.1 in /usr/local/lib/python3.6/dist-packages (from requests->keras-tuner) (1.24.3)\n",
            "Requirement already satisfied: certifi>=2017.4.17 in /usr/local/lib/python3.6/dist-packages (from requests->keras-tuner) (2020.11.8)\n",
            "Requirement already satisfied: idna<3,>=2.5 in /usr/local/lib/python3.6/dist-packages (from requests->keras-tuner) (2.10)\n",
            "Requirement already satisfied: chardet<4,>=3.0.2 in /usr/local/lib/python3.6/dist-packages (from requests->keras-tuner) (3.0.4)\n",
            "Requirement already satisfied: joblib>=0.11 in /usr/local/lib/python3.6/dist-packages (from scikit-learn->keras-tuner) (0.17.0)\n",
            "Building wheels for collected packages: keras-tuner, terminaltables\n",
            "  Building wheel for keras-tuner (setup.py) ... \u001b[?25l\u001b[?25hdone\n",
            "  Created wheel for keras-tuner: filename=keras_tuner-1.0.2-cp36-none-any.whl size=78937 sha256=0dbef53d275afebb8434f0458d27c7728cf9bf068f92c0efd28a466d133b4a6a\n",
            "  Stored in directory: /root/.cache/pip/wheels/bb/a1/8a/7c3de0efb3707a1701b36ebbfdbc4e67aedf6d4943a1f463d6\n",
            "  Building wheel for terminaltables (setup.py) ... \u001b[?25l\u001b[?25hdone\n",
            "  Created wheel for terminaltables: filename=terminaltables-3.1.0-cp36-none-any.whl size=15356 sha256=b7830efbbabe30dbd742b49c95952f6140ea8710d86b458aa6c15043c935bbc3\n",
            "  Stored in directory: /root/.cache/pip/wheels/30/6b/50/6c75775b681fb36cdfac7f19799888ef9d8813aff9e379663e\n",
            "Successfully built keras-tuner terminaltables\n",
            "Installing collected packages: terminaltables, colorama, keras-tuner\n",
            "Successfully installed colorama-0.4.4 keras-tuner-1.0.2 terminaltables-3.1.0\n"
          ],
          "name": "stdout"
        }
      ]
    },
    {
      "cell_type": "code",
      "metadata": {
        "id": "1uS-UhcsYsMl"
      },
      "source": [
        "# import statements\n",
        "import tensorflow as tf\n",
        "from tensorflow import keras\n",
        "import numpy as np\n",
        "# import statements\n",
        "import numpy as np\n",
        "from tensorflow.keras.layers import Embedding\n",
        "# import statements\n",
        "from tensorflow.keras.layers import LSTM, Input, Dense, Dropout, Bidirectional\n",
        "from tensorflow.keras import Model"
      ],
      "execution_count": 36,
      "outputs": []
    },
    {
      "cell_type": "code",
      "metadata": {
        "colab": {
          "base_uri": "https://localhost:8080/"
        },
        "id": "clY96ri9awRr",
        "outputId": "8587f5da-235a-4083-f644-54291b5ecf70"
      },
      "source": [
        "!pip install googledrivedownloader"
      ],
      "execution_count": null,
      "outputs": [
        {
          "output_type": "stream",
          "text": [
            "Requirement already satisfied: googledrivedownloader in /usr/local/lib/python3.6/dist-packages (0.4)\n"
          ],
          "name": "stdout"
        }
      ]
    },
    {
      "cell_type": "code",
      "metadata": {
        "colab": {
          "base_uri": "https://localhost:8080/"
        },
        "id": "2wrpWAZfa2my",
        "outputId": "895fd0a6-7d73-470b-ebfa-f1cc08bace3e"
      },
      "source": [
        "from google_drive_downloader import GoogleDriveDownloader as gdd\n",
        "\n",
        "gdd.download_file_from_google_drive(file_id='1uh5JGW-91Pp-DK1x-Aryd3LJ2zE5lIlF',\n",
        "                                    dest_path='./model_1.zip',\n",
        "                                    unzip=True)"
      ],
      "execution_count": null,
      "outputs": [
        {
          "output_type": "stream",
          "text": [
            "Downloading 1uh5JGW-91Pp-DK1x-Aryd3LJ2zE5lIlF into ./model_1.zip... Done.\n",
            "Unzipping...Done.\n"
          ],
          "name": "stdout"
        }
      ]
    },
    {
      "cell_type": "code",
      "metadata": {
        "id": "8ARas2cjdg7-"
      },
      "source": [
        "reconstructed_model = keras.models.load_model(\"model_1\")"
      ],
      "execution_count": null,
      "outputs": []
    },
    {
      "cell_type": "code",
      "metadata": {
        "id": "k0BZvF6gf60u"
      },
      "source": [
        "def build_model(hp):\n",
        "    # set number of LSTM nodes\n",
        "    LSTM_NODES = hp.Int('LSTM_var', min_value=256,max_value=512,step=256)\n",
        "    # The encoder of the model is defined.\n",
        "    # The input of the encoder are the sentences and the output is\n",
        "    # the hidden state and cell state of the LSTM.\n",
        "\n",
        "    embedding_layer = Embedding(5000, EMBEDDING_SIZE, weights=[embedding_matrix], input_length=40)\n",
        "    encoder_inputs_placeholder = Input(shape=(40,))\n",
        "    x = embedding_layer(encoder_inputs_placeholder)\n",
        "\n",
        "    # lstm_1_var = hp.Choice('lstm_1_var', values = [LSTM(LSTM_NODES, return_state=True), Bidirectional(LSTM(LSTM_NODES, return_state=True))])\n",
        "\n",
        "    # if hp.Boolean('lstm_1_bool'):\n",
        "    encoder = LSTM(LSTM_NODES, return_state=True)\n",
        "    # else:\n",
        "    #   encoder = Bidirectional(LSTM(LSTM_NODES, return_state=True))\n",
        "\n",
        "    encoder_outputs, h, c = encoder(x)\n",
        "    encoder_states = [h, c]\n",
        "\n",
        "    # The decoder is defined.\n",
        "    # The input of the decoder are the hidden state and cell state of the\n",
        "    # encoder and the input sentence.\n",
        "    decoder_inputs_placeholder = Input(shape=(44,))\n",
        "\n",
        "    decoder_embedding = Embedding(5000, LSTM_NODES)\n",
        "    decoder_inputs_x = decoder_embedding(decoder_inputs_placeholder)\n",
        "\n",
        "    # lstm_2_var = hp.Choice('lstm_2_var', values = [LSTM(LSTM_NODES, return_sequences=True, return_state=True), Bidirectional(LSTM(LSTM_NODES, return_sequences=True, return_state=True))])\n",
        "\n",
        "    # if hp.Boolean('lstm_2_bool'):\n",
        "    decoder_lstm = LSTM(LSTM_NODES, return_sequences=True, return_state=True)\n",
        "    # else:\n",
        "    #   decoder_lstm = Bidirectional(LSTM(LSTM_NODES, return_sequences=True, return_state=True))\n",
        "\n",
        "    decoder_outputs, _, _ = decoder_lstm(decoder_inputs_x, initial_state=encoder_states)\n",
        "\n",
        "    activation_var = 'relu' # hp.Choice('activation_var', values = ['relu', 'sigmoid'])\n",
        "    nodes_var = hp.Int('nodes_var', min_value=4500,max_value=5500, step=1000)\n",
        "    for i in range(hp.Int('n_layers', 0, 3)):  # adding variation of layers.\n",
        "      new_dense_layer = Dense(nodes_var, activation=activation_var)\n",
        "      decoder_outputs = new_dense_layer(decoder_outputs)\n",
        "      new_dropout_layer = Dropout(0.2)\n",
        "      decoder_outputs = new_dropout_layer(decoder_outputs)\n",
        "\n",
        "    mid_layer = Dense(nodes_var, activation=activation_var)\n",
        "    decoder_outputs_2 = mid_layer(decoder_outputs)\n",
        "\n",
        "    # The output of the decoder is given to a dense layer to predict\n",
        "    # the decoder output.\n",
        "    decoder_dense = Dense(5000, activation='softmax')\n",
        "    decoder_outputs = decoder_dense(decoder_outputs)\n",
        "\n",
        "    # The model is connected and compiled. There are two inputs: the\n",
        "    # encoder and the decoder input.\n",
        "    model = Model([encoder_inputs_placeholder,\n",
        "      decoder_inputs_placeholder], decoder_outputs)\n",
        "\n",
        "    \n",
        "    model.compile(\n",
        "        optimizer=hp.Choice('optimizer_var', values = ['rmsprop','sgd','adam']),#,'nadam','adagard']),\n",
        "        loss='categorical_crossentropy',\n",
        "        metrics=['accuracy']\n",
        "    )\n",
        "    return model\n"
      ],
      "execution_count": null,
      "outputs": []
    },
    {
      "cell_type": "code",
      "metadata": {
        "id": "I53wDtxCbV6E"
      },
      "source": [
        "!rm /content/output -r\n"
      ],
      "execution_count": null,
      "outputs": []
    },
    {
      "cell_type": "code",
      "metadata": {
        "id": "XZGkkYpsELBn"
      },
      "source": [
        "tuner = None"
      ],
      "execution_count": null,
      "outputs": []
    },
    {
      "cell_type": "code",
      "metadata": {
        "id": "LmVknrvSeUO3"
      },
      "source": [
        "from kerastuner.tuners import Hyperband\n",
        "\n",
        "tuner = Hyperband(\n",
        "    build_model,\n",
        "    objective='accuracy',\n",
        "    factor=3,\n",
        "    max_epochs=10,\n",
        "    directory='output',\n",
        "    project_name='Chatbot_hyperband')"
      ],
      "execution_count": null,
      "outputs": []
    },
    {
      "cell_type": "code",
      "metadata": {
        "colab": {
          "base_uri": "https://localhost:8080/"
        },
        "id": "rsGu9LCFe6hM",
        "outputId": "4e8ad513-bb49-427c-e903-c27bc9855388"
      },
      "source": [
        "tuner.search_space_summary()"
      ],
      "execution_count": null,
      "outputs": [
        {
          "output_type": "stream",
          "text": [
            "Search space summary\n",
            "Default search space size: 4\n",
            "LSTM_var (Int)\n",
            "{'default': None, 'conditions': [], 'min_value': 256, 'max_value': 512, 'step': 256, 'sampling': None}\n",
            "nodes_var (Int)\n",
            "{'default': None, 'conditions': [], 'min_value': 4500, 'max_value': 5500, 'step': 1000, 'sampling': None}\n",
            "n_layers (Int)\n",
            "{'default': None, 'conditions': [], 'min_value': 0, 'max_value': 3, 'step': 1, 'sampling': None}\n",
            "optimizer_var (Choice)\n",
            "{'default': 'rmsprop', 'conditions': [], 'values': ['rmsprop', 'sgd', 'adam'], 'ordered': False}\n"
          ],
          "name": "stdout"
        }
      ]
    },
    {
      "cell_type": "code",
      "metadata": {
        "colab": {
          "base_uri": "https://localhost:8080/"
        },
        "id": "b1xcotQOr5Tp",
        "outputId": "106c07d9-d314-4add-cc05-3c1ce0c6dd37"
      },
      "source": [
        "tuner.search(\n",
        "    [encoder_input_sequences, decoder_input_sequences],\n",
        "    decoder_targets_one_hot,\n",
        "    batch_size=BATCH_SIZE,\n",
        "    epochs=EPOCHS,\n",
        "    validation_split=0.2,\n",
        ")"
      ],
      "execution_count": null,
      "outputs": [
        {
          "output_type": "stream",
          "text": [
            "\n",
            "Search: Running Trial #1\n",
            "\n",
            "Hyperparameter    |Value             |Best Value So Far \n",
            "nodes_var         |5500              |?                 \n",
            "n_layers          |1                 |?                 \n",
            "optimizer_var     |adam              |?                 \n",
            "tuner/epochs      |2                 |?                 \n",
            "tuner/initial_e...|0                 |?                 \n",
            "tuner/bracket     |2                 |?                 \n",
            "tuner/round       |0                 |?                 \n",
            "\n",
            "Epoch 1/2\n",
            "125/125 [==============================] - ETA: 0s - loss: 0.0000e+00 - accuracy: 2.5568e-05"
          ],
          "name": "stdout"
        }
      ]
    },
    {
      "cell_type": "code",
      "metadata": {
        "colab": {
          "base_uri": "https://localhost:8080/"
        },
        "id": "28RhhRyMrXXP",
        "outputId": "5a93094b-8c32-4005-cf0b-7733d3c86636"
      },
      "source": [
        "tuner.search(\r\n",
        "    x=a,\r\n",
        "    batch_size=BATCH_SIZE,\r\n",
        "    epochs=EPOCHS\r\n",
        ")"
      ],
      "execution_count": null,
      "outputs": [
        {
          "output_type": "stream",
          "text": [
            "Trial 31 Complete [00h 09m 54s]\n",
            "accuracy: 0.7504324913024902\n",
            "\n",
            "Best accuracy So Far: 0.7559504508972168\n",
            "Total elapsed time: 01h 25m 53s\n",
            "INFO:tensorflow:Oracle triggered exit\n"
          ],
          "name": "stdout"
        }
      ]
    },
    {
      "cell_type": "code",
      "metadata": {
        "colab": {
          "base_uri": "https://localhost:8080/"
        },
        "id": "TDDOmL3wEN2K",
        "outputId": "a09f2dc8-e620-42c3-9c4a-095d44ca5317"
      },
      "source": [
        "tuner.get_best_models(num_models=3)"
      ],
      "execution_count": null,
      "outputs": [
        {
          "output_type": "execute_result",
          "data": {
            "text/plain": [
              "[<tensorflow.python.keras.engine.functional.Functional at 0x7fbba83ae898>,\n",
              " <tensorflow.python.keras.engine.functional.Functional at 0x7fbbaa2a5780>,\n",
              " <tensorflow.python.keras.engine.functional.Functional at 0x7fbbab944390>]"
            ]
          },
          "metadata": {
            "tags": []
          },
          "execution_count": 134
        }
      ]
    },
    {
      "cell_type": "code",
      "metadata": {
        "colab": {
          "base_uri": "https://localhost:8080/"
        },
        "id": "IldrchGXNhw4",
        "outputId": "99e4df1f-7d95-4abc-9e8e-551e8f7a2a32"
      },
      "source": [
        "tuner.results_summary()"
      ],
      "execution_count": null,
      "outputs": [
        {
          "output_type": "stream",
          "text": [
            "Results summary\n",
            "Results in output/Chatbot_hyperband\n",
            "Showing 10 best trials\n",
            "Objective(name='accuracy', direction='max')\n",
            "Trial summary\n",
            "Hyperparameters:\n",
            "LSTM_var: 512\n",
            "nodes_var: 4500\n",
            "n_layers: 3\n",
            "optimizer_var: adam\n",
            "tuner/epochs: 10\n",
            "tuner/initial_epoch: 0\n",
            "tuner/bracket: 0\n",
            "tuner/round: 0\n",
            "Score: 0.7559504508972168\n",
            "Trial summary\n",
            "Hyperparameters:\n",
            "LSTM_var: 256\n",
            "nodes_var: 4500\n",
            "n_layers: 3\n",
            "optimizer_var: adam\n",
            "tuner/epochs: 10\n",
            "tuner/initial_epoch: 0\n",
            "tuner/bracket: 0\n",
            "tuner/round: 0\n",
            "Score: 0.7504324913024902\n",
            "Trial summary\n",
            "Hyperparameters:\n",
            "LSTM_var: 512\n",
            "nodes_var: 4500\n",
            "n_layers: 1\n",
            "optimizer_var: rmsprop\n",
            "tuner/epochs: 10\n",
            "tuner/initial_epoch: 4\n",
            "tuner/bracket: 2\n",
            "tuner/round: 2\n",
            "tuner/trial_id: 3520464fef6e74138cc4daee1b31c1df\n",
            "Score: 0.747215986251831\n",
            "Trial summary\n",
            "Hyperparameters:\n",
            "LSTM_var: 512\n",
            "nodes_var: 5500\n",
            "n_layers: 2\n",
            "optimizer_var: rmsprop\n",
            "tuner/epochs: 10\n",
            "tuner/initial_epoch: 4\n",
            "tuner/bracket: 2\n",
            "tuner/round: 2\n",
            "tuner/trial_id: 51c9d181622148998413cbb6406504ad\n",
            "Score: 0.7462644577026367\n",
            "Trial summary\n",
            "Hyperparameters:\n",
            "LSTM_var: 512\n",
            "nodes_var: 4500\n",
            "n_layers: 2\n",
            "optimizer_var: rmsprop\n",
            "tuner/epochs: 10\n",
            "tuner/initial_epoch: 4\n",
            "tuner/bracket: 1\n",
            "tuner/round: 1\n",
            "tuner/trial_id: fbb32bb5ed7ffa9cd241f96793331907\n",
            "Score: 0.7458024024963379\n",
            "Trial summary\n",
            "Hyperparameters:\n",
            "LSTM_var: 512\n",
            "nodes_var: 4500\n",
            "n_layers: 1\n",
            "optimizer_var: adam\n",
            "tuner/epochs: 10\n",
            "tuner/initial_epoch: 4\n",
            "tuner/bracket: 1\n",
            "tuner/round: 1\n",
            "tuner/trial_id: 048298ed2f629b5ba24172ab258bda29\n",
            "Score: 0.7418938279151917\n",
            "Trial summary\n",
            "Hyperparameters:\n",
            "LSTM_var: 512\n",
            "nodes_var: 4500\n",
            "n_layers: 2\n",
            "optimizer_var: rmsprop\n",
            "tuner/epochs: 4\n",
            "tuner/initial_epoch: 0\n",
            "tuner/bracket: 1\n",
            "tuner/round: 0\n",
            "Score: 0.7409582734107971\n",
            "Trial summary\n",
            "Hyperparameters:\n",
            "LSTM_var: 512\n",
            "nodes_var: 4500\n",
            "n_layers: 1\n",
            "optimizer_var: rmsprop\n",
            "tuner/epochs: 4\n",
            "tuner/initial_epoch: 2\n",
            "tuner/bracket: 2\n",
            "tuner/round: 1\n",
            "tuner/trial_id: c239f0a5b05a837cb68669efc940f47d\n",
            "Score: 0.7349076867103577\n",
            "Trial summary\n",
            "Hyperparameters:\n",
            "LSTM_var: 512\n",
            "nodes_var: 5500\n",
            "n_layers: 2\n",
            "optimizer_var: rmsprop\n",
            "tuner/epochs: 4\n",
            "tuner/initial_epoch: 2\n",
            "tuner/bracket: 2\n",
            "tuner/round: 1\n",
            "tuner/trial_id: 9315491b1345b72b5dcaa043c171d18f\n",
            "Score: 0.7346322536468506\n",
            "Trial summary\n",
            "Hyperparameters:\n",
            "LSTM_var: 512\n",
            "nodes_var: 4500\n",
            "n_layers: 1\n",
            "optimizer_var: rmsprop\n",
            "tuner/epochs: 2\n",
            "tuner/initial_epoch: 0\n",
            "tuner/bracket: 2\n",
            "tuner/round: 0\n",
            "Score: 0.7339288592338562\n"
          ],
          "name": "stdout"
        }
      ]
    },
    {
      "cell_type": "markdown",
      "metadata": {
        "id": "GYTjhBaZyQ_e"
      },
      "source": [
        "### Training the optimized model"
      ]
    },
    {
      "cell_type": "code",
      "metadata": {
        "id": "G6LpdVYizIPg"
      },
      "source": [
        "# Macros are defined for training.\n",
        "BATCH_SIZE = 64\n",
        "EPOCHS = 30\n",
        "MAX_NUM_WORDS = 5000\n",
        "LSTM_NODES = 512\n",
        "N_LAYERS = 3\n",
        "NODES_VAR = 4500\n",
        "OPTIMIZER_VAR = 'adam'"
      ],
      "execution_count": 200,
      "outputs": []
    },
    {
      "cell_type": "code",
      "metadata": {
        "id": "OgeNqBfw10ww"
      },
      "source": [
        "def build_model():\n",
        "    # set number of LSTM nodes\n",
        "    LSTM_NODES = 512\n",
        "    # The encoder of the model is defined.\n",
        "    # The input of the encoder are the sentences and the output is\n",
        "    # the hidden state and cell state of the LSTM.\n",
        "\n",
        "    embedding_layer = Embedding(MAX_NUM_WORDS, EMBEDDING_SIZE, weights=[embedding_matrix], input_length=40)\n",
        "    encoder_inputs_placeholder = Input(shape=(40,))\n",
        "    x = embedding_layer(encoder_inputs_placeholder)\n",
        "\n",
        "    # lstm_1_var = hp.Choice('lstm_1_var', values = [LSTM(LSTM_NODES, return_state=True), Bidirectional(LSTM(LSTM_NODES, return_state=True))])\n",
        "\n",
        "    # if hp.Boolean('lstm_1_bool'):\n",
        "    encoder = LSTM(LSTM_NODES, return_state=True)\n",
        "    # else:\n",
        "    #   encoder = Bidirectional(LSTM(LSTM_NODES, return_state=True))\n",
        "\n",
        "    encoder_outputs, h, c = encoder(x)\n",
        "    encoder_states = [h, c]\n",
        "\n",
        "    # The decoder is defined.\n",
        "    # The input of the decoder are the hidden state and cell state of the\n",
        "    # encoder and the input sentence.\n",
        "    decoder_inputs_placeholder = Input(shape=(44,))\n",
        "\n",
        "    decoder_embedding = Embedding(MAX_NUM_WORDS, LSTM_NODES)\n",
        "    decoder_inputs_x = decoder_embedding(decoder_inputs_placeholder)\n",
        "\n",
        "    # lstm_2_var = hp.Choice('lstm_2_var', values = [LSTM(LSTM_NODES, return_sequences=True, return_state=True), Bidirectional(LSTM(LSTM_NODES, return_sequences=True, return_state=True))])\n",
        "\n",
        "    # if hp.Boolean('lstm_2_bool'):\n",
        "    decoder_lstm = LSTM(LSTM_NODES, return_sequences=True, return_state=True)\n",
        "    # else:\n",
        "    #   decoder_lstm = Bidirectional(LSTM(LSTM_NODES, return_sequences=True, return_state=True))\n",
        "\n",
        "    decoder_outputs, _, _ = decoder_lstm(decoder_inputs_x, initial_state=encoder_states)\n",
        "\n",
        "    activation_var = 'relu'\n",
        "    nodes_var = NODES_VAR\n",
        "    for i in range(N_LAYERS):  # adding variation of layers.\n",
        "      new_dense_layer = Dense(nodes_var, activation=activation_var)\n",
        "      decoder_outputs = new_dense_layer(decoder_outputs)\n",
        "      new_dropout_layer = Dropout(0.2)\n",
        "      decoder_outputs = new_dropout_layer(decoder_outputs)\n",
        "\n",
        "    mid_layer = Dense(nodes_var, activation=activation_var)\n",
        "    decoder_outputs_2 = mid_layer(decoder_outputs)\n",
        "\n",
        "    # The output of the decoder is given to a dense layer to predict\n",
        "    # the decoder output.\n",
        "    decoder_dense = Dense(5000, activation='softmax')\n",
        "    decoder_outputs = decoder_dense(decoder_outputs)\n",
        "\n",
        "    # The model is connected and compiled. There are two inputs: the\n",
        "    # encoder and the decoder input.\n",
        "    model = Model([encoder_inputs_placeholder,\n",
        "      decoder_inputs_placeholder], decoder_outputs)\n",
        "\n",
        "    \n",
        "    model.compile(\n",
        "        optimizer=OPTIMIZER_VAR,\n",
        "        loss='categorical_crossentropy',\n",
        "        metrics=['accuracy']\n",
        "    )\n",
        "    return model"
      ],
      "execution_count": 201,
      "outputs": []
    },
    {
      "cell_type": "code",
      "metadata": {
        "colab": {
          "base_uri": "https://localhost:8080/"
        },
        "id": "Jc-fPa3H19x3",
        "outputId": "6b41b2b4-3b1c-4962-9a4a-51df3cb256eb"
      },
      "source": [
        "my_data = LSTM_train_data_generator(encoder_input_sequences, decoder_input_sequences, decoder_output_sequences, BATCH_SIZE, max_out_len, num_words)\r\n",
        "my_model = build_model()"
      ],
      "execution_count": 204,
      "outputs": [
        {
          "output_type": "stream",
          "text": [
            "64\n"
          ],
          "name": "stdout"
        }
      ]
    },
    {
      "cell_type": "code",
      "metadata": {
        "colab": {
          "base_uri": "https://localhost:8080/",
          "height": 1000
        },
        "id": "A3Fcl8F6dhRL",
        "outputId": "3306db74-b629-4bd2-c653-444b5503dac4"
      },
      "source": [
        "from keras.utils import plot_model\n",
        "plot_model(my_model, to_file='model_plot4a.png', show_shapes=True, show_layer_names=True)"
      ],
      "execution_count": 205,
      "outputs": [
        {
          "output_type": "execute_result",
          "data": {
            "image/png": "[encoded data removed]",
            "text/plain": [
              "<IPython.core.display.Image object>"
            ]
          },
          "metadata": {
            "tags": []
          },
          "execution_count": 205
        }
      ]
    },
    {
      "cell_type": "code",
      "metadata": {
        "colab": {
          "base_uri": "https://localhost:8080/"
        },
        "id": "ojqLGBcUyVrw",
        "outputId": "e747c700-31ac-475d-9669-78952f7cc47d"
      },
      "source": [
        "my_model.fit(\r\n",
        "    x=my_data,\r\n",
        "    batch_size=BATCH_SIZE,\r\n",
        "    epochs=20 #EPOCHS\r\n",
        ")"
      ],
      "execution_count": 232,
      "outputs": [
        {
          "output_type": "stream",
          "text": [
            "Epoch 1/20\n",
            "156/156 [==============================] - 69s 441ms/step - loss: 0.1549 - accuracy: 0.9555\n",
            "Epoch 2/20\n",
            "156/156 [==============================] - 70s 446ms/step - loss: 0.1450 - accuracy: 0.9584\n",
            "Epoch 3/20\n",
            "156/156 [==============================] - 70s 446ms/step - loss: 0.1334 - accuracy: 0.9618\n",
            "Epoch 4/20\n",
            "156/156 [==============================] - 70s 448ms/step - loss: 0.1269 - accuracy: 0.9634\n",
            "Epoch 5/20\n",
            "156/156 [==============================] - 70s 447ms/step - loss: 0.1195 - accuracy: 0.9654\n",
            "Epoch 6/20\n",
            "156/156 [==============================] - 70s 446ms/step - loss: 0.1169 - accuracy: 0.9665\n",
            "Epoch 7/20\n",
            "156/156 [==============================] - 70s 448ms/step - loss: 0.1099 - accuracy: 0.9683\n",
            "Epoch 8/20\n",
            "156/156 [==============================] - 70s 448ms/step - loss: 0.1023 - accuracy: 0.9702\n",
            "Epoch 9/20\n",
            "156/156 [==============================] - 70s 446ms/step - loss: 0.0995 - accuracy: 0.9711\n",
            "Epoch 10/20\n",
            "156/156 [==============================] - 69s 445ms/step - loss: 0.0984 - accuracy: 0.9713\n",
            "Epoch 11/20\n",
            "156/156 [==============================] - 69s 444ms/step - loss: 0.0955 - accuracy: 0.9722\n",
            "Epoch 12/20\n",
            "156/156 [==============================] - 69s 443ms/step - loss: 0.0926 - accuracy: 0.9729\n",
            "Epoch 13/20\n",
            "156/156 [==============================] - 69s 443ms/step - loss: 0.0898 - accuracy: 0.9740\n",
            "Epoch 14/20\n",
            "156/156 [==============================] - 69s 443ms/step - loss: 0.0883 - accuracy: 0.9744\n",
            "Epoch 15/20\n",
            "156/156 [==============================] - 69s 443ms/step - loss: 0.0855 - accuracy: 0.9748\n",
            "Epoch 16/20\n",
            "156/156 [==============================] - 69s 442ms/step - loss: 0.0874 - accuracy: 0.9747\n",
            "Epoch 17/20\n",
            "156/156 [==============================] - 69s 439ms/step - loss: 0.0846 - accuracy: 0.9752\n",
            "Epoch 18/20\n",
            "156/156 [==============================] - 68s 439ms/step - loss: 0.0824 - accuracy: 0.9759\n",
            "Epoch 19/20\n",
            "156/156 [==============================] - 69s 439ms/step - loss: 0.0796 - accuracy: 0.9766\n",
            "Epoch 20/20\n",
            "156/156 [==============================] - 69s 440ms/step - loss: 0.0794 - accuracy: 0.9766\n"
          ],
          "name": "stdout"
        },
        {
          "output_type": "execute_result",
          "data": {
            "text/plain": [
              "<tensorflow.python.keras.callbacks.History at 0x7f67ab3f4ef0>"
            ]
          },
          "metadata": {
            "tags": []
          },
          "execution_count": 232
        }
      ]
    },
    {
      "cell_type": "code",
      "metadata": {
        "colab": {
          "base_uri": "https://localhost:8080/"
        },
        "id": "R_HnnVYXbc4v",
        "outputId": "b481920b-5b84-40fa-8c8c-0bf272694909"
      },
      "source": [
        "# save model\n",
        "my_model.save('model_4')"
      ],
      "execution_count": 234,
      "outputs": [
        {
          "output_type": "stream",
          "text": [
            "INFO:tensorflow:Assets written to: model_4/assets\n"
          ],
          "name": "stdout"
        }
      ]
    },
    {
      "cell_type": "code",
      "metadata": {
        "id": "SNIEonFuYMPK"
      },
      "source": [
        "!rm model_4 -r\r\n"
      ],
      "execution_count": 255,
      "outputs": []
    },
    {
      "cell_type": "code",
      "metadata": {
        "colab": {
          "base_uri": "https://localhost:8080/"
        },
        "id": "xK_ik_WUbKar",
        "outputId": "0b415026-5dda-4d65-d060-61f65b5cc2f7"
      },
      "source": [
        "!unzip model_4.zip"
      ],
      "execution_count": 258,
      "outputs": [
        {
          "output_type": "stream",
          "text": [
            "Archive:  model_4.zip\n",
            "   creating: model_4/\n",
            "   creating: model_4/assets/\n",
            "  inflating: model_4/saved_model.pb  \n",
            "   creating: model_4/variables/\n",
            "  inflating: model_4/variables/variables.data-00000-of-00001  \n",
            "  inflating: model_4/variables/variables.index  \n"
          ],
          "name": "stdout"
        }
      ]
    },
    {
      "cell_type": "code",
      "metadata": {
        "colab": {
          "base_uri": "https://localhost:8080/"
        },
        "id": "Mrgpio_ebc4w",
        "outputId": "8caaba7d-46fd-4638-8a4b-580e0b205b8d"
      },
      "source": [
        "# zip saved model\n",
        "!zip -r model_4.zip model_4"
      ],
      "execution_count": 208,
      "outputs": [
        {
          "output_type": "stream",
          "text": [
            "  adding: model_4/ (stored 0%)\n",
            "  adding: model_4/assets/ (stored 0%)\n",
            "  adding: model_4/saved_model.pb (deflated 90%)\n",
            "  adding: model_4/variables/ (stored 0%)\n",
            "  adding: model_4/variables/variables.data-00000-of-00001 (deflated 18%)\n",
            "  adding: model_4/variables/variables.index (deflated 69%)\n"
          ],
          "name": "stdout"
        }
      ]
    },
    {
      "cell_type": "code",
      "metadata": {
        "id": "bp7ZMmW2lZ7X"
      },
      "source": [
        "from tensorflow.keras.models import load_model\r\n",
        "t = load_model('model_4', compile=False)"
      ],
      "execution_count": 259,
      "outputs": []
    },
    {
      "cell_type": "code",
      "metadata": {
        "id": "W7skc_Zlm_x9"
      },
      "source": [
        "def create_encoder_decoder_models(from_model):\r\n",
        "  encoder_inputs_placeholder = Input(shape=(40,))\r\n",
        "\r\n",
        "  embedding_layer = from_model.get_layer('embedding_9')\r\n",
        "  x = embedding_layer(encoder_inputs_placeholder)\r\n",
        "\r\n",
        "  encoder = from_model.get_layer('lstm_8')\r\n",
        "\r\n",
        "  encoder_outputs, h, c = encoder(x)\r\n",
        "  encoder_states = [h, c]\r\n",
        "\r\n",
        "  encoder_model = Model(encoder_inputs_placeholder, encoder_states)\r\n",
        "\r\n",
        "\r\n",
        "  ##################\r\n",
        "\r\n",
        "  # decoder_state_input_h = None\r\n",
        "  # decoder_state_input_c = None\r\n",
        "  # decoder_states_inputs = None\r\n",
        "\r\n",
        "  # decoder_inputs_single = None\r\n",
        "  # decoder_embedding = None\r\n",
        "  # decoder_inputs_single_x = None\r\n",
        "\r\n",
        "  # decoder_lstm = None\r\n",
        "  # decoder_outputs, h, c = None, None, None\r\n",
        "\r\n",
        "  # decoder_states = None\r\n",
        "\r\n",
        "  # opt_dense_0 = None\r\n",
        "  # opt_dense_1 = None\r\n",
        "  # opt_dense_2 = None\r\n",
        "\r\n",
        "  # decoder_outputs = None\r\n",
        "  # decoder_outputs = None\r\n",
        "  # decoder_outputs = None\r\n",
        "\r\n",
        "  # decoder_dense = None\r\n",
        "  # decoder_outputs = None\r\n",
        "\r\n",
        "  # decoder_model = None\r\n",
        "\r\n",
        "\r\n",
        "  decoder_state_input_h = Input(shape=(512,))\r\n",
        "  decoder_state_input_c = Input(shape=(512,))\r\n",
        "  decoder_states_inputs = [decoder_state_input_h, decoder_state_input_c]\r\n",
        "\r\n",
        "  decoder_inputs_single = Input(shape=(1,))\r\n",
        "  decoder_embedding = from_model.get_layer('embedding_10')\r\n",
        "  decoder_inputs_single_x = decoder_embedding(decoder_inputs_single)\r\n",
        "\r\n",
        "  decoder_lstm = from_model.get_layer('lstm_9')\r\n",
        "  decoder_outputs, h, c = decoder_lstm(decoder_inputs_single_x, initial_state=decoder_states_inputs)\r\n",
        "\r\n",
        "  decoder_states = [h, c]\r\n",
        "\r\n",
        "  opt_dense_0 = from_model.get_layer('dense_12')\r\n",
        "  opt_dense_1 = from_model.get_layer('dense_13')\r\n",
        "  opt_dense_2 = from_model.get_layer('dense_14')\r\n",
        "\r\n",
        "  decoder_outputs = opt_dense_0(decoder_outputs)\r\n",
        "  decoder_outputs = opt_dense_1(decoder_outputs)\r\n",
        "  decoder_outputs = opt_dense_2(decoder_outputs)\r\n",
        "\r\n",
        "  decoder_dense = from_model.get_layer('dense_16')\r\n",
        "  decoder_outputs = decoder_dense(decoder_outputs)\r\n",
        "\r\n",
        "  decoder_model = Model(\r\n",
        "      [decoder_inputs_single] + decoder_states_inputs,\r\n",
        "      [decoder_outputs] + decoder_states\r\n",
        "  )\r\n",
        "\r\n",
        "  \r\n",
        "  return encoder_model, decoder_model\r\n",
        "\r\n"
      ],
      "execution_count": 236,
      "outputs": []
    },
    {
      "cell_type": "code",
      "metadata": {
        "id": "n-7keUwupf74"
      },
      "source": [
        "test_model_enc, test_model_dec = create_encoder_decoder_models(t)"
      ],
      "execution_count": 260,
      "outputs": []
    },
    {
      "cell_type": "code",
      "metadata": {
        "colab": {
          "base_uri": "https://localhost:8080/",
          "height": 312
        },
        "id": "ByA8HAN4pcoG",
        "outputId": "3b7acdef-3440-4e0f-99e9-f13bb1233e39"
      },
      "source": [
        "from keras.utils import plot_model\r\n",
        "plot_model(test_model_enc, to_file='model_plot4a.png', show_shapes=True, show_layer_names=True)"
      ],
      "execution_count": 212,
      "outputs": [
        {
          "output_type": "execute_result",
          "data": {
            "image/png": "[encoded data removed]",
            "text/plain": [
              "<IPython.core.display.Image object>"
            ]
          },
          "metadata": {
            "tags": []
          },
          "execution_count": 212
        }
      ]
    },
    {
      "cell_type": "code",
      "metadata": {
        "colab": {
          "base_uri": "https://localhost:8080/",
          "height": 754
        },
        "id": "bigWr1a460R3",
        "outputId": "f4d5ea9a-d37b-4f77-9b18-0a6d71d64258"
      },
      "source": [
        "from keras.utils import plot_model\r\n",
        "plot_model(test_model_dec, to_file='model_plot4a.png', show_shapes=True, show_layer_names=True)"
      ],
      "execution_count": 213,
      "outputs": [
        {
          "output_type": "execute_result",
          "data": {
            "image/png": "[encoded data removed]",
            "text/plain": [
              "<IPython.core.display.Image object>"
            ]
          },
          "metadata": {
            "tags": []
          },
          "execution_count": 213
        }
      ]
    },
    {
      "cell_type": "code",
      "metadata": {
        "id": "36BPpJpE_uVm"
      },
      "source": [
        "# Dictionaries for input and ouput\r\n",
        "# They help converting the integers back to words.\r\n",
        "idx2word_input = {v:k for k, v in word2idx_inputs.items()}\r\n",
        "idx2word_target = {v:k for k, v in word2idx_outputs.items()}"
      ],
      "execution_count": 261,
      "outputs": []
    },
    {
      "cell_type": "code",
      "metadata": {
        "id": "WEr2Kcs6_yEa"
      },
      "source": [
        "# Predicts the answer for an input sentence.\r\n",
        "def answer_sentence_1(input_seq):\r\n",
        "    # The encoder model predicts the hidden and cell state.\r\n",
        "    states_value = test_model_enc.predict(input_seq)\r\n",
        "    # Target stores the integer representation of <sos>\r\n",
        "    target_seq = np.zeros((1, 1))\r\n",
        "    target_seq[0, 0] = word2idx_outputs['<sos>']\r\n",
        "    # Eos stores the integer representation of <eos>\r\n",
        "    eos = word2idx_outputs['<eos>']\r\n",
        "    # Stores the response\r\n",
        "    output_sentence = []\r\n",
        "\r\n",
        "    # Every iteration a word of the output sentence is predicted.\r\n",
        "    for _ in range(max_out_len):\r\n",
        "        # The output, the hidden and cell states are predicted.\r\n",
        "        output_tokens, h, c = test_model_dec.predict([target_seq] + states_value)\r\n",
        "        # The most probable word is selected.\r\n",
        "        idx = np.argmax(output_tokens[0, 0, :])\r\n",
        "        # If the word is <eos>, the loop ends.\r\n",
        "        if eos == idx:\r\n",
        "            break\r\n",
        "\r\n",
        "        word = ''\r\n",
        "        # The token is converted to a word and added to the output sentence\r\n",
        "        if idx > 0:\r\n",
        "            word = idx2word_target[idx]\r\n",
        "            output_sentence.append(word)\r\n",
        "        # Target_eq and states_value are refreshed.\r\n",
        "        target_seq[0, 0] = idx\r\n",
        "        states_value = [h, c]\r\n",
        "\r\n",
        "    return ' '.join(output_sentence)"
      ],
      "execution_count": 262,
      "outputs": []
    },
    {
      "cell_type": "code",
      "metadata": {
        "colab": {
          "base_uri": "https://localhost:8080/"
        },
        "id": "dcu4X6Rf_06c",
        "outputId": "6624e859-0dcb-45b0-d926-3699dd84d841"
      },
      "source": [
        "i = np.random.choice(len(input_sentences))\r\n",
        "input_seq = encoder_input_sequences[i:i+1]\r\n",
        "print(input_seq)\r\n",
        "translation = answer_sentence_1(input_seq)\r\n",
        "print('-')\r\n",
        "print('Input: ', input_sentences[i])\r\n",
        "print('Response: ', translation)\r\n",
        "print(\"Actual response: \",xy_data_df['output_input'][i][6:])"
      ],
      "execution_count": 268,
      "outputs": [
        {
          "output_type": "stream",
          "text": [
            "[[   0    0    0    0    0    0    0    0    0    0    0    0    0    0\n",
            "     0    0    0    0    0    0    0    0    0    0    0    0    0    0\n",
            "     0    0    0    0 4248  511    7   14  221   70    2 2519]]\n",
            "-\n",
            "Input:  Nerdist, hardcore history, and radiolab are best, by a wide margin.\n",
            "Response:  the best episode by far was the one with totally worth listening to what's your\n",
            "Actual response:  The best Nerdist episode BY FAR was the one with Alex Trebek. Totally worth listening to. What's your fave?\n"
          ],
          "name": "stdout"
        }
      ]
    },
    {
      "cell_type": "code",
      "metadata": {
        "colab": {
          "base_uri": "https://localhost:8080/"
        },
        "id": "I_yCT2PcZFaI",
        "outputId": "3f46bf2c-e758-4d92-d094-e2b3bec500ef"
      },
      "source": [
        "print(xy_data_df['input'][i])\r\n",
        "print()\r\n",
        "print(xy_data_df['output'][i])\r\n",
        "print()\r\n",
        "print(xy_data_df['output_input'][i])"
      ],
      "execution_count": 245,
      "outputs": [
        {
          "output_type": "stream",
          "text": [
            "What's weird, and frankly INSANE, about this is that it's current news.  That this is happening currently in a society around right now completely blows my mind.  I feel so removed from it all\n",
            "\n",
            "It really highlights the dangers of having such an insane megalomaniac killer in charge of a nation of people.  Image what worldwide horrors he might cause if he is able too.   <eos>\n",
            "\n",
            "<sos> It really highlights the dangers of having such an insane megalomaniac killer in charge of a nation of people.  Image what worldwide horrors he might cause if he is able too.  \n"
          ],
          "name": "stdout"
        }
      ]
    },
    {
      "cell_type": "code",
      "metadata": {
        "colab": {
          "base_uri": "https://localhost:8080/",
          "height": 631
        },
        "id": "21IggSPoPWcX",
        "outputId": "6822286c-c237-4d09-e92a-7847319d4f3a"
      },
      "source": [
        "for i in range(10):\r\n",
        "  print('-')\r\n",
        "  my_inp = input()\r\n",
        "\r\n",
        "  tokenized_input = input_tokenizer.texts_to_sequences([my_inp])\r\n",
        "  input_seq = pad_sequences(tokenized_input, maxlen=max_input_len)\r\n",
        "  translation = answer_sentence_1(input_seq)\r\n",
        "  print('Response:', translation)"
      ],
      "execution_count": 269,
      "outputs": [
        {
          "output_type": "stream",
          "text": [
            "-\n",
            "Hitler did nothing wrong\n",
            "Response: the at waste of us you're going to be a rape victim\n",
            "-\n"
          ],
          "name": "stdout"
        },
        {
          "output_type": "error",
          "ename": "KeyboardInterrupt",
          "evalue": "ignored",
          "traceback": [
            "\u001b[0;31m---------------------------------------------------------------------------\u001b[0m",
            "\u001b[0;31mKeyboardInterrupt\u001b[0m                         Traceback (most recent call last)",
            "\u001b[0;32m/usr/local/lib/python3.6/dist-packages/ipykernel/kernelbase.py\u001b[0m in \u001b[0;36m_input_request\u001b[0;34m(self, prompt, ident, parent, password)\u001b[0m\n\u001b[1;32m    728\u001b[0m             \u001b[0;32mtry\u001b[0m\u001b[0;34m:\u001b[0m\u001b[0;34m\u001b[0m\u001b[0;34m\u001b[0m\u001b[0m\n\u001b[0;32m--> 729\u001b[0;31m                 \u001b[0mident\u001b[0m\u001b[0;34m,\u001b[0m \u001b[0mreply\u001b[0m \u001b[0;34m=\u001b[0m \u001b[0mself\u001b[0m\u001b[0;34m.\u001b[0m\u001b[0msession\u001b[0m\u001b[0;34m.\u001b[0m\u001b[0mrecv\u001b[0m\u001b[0;34m(\u001b[0m\u001b[0mself\u001b[0m\u001b[0;34m.\u001b[0m\u001b[0mstdin_socket\u001b[0m\u001b[0;34m,\u001b[0m \u001b[0;36m0\u001b[0m\u001b[0;34m)\u001b[0m\u001b[0;34m\u001b[0m\u001b[0;34m\u001b[0m\u001b[0m\n\u001b[0m\u001b[1;32m    730\u001b[0m             \u001b[0;32mexcept\u001b[0m \u001b[0mException\u001b[0m\u001b[0;34m:\u001b[0m\u001b[0;34m\u001b[0m\u001b[0;34m\u001b[0m\u001b[0m\n",
            "\u001b[0;32m/usr/local/lib/python3.6/dist-packages/jupyter_client/session.py\u001b[0m in \u001b[0;36mrecv\u001b[0;34m(self, socket, mode, content, copy)\u001b[0m\n\u001b[1;32m    802\u001b[0m         \u001b[0;32mtry\u001b[0m\u001b[0;34m:\u001b[0m\u001b[0;34m\u001b[0m\u001b[0;34m\u001b[0m\u001b[0m\n\u001b[0;32m--> 803\u001b[0;31m             \u001b[0mmsg_list\u001b[0m \u001b[0;34m=\u001b[0m \u001b[0msocket\u001b[0m\u001b[0;34m.\u001b[0m\u001b[0mrecv_multipart\u001b[0m\u001b[0;34m(\u001b[0m\u001b[0mmode\u001b[0m\u001b[0;34m,\u001b[0m \u001b[0mcopy\u001b[0m\u001b[0;34m=\u001b[0m\u001b[0mcopy\u001b[0m\u001b[0;34m)\u001b[0m\u001b[0;34m\u001b[0m\u001b[0;34m\u001b[0m\u001b[0m\n\u001b[0m\u001b[1;32m    804\u001b[0m         \u001b[0;32mexcept\u001b[0m \u001b[0mzmq\u001b[0m\u001b[0;34m.\u001b[0m\u001b[0mZMQError\u001b[0m \u001b[0;32mas\u001b[0m \u001b[0me\u001b[0m\u001b[0;34m:\u001b[0m\u001b[0;34m\u001b[0m\u001b[0;34m\u001b[0m\u001b[0m\n",
            "\u001b[0;32m/usr/local/lib/python3.6/dist-packages/zmq/sugar/socket.py\u001b[0m in \u001b[0;36mrecv_multipart\u001b[0;34m(self, flags, copy, track)\u001b[0m\n\u001b[1;32m    565\u001b[0m         \"\"\"\n\u001b[0;32m--> 566\u001b[0;31m         \u001b[0mparts\u001b[0m \u001b[0;34m=\u001b[0m \u001b[0;34m[\u001b[0m\u001b[0mself\u001b[0m\u001b[0;34m.\u001b[0m\u001b[0mrecv\u001b[0m\u001b[0;34m(\u001b[0m\u001b[0mflags\u001b[0m\u001b[0;34m,\u001b[0m \u001b[0mcopy\u001b[0m\u001b[0;34m=\u001b[0m\u001b[0mcopy\u001b[0m\u001b[0;34m,\u001b[0m \u001b[0mtrack\u001b[0m\u001b[0;34m=\u001b[0m\u001b[0mtrack\u001b[0m\u001b[0;34m)\u001b[0m\u001b[0;34m]\u001b[0m\u001b[0;34m\u001b[0m\u001b[0;34m\u001b[0m\u001b[0m\n\u001b[0m\u001b[1;32m    567\u001b[0m         \u001b[0;31m# have first part already, only loop while more to receive\u001b[0m\u001b[0;34m\u001b[0m\u001b[0;34m\u001b[0m\u001b[0;34m\u001b[0m\u001b[0m\n",
            "\u001b[0;32mzmq/backend/cython/socket.pyx\u001b[0m in \u001b[0;36mzmq.backend.cython.socket.Socket.recv\u001b[0;34m()\u001b[0m\n",
            "\u001b[0;32mzmq/backend/cython/socket.pyx\u001b[0m in \u001b[0;36mzmq.backend.cython.socket.Socket.recv\u001b[0;34m()\u001b[0m\n",
            "\u001b[0;32mzmq/backend/cython/socket.pyx\u001b[0m in \u001b[0;36mzmq.backend.cython.socket._recv_copy\u001b[0;34m()\u001b[0m\n",
            "\u001b[0;32m/usr/local/lib/python3.6/dist-packages/zmq/backend/cython/checkrc.pxd\u001b[0m in \u001b[0;36mzmq.backend.cython.checkrc._check_rc\u001b[0;34m()\u001b[0m\n",
            "\u001b[0;31mKeyboardInterrupt\u001b[0m: ",
            "\nDuring handling of the above exception, another exception occurred:\n",
            "\u001b[0;31mKeyboardInterrupt\u001b[0m                         Traceback (most recent call last)",
            "\u001b[0;32m<ipython-input-269-a6a85b5596b8>\u001b[0m in \u001b[0;36m<module>\u001b[0;34m()\u001b[0m\n\u001b[1;32m      1\u001b[0m \u001b[0;32mfor\u001b[0m \u001b[0mi\u001b[0m \u001b[0;32min\u001b[0m \u001b[0mrange\u001b[0m\u001b[0;34m(\u001b[0m\u001b[0;36m10\u001b[0m\u001b[0;34m)\u001b[0m\u001b[0;34m:\u001b[0m\u001b[0;34m\u001b[0m\u001b[0;34m\u001b[0m\u001b[0m\n\u001b[1;32m      2\u001b[0m   \u001b[0mprint\u001b[0m\u001b[0;34m(\u001b[0m\u001b[0;34m'-'\u001b[0m\u001b[0;34m)\u001b[0m\u001b[0;34m\u001b[0m\u001b[0;34m\u001b[0m\u001b[0m\n\u001b[0;32m----> 3\u001b[0;31m   \u001b[0mmy_inp\u001b[0m \u001b[0;34m=\u001b[0m \u001b[0minput\u001b[0m\u001b[0;34m(\u001b[0m\u001b[0;34m)\u001b[0m\u001b[0;34m\u001b[0m\u001b[0;34m\u001b[0m\u001b[0m\n\u001b[0m\u001b[1;32m      4\u001b[0m \u001b[0;34m\u001b[0m\u001b[0m\n\u001b[1;32m      5\u001b[0m   \u001b[0mtokenized_input\u001b[0m \u001b[0;34m=\u001b[0m \u001b[0minput_tokenizer\u001b[0m\u001b[0;34m.\u001b[0m\u001b[0mtexts_to_sequences\u001b[0m\u001b[0;34m(\u001b[0m\u001b[0;34m[\u001b[0m\u001b[0mmy_inp\u001b[0m\u001b[0;34m]\u001b[0m\u001b[0;34m)\u001b[0m\u001b[0;34m\u001b[0m\u001b[0;34m\u001b[0m\u001b[0m\n",
            "\u001b[0;32m/usr/local/lib/python3.6/dist-packages/ipykernel/kernelbase.py\u001b[0m in \u001b[0;36mraw_input\u001b[0;34m(self, prompt)\u001b[0m\n\u001b[1;32m    702\u001b[0m             \u001b[0mself\u001b[0m\u001b[0;34m.\u001b[0m\u001b[0m_parent_ident\u001b[0m\u001b[0;34m,\u001b[0m\u001b[0;34m\u001b[0m\u001b[0;34m\u001b[0m\u001b[0m\n\u001b[1;32m    703\u001b[0m             \u001b[0mself\u001b[0m\u001b[0;34m.\u001b[0m\u001b[0m_parent_header\u001b[0m\u001b[0;34m,\u001b[0m\u001b[0;34m\u001b[0m\u001b[0;34m\u001b[0m\u001b[0m\n\u001b[0;32m--> 704\u001b[0;31m             \u001b[0mpassword\u001b[0m\u001b[0;34m=\u001b[0m\u001b[0;32mFalse\u001b[0m\u001b[0;34m,\u001b[0m\u001b[0;34m\u001b[0m\u001b[0;34m\u001b[0m\u001b[0m\n\u001b[0m\u001b[1;32m    705\u001b[0m         )\n\u001b[1;32m    706\u001b[0m \u001b[0;34m\u001b[0m\u001b[0m\n",
            "\u001b[0;32m/usr/local/lib/python3.6/dist-packages/ipykernel/kernelbase.py\u001b[0m in \u001b[0;36m_input_request\u001b[0;34m(self, prompt, ident, parent, password)\u001b[0m\n\u001b[1;32m    732\u001b[0m             \u001b[0;32mexcept\u001b[0m \u001b[0mKeyboardInterrupt\u001b[0m\u001b[0;34m:\u001b[0m\u001b[0;34m\u001b[0m\u001b[0;34m\u001b[0m\u001b[0m\n\u001b[1;32m    733\u001b[0m                 \u001b[0;31m# re-raise KeyboardInterrupt, to truncate traceback\u001b[0m\u001b[0;34m\u001b[0m\u001b[0;34m\u001b[0m\u001b[0;34m\u001b[0m\u001b[0m\n\u001b[0;32m--> 734\u001b[0;31m                 \u001b[0;32mraise\u001b[0m \u001b[0mKeyboardInterrupt\u001b[0m\u001b[0;34m\u001b[0m\u001b[0;34m\u001b[0m\u001b[0m\n\u001b[0m\u001b[1;32m    735\u001b[0m             \u001b[0;32melse\u001b[0m\u001b[0;34m:\u001b[0m\u001b[0;34m\u001b[0m\u001b[0;34m\u001b[0m\u001b[0m\n\u001b[1;32m    736\u001b[0m                 \u001b[0;32mbreak\u001b[0m\u001b[0;34m\u001b[0m\u001b[0;34m\u001b[0m\u001b[0m\n",
            "\u001b[0;31mKeyboardInterrupt\u001b[0m: "
          ]
        }
      ]
    },
    {
      "cell_type": "markdown",
      "metadata": {
        "id": "WsXxF1at5tgE"
      },
      "source": [
        "### Evaluation\n",
        "Evaluate a few input sentences"
      ]
    },
    {
      "cell_type": "code",
      "metadata": {
        "colab": {
          "base_uri": "https://localhost:8080/"
        },
        "id": "8p826SimDng9",
        "outputId": "e9812a15-64bc-4144-8b2c-0655afc49246"
      },
      "source": [
        "i = np.random.choice(len(input_sentences))\n",
        "input_seq = encoder_input_sequences[i:i+1]\n",
        "translation = answer_sentence_1(input_seq)\n",
        "print('-')\n",
        "print('Input:', input_sentences[i])\n",
        "print('Response:', translation)"
      ],
      "execution_count": 130,
      "outputs": [
        {
          "output_type": "stream",
          "text": [
            "-\n",
            "Input: The description sounds more like Bioshock to me, though.\n",
            "Response: i don't have to be a lot of the\n"
          ],
          "name": "stdout"
        }
      ]
    },
    {
      "cell_type": "markdown",
      "metadata": {
        "id": "qSupBkqSIcwG"
      },
      "source": [
        "### Conclusion\n",
        "\n",
        "This model still has a way to go, but with a single training cycle the results were positive. The future goal is to create a better bot via training and trying to make a better model in general. We expect to arrive at a somewhat sensible model (as sensible as a model trained on reddit comments can be).\n",
        "The desired result would be a model which can react to inputs properly (in a way that makes sense in the given context). \n",
        "\n",
        "We will try to mitigate some of the problems we found in the answer the bot gave, such as words repeating and the bot giving an irrelevant answer. This can be achieved by using more data, having more training cycles, filtering the training data better (this is a hard thing to do, since there are so many comments that this needs to be automated, and creating an algorithm which can filter good data from bad data is hard) and trying different models.\n",
        "\n",
        "The end result won't be quantifiable by a computer, we need to label good and bad outcomes."
      ]
    }
  ]
}