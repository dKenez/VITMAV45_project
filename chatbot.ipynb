{
  "nbformat": 4,
  "nbformat_minor": 0,
  "metadata": {
    "accelerator": "GPU",
    "colab": {
      "name": "final_2.ipynb",
      "provenance": [],
      "collapsed_sections": []
    },
    "kernelspec": {
      "display_name": "Python 3",
      "language": "python",
      "name": "python3"
    },
    "language_info": {
      "codemirror_mode": {
        "name": "ipython",
        "version": 3
      },
      "file_extension": ".py",
      "mimetype": "text/x-python",
      "name": "python",
      "nbconvert_exporter": "python",
      "pygments_lexer": "ipython3",
      "version": "3.8.5"
    }
  },
  "cells": [
    {
      "cell_type": "markdown",
      "metadata": {
        "collapsed": true,
        "id": "SB3U2Uihao-z",
        "pycharm": {
          "name": "#%% md\n"
        }
      },
      "source": [
        "## Data preparation and preprocessing\n",
        "\n",
        "### Short introduction\n",
        "\n",
        "We are the Conloquor team, which means dialogue in latin. We will be developing a chatbot for our project this semester.\n",
        "\n",
        "Members:\n",
        "\n",
        "- Béres Bálint\n",
        "- Drexler Konrád\n",
        "- Drexler Kristóf\n",
        "\n",
        "### Data source\n",
        "\n",
        "We found a dataset on [reddit](https://www.reddit.com/r/datasets/comments/3bxlg7/i_have_every_publicly_available_reddit_comment/)\n",
        "which includes all the reddit comments categorized by month. A user uploaded the entire dataset to google's\n",
        "bigquery platform, here's the [reddit](https://www.reddit.com/r/bigquery/comments/3cej2b/17_billion_reddit_comments_loaded_on_bigquery/)\n",
        "thread.\n",
        "\n",
        "### Downloading the data\n",
        "\n",
        "We chose to use comments from may, 2015 for our project. For this we ran the following SQL query on the bigquery platform.\n",
        "\n",
        "```SQL\n",
        "select *\n",
        "from `fh-bigquery.reddit_comments.2015_05`\n",
        "where subreddit like 'science'\n",
        "    or subreddit like 'politics'\n",
        "    or subreddit like 'gaming'\n",
        "    or subreddit like 'worldnews'\n",
        "    or subreddit like 'CasualConversation'\n",
        "    or subreddit like 'sports'\n",
        "```\n",
        "\n",
        "At first we downloaded all the comments made that month, but the resulting file was 5GB compressed.\n",
        "Therefore, we limited the source subreddits to **r/science**, **r/politics**, **r/gaming**,\n",
        "**r/worldnews**, **r/CasualConversation** and **r/sports**. This query still yielded 1.45 million\n",
        "comments to work with, but was a manageable size. We exported the resulting table to a json file;\n",
        " `data_2015_05.json`. This `.json` is available on my [google drive](https://drive.google.com/file/d/13n1ET0mppD6i-DjqyJIFjAiMQp6V7v6q/view?usp=sharing).\n",
        " In the future, the project will automatically download the data."
      ]
    },
    {
      "cell_type": "markdown",
      "metadata": {
        "id": "sEMVmHUVao-4"
      },
      "source": [
        "## Formatting the data for preprocessing\n",
        "\n",
        "The initial json file still had a lot of unnecessary columns and unusable rows. Using further SQL queries we\n",
        "trimmed and transformed the data to fit our needs. At the end of the process we were left with just short of\n",
        "480000 message-response pairs. This was done by by filtering out messages longer than 200 characters, [deleted] messages\n",
        "and hyperlink only messages to name a few."
      ]
    },
    {
      "cell_type": "code",
      "metadata": {
        "colab": {
          "base_uri": "https://localhost:8080/"
        },
        "id": "a3s43kYIzHIB",
        "outputId": "e6f04bc7-c43e-4869-ff40-f5c4d2e45c45"
      },
      "source": [
        "# these libraries are not in the google colab repertoir by default, it needs to be installed manually\n",
        "!pip install pandasql\n",
        "!pip install googledrivedownloader"
      ],
      "execution_count": null,
      "outputs": [
        {
          "output_type": "stream",
          "text": [
            "Requirement already satisfied: pandasql in /usr/local/lib/python3.6/dist-packages (0.7.3)\n",
            "Requirement already satisfied: numpy in /usr/local/lib/python3.6/dist-packages (from pandasql) (1.18.5)\n",
            "Requirement already satisfied: sqlalchemy in /usr/local/lib/python3.6/dist-packages (from pandasql) (1.3.20)\n",
            "Requirement already satisfied: pandas in /usr/local/lib/python3.6/dist-packages (from pandasql) (1.1.4)\n",
            "Requirement already satisfied: python-dateutil>=2.7.3 in /usr/local/lib/python3.6/dist-packages (from pandas->pandasql) (2.8.1)\n",
            "Requirement already satisfied: pytz>=2017.2 in /usr/local/lib/python3.6/dist-packages (from pandas->pandasql) (2018.9)\n",
            "Requirement already satisfied: six>=1.5 in /usr/local/lib/python3.6/dist-packages (from python-dateutil>=2.7.3->pandas->pandasql) (1.15.0)\n"
          ],
          "name": "stdout"
        }
      ]
    },
    {
      "cell_type": "code",
      "metadata": {
        "id": "QUz1YZaUMpBv"
      },
      "source": [
        "from google_drive_downloader import GoogleDriveDownloader as gdd\r\n",
        "\r\n",
        "# download raw data from the link mentioined above\r\n",
        "gdd.download_file_from_google_drive(file_id='13n1ET0mppD6i-DjqyJIFjAiMQp6V7v6q',\r\n",
        "                                    dest_path='./data_2015_05.json',\r\n",
        "                                    unzip=False)"
      ],
      "execution_count": null,
      "outputs": []
    },
    {
      "cell_type": "code",
      "metadata": {
        "id": "gxlc4KJbao-5",
        "pycharm": {
          "name": "#%%\n"
        }
      },
      "source": [
        "# import statements\n",
        "import pandas as pd\n",
        "import pandasql as ps"
      ],
      "execution_count": null,
      "outputs": []
    },
    {
      "cell_type": "code",
      "metadata": {
        "id": "MHxBu3ziao_D",
        "pycharm": {
          "name": "#%%\n"
        }
      },
      "source": [
        "# Create dataframe from json file\n",
        "raw_data_df = pd.read_json(r'data_2015_05.json', orient='records', lines=True)"
      ],
      "execution_count": null,
      "outputs": []
    },
    {
      "cell_type": "code",
      "metadata": {
        "id": "niQWxwD6ao_I",
        "pycharm": {
          "name": "#%%\n"
        },
        "outputId": "3d08379b-8e1b-496e-eea5-3a3b055c1763"
      },
      "source": [
        "# Show top ten rows\n",
        "raw_data_df.head(10)"
      ],
      "execution_count": null,
      "outputs": [
        {
          "output_type": "execute_result",
          "data": {
            "text/html": [
              "<div>\n",
              "<style scoped>\n",
              "    .dataframe tbody tr th:only-of-type {\n",
              "        vertical-align: middle;\n",
              "    }\n",
              "\n",
              "    .dataframe tbody tr th {\n",
              "        vertical-align: top;\n",
              "    }\n",
              "\n",
              "    .dataframe thead th {\n",
              "        text-align: right;\n",
              "    }\n",
              "</style>\n",
              "<table border=\"1\" class=\"dataframe\">\n",
              "  <thead>\n",
              "    <tr style=\"text-align: right;\">\n",
              "      <th></th>\n",
              "      <th>body</th>\n",
              "      <th>score_hidden</th>\n",
              "      <th>archived</th>\n",
              "      <th>name</th>\n",
              "      <th>author</th>\n",
              "      <th>downs</th>\n",
              "      <th>created_utc</th>\n",
              "      <th>subreddit_id</th>\n",
              "      <th>link_id</th>\n",
              "      <th>parent_id</th>\n",
              "      <th>score</th>\n",
              "      <th>retrieved_on</th>\n",
              "      <th>controversiality</th>\n",
              "      <th>gilded</th>\n",
              "      <th>id</th>\n",
              "      <th>subreddit</th>\n",
              "      <th>ups</th>\n",
              "      <th>author_flair_text</th>\n",
              "      <th>author_flair_css_class</th>\n",
              "      <th>distinguished</th>\n",
              "    </tr>\n",
              "  </thead>\n",
              "  <tbody>\n",
              "    <tr>\n",
              "      <th>0</th>\n",
              "      <td>That wasn't just a personal belief of his. It'...</td>\n",
              "      <td>False</td>\n",
              "      <td>False</td>\n",
              "      <td>t1_cr7h0ln</td>\n",
              "      <td>tejon</td>\n",
              "      <td>0</td>\n",
              "      <td>1431494075</td>\n",
              "      <td>t5_2cneq</td>\n",
              "      <td>t3_35ql9d</td>\n",
              "      <td>t1_cr7fnj4</td>\n",
              "      <td>136</td>\n",
              "      <td>1433034878</td>\n",
              "      <td>0</td>\n",
              "      <td>0</td>\n",
              "      <td>cr7h0ln</td>\n",
              "      <td>politics</td>\n",
              "      <td>136</td>\n",
              "      <td>NaN</td>\n",
              "      <td>NaN</td>\n",
              "      <td>NaN</td>\n",
              "    </tr>\n",
              "    <tr>\n",
              "      <th>1</th>\n",
              "      <td>I think you're on to something there. But to b...</td>\n",
              "      <td>False</td>\n",
              "      <td>False</td>\n",
              "      <td>t1_crpxkmu</td>\n",
              "      <td>Tangpo</td>\n",
              "      <td>0</td>\n",
              "      <td>1432999141</td>\n",
              "      <td>t5_2cneq</td>\n",
              "      <td>t3_37tyhm</td>\n",
              "      <td>t1_crpw8y8</td>\n",
              "      <td>17</td>\n",
              "      <td>1433393342</td>\n",
              "      <td>0</td>\n",
              "      <td>0</td>\n",
              "      <td>crpxkmu</td>\n",
              "      <td>politics</td>\n",
              "      <td>17</td>\n",
              "      <td>NaN</td>\n",
              "      <td>NaN</td>\n",
              "      <td>NaN</td>\n",
              "    </tr>\n",
              "    <tr>\n",
              "      <th>2</th>\n",
              "      <td>They've also been rather clear on defining a f...</td>\n",
              "      <td>False</td>\n",
              "      <td>False</td>\n",
              "      <td>t1_cr43h2c</td>\n",
              "      <td>Qu1nlan</td>\n",
              "      <td>0</td>\n",
              "      <td>1431220695</td>\n",
              "      <td>t5_2cneq</td>\n",
              "      <td>t3_35eepj</td>\n",
              "      <td>t1_cr439ea</td>\n",
              "      <td>19</td>\n",
              "      <td>1432870611</td>\n",
              "      <td>0</td>\n",
              "      <td>0</td>\n",
              "      <td>cr43h2c</td>\n",
              "      <td>politics</td>\n",
              "      <td>19</td>\n",
              "      <td>NaN</td>\n",
              "      <td>NaN</td>\n",
              "      <td>NaN</td>\n",
              "    </tr>\n",
              "    <tr>\n",
              "      <th>3</th>\n",
              "      <td>God bless you.</td>\n",
              "      <td>False</td>\n",
              "      <td>False</td>\n",
              "      <td>t1_cr5rn0g</td>\n",
              "      <td>broncoz33</td>\n",
              "      <td>0</td>\n",
              "      <td>1431370502</td>\n",
              "      <td>t5_2qh03</td>\n",
              "      <td>t3_35liga</td>\n",
              "      <td>t1_cr5qa14</td>\n",
              "      <td>13</td>\n",
              "      <td>1432899458</td>\n",
              "      <td>0</td>\n",
              "      <td>0</td>\n",
              "      <td>cr5rn0g</td>\n",
              "      <td>gaming</td>\n",
              "      <td>13</td>\n",
              "      <td>NaN</td>\n",
              "      <td>NaN</td>\n",
              "      <td>NaN</td>\n",
              "    </tr>\n",
              "    <tr>\n",
              "      <th>4</th>\n",
              "      <td>Western corporations don't give a rats arse to...</td>\n",
              "      <td>False</td>\n",
              "      <td>False</td>\n",
              "      <td>t1_cra1d35</td>\n",
              "      <td>critfist</td>\n",
              "      <td>0</td>\n",
              "      <td>1431701414</td>\n",
              "      <td>t5_2qh13</td>\n",
              "      <td>t3_361cco</td>\n",
              "      <td>t1_cra0qd0</td>\n",
              "      <td>-4</td>\n",
              "      <td>1433079241</td>\n",
              "      <td>0</td>\n",
              "      <td>0</td>\n",
              "      <td>cra1d35</td>\n",
              "      <td>worldnews</td>\n",
              "      <td>-4</td>\n",
              "      <td>NaN</td>\n",
              "      <td>NaN</td>\n",
              "      <td>NaN</td>\n",
              "    </tr>\n",
              "    <tr>\n",
              "      <th>5</th>\n",
              "      <td>[deleted]</td>\n",
              "      <td>False</td>\n",
              "      <td>False</td>\n",
              "      <td>t1_cqvze0l</td>\n",
              "      <td>[deleted]</td>\n",
              "      <td>0</td>\n",
              "      <td>1430571181</td>\n",
              "      <td>t5_2qh13</td>\n",
              "      <td>t3_34lnbr</td>\n",
              "      <td>t1_cqvye5y</td>\n",
              "      <td>-3</td>\n",
              "      <td>1432729493</td>\n",
              "      <td>0</td>\n",
              "      <td>0</td>\n",
              "      <td>cqvze0l</td>\n",
              "      <td>worldnews</td>\n",
              "      <td>-3</td>\n",
              "      <td>NaN</td>\n",
              "      <td>NaN</td>\n",
              "      <td>NaN</td>\n",
              "    </tr>\n",
              "    <tr>\n",
              "      <th>6</th>\n",
              "      <td>http://en.wikipedia.org/wiki/Celebration_Cruis...</td>\n",
              "      <td>False</td>\n",
              "      <td>False</td>\n",
              "      <td>t1_crqsdm6</td>\n",
              "      <td>Atheist101</td>\n",
              "      <td>0</td>\n",
              "      <td>1433078136</td>\n",
              "      <td>t5_323oy</td>\n",
              "      <td>t3_37v2sr</td>\n",
              "      <td>t1_crqdes4</td>\n",
              "      <td>-4</td>\n",
              "      <td>1433496812</td>\n",
              "      <td>0</td>\n",
              "      <td>0</td>\n",
              "      <td>crqsdm6</td>\n",
              "      <td>CasualConversation</td>\n",
              "      <td>-4</td>\n",
              "      <td>NaN</td>\n",
              "      <td>NaN</td>\n",
              "      <td>NaN</td>\n",
              "    </tr>\n",
              "    <tr>\n",
              "      <th>7</th>\n",
              "      <td>I'm not attacking them, I'm making an observat...</td>\n",
              "      <td>False</td>\n",
              "      <td>False</td>\n",
              "      <td>t1_crahjf8</td>\n",
              "      <td>utb040713</td>\n",
              "      <td>0</td>\n",
              "      <td>1431728711</td>\n",
              "      <td>t5_mouw</td>\n",
              "      <td>t3_3622fk</td>\n",
              "      <td>t1_cragizb</td>\n",
              "      <td>0</td>\n",
              "      <td>1433087005</td>\n",
              "      <td>0</td>\n",
              "      <td>0</td>\n",
              "      <td>crahjf8</td>\n",
              "      <td>science</td>\n",
              "      <td>0</td>\n",
              "      <td>NaN</td>\n",
              "      <td>NaN</td>\n",
              "      <td>NaN</td>\n",
              "    </tr>\n",
              "    <tr>\n",
              "      <th>8</th>\n",
              "      <td>Well, that's a vile and disgusting thing to sa...</td>\n",
              "      <td>False</td>\n",
              "      <td>False</td>\n",
              "      <td>t1_cr4qp74</td>\n",
              "      <td>Fractal_Soul</td>\n",
              "      <td>0</td>\n",
              "      <td>1431286132</td>\n",
              "      <td>t5_2cneq</td>\n",
              "      <td>t3_35ffem</td>\n",
              "      <td>t1_cr4div8</td>\n",
              "      <td>0</td>\n",
              "      <td>1432881767</td>\n",
              "      <td>0</td>\n",
              "      <td>0</td>\n",
              "      <td>cr4qp74</td>\n",
              "      <td>politics</td>\n",
              "      <td>0</td>\n",
              "      <td>NaN</td>\n",
              "      <td>NaN</td>\n",
              "      <td>NaN</td>\n",
              "    </tr>\n",
              "    <tr>\n",
              "      <th>9</th>\n",
              "      <td>Are you 15? Lol</td>\n",
              "      <td>False</td>\n",
              "      <td>False</td>\n",
              "      <td>t1_crcbtar</td>\n",
              "      <td>chuchubaba</td>\n",
              "      <td>0</td>\n",
              "      <td>1431900496</td>\n",
              "      <td>t5_2qh03</td>\n",
              "      <td>t3_369dwg</td>\n",
              "      <td>t1_crc88ht</td>\n",
              "      <td>0</td>\n",
              "      <td>1433118815</td>\n",
              "      <td>0</td>\n",
              "      <td>0</td>\n",
              "      <td>crcbtar</td>\n",
              "      <td>gaming</td>\n",
              "      <td>0</td>\n",
              "      <td>NaN</td>\n",
              "      <td>NaN</td>\n",
              "      <td>NaN</td>\n",
              "    </tr>\n",
              "  </tbody>\n",
              "</table>\n",
              "</div>"
            ],
            "text/plain": [
              "                                                body  score_hidden  archived  \\\n",
              "0  That wasn't just a personal belief of his. It'...         False     False   \n",
              "1  I think you're on to something there. But to b...         False     False   \n",
              "2  They've also been rather clear on defining a f...         False     False   \n",
              "3                                     God bless you.         False     False   \n",
              "4  Western corporations don't give a rats arse to...         False     False   \n",
              "5                                          [deleted]         False     False   \n",
              "6  http://en.wikipedia.org/wiki/Celebration_Cruis...         False     False   \n",
              "7  I'm not attacking them, I'm making an observat...         False     False   \n",
              "8  Well, that's a vile and disgusting thing to sa...         False     False   \n",
              "9                                    Are you 15? Lol         False     False   \n",
              "\n",
              "         name        author  downs  created_utc subreddit_id    link_id  \\\n",
              "0  t1_cr7h0ln         tejon      0   1431494075     t5_2cneq  t3_35ql9d   \n",
              "1  t1_crpxkmu        Tangpo      0   1432999141     t5_2cneq  t3_37tyhm   \n",
              "2  t1_cr43h2c       Qu1nlan      0   1431220695     t5_2cneq  t3_35eepj   \n",
              "3  t1_cr5rn0g     broncoz33      0   1431370502     t5_2qh03  t3_35liga   \n",
              "4  t1_cra1d35      critfist      0   1431701414     t5_2qh13  t3_361cco   \n",
              "5  t1_cqvze0l     [deleted]      0   1430571181     t5_2qh13  t3_34lnbr   \n",
              "6  t1_crqsdm6    Atheist101      0   1433078136     t5_323oy  t3_37v2sr   \n",
              "7  t1_crahjf8     utb040713      0   1431728711      t5_mouw  t3_3622fk   \n",
              "8  t1_cr4qp74  Fractal_Soul      0   1431286132     t5_2cneq  t3_35ffem   \n",
              "9  t1_crcbtar    chuchubaba      0   1431900496     t5_2qh03  t3_369dwg   \n",
              "\n",
              "    parent_id  score  retrieved_on  controversiality  gilded       id  \\\n",
              "0  t1_cr7fnj4    136    1433034878                 0       0  cr7h0ln   \n",
              "1  t1_crpw8y8     17    1433393342                 0       0  crpxkmu   \n",
              "2  t1_cr439ea     19    1432870611                 0       0  cr43h2c   \n",
              "3  t1_cr5qa14     13    1432899458                 0       0  cr5rn0g   \n",
              "4  t1_cra0qd0     -4    1433079241                 0       0  cra1d35   \n",
              "5  t1_cqvye5y     -3    1432729493                 0       0  cqvze0l   \n",
              "6  t1_crqdes4     -4    1433496812                 0       0  crqsdm6   \n",
              "7  t1_cragizb      0    1433087005                 0       0  crahjf8   \n",
              "8  t1_cr4div8      0    1432881767                 0       0  cr4qp74   \n",
              "9  t1_crc88ht      0    1433118815                 0       0  crcbtar   \n",
              "\n",
              "            subreddit  ups author_flair_text author_flair_css_class  \\\n",
              "0            politics  136               NaN                    NaN   \n",
              "1            politics   17               NaN                    NaN   \n",
              "2            politics   19               NaN                    NaN   \n",
              "3              gaming   13               NaN                    NaN   \n",
              "4           worldnews   -4               NaN                    NaN   \n",
              "5           worldnews   -3               NaN                    NaN   \n",
              "6  CasualConversation   -4               NaN                    NaN   \n",
              "7             science    0               NaN                    NaN   \n",
              "8            politics    0               NaN                    NaN   \n",
              "9              gaming    0               NaN                    NaN   \n",
              "\n",
              "  distinguished  \n",
              "0           NaN  \n",
              "1           NaN  \n",
              "2           NaN  \n",
              "3           NaN  \n",
              "4           NaN  \n",
              "5           NaN  \n",
              "6           NaN  \n",
              "7           NaN  \n",
              "8           NaN  \n",
              "9           NaN  "
            ]
          },
          "metadata": {
            "tags": []
          },
          "execution_count": 7
        }
      ]
    },
    {
      "cell_type": "code",
      "metadata": {
        "id": "UMyHHsWfao_N",
        "pycharm": {
          "name": "#%%\n"
        }
      },
      "source": [
        "# Filter raw data:\n",
        "# select only rows which have a length less than 200, and the comment wasn't [deleted]\n",
        "sql_query = \" select body\" \\\n",
        "            \"       , name\" \\\n",
        "            \"       , link_id\" \\\n",
        "            \"       , parent_id\" \\\n",
        "            \"       , score\" \\\n",
        "            \" from raw_data_df\" \\\n",
        "            \" where length(body) < 200 and body <> '[deleted]'\"\n",
        "# Can only be saved as sdf since this is how pandas works.\n",
        "sdf = ps.sqldf(sql_query)"
      ],
      "execution_count": null,
      "outputs": []
    },
    {
      "cell_type": "code",
      "metadata": {
        "id": "DEZzlYTfao_R",
        "pycharm": {
          "name": "#%%\n"
        }
      },
      "source": [
        "# Delete the original Dataframe to save memory\n",
        "del raw_data_df"
      ],
      "execution_count": null,
      "outputs": []
    },
    {
      "cell_type": "code",
      "metadata": {
        "id": "00UrRZzmao_V",
        "pycharm": {
          "name": "#%%\n"
        }
      },
      "source": [
        "# List of regular expressions to further filter the bodies of the comments;\n",
        "\n",
        "# Remove all links from the comments\n",
        "sdf.replace(r'https?://(www.)?[-a-zA-Z0-9@:%.+~#=]{1,256}.[a-zA-Z0-9()]{1,6}\\b([-a-zA-Z0-9(_)@:%+.~#?&//=]*)','',regex=True, inplace = True)\n",
        "\n",
        "# Remove all user links/subreddit links\n",
        "sdf.replace(r'(/u/)?(r/)?(^)?(\\\\)?','',regex=True, inplace = True)\n",
        "\n",
        "# Replace '&gt;' and '&lt' with '<' and '>' respectively\n",
        "sdf.replace(r'(&gt;)','>',regex=True, inplace = True)\n",
        "sdf.replace(r'(&lt)','<',regex=True, inplace = True)\n",
        "\n",
        "# Replace '&amp' with an ampersand\n",
        "sdf.replace(r'(&amp;)','&',regex=True, inplace = True)"
      ],
      "execution_count": null,
      "outputs": []
    },
    {
      "cell_type": "code",
      "metadata": {
        "id": "5hr7A3Soao_Y",
        "pycharm": {
          "name": "#%%\n"
        }
      },
      "source": [
        "# Rename body column to response\n",
        "response_df = sdf.rename(columns={'body': 'response'})"
      ],
      "execution_count": null,
      "outputs": []
    },
    {
      "cell_type": "code",
      "metadata": {
        "id": "SbtPdD-Hao_b",
        "pycharm": {
          "name": "#%%\n"
        },
        "outputId": "a5b2c60e-f33b-4575-cb34-f3c35bdd88e5"
      },
      "source": [
        "# Show top ten rows\n",
        "response_df.head(10)"
      ],
      "execution_count": null,
      "outputs": [
        {
          "output_type": "execute_result",
          "data": {
            "text/html": [
              "<div>\n",
              "<style scoped>\n",
              "    .dataframe tbody tr th:only-of-type {\n",
              "        vertical-align: middle;\n",
              "    }\n",
              "\n",
              "    .dataframe tbody tr th {\n",
              "        vertical-align: top;\n",
              "    }\n",
              "\n",
              "    .dataframe thead th {\n",
              "        text-align: right;\n",
              "    }\n",
              "</style>\n",
              "<table border=\"1\" class=\"dataframe\">\n",
              "  <thead>\n",
              "    <tr style=\"text-align: right;\">\n",
              "      <th></th>\n",
              "      <th>response</th>\n",
              "      <th>name</th>\n",
              "      <th>link_id</th>\n",
              "      <th>parent_id</th>\n",
              "      <th>score</th>\n",
              "    </tr>\n",
              "  </thead>\n",
              "  <tbody>\n",
              "    <tr>\n",
              "      <th>0</th>\n",
              "      <td>They've also been rather clear on defining a f...</td>\n",
              "      <td>t1_cr43h2c</td>\n",
              "      <td>t3_35eepj</td>\n",
              "      <td>t1_cr439ea</td>\n",
              "      <td>19</td>\n",
              "    </tr>\n",
              "    <tr>\n",
              "      <th>1</th>\n",
              "      <td>God bless you.</td>\n",
              "      <td>t1_cr5rn0g</td>\n",
              "      <td>t3_35liga</td>\n",
              "      <td>t1_cr5qa14</td>\n",
              "      <td>13</td>\n",
              "    </tr>\n",
              "    <tr>\n",
              "      <th>2</th>\n",
              "      <td>Western corporations don't give a rats arse to...</td>\n",
              "      <td>t1_cra1d35</td>\n",
              "      <td>t3_361cco</td>\n",
              "      <td>t1_cra0qd0</td>\n",
              "      <td>-4</td>\n",
              "    </tr>\n",
              "    <tr>\n",
              "      <th>3</th>\n",
              "      <td></td>\n",
              "      <td>t1_crqsdm6</td>\n",
              "      <td>t3_37v2sr</td>\n",
              "      <td>t1_crqdes4</td>\n",
              "      <td>-4</td>\n",
              "    </tr>\n",
              "    <tr>\n",
              "      <th>4</th>\n",
              "      <td>Well, that's a vile and disgusting thing to sa...</td>\n",
              "      <td>t1_cr4qp74</td>\n",
              "      <td>t3_35ffem</td>\n",
              "      <td>t1_cr4div8</td>\n",
              "      <td>0</td>\n",
              "    </tr>\n",
              "    <tr>\n",
              "      <th>5</th>\n",
              "      <td>Are you 15? Lol</td>\n",
              "      <td>t1_crcbtar</td>\n",
              "      <td>t3_369dwg</td>\n",
              "      <td>t1_crc88ht</td>\n",
              "      <td>0</td>\n",
              "    </tr>\n",
              "    <tr>\n",
              "      <th>6</th>\n",
              "      <td>Oh okay, cause a lot of people post similar \"t...</td>\n",
              "      <td>t1_crjr1yc</td>\n",
              "      <td>t3_372bqp</td>\n",
              "      <td>t1_crj8tdk</td>\n",
              "      <td>0</td>\n",
              "    </tr>\n",
              "    <tr>\n",
              "      <th>7</th>\n",
              "      <td>&gt; according to analysts who monitor web chatte...</td>\n",
              "      <td>t1_cr2nszt</td>\n",
              "      <td>t3_357t9u</td>\n",
              "      <td>t3_357t9u</td>\n",
              "      <td>0</td>\n",
              "    </tr>\n",
              "    <tr>\n",
              "      <th>8</th>\n",
              "      <td>Minavo Communications provides IVR solutions, ...</td>\n",
              "      <td>t1_cr5cntq</td>\n",
              "      <td>t3_35kx45</td>\n",
              "      <td>t3_35kx45</td>\n",
              "      <td>1</td>\n",
              "    </tr>\n",
              "    <tr>\n",
              "      <th>9</th>\n",
              "      <td>Pfft, Convolvulaceae is where it's at. ;-)</td>\n",
              "      <td>t1_crmt7hn</td>\n",
              "      <td>t3_37gbrz</td>\n",
              "      <td>t1_crmsccb</td>\n",
              "      <td>1</td>\n",
              "    </tr>\n",
              "  </tbody>\n",
              "</table>\n",
              "</div>"
            ],
            "text/plain": [
              "                                            response        name    link_id  \\\n",
              "0  They've also been rather clear on defining a f...  t1_cr43h2c  t3_35eepj   \n",
              "1                                     God bless you.  t1_cr5rn0g  t3_35liga   \n",
              "2  Western corporations don't give a rats arse to...  t1_cra1d35  t3_361cco   \n",
              "3                                                     t1_crqsdm6  t3_37v2sr   \n",
              "4  Well, that's a vile and disgusting thing to sa...  t1_cr4qp74  t3_35ffem   \n",
              "5                                    Are you 15? Lol  t1_crcbtar  t3_369dwg   \n",
              "6  Oh okay, cause a lot of people post similar \"t...  t1_crjr1yc  t3_372bqp   \n",
              "7  > according to analysts who monitor web chatte...  t1_cr2nszt  t3_357t9u   \n",
              "8  Minavo Communications provides IVR solutions, ...  t1_cr5cntq  t3_35kx45   \n",
              "9        Pfft, Convolvulaceae is where it's at. ;-)   t1_crmt7hn  t3_37gbrz   \n",
              "\n",
              "    parent_id  score  \n",
              "0  t1_cr439ea     19  \n",
              "1  t1_cr5qa14     13  \n",
              "2  t1_cra0qd0     -4  \n",
              "3  t1_crqdes4     -4  \n",
              "4  t1_cr4div8      0  \n",
              "5  t1_crc88ht      0  \n",
              "6  t1_crj8tdk      0  \n",
              "7   t3_357t9u      0  \n",
              "8   t3_35kx45      1  \n",
              "9  t1_crmsccb      1  "
            ]
          },
          "metadata": {
            "tags": []
          },
          "execution_count": 12
        }
      ]
    },
    {
      "cell_type": "code",
      "metadata": {
        "id": "PZPyPe6Gao_d",
        "pycharm": {
          "name": "#%%\n"
        }
      },
      "source": [
        "# Create query-response pairs\n",
        "# Join the two tables to make a single one\n",
        "# Concatenate '<eos>' to the end, and '<sos>' to the start of the response and store each of them, in a different column\n",
        "sql_query = \" select inp.body\" \\\n",
        "            \"       , resp.response || ' <eos>'\" \\\n",
        "            \"       , '<sos> ' || resp.response\" \\\n",
        "            \" from response_df resp\" \\\n",
        "            \" left join sdf inp\" \\\n",
        "            \" on resp.parent_id = inp.name\" \\\n",
        "            \" where inp.body is not null and inp.body <> '' and resp.response <> ''\"\n",
        "# Can only be saved as sdf since this is how pandas works.\n",
        "sdf = ps.sqldf(sql_query)"
      ],
      "execution_count": null,
      "outputs": []
    },
    {
      "cell_type": "code",
      "metadata": {
        "id": "ZNxi99eHao_g",
        "pycharm": {
          "name": "#%%\n"
        }
      },
      "source": [
        "# Rename body to input, second column to output and third column to output_input\n",
        "xy_df = sdf.rename(columns={'body': 'input', \"resp.response || ' <eos>'\": 'output', \"'<sos> ' || resp.response\": 'output_input'})"
      ],
      "execution_count": null,
      "outputs": []
    },
    {
      "cell_type": "code",
      "metadata": {
        "id": "6iIQgy2Kao_j",
        "pycharm": {
          "name": "#%%\n"
        }
      },
      "source": [
        "# Delete sdf to free up memory\n",
        "del sdf"
      ],
      "execution_count": null,
      "outputs": []
    },
    {
      "cell_type": "code",
      "metadata": {
        "id": "2EoCaI8bao_m",
        "pycharm": {
          "name": "#%%\n"
        },
        "outputId": "254ffd15-8413-46ca-eea6-5ef4356a09c3"
      },
      "source": [
        "# show top ten rows of the new dataframe\n",
        "xy_df.head(10)"
      ],
      "execution_count": null,
      "outputs": [
        {
          "output_type": "execute_result",
          "data": {
            "text/html": [
              "<div>\n",
              "<style scoped>\n",
              "    .dataframe tbody tr th:only-of-type {\n",
              "        vertical-align: middle;\n",
              "    }\n",
              "\n",
              "    .dataframe tbody tr th {\n",
              "        vertical-align: top;\n",
              "    }\n",
              "\n",
              "    .dataframe thead th {\n",
              "        text-align: right;\n",
              "    }\n",
              "</style>\n",
              "<table border=\"1\" class=\"dataframe\">\n",
              "  <thead>\n",
              "    <tr style=\"text-align: right;\">\n",
              "      <th></th>\n",
              "      <th>input</th>\n",
              "      <th>output</th>\n",
              "      <th>output_input</th>\n",
              "    </tr>\n",
              "  </thead>\n",
              "  <tbody>\n",
              "    <tr>\n",
              "      <th>0</th>\n",
              "      <td>They've also been rather clear on defining a f...</td>\n",
              "      <td>No, they have not. What gave you that idea? Th...</td>\n",
              "      <td>&lt;sos&gt; No, they have not. What gave you that id...</td>\n",
              "    </tr>\n",
              "    <tr>\n",
              "      <th>1</th>\n",
              "      <td>Western corporations don't give a rats arse to...</td>\n",
              "      <td>wow, ok have you ever heard of a thing called ...</td>\n",
              "      <td>&lt;sos&gt; wow, ok have you ever heard of a thing c...</td>\n",
              "    </tr>\n",
              "    <tr>\n",
              "      <th>2</th>\n",
              "      <td>What was the conversation? I just killed them.</td>\n",
              "      <td>\"Something something something, then I raped t...</td>\n",
              "      <td>&lt;sos&gt; \"Something something something, then I r...</td>\n",
              "    </tr>\n",
              "    <tr>\n",
              "      <th>3</th>\n",
              "      <td>Well it just shows us past behavior and what o...</td>\n",
              "      <td>Guess you aren't a big believer in \"firsts\"?\\n...</td>\n",
              "      <td>&lt;sos&gt; Guess you aren't a big believer in \"firs...</td>\n",
              "    </tr>\n",
              "    <tr>\n",
              "      <th>4</th>\n",
              "      <td>Solid advice to avoid a shaky end for TheEarth...</td>\n",
              "      <td>Agreed! &lt;eos&gt;</td>\n",
              "      <td>&lt;sos&gt; Agreed!</td>\n",
              "    </tr>\n",
              "    <tr>\n",
              "      <th>5</th>\n",
              "      <td>The whole schools discrimination provision was...</td>\n",
              "      <td>The fact my daughter is bottom of the list in ...</td>\n",
              "      <td>&lt;sos&gt; The fact my daughter is bottom of the li...</td>\n",
              "    </tr>\n",
              "    <tr>\n",
              "      <th>6</th>\n",
              "      <td>Hahaha yeah we can do that too. I just thought...</td>\n",
              "      <td>Nothing wrong with multitasking during a movie...</td>\n",
              "      <td>&lt;sos&gt; Nothing wrong with multitasking during a...</td>\n",
              "    </tr>\n",
              "    <tr>\n",
              "      <th>7</th>\n",
              "      <td>Thank you!\\n\\nYeah, I like them and find them ...</td>\n",
              "      <td>Understandable. It's not a real exam if you do...</td>\n",
              "      <td>&lt;sos&gt; Understandable. It's not a real exam if ...</td>\n",
              "    </tr>\n",
              "    <tr>\n",
              "      <th>8</th>\n",
              "      <td>2 line pass.</td>\n",
              "      <td>False. But it was offside  &lt;eos&gt;</td>\n",
              "      <td>&lt;sos&gt; False. But it was offside</td>\n",
              "    </tr>\n",
              "    <tr>\n",
              "      <th>9</th>\n",
              "      <td>Well shit... I never used boot bands to blouse...</td>\n",
              "      <td>My point exactly. &lt;eos&gt;</td>\n",
              "      <td>&lt;sos&gt; My point exactly.</td>\n",
              "    </tr>\n",
              "  </tbody>\n",
              "</table>\n",
              "</div>"
            ],
            "text/plain": [
              "                                               input  \\\n",
              "0  They've also been rather clear on defining a f...   \n",
              "1  Western corporations don't give a rats arse to...   \n",
              "2    What was the conversation? I just killed them.    \n",
              "3  Well it just shows us past behavior and what o...   \n",
              "4  Solid advice to avoid a shaky end for TheEarth...   \n",
              "5  The whole schools discrimination provision was...   \n",
              "6  Hahaha yeah we can do that too. I just thought...   \n",
              "7  Thank you!\\n\\nYeah, I like them and find them ...   \n",
              "8                                       2 line pass.   \n",
              "9  Well shit... I never used boot bands to blouse...   \n",
              "\n",
              "                                              output  \\\n",
              "0  No, they have not. What gave you that idea? Th...   \n",
              "1  wow, ok have you ever heard of a thing called ...   \n",
              "2  \"Something something something, then I raped t...   \n",
              "3  Guess you aren't a big believer in \"firsts\"?\\n...   \n",
              "4                                      Agreed! <eos>   \n",
              "5  The fact my daughter is bottom of the list in ...   \n",
              "6  Nothing wrong with multitasking during a movie...   \n",
              "7  Understandable. It's not a real exam if you do...   \n",
              "8                   False. But it was offside  <eos>   \n",
              "9                            My point exactly. <eos>   \n",
              "\n",
              "                                        output_input  \n",
              "0  <sos> No, they have not. What gave you that id...  \n",
              "1  <sos> wow, ok have you ever heard of a thing c...  \n",
              "2  <sos> \"Something something something, then I r...  \n",
              "3  <sos> Guess you aren't a big believer in \"firs...  \n",
              "4                                      <sos> Agreed!  \n",
              "5  <sos> The fact my daughter is bottom of the li...  \n",
              "6  <sos> Nothing wrong with multitasking during a...  \n",
              "7  <sos> Understandable. It's not a real exam if ...  \n",
              "8                   <sos> False. But it was offside   \n",
              "9                            <sos> My point exactly.  "
            ]
          },
          "metadata": {
            "tags": []
          },
          "execution_count": 16
        }
      ]
    },
    {
      "cell_type": "code",
      "metadata": {
        "id": "FUhZ2f3Sao_p",
        "pycharm": {
          "name": "#%%\n"
        }
      },
      "source": [
        "# Export to a json file this is so we don't have to run all previous cells again\n",
        "xy_df.to_json('xy_data_2015_05.json', orient='records', lines=True)"
      ],
      "execution_count": null,
      "outputs": []
    },
    {
      "cell_type": "code",
      "metadata": {
        "id": "hKfDC8bBao_r",
        "pycharm": {
          "name": "#%%\n"
        }
      },
      "source": [
        "# Delete all to free memory\n",
        "del response_df\n",
        "del xy_df\n",
        "del sql_query"
      ],
      "execution_count": null,
      "outputs": []
    },
    {
      "cell_type": "markdown",
      "metadata": {
        "id": "nkW6Bxn-ao_u",
        "pycharm": {
          "name": "#%% md\n"
        }
      },
      "source": [
        "## Preprocessing\n",
        "\n",
        "Now that we have a dataset of usable message-response pairs, lets preprocess the data. The tokenizer encodes words into numbers,\n",
        "a seperate tokenizer is used for the the message data and the output data. Next, we padded the messages to have a fixed size for all of our messages.\n",
        "The `.json` file created in the previous section can be downloaded from this [google drive](https://drive.google.com/file/d/1J65cyCx6Zp1AgzTCGrB1Oqye9nkokmot/view?usp=sharing) link."
      ]
    },
    {
      "cell_type": "code",
      "metadata": {
        "colab": {
          "base_uri": "https://localhost:8080/"
        },
        "id": "QuF0jZQgIj7e",
        "outputId": "70f86657-943e-4152-bb3f-941925b69f3d"
      },
      "source": [
        "!pip install googledrivedownloader"
      ],
      "execution_count": null,
      "outputs": [
        {
          "output_type": "stream",
          "text": [
            "Requirement already satisfied: googledrivedownloader in /usr/local/lib/python3.6/dist-packages (0.4)\n"
          ],
          "name": "stdout"
        }
      ]
    },
    {
      "cell_type": "code",
      "metadata": {
        "id": "SNBgPbM6Ij7e"
      },
      "source": [
        "from google_drive_downloader import GoogleDriveDownloader as gdd\n",
        "# download organized data from the link mentioned above\n",
        "gdd.download_file_from_google_drive(file_id='1J65cyCx6Zp1AgzTCGrB1Oqye9nkokmot',\n",
        "                                    dest_path='./xy_data_2015_05.json',\n",
        "                                    unzip=False)"
      ],
      "execution_count": null,
      "outputs": []
    },
    {
      "cell_type": "code",
      "metadata": {
        "id": "sORG9BopoAmz"
      },
      "source": [
        "# import statements\n",
        "import pandas as pd\n",
        "from tensorflow.keras.preprocessing.text import Tokenizer\n",
        "from tensorflow.keras.preprocessing.sequence import pad_sequences\n",
        "\n",
        "from IPython.display import clear_output"
      ],
      "execution_count": null,
      "outputs": []
    },
    {
      "cell_type": "code",
      "metadata": {
        "id": "_S8QE5W8ao_v",
        "pycharm": {
          "name": "#%%\n"
        }
      },
      "source": [
        "# Load data from the saved json file\n",
        "xy_data_df = pd.read_json(r'xy_data_2015_05.json', orient='records', lines=True)"
      ],
      "execution_count": null,
      "outputs": []
    },
    {
      "cell_type": "code",
      "metadata": {
        "id": "IzOvzPVunvnY"
      },
      "source": [
        "# for faster training we reduced the dataframe size\n",
        "xy_data_df = xy_data_df[0:50000]  "
      ],
      "execution_count": null,
      "outputs": []
    },
    {
      "cell_type": "code",
      "metadata": {
        "colab": {
          "base_uri": "https://localhost:8080/"
        },
        "id": "eRulvOPuao_x",
        "pycharm": {
          "name": "#%%\n"
        },
        "outputId": "6a710949-f17b-4a27-db6b-79df33989da1"
      },
      "source": [
        "# Check a random row from the dataframe\n",
        "print(xy_data_df['input'][172])\n",
        "print()\n",
        "print(xy_data_df['output'][172])\n",
        "print()\n",
        "print(xy_data_df['output_input'][172])"
      ],
      "execution_count": null,
      "outputs": [
        {
          "output_type": "stream",
          "text": [
            "Do tell. How is it not true? \n",
            "Other than character skins, how are they not just pre set loadouts? \n",
            "\n",
            "you could unlock extra guys. one had a jet-pack if I remember correctly and another had invisibility.  <eos>\n",
            "\n",
            "<sos> you could unlock extra guys. one had a jet-pack if I remember correctly and another had invisibility. \n"
          ],
          "name": "stdout"
        }
      ]
    },
    {
      "cell_type": "code",
      "metadata": {
        "id": "AzAIx4otv0r2"
      },
      "source": [
        "# set max number of words recognized by the model\n",
        "MAX_NUM_WORDS = 10000"
      ],
      "execution_count": null,
      "outputs": []
    },
    {
      "cell_type": "code",
      "metadata": {
        "colab": {
          "base_uri": "https://localhost:8080/"
        },
        "id": "tswU1Rn5ao_z",
        "pycharm": {
          "name": "#%%\n"
        },
        "outputId": "dbbdbed3-0916-4368-8aec-76fc56d75779"
      },
      "source": [
        "# Text from the input column is tokenized\n",
        "\n",
        "input_tokenizer = Tokenizer(num_words=MAX_NUM_WORDS)\n",
        "\n",
        "# Tokenizer is fitted\n",
        "input_tokenizer.fit_on_texts(xy_data_df['input'])\n",
        "\n",
        "# Sequences are generated from the text\n",
        "input_integer_seq = input_tokenizer.texts_to_sequences(xy_data_df['input'])\n",
        "\n",
        "# { word: index} dictionary of the input_tokenizer\n",
        "word2idx_inputs = input_tokenizer.word_index\n",
        "print('Total unique words in the input: %s' % len(word2idx_inputs))\n",
        "\n",
        "# Word count and max input sentence length are stored\n",
        "max_input_len = max(len(sen) for sen in input_integer_seq)\n",
        "print(\"Length of longest sentence in input: %g\" % max_input_len)"
      ],
      "execution_count": null,
      "outputs": [
        {
          "output_type": "stream",
          "text": [
            "Total unique words in the input: 28846\n",
            "Length of longest sentence in input: 45\n"
          ],
          "name": "stdout"
        }
      ]
    },
    {
      "cell_type": "code",
      "metadata": {
        "colab": {
          "base_uri": "https://localhost:8080/"
        },
        "id": "MtS7a196ao_1",
        "pycharm": {
          "name": "#%%\n"
        },
        "outputId": "471de61c-1b55-4996-9875-f55d8ead1f65"
      },
      "source": [
        "# Text from the output and output_input columns are tokenized\n",
        "# the regex given is the default filter minus the '<' and '>' symbols,\n",
        "# as these have been handled using SQL in the previous section\n",
        "output_tokenizer = Tokenizer(num_words=MAX_NUM_WORDS, filters='!\"#$%&()*+,-./:;=?@[\\\\]^_`{|}~\\t\\n)')\n",
        "\n",
        "# Tokenizer is fitted\n",
        "output_tokenizer.fit_on_texts(pd.concat([xy_data_df['output'], xy_data_df['output_input']]))\n",
        "\n",
        "# Sequences are generated from the text\n",
        "output_integer_seq = output_tokenizer.texts_to_sequences(xy_data_df['output'])\n",
        "output_input_integer_seq = output_tokenizer.texts_to_sequences(xy_data_df['output_input'])\n",
        "\n",
        "# { word: index} dictionary of the output_tokenizer\n",
        "word2idx_outputs = output_tokenizer.word_index\n",
        "print('Total unique words in the output: %s' % len(word2idx_outputs))\n",
        "\n",
        "# Word count and max output sentence length are stored\n",
        "num_words_output = len(word2idx_outputs) + 1\n",
        "max_out_len = max(len(sen) for sen in output_integer_seq)\n",
        "print(\"Length of longest sentence in the output: %g\" % max_out_len)"
      ],
      "execution_count": null,
      "outputs": [
        {
          "output_type": "stream",
          "text": [
            "Total unique words in the output: 33156\n",
            "Length of longest sentence in the output: 45\n"
          ],
          "name": "stdout"
        }
      ]
    },
    {
      "cell_type": "code",
      "metadata": {
        "colab": {
          "base_uri": "https://localhost:8080/"
        },
        "id": "0r8kBekjao_4",
        "pycharm": {
          "name": "#%%\n"
        },
        "outputId": "a001b202-1295-4e0f-b2a5-56a63ef2d676"
      },
      "source": [
        "# input_integer_seq is padded which will be fed into the encoder\n",
        "# max_input_len stores the maximum output sentence length\n",
        "encoder_input_sequences = pad_sequences(input_integer_seq, maxlen=max_input_len)\n",
        "print(\"encoder_input_sequences.shape:\", encoder_input_sequences.shape)\n",
        "print(\"encoder_input_sequences[172]:\", encoder_input_sequences[172])"
      ],
      "execution_count": null,
      "outputs": [
        {
          "output_type": "stream",
          "text": [
            "encoder_input_sequences.shape: (50000, 45)\n",
            "encoder_input_sequences[172]: [  0   0   0   0   0   0   0   0   0   0   0   0   0   0   0   0   0   0\n",
            "   0   0   0   0   0   0   0   0   0   0  31 232  44   7   9  15 285 105\n",
            "  75 719  44  14  21  15  22 970 634]\n"
          ],
          "name": "stdout"
        }
      ]
    },
    {
      "cell_type": "code",
      "metadata": {
        "colab": {
          "base_uri": "https://localhost:8080/"
        },
        "id": "IPso2nzrao_6",
        "pycharm": {
          "name": "#%%\n"
        },
        "outputId": "c8d895ba-b6fb-480b-9c1a-5b7eaf28a27a"
      },
      "source": [
        "# Example word indices from input_tokenizer\n",
        "print(word2idx_inputs[\"ill\"])\n",
        "print(word2idx_inputs[\"skins\"])"
      ],
      "execution_count": null,
      "outputs": [
        {
          "output_type": "stream",
          "text": [
            "1719\n",
            "10497\n"
          ],
          "name": "stdout"
        }
      ]
    },
    {
      "cell_type": "code",
      "metadata": {
        "colab": {
          "base_uri": "https://localhost:8080/"
        },
        "id": "BVn8TGY5ao_8",
        "pycharm": {
          "name": "#%%\n"
        },
        "outputId": "3039fa48-4fa4-48d4-ad87-81e44a69cb16"
      },
      "source": [
        "# output_input_integer_seq is padded which will be fed into the decoder\n",
        "# max_out_len stores the maximum output sentence length\n",
        "decoder_input_sequences = pad_sequences(output_input_integer_seq, maxlen=max_out_len, padding='post')\n",
        "print(\"decoder_input_sequences.shape:\", decoder_input_sequences.shape)\n",
        "print(\"decoder_input_sequences[172]:\", decoder_input_sequences[172])"
      ],
      "execution_count": null,
      "outputs": [
        {
          "output_type": "stream",
          "text": [
            "decoder_input_sequences.shape: (50000, 45)\n",
            "decoder_input_sequences[172]: [   2    7  104 5194 1170  343   47   92    5 1549 2995   31    4  282\n",
            " 1849    8  258   92    0    0    0    0    0    0    0    0    0    0\n",
            "    0    0    0    0    0    0    0    0    0    0    0    0    0    0\n",
            "    0    0    0]\n"
          ],
          "name": "stdout"
        }
      ]
    },
    {
      "cell_type": "code",
      "metadata": {
        "colab": {
          "base_uri": "https://localhost:8080/"
        },
        "id": "X27aBhaLU-op",
        "outputId": "97fb691e-981c-481b-94f2-3f17252f9fcf"
      },
      "source": [
        "# pad output sequences to the same length,\r\n",
        "# namely to the maximum length of the output sequences\r\n",
        "decoder_output_sequences = pad_sequences(output_integer_seq, maxlen=max_out_len, padding='post')\r\n",
        "print(\"decoder_output_sequences.shape:\", decoder_output_sequences.shape)\r\n",
        "print(\"decoder_output_sequences[172]:\", decoder_output_sequences[172])"
      ],
      "execution_count": null,
      "outputs": [
        {
          "output_type": "stream",
          "text": [
            "decoder_output_sequences.shape: (50000, 45)\n",
            "decoder_output_sequences[172]: [   7  104 5194 1170  343   47   92    5 1549 2995   31    4  282 1849\n",
            "    8  258   92    1    0    0    0    0    0    0    0    0    0    0\n",
            "    0    0    0    0    0    0    0    0    0    0    0    0    0    0\n",
            "    0    0    0]\n"
          ],
          "name": "stdout"
        }
      ]
    },
    {
      "cell_type": "code",
      "metadata": {
        "colab": {
          "base_uri": "https://localhost:8080/"
        },
        "id": "igLnaDB3apAA",
        "pycharm": {
          "name": "#%%\n"
        },
        "outputId": "b08cc402-ba7a-448a-efff-3eedfc8fdb7b"
      },
      "source": [
        "# Example word indices from output_tokenizer\n",
        "print(word2idx_outputs[\"<eos>\"])\n",
        "print(word2idx_outputs[\"not\"])\n",
        "print(word2idx_outputs[\"correctly\"])\n",
        "# print(word2idx_outputs[\"invisibility\"])"
      ],
      "execution_count": null,
      "outputs": [
        {
          "output_type": "stream",
          "text": [
            "1\n",
            "15\n",
            "1849\n"
          ],
          "name": "stdout"
        }
      ]
    },
    {
      "cell_type": "markdown",
      "metadata": {
        "id": "Zxf-TMK821Zi"
      },
      "source": [
        "The following two cells visualize the progress made up until this point"
      ]
    },
    {
      "cell_type": "code",
      "metadata": {
        "id": "-_eh2FnzapAC",
        "pycharm": {
          "name": "#%%\n"
        }
      },
      "source": [
        "subset_dict = {str(value): 0 for key, value in input_tokenizer.word_index.items()}\n",
        "input_sequences = []\n",
        "\n",
        "# The input and response sentences are tokenized \n",
        "# and the token occurrences are counted in subset_dict\n",
        "for line in xy_data_df.iterrows():\n",
        "\n",
        "    # Input tokenization\n",
        "    token_list = input_tokenizer.texts_to_sequences([line[1][0]])[0]\n",
        "\n",
        "    for token in token_list:\n",
        "        subset_dict[str(token)] += 1\n",
        "\n",
        "    # print('input')\n",
        "    # print(token_list)\n",
        "    # print(tokenizer.sequences_to_texts([token_list]))\n",
        "    # print()\n",
        "\n",
        "    # Response tokenization\n",
        "    token_list = input_tokenizer.texts_to_sequences([line[1][1]])[0]\n",
        "\n",
        "    # print('response')\n",
        "    # print(token_list)\n",
        "    # print(tokenizer.sequences_to_texts([token_list]))\n",
        "    # print()\n",
        "\n",
        "    for token in token_list:\n",
        "        subset_dict[str(token)] += 1"
      ],
      "execution_count": null,
      "outputs": []
    },
    {
      "cell_type": "code",
      "metadata": {
        "colab": {
          "base_uri": "https://localhost:8080/",
          "height": 283
        },
        "id": "Qkxo2bw6apAE",
        "pycharm": {
          "name": "#%%\n"
        },
        "outputId": "b8b9e109-b0e4-474e-d3f3-c843ce7767e7"
      },
      "source": [
        "import matplotlib.pyplot as plt\n",
        "\n",
        "# A sequence from 0 to 29 is created\n",
        "list_c = [i for i in range(30)]\n",
        "\n",
        "# The string value of the 30 most used tokens are retrieved\n",
        "example_seq = input_tokenizer.sequences_to_texts([list_c])[0]\n",
        "print(example_seq)\n",
        "\n",
        "# Turns the example_seq string into a list of words\n",
        "x = example_seq.split()\n",
        "\n",
        "# The 30 most popular words are plotted based on their occurrence\n",
        "plt.bar(x, list(subset_dict.values())[:len(x)], align = 'center')\n",
        "plt.show()"
      ],
      "execution_count": null,
      "outputs": [
        {
          "output_type": "stream",
          "text": [
            "the a to i you of is and it that in for this are not have on be but was they just like with what my so it's if\n"
          ],
          "name": "stdout"
        },
        {
          "output_type": "display_data",
          "data": {
            "image/png": "[encoded data removed]",
            "text/plain": [
              "<Figure size 432x288 with 1 Axes>"
            ]
          },
          "metadata": {
            "tags": [],
            "needs_background": "light"
          }
        }
      ]
    },
    {
      "cell_type": "markdown",
      "metadata": {
        "id": "WJDxlk7P3Oz8"
      },
      "source": [
        "### Word embeddings\n",
        "\n",
        "This is where our work for the second milestone starts. We relied heavily on [this](https://stackabuse.com/python-for-nlp-neural-machine-translation-with-seq2seq-in-keras/) guide on stackabuse. Although we made several modifications to get it to work with our dataset.\n",
        "\n",
        "The following section embeds the words recognized by the model in a vector with 100 dimensions."
      ]
    },
    {
      "cell_type": "code",
      "metadata": {
        "colab": {
          "base_uri": "https://localhost:8080/"
        },
        "id": "06Y_EJxugMNY",
        "outputId": "e8d2b8d4-48aa-404d-e502-ccd9d60a2d50"
      },
      "source": [
        "# we used the pretrained vector embedding model GloVe\n",
        "!wget http://nlp.stanford.edu/data/glove.6B.zip glove.6B.zip"
      ],
      "execution_count": null,
      "outputs": [
        {
          "output_type": "stream",
          "text": [
            "--2020-12-11 10:06:16--  http://nlp.stanford.edu/data/glove.6B.zip\n",
            "Resolving nlp.stanford.edu (nlp.stanford.edu)... 171.64.67.140\n",
            "Connecting to nlp.stanford.edu (nlp.stanford.edu)|171.64.67.140|:80... connected.\n",
            "HTTP request sent, awaiting response... 302 Found\n",
            "Location: https://nlp.stanford.edu/data/glove.6B.zip [following]\n",
            "--2020-12-11 10:06:16--  https://nlp.stanford.edu/data/glove.6B.zip\n",
            "Connecting to nlp.stanford.edu (nlp.stanford.edu)|171.64.67.140|:443... connected.\n",
            "HTTP request sent, awaiting response... 301 Moved Permanently\n",
            "Location: http://downloads.cs.stanford.edu/nlp/data/glove.6B.zip [following]\n",
            "--2020-12-11 10:06:16--  http://downloads.cs.stanford.edu/nlp/data/glove.6B.zip\n",
            "Resolving downloads.cs.stanford.edu (downloads.cs.stanford.edu)... 171.64.64.22\n",
            "Connecting to downloads.cs.stanford.edu (downloads.cs.stanford.edu)|171.64.64.22|:80... connected.\n",
            "HTTP request sent, awaiting response... 200 OK\n",
            "Length: 862182613 (822M) [application/zip]\n",
            "Saving to: ‘glove.6B.zip’\n",
            "\n",
            "glove.6B.zip        100%[===================>] 822.24M  2.02MB/s    in 6m 27s  \n",
            "\n",
            "2020-12-11 10:12:43 (2.12 MB/s) - ‘glove.6B.zip’ saved [862182613/862182613]\n",
            "\n",
            "--2020-12-11 10:12:43--  http://glove.6b.zip/\n",
            "Resolving glove.6b.zip (glove.6b.zip)... failed: Name or service not known.\n",
            "wget: unable to resolve host address ‘glove.6b.zip’\n",
            "FINISHED --2020-12-11 10:12:43--\n",
            "Total wall clock time: 6m 28s\n",
            "Downloaded: 1 files, 822M in 6m 27s (2.12 MB/s)\n"
          ],
          "name": "stdout"
        }
      ]
    },
    {
      "cell_type": "code",
      "metadata": {
        "colab": {
          "base_uri": "https://localhost:8080/"
        },
        "id": "nAOz5_TghCFv",
        "outputId": "a20ecbdf-1bd8-4264-b74f-e6e95b37b474"
      },
      "source": [
        "# unzip the downloaded file\n",
        "!unzip glove.6B.zip"
      ],
      "execution_count": null,
      "outputs": [
        {
          "output_type": "stream",
          "text": [
            "Archive:  glove.6B.zip\n",
            "  inflating: glove.6B.50d.txt        \n",
            "  inflating: glove.6B.100d.txt       \n",
            "  inflating: glove.6B.200d.txt       \n",
            "  inflating: glove.6B.300d.txt       \n"
          ],
          "name": "stdout"
        }
      ]
    },
    {
      "cell_type": "code",
      "metadata": {
        "id": "-oGmjDXy3x-u"
      },
      "source": [
        "# import statements\n",
        "from numpy import array\n",
        "from numpy import asarray\n",
        "from numpy import zeros"
      ],
      "execution_count": null,
      "outputs": []
    },
    {
      "cell_type": "code",
      "metadata": {
        "id": "nS95Z6ZnidiS"
      },
      "source": [
        "#set embedding size\n",
        "EMBEDDING_SIZE = 100"
      ],
      "execution_count": null,
      "outputs": []
    },
    {
      "cell_type": "code",
      "metadata": {
        "id": "tybbgBOJicUE"
      },
      "source": [
        "# the embedding dictionary is a dictionary with the key being a word,\n",
        "# and the value being the corresponding 100d vector\n",
        "embeddings_dictionary = dict()\n",
        "\n",
        "# open the file containing the 100d vectors\n",
        "glove_file = open(r'glove.6B.100d.txt', encoding=\"utf8\")\n",
        "\n",
        "# iterate over the lines in the file\n",
        "for line in glove_file:\n",
        "    records = line.split()  # split along whitespaces\n",
        "    word = records[0]       # the word itself is the first element of the list\n",
        "    # the vector representation is the rest of the elements\n",
        "    vector_dimensions = asarray(records[1:], dtype='float32')  \n",
        "    embeddings_dictionary[word] = vector_dimensions  # insert word: vector representation into dictionary\n",
        "glove_file.close()  # close GloVe file"
      ],
      "execution_count": null,
      "outputs": []
    },
    {
      "cell_type": "code",
      "metadata": {
        "id": "1MgCAIsHiekB"
      },
      "source": [
        "# create the embedding matrix\n",
        "\n",
        "# limit the number of words understood by the model to MAX_NUM_WORDS\n",
        "num_words = min(MAX_NUM_WORDS, len(word2idx_inputs) + 1)\n",
        "# create embedding matrix filled with zeroes\n",
        "embedding_matrix = zeros((num_words, EMBEDDING_SIZE))\n",
        "\n",
        "# iterate over the first MAX_NUM_WORDS collected by the tokenizer\n",
        "for word, index in list(word2idx_inputs.items())[:num_words-1]:\n",
        "  # get embedding vector corresponding to the given word\n",
        "  embedding_vector = embeddings_dictionary.get(word)\n",
        "  # if embedding vector exists, the insert into relevant column of the mbedding matrix\n",
        "  # null vector by default\n",
        "  if embedding_vector is not None:\n",
        "      embedding_matrix[index] = embedding_vector"
      ],
      "execution_count": null,
      "outputs": []
    },
    {
      "cell_type": "code",
      "metadata": {
        "id": "22y2NO6n9Y0E",
        "colab": {
          "base_uri": "https://localhost:8080/"
        },
        "outputId": "575c5b46-4e41-460c-dada-9bbd2c609d7d"
      },
      "source": [
        "# some testing\n",
        "index = 4997\n",
        "print(num_words)"
      ],
      "execution_count": null,
      "outputs": [
        {
          "output_type": "stream",
          "text": [
            "10000\n"
          ],
          "name": "stdout"
        }
      ]
    },
    {
      "cell_type": "code",
      "metadata": {
        "colab": {
          "base_uri": "https://localhost:8080/"
        },
        "id": "8Tp04_Sur5nj",
        "outputId": "c54f182a-8322-499e-cac6-4bb2c987a8e0"
      },
      "source": [
        "# print last word\n",
        "print(list(word2idx_inputs.items())[index])"
      ],
      "execution_count": null,
      "outputs": [
        {
          "output_type": "stream",
          "text": [
            "('nerds', 4998)\n"
          ],
          "name": "stdout"
        }
      ]
    },
    {
      "cell_type": "code",
      "metadata": {
        "colab": {
          "base_uri": "https://localhost:8080/"
        },
        "id": "6Eq2JKmIi9dY",
        "outputId": "25ef3fd9-a3ab-4fa3-b45c-7a831d9a39c9"
      },
      "source": [
        "# print embedding of word from the embedding dictionary\n",
        "print(embeddings_dictionary[list(word2idx_inputs.items())[index][0]])"
      ],
      "execution_count": null,
      "outputs": [
        {
          "output_type": "stream",
          "text": [
            "[-0.19674    0.35466    0.77021   -0.79855   -0.47644    0.73906\n",
            "  0.14655   -0.53209    0.27152    0.68132    0.46877   -0.67652\n",
            " -0.10061    0.046754   0.041247   0.40438    0.24687    0.70391\n",
            " -0.036142   0.81965   -0.45159   -0.55595   -0.1448     0.12508\n",
            "  0.44181   -0.0058418 -0.02297    0.65057   -0.071639  -0.88577\n",
            " -0.10025   -0.27953   -0.34384   -0.12254    0.42411    0.14245\n",
            " -0.42348    0.051886   0.55224   -0.73137   -0.18965    0.59574\n",
            " -0.83985   -0.30603   -0.25501   -0.42598    0.26483    0.9066\n",
            " -0.13073    0.22541   -0.53731   -0.58169   -0.28794    0.33422\n",
            " -0.61324    0.44146    0.59468    0.60291   -0.34503   -0.045412\n",
            "  0.074943   0.0069484 -0.53309   -0.35747   -0.18395    0.60279\n",
            "  0.40992    0.31927   -0.41532    0.42306    0.068268  -0.39861\n",
            " -0.33359    0.027311  -1.579     -0.075341   0.27954    0.19211\n",
            "  0.47339    0.050369   0.070401   0.068903  -0.5099     0.86432\n",
            " -0.69013    0.18401   -0.54876   -0.19517   -0.8297    -0.30148\n",
            " -0.24203    0.57694   -0.1551     0.17007   -0.48272   -0.54074\n",
            "  0.07434    0.030018   0.36403    0.029191 ]\n"
          ],
          "name": "stdout"
        }
      ]
    },
    {
      "cell_type": "code",
      "metadata": {
        "colab": {
          "base_uri": "https://localhost:8080/"
        },
        "id": "o53dqL4njpW7",
        "outputId": "9f740ab5-d445-463d-f9f8-241bc7b82af5"
      },
      "source": [
        "# print embedding of word from the embedding matrix, this should be about the same as the above output\n",
        "# the discrepancies are due to the different type\n",
        "print(embedding_matrix[list(word2idx_inputs.items())[index][1]])"
      ],
      "execution_count": null,
      "outputs": [
        {
          "output_type": "stream",
          "text": [
            "[-0.19674     0.35466     0.77021003 -0.79855001 -0.47644001  0.73905998\n",
            "  0.14655    -0.53209001  0.27151999  0.68132001  0.46877    -0.67651999\n",
            " -0.10061     0.046754    0.041247    0.40437999  0.24687     0.70390999\n",
            " -0.036142    0.81964999 -0.45159    -0.55594999 -0.14480001  0.12508\n",
            "  0.44181001 -0.0058418  -0.02297     0.65056998 -0.071639   -0.88577002\n",
            " -0.10025    -0.27952999 -0.34384    -0.12254     0.42411     0.14245\n",
            " -0.42348     0.051886    0.55224001 -0.73136997 -0.18965     0.59574002\n",
            " -0.83985001 -0.30603001 -0.25501001 -0.42598     0.26482999  0.9066\n",
            " -0.13073     0.22541    -0.53731    -0.58169001 -0.28794     0.33421999\n",
            " -0.61324     0.44146001  0.59468001  0.60290998 -0.34503001 -0.045412\n",
            "  0.074943    0.0069484  -0.53309    -0.35747001 -0.18395001  0.60279\n",
            "  0.40992001  0.31927001 -0.41532001  0.42306     0.068268   -0.39861\n",
            " -0.33359     0.027311   -1.579      -0.075341    0.27954     0.19211\n",
            "  0.47339001  0.050369    0.070401    0.068903   -0.50989997  0.86431998\n",
            " -0.69013     0.18401    -0.54876    -0.19517    -0.82969999 -0.30148\n",
            " -0.24202999  0.57694    -0.1551      0.17007001 -0.48271999 -0.54074001\n",
            "  0.07434     0.030018    0.36403     0.029191  ]\n"
          ],
          "name": "stdout"
        }
      ]
    },
    {
      "cell_type": "markdown",
      "metadata": {
        "id": "GSmFEqZdfaYY"
      },
      "source": [
        "### Solving data feed to the model\r\n",
        "In this section we create a class and a function to feed the data to the model in small batches. In this the RAM isn't used up by a giant 3 dimensional one hot encoded matrix."
      ]
    },
    {
      "cell_type": "code",
      "metadata": {
        "id": "U6a5MFBghIaz"
      },
      "source": [
        "from tensorflow.keras.utils import Sequence\r\n",
        "import math"
      ],
      "execution_count": null,
      "outputs": []
    },
    {
      "cell_type": "code",
      "metadata": {
        "id": "lPFoENGTABz7"
      },
      "source": [
        "# defining the batch size\n",
        "BATCH_SIZE = 64"
      ],
      "execution_count": null,
      "outputs": []
    },
    {
      "cell_type": "code",
      "metadata": {
        "id": "cgz_IQZcPh2F"
      },
      "source": [
        "class LSTM_data_generator(Sequence):\r\n",
        "  '''generator class which creates a batch of data for each index based on the input data'''\r\n",
        "\r\n",
        "  def __init__(self, x_set_1, x_set_2, y_set, batch_size, max_out_len, num_words):\r\n",
        "    self.x_1, self.x_2, self.y = x_set_1, x_set_2, y_set\r\n",
        "    self.batch_size = batch_size\r\n",
        "    self.max_out_len = max_out_len\r\n",
        "    self.num_words = num_words\r\n",
        "    # sanity check\r\n",
        "    assert len(self.x_1) == len(self.x_2)\r\n",
        "    assert len(self.x_2) == len(self.y)\r\n",
        "\r\n",
        "  def __len__(self):\r\n",
        "    # calculate max length\r\n",
        "    return math.floor(len(self.x_1) / self.batch_size)\r\n",
        "\r\n",
        "  def __getitem__(self, idx):\r\n",
        "    # create a batch_size batch of input data an one hot encoded matrix\r\n",
        "    batch_x_1 = self.x_1[idx*self.batch_size : (idx + 1)*self.batch_size]\r\n",
        "    batch_x_2 = self.x_2[idx*self.batch_size : (idx + 1)*self.batch_size]\r\n",
        "    batch_y = self.y[idx*self.batch_size : (idx + 1)*self.batch_size]\r\n",
        "\r\n",
        "    # create an empty matrix with the following sizes\r\n",
        "    decoder_targets_one_hot = np.zeros((\r\n",
        "      self.batch_size,\r\n",
        "      self.max_out_len,\r\n",
        "      self.num_words),dtype='float32')\r\n",
        "    \r\n",
        "    # fill the previously created null hypermatrix with one hot columns in the following fashion:\r\n",
        "    # Insert value 1 into every r-th row of every c-th column of every m-th matrix where;\r\n",
        "    # m is the index of the sentence in decoder_output_sequences: 1-st sentence -> m = 0, n-th sentence -> m = n-1\r\n",
        "    # c is the place of the word in the sentence: 1-st word in sentence -> c = 0, n-th word in sentence -> c = n-1\r\n",
        "    # r is the value given to the word by th output tokenizer: '<eos>' -> r = 1, 'not' -> r = 15        \r\n",
        "    for m, sequence in enumerate(batch_y):\r\n",
        "      for c, r in enumerate(sequence):\r\n",
        "        decoder_targets_one_hot[m, c, r] = 1\r\n",
        "\r\n",
        "    return [batch_x_1, batch_x_2], decoder_targets_one_hot"
      ],
      "execution_count": null,
      "outputs": []
    },
    {
      "cell_type": "code",
      "metadata": {
        "id": "lSctd0r5N0Py"
      },
      "source": [
        "def get_LSTM_data_generator(encoder_input_sequences, decoder_input_sequences, decoder_output_sequences, batch_size, max_out_len, num_words, val_split=0.2):\r\n",
        "  # sanity check\r\n",
        "  assert len(encoder_input_sequences) == len(decoder_input_sequences)\r\n",
        "  assert len(decoder_input_sequences) == len(decoder_output_sequences)\r\n",
        "\r\n",
        "  # calculate the lengths of the train and validation databases with as perfect a fit as possible\r\n",
        "  # the train length should alwats be a multiple of batch size, validation length will be the remainder\r\n",
        "  # thus ensuring the most efficient use of data\r\n",
        "  whole_len = len(encoder_input_sequences)\r\n",
        "  train_len = math.floor(whole_len * (1-val_split)/batch_size)*batch_size\r\n",
        "  val_len = whole_len - train_len\r\n",
        "\r\n",
        "  # create train dataframes\r\n",
        "  train_x_1 = encoder_input_sequences[:train_len]\r\n",
        "  train_x_2 = decoder_input_sequences[:train_len]\r\n",
        "  train_y = decoder_output_sequences[:train_len]\r\n",
        "\r\n",
        "  # create validation dataframes\r\n",
        "  val_x_1 = encoder_input_sequences[train_len:]\r\n",
        "  val_x_2 = decoder_input_sequences[train_len:]\r\n",
        "  val_y = decoder_output_sequences[train_len:]\r\n",
        "\r\n",
        "  # create train and validation data generation class instances\r\n",
        "  train_data = LSTM_data_generator(train_x_1, train_x_2, train_y, batch_size, max_out_len, num_words)\r\n",
        "  val_data = LSTM_data_generator(val_x_1, val_x_2, val_y, batch_size, max_out_len, num_words)\r\n",
        "\r\n",
        "  return train_data, val_data"
      ],
      "execution_count": null,
      "outputs": []
    },
    {
      "cell_type": "markdown",
      "metadata": {
        "id": "4dRfhYAe5cQT"
      },
      "source": [
        "### Model structure\n",
        "This section builds the model and trains it based on the data compiled in the previous sections."
      ]
    },
    {
      "cell_type": "code",
      "metadata": {
        "id": "Ls-gfBDlkYt8"
      },
      "source": [
        "# import statements\n",
        "import numpy as np\n",
        "from tensorflow.keras.layers import Embedding"
      ],
      "execution_count": null,
      "outputs": []
    },
    {
      "cell_type": "code",
      "metadata": {
        "id": "gajlpyg887XD"
      },
      "source": [
        "# create embedding layer from embedding matrix\n",
        "embedding_layer = Embedding(num_words, EMBEDDING_SIZE, weights=[embedding_matrix], input_length=max_input_len)"
      ],
      "execution_count": null,
      "outputs": []
    },
    {
      "cell_type": "code",
      "metadata": {
        "id": "fWC4ofYM-Z_f"
      },
      "source": [
        "# set number of LSTM nodes\n",
        "LSTM_NODES = 256"
      ],
      "execution_count": null,
      "outputs": []
    },
    {
      "cell_type": "code",
      "metadata": {
        "id": "oqA9TiHL-mkN"
      },
      "source": [
        "# import statements\n",
        "from tensorflow.keras.layers import LSTM, Input, Dense\n",
        "from tensorflow.keras import Model"
      ],
      "execution_count": null,
      "outputs": []
    },
    {
      "cell_type": "code",
      "metadata": {
        "id": "-mnlyJIfD-i0"
      },
      "source": [
        "encoder_inputs_placeholder = Input(shape=(max_input_len,))"
      ],
      "execution_count": null,
      "outputs": []
    },
    {
      "cell_type": "code",
      "metadata": {
        "id": "-sZbT4VE-WWv"
      },
      "source": [
        "# The encoder of the model is defined.\n",
        "# The input of the encoder are the sentences and the output is\n",
        "# the hidden state and cell state of the LSTM. \n",
        "\n",
        "x = embedding_layer(encoder_inputs_placeholder)\n",
        "encoder = LSTM(LSTM_NODES, return_state=True)\n",
        "\n",
        "encoder_outputs, h, c = encoder(x)\n",
        "encoder_states = [h, c]"
      ],
      "execution_count": null,
      "outputs": []
    },
    {
      "cell_type": "code",
      "metadata": {
        "id": "64I8n09j--9E"
      },
      "source": [
        "# The decoder is defined.\n",
        "# The input of the decoder are the hidden state and cell state of the\n",
        "# encoder and the input sentence.\n",
        "decoder_inputs_placeholder = Input(shape=(max_out_len,))\n",
        "\n",
        "decoder_embedding = Embedding(num_words, LSTM_NODES)\n",
        "decoder_inputs_x = decoder_embedding(decoder_inputs_placeholder)\n",
        "\n",
        "decoder_lstm = LSTM(LSTM_NODES, return_sequences=True, return_state=True)\n",
        "decoder_outputs, _, _ = decoder_lstm(decoder_inputs_x, initial_state=encoder_states)"
      ],
      "execution_count": null,
      "outputs": []
    },
    {
      "cell_type": "code",
      "metadata": {
        "id": "pxvM_HsZ-xtb"
      },
      "source": [
        "# The output of the decoder is given to a dense layer to predict\n",
        "# the decoder output.\n",
        "decoder_dense = Dense(num_words, activation='softmax')\n",
        "decoder_outputs = decoder_dense(decoder_outputs)"
      ],
      "execution_count": null,
      "outputs": []
    },
    {
      "cell_type": "code",
      "metadata": {
        "id": "DGYLTU2V_K67"
      },
      "source": [
        "# The model is connected and compiled. There are two inputs: the\n",
        "# encoder and the decoder input.\n",
        "model = Model([encoder_inputs_placeholder,\n",
        "  decoder_inputs_placeholder], decoder_outputs)\n",
        "model.compile(\n",
        "    optimizer='rmsprop',\n",
        "    loss='categorical_crossentropy',\n",
        "    metrics=['accuracy']\n",
        ")"
      ],
      "execution_count": null,
      "outputs": []
    },
    {
      "cell_type": "code",
      "metadata": {
        "colab": {
          "base_uri": "https://localhost:8080/",
          "height": 533
        },
        "id": "EK08hHKr_U7i",
        "outputId": "09cc6365-9e61-4082-ef34-a7bd246aa83e"
      },
      "source": [
        "# The structure of the model is plotted.\n",
        "from keras.utils import plot_model\n",
        "plot_model(model, to_file='model_plot4a.png', show_shapes=True, show_layer_names=True)"
      ],
      "execution_count": null,
      "outputs": [
        {
          "output_type": "execute_result",
          "data": {
            "image/png": "[encoded data removed]",
            "text/plain": [
              "<IPython.core.display.Image object>"
            ]
          },
          "metadata": {
            "tags": []
          },
          "execution_count": 143
        }
      ]
    },
    {
      "cell_type": "code",
      "metadata": {
        "id": "rSmKeGFllCRW"
      },
      "source": [
        "# define input sentences\n",
        "input_sentences = xy_data_df['input']"
      ],
      "execution_count": null,
      "outputs": []
    },
    {
      "cell_type": "code",
      "metadata": {
        "id": "A7-N6Ye4Qssp"
      },
      "source": [
        "train_d, val_d = get_LSTM_data_generator(encoder_input_sequences, decoder_input_sequences, decoder_output_sequences, BATCH_SIZE, max_out_len, num_words)"
      ],
      "execution_count": null,
      "outputs": []
    },
    {
      "cell_type": "code",
      "metadata": {
        "id": "vqQ6sp2uiFBp"
      },
      "source": [
        "EPOCHS = 20"
      ],
      "execution_count": null,
      "outputs": []
    },
    {
      "cell_type": "code",
      "metadata": {
        "colab": {
          "base_uri": "https://localhost:8080/"
        },
        "id": "P4upXshJ_jw-",
        "outputId": "47d29c72-6b32-4f1f-fed6-bdd0ca4b6c75"
      },
      "source": [
        "# The model is trained.\n",
        "r = model.fit(\n",
        "    x=train_d,\n",
        "    validation_data = val_d,\n",
        "    batch_size=BATCH_SIZE,\n",
        "    epochs=EPOCHS\n",
        ")"
      ],
      "execution_count": null,
      "outputs": [
        {
          "output_type": "stream",
          "text": [
            "Epoch 1/20\n",
            "125/125 [==============================] - 11s 90ms/step - loss: 2.2361 - accuracy: 0.7057 - val_loss: 1.8554 - val_accuracy: 0.7257\n",
            "Epoch 2/20\n",
            "125/125 [==============================] - 11s 85ms/step - loss: 1.8481 - accuracy: 0.7246 - val_loss: 1.8161 - val_accuracy: 0.7279\n",
            "Epoch 3/20\n",
            "125/125 [==============================] - 11s 84ms/step - loss: 1.7931 - accuracy: 0.7282 - val_loss: 1.7757 - val_accuracy: 0.7328\n",
            "Epoch 4/20\n",
            "125/125 [==============================] - 10s 84ms/step - loss: 1.7442 - accuracy: 0.7332 - val_loss: 1.7476 - val_accuracy: 0.7358\n",
            "Epoch 5/20\n",
            "125/125 [==============================] - 11s 84ms/step - loss: 1.7053 - accuracy: 0.7360 - val_loss: 1.7268 - val_accuracy: 0.7380\n",
            "Epoch 6/20\n",
            "125/125 [==============================] - 10s 84ms/step - loss: 1.6725 - accuracy: 0.7381 - val_loss: 1.7146 - val_accuracy: 0.7392\n",
            "Epoch 7/20\n",
            "125/125 [==============================] - 10s 83ms/step - loss: 1.6429 - accuracy: 0.7399 - val_loss: 1.7078 - val_accuracy: 0.7396\n",
            "Epoch 8/20\n",
            "125/125 [==============================] - 10s 84ms/step - loss: 1.6152 - accuracy: 0.7414 - val_loss: 1.7037 - val_accuracy: 0.7400\n",
            "Epoch 9/20\n",
            "125/125 [==============================] - 10s 84ms/step - loss: 1.5878 - accuracy: 0.7430 - val_loss: 1.7005 - val_accuracy: 0.7409\n",
            "Epoch 10/20\n",
            "125/125 [==============================] - 10s 84ms/step - loss: 1.5615 - accuracy: 0.7443 - val_loss: 1.7014 - val_accuracy: 0.7406\n",
            "Epoch 11/20\n",
            "125/125 [==============================] - 10s 83ms/step - loss: 1.5355 - accuracy: 0.7457 - val_loss: 1.7026 - val_accuracy: 0.7408\n",
            "Epoch 12/20\n",
            "125/125 [==============================] - 10s 83ms/step - loss: 1.5084 - accuracy: 0.7474 - val_loss: 1.7042 - val_accuracy: 0.7406\n",
            "Epoch 13/20\n",
            "125/125 [==============================] - 10s 83ms/step - loss: 1.4812 - accuracy: 0.7491 - val_loss: 1.7101 - val_accuracy: 0.7401\n",
            "Epoch 14/20\n",
            "125/125 [==============================] - 10s 84ms/step - loss: 1.4536 - accuracy: 0.7508 - val_loss: 1.7153 - val_accuracy: 0.7408\n",
            "Epoch 15/20\n",
            "125/125 [==============================] - 10s 84ms/step - loss: 1.4265 - accuracy: 0.7528 - val_loss: 1.7217 - val_accuracy: 0.7401\n",
            "Epoch 16/20\n",
            "125/125 [==============================] - 10s 84ms/step - loss: 1.3978 - accuracy: 0.7548 - val_loss: 1.7293 - val_accuracy: 0.7398\n",
            "Epoch 17/20\n",
            "125/125 [==============================] - 11s 85ms/step - loss: 1.3685 - accuracy: 0.7571 - val_loss: 1.7368 - val_accuracy: 0.7388\n",
            "Epoch 18/20\n",
            "125/125 [==============================] - 10s 83ms/step - loss: 1.3398 - accuracy: 0.7593 - val_loss: 1.7454 - val_accuracy: 0.7388\n",
            "Epoch 19/20\n",
            "125/125 [==============================] - 11s 85ms/step - loss: 1.3112 - accuracy: 0.7618 - val_loss: 1.7595 - val_accuracy: 0.7387\n",
            "Epoch 20/20\n",
            "125/125 [==============================] - 10s 84ms/step - loss: 1.2824 - accuracy: 0.7644 - val_loss: 1.7696 - val_accuracy: 0.7379\n"
          ],
          "name": "stdout"
        }
      ]
    },
    {
      "cell_type": "code",
      "metadata": {
        "id": "8Mvq4wpZbDEb"
      },
      "source": [
        "def pretty_plot(history, field, fn):\r\n",
        "  '''this is a function to plot the various metrics of the training'''\r\n",
        "  import matplotlib.pyplot as plt \r\n",
        "  def plot(data, val_data, best_index, best_value, title):\r\n",
        "    plt.plot(range(1, len(data)+1), data, label='train')\r\n",
        "    plt.plot(range(1, len(data)+1), val_data, label='validation')\r\n",
        "    if not best_index is None:\r\n",
        "      plt.axvline(x=best_index+1, linestyle=':', c=\"#777777\")\r\n",
        "    if not best_value is None:\r\n",
        "      plt.axhline(y=best_value, linestyle=':', c=\"#777777\")\r\n",
        "    plt.xlabel('Epoch')\r\n",
        "    plt.ylabel(field)\r\n",
        "    plt.xticks(range(0, len(data), 20))\r\n",
        "    plt.title(title)\r\n",
        "    plt.legend()\r\n",
        "    plt.show()\r\n",
        "\r\n",
        "  data = history.history[field]\r\n",
        "  val_data = history.history['val_' + field]\r\n",
        "  tail = int(0.15 * len(data))\r\n",
        "\r\n",
        "  best_index = fn(val_data)\r\n",
        "  best_value = val_data[best_index]\r\n",
        "\r\n",
        "  plot(data, val_data, best_index, best_value, \"{} over epochs (best {:06.4f})\".format(field, best_value))\r\n",
        "  plot(data[-tail:], val_data[-tail:], None, best_value, \"{} over last {} epochs\".format(field, tail))"
      ],
      "execution_count": null,
      "outputs": []
    },
    {
      "cell_type": "code",
      "metadata": {
        "colab": {
          "base_uri": "https://localhost:8080/",
          "height": 539
        },
        "id": "liozYvVqbHgX",
        "outputId": "4b995b80-64fc-4d44-f0a8-079583d154e5"
      },
      "source": [
        "# plotting the accuracy\r\n",
        "pretty_plot(r, 'accuracy', lambda x: np.argmax(x))"
      ],
      "execution_count": null,
      "outputs": [
        {
          "output_type": "display_data",
          "data": {
            "image/png": "[encoded data removed]",
            "text/plain": [
              "<Figure size 432x288 with 1 Axes>"
            ]
          },
          "metadata": {
            "tags": [],
            "needs_background": "light"
          }
        },
        {
          "output_type": "display_data",
          "data": {
            "image/png": "[encoded data removed]",
            "text/plain": [
              "<Figure size 432x288 with 1 Axes>"
            ]
          },
          "metadata": {
            "tags": [],
            "needs_background": "light"
          }
        }
      ]
    },
    {
      "cell_type": "code",
      "metadata": {
        "colab": {
          "base_uri": "https://localhost:8080/",
          "height": 539
        },
        "id": "scRjEeBcbYQG",
        "outputId": "77f88b4f-84b6-4f9a-c4c8-8e68c4aabed0"
      },
      "source": [
        "# plotting the loss\r\n",
        "pretty_plot(r, 'loss', lambda x: np.argmin(x))"
      ],
      "execution_count": null,
      "outputs": [
        {
          "output_type": "display_data",
          "data": {
            "image/png": "[encoded data removed]",
            "text/plain": [
              "<Figure size 432x288 with 1 Axes>"
            ]
          },
          "metadata": {
            "tags": [],
            "needs_background": "light"
          }
        },
        {
          "output_type": "display_data",
          "data": {
            "image/png": "[encoded data removed]",
            "text/plain": [
              "<Figure size 432x288 with 1 Axes>"
            ]
          },
          "metadata": {
            "tags": [],
            "needs_background": "light"
          }
        }
      ]
    },
    {
      "cell_type": "markdown",
      "metadata": {
        "id": "jHNsJMdD5mDE"
      },
      "source": [
        "### Modifying the model for predictions\n",
        "In the following section the model is changed for predictions. The output sentence is predicted word by word. At every step the an output word will be predicted based on the results of the previous prediction"
      ]
    },
    {
      "cell_type": "code",
      "metadata": {
        "id": "vMEvGg3mBdXQ"
      },
      "source": [
        "# Encoder model is the same as last time.\n",
        "encoder_model = Model(encoder_inputs_placeholder, encoder_states)"
      ],
      "execution_count": null,
      "outputs": []
    },
    {
      "cell_type": "code",
      "metadata": {
        "id": "Ya9E-80cC6_W"
      },
      "source": [
        "# Input layers receive the hidden and cell states of the decoder. \n",
        "decoder_state_input_h = Input(shape=(LSTM_NODES,))\n",
        "decoder_state_input_c = Input(shape=(LSTM_NODES,))\n",
        "decoder_states_inputs = [decoder_state_input_h, decoder_state_input_c]"
      ],
      "execution_count": null,
      "outputs": []
    },
    {
      "cell_type": "code",
      "metadata": {
        "id": "KJk3ObGGC9J0"
      },
      "source": [
        "# At each step the decoder will receive one word.\n",
        "# Decoder embedding layer is modified.\n",
        "decoder_inputs_single = Input(shape=(1,))\n",
        "decoder_inputs_single_x = decoder_embedding(decoder_inputs_single)"
      ],
      "execution_count": null,
      "outputs": []
    },
    {
      "cell_type": "code",
      "metadata": {
        "id": "kdz9LX41C9sI"
      },
      "source": [
        "# Placeholder for decoder outputs\n",
        "decoder_outputs, h, c = decoder_lstm(decoder_inputs_single_x, initial_state=decoder_states_inputs)"
      ],
      "execution_count": null,
      "outputs": []
    },
    {
      "cell_type": "code",
      "metadata": {
        "id": "Nb8AxvELDBPx"
      },
      "source": [
        "# The decoder output is passed through a dense layer. \n",
        "decoder_states = [h, c]\n",
        "decoder_outputs = decoder_dense(decoder_outputs)"
      ],
      "execution_count": null,
      "outputs": []
    },
    {
      "cell_type": "code",
      "metadata": {
        "id": "wE4MiBbjDDKz"
      },
      "source": [
        "# Decoder model definition\n",
        "decoder_model = Model(\n",
        "    [decoder_inputs_single] + decoder_states_inputs,\n",
        "    [decoder_outputs] + decoder_states\n",
        ")"
      ],
      "execution_count": null,
      "outputs": []
    },
    {
      "cell_type": "code",
      "metadata": {
        "colab": {
          "base_uri": "https://localhost:8080/",
          "height": 312
        },
        "id": "7SA9hGKVHHvY",
        "outputId": "ebfd4483-fe55-4d0c-c828-e4e1eaac3239"
      },
      "source": [
        "# Plot the decoder LSTM\r\n",
        "from keras.utils import plot_model\r\n",
        "plot_model(encoder_model, to_file='model_plot_dec.png', show_shapes=True, show_layer_names=True)"
      ],
      "execution_count": null,
      "outputs": [
        {
          "output_type": "execute_result",
          "data": {
            "image/png": "[encoded data removed]",
            "text/plain": [
              "<IPython.core.display.Image object>"
            ]
          },
          "metadata": {
            "tags": []
          },
          "execution_count": 124
        }
      ]
    },
    {
      "cell_type": "code",
      "metadata": {
        "colab": {
          "base_uri": "https://localhost:8080/",
          "height": 422
        },
        "id": "-MR8DiB7DFc_",
        "outputId": "29d6d5fe-bacf-49d0-957f-abf2553bef5c"
      },
      "source": [
        "# Plot the decoder LSTM\n",
        "from keras.utils import plot_model\n",
        "plot_model(decoder_model, to_file='model_plot_dec.png', show_shapes=True, show_layer_names=True)"
      ],
      "execution_count": null,
      "outputs": [
        {
          "output_type": "execute_result",
          "data": {
            "image/png": "[encoded data removed]",
            "text/plain": [
              "<IPython.core.display.Image object>"
            ]
          },
          "metadata": {
            "tags": []
          },
          "execution_count": 125
        }
      ]
    },
    {
      "cell_type": "code",
      "metadata": {
        "id": "i7t42dCwDdzh"
      },
      "source": [
        "# Dictionaries for input and ouput\n",
        "# They help converting the integers back to words.\n",
        "idx2word_input = {v:k for k, v in word2idx_inputs.items()}\n",
        "idx2word_target = {v:k for k, v in word2idx_outputs.items()}"
      ],
      "execution_count": null,
      "outputs": []
    },
    {
      "cell_type": "code",
      "metadata": {
        "id": "BxhRbRdYDhc7"
      },
      "source": [
        "# Predicts the answer for an input sentence.\n",
        "def answer_sentence(input_seq):\n",
        "    # The encoder model predicts the hidden and cell state.\n",
        "    states_value = encoder_model.predict(input_seq)\n",
        "    # Target stores the integer representation of <sos>\n",
        "    target_seq = np.zeros((1, 1))\n",
        "    target_seq[0, 0] = word2idx_outputs['<sos>']\n",
        "    # Eos stores the integer representation of <eos>\n",
        "    eos = word2idx_outputs['<eos>']\n",
        "    # Stores the response\n",
        "    output_sentence = []\n",
        "\n",
        "    # Every iteration a word of the output sentence is predicted.\n",
        "    for _ in range(max_out_len):\n",
        "        # The output, the hidden and cell states are predicted.\n",
        "        output_tokens, h, c = decoder_model.predict([target_seq] + states_value)\n",
        "        # The most probable word is selected.\n",
        "        idx = np.argmax(output_tokens[0, 0, :])\n",
        "        # If the word is <eos>, the loop ends.\n",
        "        if eos == idx:\n",
        "            break\n",
        "\n",
        "        word = ''\n",
        "        # The token is converted to a word and added to the output sentence\n",
        "        if idx > 0:\n",
        "            word = idx2word_target[idx]\n",
        "            output_sentence.append(word)\n",
        "        # Target_eq and states_value are refreshed.\n",
        "        target_seq[0, 0] = idx\n",
        "        states_value = [h, c]\n",
        "\n",
        "    return ' '.join(output_sentence)"
      ],
      "execution_count": null,
      "outputs": []
    },
    {
      "cell_type": "code",
      "metadata": {
        "colab": {
          "base_uri": "https://localhost:8080/"
        },
        "id": "8p826SimDng9",
        "outputId": "e9812a15-64bc-4144-8b2c-0655afc49246"
      },
      "source": [
        "i = np.random.choice(len(input_sentences))\n",
        "input_seq = encoder_input_sequences[i:i+1]\n",
        "translation = answer_sentence(input_seq)\n",
        "print('-')\n",
        "print('Input:', input_sentences[i])\n",
        "print('Response:', translation)"
      ],
      "execution_count": null,
      "outputs": [
        {
          "output_type": "stream",
          "text": [
            "-\n",
            "Input: The description sounds more like Bioshock to me, though.\n",
            "Response: i don't have to be a lot of the\n"
          ],
          "name": "stdout"
        }
      ]
    },
    {
      "cell_type": "markdown",
      "metadata": {
        "id": "dKdGmwkwV9GQ"
      },
      "source": [
        "### Further training and hyperparameter optimization"
      ]
    },
    {
      "cell_type": "code",
      "metadata": {
        "id": "YhZE69ItYcxf"
      },
      "source": [
        "!pip install --upgrade tensorflow\n",
        "!pip install --upgrade tensorflow-gpu\n",
        "clear_output()"
      ],
      "execution_count": null,
      "outputs": []
    },
    {
      "cell_type": "code",
      "metadata": {
        "id": "KyotrvtdYrx4"
      },
      "source": [
        "!pip install keras-tuner\r\n",
        "clear_output()"
      ],
      "execution_count": null,
      "outputs": []
    },
    {
      "cell_type": "code",
      "metadata": {
        "colab": {
          "base_uri": "https://localhost:8080/"
        },
        "id": "clY96ri9awRr",
        "outputId": "8587f5da-235a-4083-f644-54291b5ecf70"
      },
      "source": [
        "!pip install googledrivedownloader"
      ],
      "execution_count": null,
      "outputs": [
        {
          "output_type": "stream",
          "text": [
            "Requirement already satisfied: googledrivedownloader in /usr/local/lib/python3.6/dist-packages (0.4)\n"
          ],
          "name": "stdout"
        }
      ]
    },
    {
      "cell_type": "code",
      "metadata": {
        "colab": {
          "base_uri": "https://localhost:8080/",
          "height": 36
        },
        "id": "d3xL0IBuYp4x",
        "outputId": "d07c3ec6-f530-4dc8-e8a0-ea23547ef3d0"
      },
      "source": [
        "import tensorflow as tf\n",
        "tf.__version__"
      ],
      "execution_count": null,
      "outputs": [
        {
          "output_type": "execute_result",
          "data": {
            "application/vnd.google.colaboratory.intrinsic+json": {
              "type": "string"
            },
            "text/plain": [
              "'2.3.0'"
            ]
          },
          "metadata": {
            "tags": []
          },
          "execution_count": 209
        }
      ]
    },
    {
      "cell_type": "code",
      "metadata": {
        "id": "1uS-UhcsYsMl"
      },
      "source": [
        "# import statements\n",
        "import tensorflow as tf\n",
        "from tensorflow import keras\n",
        "import numpy as np\n",
        "\n",
        "import numpy as np\n",
        "from tensorflow.keras.layers import Embedding\n",
        "\n",
        "from tensorflow.keras.layers import LSTM, Input, Dense, Dropout, Bidirectional\n",
        "from tensorflow.keras import Model"
      ],
      "execution_count": null,
      "outputs": []
    },
    {
      "cell_type": "code",
      "metadata": {
        "id": "k0BZvF6gf60u"
      },
      "source": [
        "def build_model(hp):\n",
        "  '''\n",
        "    this function defines the model structure with some parameters being defines as a hyperparamter\n",
        "    in some places the hyperparameters are commented out, this is due to the fact, that it would have taken to much time to optimize for everything\n",
        "  '''\n",
        "  # set number of LSTM nodes\n",
        "  LSTM_NODES = 256 # hp.Choice('nodes_var', values = [256, 512])\n",
        "\n",
        "  # The encoder of the model is defined.\n",
        "  # The input of the encoder are the sentences and the output is\n",
        "  # the hidden state and cell state of the LSTM.\n",
        "\n",
        "  embedding_layer = Embedding(num_words, EMBEDDING_SIZE, weights=[embedding_matrix], input_length=40)\n",
        "  encoder_inputs_placeholder = Input(shape=(40,))\n",
        "  x = embedding_layer(encoder_inputs_placeholder)\n",
        "\n",
        "\n",
        "  encoder = LSTM(LSTM_NODES, return_state=True)\n",
        "\n",
        "  encoder_outputs, h, c = encoder(x)\n",
        "  encoder_states = [h, c]\n",
        "\n",
        "  # The decoder is defined.\n",
        "  # The input of the decoder are the hidden state and cell state of the\n",
        "  # encoder and the input sentence.\n",
        "  decoder_inputs_placeholder = Input(shape=(44,))\n",
        "\n",
        "  decoder_embedding = Embedding(num_words, LSTM_NODES)\n",
        "  decoder_inputs_x = decoder_embedding(decoder_inputs_placeholder)\n",
        "\n",
        "  decoder_lstm = LSTM(LSTM_NODES, return_sequences=True, return_state=True)\n",
        "\n",
        "  decoder_outputs, _, _ = decoder_lstm(decoder_inputs_x, initial_state=encoder_states)\n",
        "\n",
        "  activation_var = 'relu' # hp.Choice('activation_var', values = ['relu', 'sigmoid'])\n",
        "\n",
        "  nodes_var = hp.Int('nodes_var', min_value=3000,max_value=5000, step=1000)\n",
        "  for i in range(hp.Int('n_layers', 0, 2)):  # adding variation of layers.\n",
        "    new_dense_layer = Dense(nodes_var, activation=activation_var)\n",
        "    decoder_outputs = new_dense_layer(decoder_outputs)\n",
        "    new_dropout_layer = Dropout(0.2)\n",
        "    decoder_outputs = new_dropout_layer(decoder_outputs)\n",
        "\n",
        "  mid_layer = Dense(nodes_var, activation=activation_var)\n",
        "  decoder_outputs_2 = mid_layer(decoder_outputs)\n",
        "\n",
        "  # The output of the decoder is given to a dense layer to predict\n",
        "  # the decoder output.\n",
        "  decoder_dense = Dense(num_words, activation='softmax')\n",
        "  decoder_outputs = decoder_dense(decoder_outputs)\n",
        "\n",
        "  # The model is connected and compiled. There are two inputs: the\n",
        "  # encoder and the decoder input.\n",
        "  model = Model([encoder_inputs_placeholder,\n",
        "    decoder_inputs_placeholder], decoder_outputs)\n",
        "\n",
        "  \n",
        "  model.compile(\n",
        "      optimizer=hp.Choice('optimizer_var', values = ['rmsprop', 'adam']),#,'sgd','nadam','adagard']),\n",
        "      loss='categorical_crossentropy',\n",
        "      metrics=['accuracy']\n",
        "  )\n",
        "  return model\n"
      ],
      "execution_count": null,
      "outputs": []
    },
    {
      "cell_type": "code",
      "metadata": {
        "id": "I53wDtxCbV6E"
      },
      "source": [
        "# remove output dir if exists\n",
        "!rm /content/output -r"
      ],
      "execution_count": null,
      "outputs": []
    },
    {
      "cell_type": "code",
      "metadata": {
        "id": "XZGkkYpsELBn"
      },
      "source": [
        "tuner = None"
      ],
      "execution_count": null,
      "outputs": []
    },
    {
      "cell_type": "code",
      "metadata": {
        "id": "LmVknrvSeUO3"
      },
      "source": [
        "from kerastuner.tuners import Hyperband\n",
        "# setup tuner model, testing for val_accuracy\n",
        "tuner = Hyperband(\n",
        "    build_model,\n",
        "    objective='val_accuracy',\n",
        "    factor=3,\n",
        "    max_epochs=10,\n",
        "    directory='output',\n",
        "    project_name='Chatbot_hyperband')"
      ],
      "execution_count": null,
      "outputs": []
    },
    {
      "cell_type": "code",
      "metadata": {
        "colab": {
          "base_uri": "https://localhost:8080/"
        },
        "id": "rsGu9LCFe6hM",
        "outputId": "b3cafd05-f9bb-4738-b430-50a509f792f6"
      },
      "source": [
        "# search space of the tuner\r\n",
        "tuner.search_space_summary()"
      ],
      "execution_count": null,
      "outputs": [
        {
          "output_type": "stream",
          "text": [
            "Search space summary\n",
            "Default search space size: 3\n",
            "nodes_var (Int)\n",
            "{'default': None, 'conditions': [], 'min_value': 3000, 'max_value': 5000, 'step': 1000, 'sampling': None}\n",
            "n_layers (Int)\n",
            "{'default': None, 'conditions': [], 'min_value': 0, 'max_value': 2, 'step': 1, 'sampling': None}\n",
            "optimizer_var (Choice)\n",
            "{'default': 'rmsprop', 'conditions': [], 'values': ['rmsprop', 'adam'], 'ordered': False}\n"
          ],
          "name": "stdout"
        }
      ]
    },
    {
      "cell_type": "code",
      "metadata": {
        "id": "TtaAaN4AkUW_"
      },
      "source": [
        "# create train and validation data generators\r\n",
        "train_d, val_d = get_LSTM_data_generator(encoder_input_sequences, decoder_input_sequences, decoder_output_sequences, BATCH_SIZE, max_out_len, num_words)"
      ],
      "execution_count": null,
      "outputs": []
    },
    {
      "cell_type": "code",
      "metadata": {
        "colab": {
          "base_uri": "https://localhost:8080/"
        },
        "id": "b1xcotQOr5Tp",
        "outputId": "7b5a91db-fb74-4bb4-a933-3280cab79f19"
      },
      "source": [
        "tuner.search(\n",
        "    x=train_d,\n",
        "    validation_data = val_d,\n",
        "    batch_size=BATCH_SIZE,\n",
        "    epochs=EPOCHS\n",
        ")"
      ],
      "execution_count": null,
      "outputs": [
        {
          "output_type": "stream",
          "text": [
            "Trial 26 Complete [00h 21m 56s]\n",
            "val_accuracy: 0.751384437084198\n",
            "\n",
            "Best val_accuracy So Far: 0.7525262832641602\n",
            "Total elapsed time: 05h 05m 46s\n",
            "INFO:tensorflow:Oracle triggered exit\n"
          ],
          "name": "stdout"
        }
      ]
    },
    {
      "cell_type": "code",
      "metadata": {
        "colab": {
          "base_uri": "https://localhost:8080/"
        },
        "id": "TDDOmL3wEN2K",
        "outputId": "1ba56c52-890d-4a56-9c61-bf9350fd7dbb"
      },
      "source": [
        "tuner.get_best_models(num_models=3)"
      ],
      "execution_count": null,
      "outputs": [
        {
          "output_type": "execute_result",
          "data": {
            "text/plain": [
              "[<tensorflow.python.keras.engine.functional.Functional at 0x7fed75569320>,\n",
              " <tensorflow.python.keras.engine.functional.Functional at 0x7fed7504f4e0>,\n",
              " <tensorflow.python.keras.engine.functional.Functional at 0x7fed7457f630>]"
            ]
          },
          "metadata": {
            "tags": []
          },
          "execution_count": 218
        }
      ]
    },
    {
      "cell_type": "code",
      "metadata": {
        "colab": {
          "base_uri": "https://localhost:8080/"
        },
        "id": "IldrchGXNhw4",
        "outputId": "2abc684f-7e32-4e57-973d-84a43b87d98b"
      },
      "source": [
        "# show results\r\n",
        "tuner.results_summary()"
      ],
      "execution_count": null,
      "outputs": [
        {
          "output_type": "stream",
          "text": [
            "Results summary\n",
            "Results in output/Chatbot_hyperband\n",
            "Showing 10 best trials\n",
            "Objective(name='val_accuracy', direction='max')\n",
            "Trial summary\n",
            "Hyperparameters:\n",
            "nodes_var: 5000\n",
            "n_layers: 1\n",
            "optimizer_var: rmsprop\n",
            "tuner/epochs: 10\n",
            "tuner/initial_epoch: 4\n",
            "tuner/bracket: 2\n",
            "tuner/round: 2\n",
            "tuner/trial_id: 409bb2a45a0639ddef05b39fcededdf2\n",
            "Score: 0.7525262832641602\n",
            "Trial summary\n",
            "Hyperparameters:\n",
            "nodes_var: 3000\n",
            "n_layers: 2\n",
            "optimizer_var: adam\n",
            "tuner/epochs: 10\n",
            "tuner/initial_epoch: 4\n",
            "tuner/bracket: 1\n",
            "tuner/round: 1\n",
            "tuner/trial_id: 981fac179c2935543033f2d89d32c9e1\n",
            "Score: 0.751384437084198\n",
            "Trial summary\n",
            "Hyperparameters:\n",
            "nodes_var: 4000\n",
            "n_layers: 2\n",
            "optimizer_var: adam\n",
            "tuner/epochs: 10\n",
            "tuner/initial_epoch: 4\n",
            "tuner/bracket: 2\n",
            "tuner/round: 2\n",
            "tuner/trial_id: aaf0d9ce88667ba1fe536c10c7a4dd0d\n",
            "Score: 0.7512664794921875\n",
            "Trial summary\n",
            "Hyperparameters:\n",
            "nodes_var: 5000\n",
            "n_layers: 2\n",
            "optimizer_var: adam\n",
            "tuner/epochs: 10\n",
            "tuner/initial_epoch: 4\n",
            "tuner/bracket: 1\n",
            "tuner/round: 1\n",
            "tuner/trial_id: 3a8338c433170feee115e5e2d6431b33\n",
            "Score: 0.7511440515518188\n",
            "Trial summary\n",
            "Hyperparameters:\n",
            "nodes_var: 5000\n",
            "n_layers: 2\n",
            "optimizer_var: adam\n",
            "tuner/epochs: 4\n",
            "tuner/initial_epoch: 0\n",
            "tuner/bracket: 1\n",
            "tuner/round: 0\n",
            "Score: 0.7505831718444824\n",
            "Trial summary\n",
            "Hyperparameters:\n",
            "nodes_var: 3000\n",
            "n_layers: 2\n",
            "optimizer_var: adam\n",
            "tuner/epochs: 4\n",
            "tuner/initial_epoch: 0\n",
            "tuner/bracket: 1\n",
            "tuner/round: 0\n",
            "Score: 0.750407338142395\n",
            "Trial summary\n",
            "Hyperparameters:\n",
            "nodes_var: 3000\n",
            "n_layers: 1\n",
            "optimizer_var: rmsprop\n",
            "tuner/epochs: 4\n",
            "tuner/initial_epoch: 0\n",
            "tuner/bracket: 1\n",
            "tuner/round: 0\n",
            "Score: 0.7501713633537292\n",
            "Trial summary\n",
            "Hyperparameters:\n",
            "nodes_var: 3000\n",
            "n_layers: 0\n",
            "optimizer_var: rmsprop\n",
            "tuner/epochs: 4\n",
            "tuner/initial_epoch: 0\n",
            "tuner/bracket: 1\n",
            "tuner/round: 0\n",
            "Score: 0.7492721676826477\n",
            "Trial summary\n",
            "Hyperparameters:\n",
            "nodes_var: 5000\n",
            "n_layers: 1\n",
            "optimizer_var: rmsprop\n",
            "tuner/epochs: 4\n",
            "tuner/initial_epoch: 2\n",
            "tuner/bracket: 2\n",
            "tuner/round: 1\n",
            "tuner/trial_id: f1aa637ec7667d2551e4103bdf1954fb\n",
            "Score: 0.7478476762771606\n",
            "Trial summary\n",
            "Hyperparameters:\n",
            "nodes_var: 5000\n",
            "n_layers: 1\n",
            "optimizer_var: rmsprop\n",
            "tuner/epochs: 2\n",
            "tuner/initial_epoch: 0\n",
            "tuner/bracket: 2\n",
            "tuner/round: 0\n",
            "Score: 0.7478387355804443\n"
          ],
          "name": "stdout"
        }
      ]
    },
    {
      "cell_type": "markdown",
      "metadata": {
        "id": "GYTjhBaZyQ_e"
      },
      "source": [
        "### Training the optimized model"
      ]
    },
    {
      "cell_type": "code",
      "metadata": {
        "id": "G6LpdVYizIPg"
      },
      "source": [
        "# Using the best parameters from the hyperparameter optimalization\n",
        "BATCH_SIZE = 64\n",
        "EPOCHS = 50\n",
        "MAX_NUM_WORDS = num_words\n",
        "LSTM_NODES = 256\n",
        "N_LAYERS = 1\n",
        "NODES_VAR = 5000\n",
        "OPTIMIZER_VAR = 'rmsprop'"
      ],
      "execution_count": null,
      "outputs": []
    },
    {
      "cell_type": "code",
      "metadata": {
        "id": "OgeNqBfw10ww"
      },
      "source": [
        "def build_model():\n",
        "    # set number of LSTM nodes\n",
        "\n",
        "    # The encoder of the model is defined.\n",
        "    # The input of the encoder are the sentences and the output is\n",
        "    # the hidden state and cell state of the LSTM.\n",
        "\n",
        "    embedding_layer = Embedding(MAX_NUM_WORDS, EMBEDDING_SIZE, weights=[embedding_matrix], input_length=40)\n",
        "    encoder_inputs_placeholder = Input(shape=(40,))\n",
        "    x = embedding_layer(encoder_inputs_placeholder)\n",
        "\n",
        "    encoder = LSTM(LSTM_NODES, return_state=True)\n",
        "\n",
        "    encoder_outputs, h, c = encoder(x)\n",
        "    encoder_states = [h, c]\n",
        "\n",
        "    # The decoder is defined.\n",
        "    # The input of the decoder are the hidden state and cell state of the\n",
        "    # encoder and the input sentence.\n",
        "    decoder_inputs_placeholder = Input(shape=(44,))\n",
        "\n",
        "    decoder_embedding = Embedding(MAX_NUM_WORDS, LSTM_NODES)\n",
        "    decoder_inputs_x = decoder_embedding(decoder_inputs_placeholder)\n",
        "\n",
        "    decoder_lstm = LSTM(LSTM_NODES, return_sequences=True, return_state=True)\n",
        "\n",
        "    decoder_outputs, _, _ = decoder_lstm(decoder_inputs_x, initial_state=encoder_states)\n",
        "\n",
        "    activation_var = 'relu'\n",
        "    nodes_var = NODES_VAR\n",
        "    for i in range(N_LAYERS):\n",
        "      new_dense_layer = Dense(nodes_var, activation=activation_var)\n",
        "      decoder_outputs = new_dense_layer(decoder_outputs)\n",
        "      new_dropout_layer = Dropout(0.2)\n",
        "      decoder_outputs = new_dropout_layer(decoder_outputs)\n",
        "\n",
        "    mid_layer = Dense(nodes_var, activation=activation_var)\n",
        "    decoder_outputs_2 = mid_layer(decoder_outputs)\n",
        "\n",
        "    # The output of the decoder is given to a dense layer to predict\n",
        "    # the decoder output.\n",
        "    decoder_dense = Dense(MAX_NUM_WORDS, activation='softmax')\n",
        "    decoder_outputs = decoder_dense(decoder_outputs)\n",
        "\n",
        "    # The model is connected and compiled. There are two inputs: the\n",
        "    # encoder and the decoder input.\n",
        "    model = Model([encoder_inputs_placeholder,\n",
        "      decoder_inputs_placeholder], decoder_outputs)\n",
        "\n",
        "    \n",
        "    model.compile(\n",
        "        optimizer=OPTIMIZER_VAR,\n",
        "        loss='categorical_crossentropy',\n",
        "        metrics=['accuracy']\n",
        "    )\n",
        "    return model"
      ],
      "execution_count": null,
      "outputs": []
    },
    {
      "cell_type": "code",
      "metadata": {
        "colab": {
          "base_uri": "https://localhost:8080/"
        },
        "id": "Jc-fPa3H19x3",
        "outputId": "6b41b2b4-3b1c-4962-9a4a-51df3cb256eb"
      },
      "source": [
        "# my_data = LSTM_train_data_generator(encoder_input_sequences, decoder_input_sequences, decoder_output_sequences, BATCH_SIZE, max_out_len, num_words)\r\n",
        "# my_model = build_model()"
      ],
      "execution_count": null,
      "outputs": [
        {
          "output_type": "stream",
          "text": [
            "64\n"
          ],
          "name": "stdout"
        }
      ]
    },
    {
      "cell_type": "code",
      "metadata": {
        "id": "NSpvxs500u39"
      },
      "source": [
        "# create train and validation data generators\r\n",
        "train_d, val_d = get_LSTM_data_generator(encoder_input_sequences, decoder_input_sequences, decoder_output_sequences, BATCH_SIZE, max_out_len, num_words)"
      ],
      "execution_count": null,
      "outputs": []
    },
    {
      "cell_type": "code",
      "metadata": {
        "id": "qutKcO8J0vZV"
      },
      "source": [
        "# define structure of model\r\n",
        "my_model = build_model()"
      ],
      "execution_count": null,
      "outputs": []
    },
    {
      "cell_type": "code",
      "metadata": {
        "id": "8XgwqMQV1zwD"
      },
      "source": [
        "# define callbacks\r\n",
        "# early stopping for reducing training time\r\n",
        "\r\n",
        "from tensorflow.keras.callbacks import EarlyStopping, ModelCheckpoint\r\n",
        "\r\n",
        "es = EarlyStopping(monitor='val_accuracy', mode='max', verbose=1, patience=5)\r\n",
        "\r\n",
        "# modelCheckpoint for saving the best weights\r\n",
        "\r\n",
        "checkpoint_filepath = 'my_model_checkpoint'\r\n",
        "model_checkpoint_callback = ModelCheckpoint(\r\n",
        "    filepath=checkpoint_filepath,\r\n",
        "    save_weights_only=True,\r\n",
        "    monitor='val_accuracy',\r\n",
        "    mode='max',\r\n",
        "    save_best_only=True)\r\n",
        "\r\n",
        "# This function can be used to load the best weights\r\n",
        "# model.load_weights(checkpoint_filepath)\r\n"
      ],
      "execution_count": null,
      "outputs": []
    },
    {
      "cell_type": "code",
      "metadata": {
        "colab": {
          "base_uri": "https://localhost:8080/",
          "height": 754
        },
        "id": "A3Fcl8F6dhRL",
        "outputId": "af0fe04b-6620-446e-e7c8-57c44b1ca218"
      },
      "source": [
        "from keras.utils import plot_model\n",
        "plot_model(my_model, to_file='model_plot4a.png', show_shapes=True, show_layer_names=True)"
      ],
      "execution_count": null,
      "outputs": [
        {
          "output_type": "execute_result",
          "data": {
            "image/png": "[encoded data removed]",
            "text/plain": [
              "<IPython.core.display.Image object>"
            ]
          },
          "metadata": {
            "tags": []
          },
          "execution_count": 237
        }
      ]
    },
    {
      "cell_type": "code",
      "metadata": {
        "colab": {
          "base_uri": "https://localhost:8080/"
        },
        "id": "ojqLGBcUyVrw",
        "outputId": "69f6fb8a-ced1-48f4-9785-c16c55f5caf4"
      },
      "source": [
        "history = my_model.fit(\r\n",
        "    x=train_d,\r\n",
        "    validation_data = val_d,\r\n",
        "    batch_size=BATCH_SIZE,\r\n",
        "    epochs=EPOCHS,\r\n",
        "    callbacks=[model_checkpoint_callback, es]\r\n",
        ")"
      ],
      "execution_count": null,
      "outputs": [
        {
          "output_type": "stream",
          "text": [
            "Epoch 1/50\n",
            "625/625 [==============================] - 254s 406ms/step - loss: 1.7115 - accuracy: 0.7404 - val_loss: 1.6578 - val_accuracy: 0.7478\n",
            "Epoch 2/50\n",
            "625/625 [==============================] - 250s 401ms/step - loss: 1.6568 - accuracy: 0.7441 - val_loss: 1.6379 - val_accuracy: 0.7498\n",
            "Epoch 3/50\n",
            "625/625 [==============================] - 251s 402ms/step - loss: 1.6190 - accuracy: 0.7468 - val_loss: 1.6219 - val_accuracy: 0.7512\n",
            "Epoch 4/50\n",
            "625/625 [==============================] - 251s 401ms/step - loss: 1.5886 - accuracy: 0.7489 - val_loss: 1.6153 - val_accuracy: 0.7522\n",
            "Epoch 5/50\n",
            "625/625 [==============================] - 251s 402ms/step - loss: 1.5606 - accuracy: 0.7511 - val_loss: 1.6138 - val_accuracy: 0.7530\n",
            "Epoch 6/50\n",
            "625/625 [==============================] - 251s 402ms/step - loss: 1.5342 - accuracy: 0.7529 - val_loss: 1.6163 - val_accuracy: 0.7533\n",
            "Epoch 7/50\n",
            "625/625 [==============================] - 250s 400ms/step - loss: 1.5071 - accuracy: 0.7549 - val_loss: 1.6247 - val_accuracy: 0.7527\n",
            "Epoch 8/50\n",
            "625/625 [==============================] - 250s 400ms/step - loss: 1.4789 - accuracy: 0.7571 - val_loss: 1.6380 - val_accuracy: 0.7521\n",
            "Epoch 9/50\n",
            "625/625 [==============================] - 250s 400ms/step - loss: 1.4511 - accuracy: 0.7593 - val_loss: 1.6573 - val_accuracy: 0.7525\n",
            "Epoch 10/50\n",
            "625/625 [==============================] - 250s 401ms/step - loss: 1.4237 - accuracy: 0.7614 - val_loss: 1.6837 - val_accuracy: 0.7514\n",
            "Epoch 11/50\n",
            "625/625 [==============================] - 250s 401ms/step - loss: 1.3952 - accuracy: 0.7642 - val_loss: 1.7104 - val_accuracy: 0.7504\n",
            "Epoch 00011: early stopping\n"
          ],
          "name": "stdout"
        }
      ]
    },
    {
      "cell_type": "code",
      "metadata": {
        "colab": {
          "base_uri": "https://localhost:8080/",
          "height": 539
        },
        "id": "_AZOY8oywr-4",
        "outputId": "253de977-e841-433d-da4b-81a5a9126045"
      },
      "source": [
        "# plotting the accuracy\r\n",
        "pretty_plot(history, 'accuracy', lambda x: np.argmax(x))"
      ],
      "execution_count": null,
      "outputs": [
        {
          "output_type": "display_data",
          "data": {
            "image/png": "[encoded data removed]",
            "text/plain": [
              "<Figure size 432x288 with 1 Axes>"
            ]
          },
          "metadata": {
            "tags": [],
            "needs_background": "light"
          }
        },
        {
          "output_type": "display_data",
          "data": {
            "image/png": "[encoded data removed]",
            "text/plain": [
              "<Figure size 432x288 with 1 Axes>"
            ]
          },
          "metadata": {
            "tags": [],
            "needs_background": "light"
          }
        }
      ]
    },
    {
      "cell_type": "code",
      "metadata": {
        "colab": {
          "base_uri": "https://localhost:8080/",
          "height": 539
        },
        "id": "v-iGXX5hwr-9",
        "outputId": "24526e81-201d-4306-d45d-876169614857"
      },
      "source": [
        "# plotting the loss\r\n",
        "pretty_plot(history, 'loss', lambda x: np.argmin(x))"
      ],
      "execution_count": null,
      "outputs": [
        {
          "output_type": "display_data",
          "data": {
            "image/png": "[encoded data removed]",
            "text/plain": [
              "<Figure size 432x288 with 1 Axes>"
            ]
          },
          "metadata": {
            "tags": [],
            "needs_background": "light"
          }
        },
        {
          "output_type": "display_data",
          "data": {
            "image/png": "[encoded data removed]",
            "text/plain": [
              "<Figure size 432x288 with 1 Axes>"
            ]
          },
          "metadata": {
            "tags": [],
            "needs_background": "light"
          }
        }
      ]
    },
    {
      "cell_type": "code",
      "metadata": {
        "colab": {
          "base_uri": "https://localhost:8080/"
        },
        "id": "R_HnnVYXbc4v",
        "outputId": "3c4919b4-f876-4a45-fc81-f535cc20af58"
      },
      "source": [
        "# save model\n",
        "my_model.save('model_best')"
      ],
      "execution_count": null,
      "outputs": [
        {
          "output_type": "stream",
          "text": [
            "INFO:tensorflow:Assets written to: model_best/assets\n"
          ],
          "name": "stdout"
        }
      ]
    },
    {
      "cell_type": "code",
      "metadata": {
        "colab": {
          "base_uri": "https://localhost:8080/"
        },
        "id": "Mrgpio_ebc4w",
        "outputId": "b376a689-84d8-4824-ed75-cbff675664b4"
      },
      "source": [
        "# zip saved model\n",
        "!zip -r model_best.zip model_best"
      ],
      "execution_count": null,
      "outputs": [
        {
          "output_type": "stream",
          "text": [
            "  adding: model_best/ (stored 0%)\n",
            "  adding: model_best/assets/ (stored 0%)\n",
            "  adding: model_best/saved_model.pb (deflated 90%)\n",
            "  adding: model_best/variables/ (stored 0%)\n",
            "  adding: model_best/variables/variables.index (deflated 65%)\n",
            "  adding: model_best/variables/variables.data-00000-of-00001 (deflated 13%)\n"
          ],
          "name": "stdout"
        }
      ]
    },
    {
      "cell_type": "code",
      "metadata": {
        "colab": {
          "base_uri": "https://localhost:8080/"
        },
        "id": "xK_ik_WUbKar",
        "outputId": "0b415026-5dda-4d65-d060-61f65b5cc2f7"
      },
      "source": [
        "!unzip model_4.zip"
      ],
      "execution_count": null,
      "outputs": [
        {
          "output_type": "stream",
          "text": [
            "Archive:  model_4.zip\n",
            "   creating: model_4/\n",
            "   creating: model_4/assets/\n",
            "  inflating: model_4/saved_model.pb  \n",
            "   creating: model_4/variables/\n",
            "  inflating: model_4/variables/variables.data-00000-of-00001  \n",
            "  inflating: model_4/variables/variables.index  \n"
          ],
          "name": "stdout"
        }
      ]
    },
    {
      "cell_type": "code",
      "metadata": {
        "id": "bp7ZMmW2lZ7X"
      },
      "source": [
        "from tensorflow.keras.models import load_model\r\n",
        "model_best = load_model('model_best', compile=False)"
      ],
      "execution_count": null,
      "outputs": []
    },
    {
      "cell_type": "code",
      "metadata": {
        "id": "W7skc_Zlm_x9"
      },
      "source": [
        "def create_encoder_decoder_models(from_model):\r\n",
        "  encoder_inputs_placeholder = Input(shape=(40,))\r\n",
        "\r\n",
        "  embedding_layer = from_model.get_layer('embedding_6')\r\n",
        "  x = embedding_layer(encoder_inputs_placeholder)\r\n",
        "\r\n",
        "  encoder = from_model.get_layer('lstm_6')\r\n",
        "\r\n",
        "  encoder_outputs, h, c = encoder(x)\r\n",
        "  encoder_states = [h, c]\r\n",
        "\r\n",
        "  encoder_model = Model(encoder_inputs_placeholder, encoder_states)\r\n",
        "\r\n",
        "\r\n",
        "  ##################\r\n",
        "\r\n",
        "  decoder_state_input_h = Input(shape=(LSTM_NODES,))\r\n",
        "  decoder_state_input_c = Input(shape=(LSTM_NODES,))\r\n",
        "  decoder_states_inputs = [decoder_state_input_h, decoder_state_input_c]\r\n",
        "\r\n",
        "  decoder_inputs_single = Input(shape=(1,))\r\n",
        "  decoder_embedding = from_model.get_layer('embedding_7')\r\n",
        "  decoder_inputs_single_x = decoder_embedding(decoder_inputs_single)\r\n",
        "\r\n",
        "  decoder_lstm = from_model.get_layer('lstm_7')\r\n",
        "  decoder_outputs, h, c = decoder_lstm(decoder_inputs_single_x, initial_state=decoder_states_inputs)\r\n",
        "\r\n",
        "  decoder_states = [h, c]\r\n",
        "\r\n",
        "  opt_dense_0 = from_model.get_layer('dense_10')\r\n",
        "\r\n",
        "  decoder_outputs = opt_dense_0(decoder_outputs)\r\n",
        "\r\n",
        "  decoder_dense = from_model.get_layer('dense_12')\r\n",
        "  decoder_outputs = decoder_dense(decoder_outputs)\r\n",
        "\r\n",
        "  decoder_model = Model(\r\n",
        "      [decoder_inputs_single] + decoder_states_inputs,\r\n",
        "      [decoder_outputs] + decoder_states\r\n",
        "  )\r\n",
        "\r\n",
        "  \r\n",
        "  return encoder_model, decoder_model\r\n",
        "\r\n"
      ],
      "execution_count": null,
      "outputs": []
    },
    {
      "cell_type": "code",
      "metadata": {
        "id": "n-7keUwupf74"
      },
      "source": [
        "test_model_enc, test_model_dec = create_encoder_decoder_models(model_best)"
      ],
      "execution_count": null,
      "outputs": []
    },
    {
      "cell_type": "code",
      "metadata": {
        "colab": {
          "base_uri": "https://localhost:8080/",
          "height": 312
        },
        "id": "ByA8HAN4pcoG",
        "outputId": "e5ad010a-4310-48f8-b260-7437914731a1"
      },
      "source": [
        "from keras.utils import plot_model\r\n",
        "plot_model(test_model_enc, to_file='model_plot4a.png', show_shapes=True, show_layer_names=True)"
      ],
      "execution_count": null,
      "outputs": [
        {
          "output_type": "execute_result",
          "data": {
            "image/png": "[encoded data removed]",
            "text/plain": [
              "<IPython.core.display.Image object>"
            ]
          },
          "metadata": {
            "tags": []
          },
          "execution_count": 265
        }
      ]
    },
    {
      "cell_type": "code",
      "metadata": {
        "colab": {
          "base_uri": "https://localhost:8080/",
          "height": 533
        },
        "id": "bigWr1a460R3",
        "outputId": "f52ed5ff-a100-4d79-e82f-28efaba8290c"
      },
      "source": [
        "from keras.utils import plot_model\r\n",
        "plot_model(test_model_dec, to_file='model_plot4a.png', show_shapes=True, show_layer_names=True)"
      ],
      "execution_count": null,
      "outputs": [
        {
          "output_type": "execute_result",
          "data": {
            "image/png": "[encoded data removed]",
            "text/plain": [
              "<IPython.core.display.Image object>"
            ]
          },
          "metadata": {
            "tags": []
          },
          "execution_count": 266
        }
      ]
    },
    {
      "cell_type": "code",
      "metadata": {
        "id": "36BPpJpE_uVm"
      },
      "source": [
        "# Dictionaries for input and ouput\r\n",
        "# They help converting the integers back to words.\r\n",
        "idx2word_input = {v:k for k, v in word2idx_inputs.items()}\r\n",
        "idx2word_target = {v:k for k, v in word2idx_outputs.items()}"
      ],
      "execution_count": null,
      "outputs": []
    },
    {
      "cell_type": "code",
      "metadata": {
        "id": "WEr2Kcs6_yEa"
      },
      "source": [
        "# Predicts the answer for an input sentence.\r\n",
        "def answer_sentence_1(input_seq):\r\n",
        "    # The encoder model predicts the hidden and cell state.\r\n",
        "    states_value = test_model_enc.predict(input_seq)\r\n",
        "    # Target stores the integer representation of <sos>\r\n",
        "    target_seq = np.zeros((1, 1))\r\n",
        "    target_seq[0, 0] = word2idx_outputs['<sos>']\r\n",
        "    # Eos stores the integer representation of <eos>\r\n",
        "    eos = word2idx_outputs['<eos>']\r\n",
        "    # Stores the response\r\n",
        "    output_sentence = []\r\n",
        "\r\n",
        "    # Every iteration a word of the output sentence is predicted.\r\n",
        "    for _ in range(max_out_len):\r\n",
        "        # The output, the hidden and cell states are predicted.\r\n",
        "        output_tokens, h, c = test_model_dec.predict([target_seq] + states_value)\r\n",
        "        # The most probable word is selected.\r\n",
        "        idx = np.argmax(output_tokens[0, 0, :])\r\n",
        "        # If the word is <eos>, the loop ends.\r\n",
        "        if eos == idx:\r\n",
        "            break\r\n",
        "\r\n",
        "        word = ''\r\n",
        "        # The token is converted to a word and added to the output sentence\r\n",
        "        if idx > 0:\r\n",
        "            word = idx2word_target[idx]\r\n",
        "            output_sentence.append(word)\r\n",
        "        # Target_eq and states_value are refreshed.\r\n",
        "        target_seq[0, 0] = idx\r\n",
        "        states_value = [h, c]\r\n",
        "\r\n",
        "    return ' '.join(output_sentence)"
      ],
      "execution_count": null,
      "outputs": []
    },
    {
      "cell_type": "code",
      "metadata": {
        "colab": {
          "base_uri": "https://localhost:8080/"
        },
        "id": "FU8IBuF19K3J",
        "outputId": "31aa3283-3b8c-4c14-b115-42f418693315"
      },
      "source": [
        "len(input_sentences)\r\n",
        "# len(encoder_input_sequences)"
      ],
      "execution_count": null,
      "outputs": [
        {
          "output_type": "execute_result",
          "data": {
            "text/plain": [
              "479901"
            ]
          },
          "metadata": {
            "tags": []
          },
          "execution_count": 275
        }
      ]
    },
    {
      "cell_type": "markdown",
      "metadata": {
        "id": "WsXxF1at5tgE"
      },
      "source": [
        "### Evaluation\n",
        "Download our best model from the google drive link, unzip the model and load the model, then evaluate few input/response pairs before moving on to manual user inputs.(For the input sentences to work, the related cells(Preprocessing, Word embeddings) should be first run)  Evaluate a few input sentences"
      ]
    },
    {
      "cell_type": "code",
      "metadata": {
        "colab": {
          "base_uri": "https://localhost:8080/",
          "height": 34
        },
        "id": "-YNwd0SLMFO7",
        "outputId": "138b38f2-1a3b-4f54-b14a-fb0f754f7826"
      },
      "source": [
        "from google_drive_downloader import GoogleDriveDownloader as gdd\n",
        "# insert the google drive link id into the file_id parameter and download model\n",
        "gdd.download_file_from_google_drive(file_id='1gH57tBrE9z5GMEndVtXbATF9c6_IQV18',\n",
        "                                    dest_path='./model_best.zip',\n",
        "                                    unzip=False)"
      ],
      "execution_count": null,
      "outputs": [
        {
          "output_type": "display_data",
          "data": {
            "application/javascript": [
              "\n",
              "    async function download(id, filename, size) {\n",
              "      if (!google.colab.kernel.accessAllowed) {\n",
              "        return;\n",
              "      }\n",
              "      const div = document.createElement('div');\n",
              "      const label = document.createElement('label');\n",
              "      label.textContent = `Downloading \"${filename}\": `;\n",
              "      div.appendChild(label);\n",
              "      const progress = document.createElement('progress');\n",
              "      progress.max = size;\n",
              "      div.appendChild(progress);\n",
              "      document.body.appendChild(div);\n",
              "\n",
              "      const buffers = [];\n",
              "      let downloaded = 0;\n",
              "\n",
              "      const channel = await google.colab.kernel.comms.open(id);\n",
              "      // Send a message to notify the kernel that we're ready.\n",
              "      channel.send({})\n",
              "\n",
              "      for await (const message of channel.messages) {\n",
              "        // Send a message to notify the kernel that we're ready.\n",
              "        channel.send({})\n",
              "        if (message.buffers) {\n",
              "          for (const buffer of message.buffers) {\n",
              "            buffers.push(buffer);\n",
              "            downloaded += buffer.byteLength;\n",
              "            progress.value = downloaded;\n",
              "          }\n",
              "        }\n",
              "      }\n",
              "      const blob = new Blob(buffers, {type: 'application/binary'});\n",
              "      const a = document.createElement('a');\n",
              "      a.href = window.URL.createObjectURL(blob);\n",
              "      a.download = filename;\n",
              "      div.appendChild(a);\n",
              "      a.click();\n",
              "      div.remove();\n",
              "    }\n",
              "  "
            ],
            "text/plain": [
              "<IPython.core.display.Javascript object>"
            ]
          },
          "metadata": {
            "tags": []
          }
        },
        {
          "output_type": "display_data",
          "data": {
            "application/javascript": [
              "download(\"download_95fcf218-95d5-410d-b33d-1ac19d75d4ef\", \"model_1.zip\", 29592038)"
            ],
            "text/plain": [
              "<IPython.core.display.Javascript object>"
            ]
          },
          "metadata": {
            "tags": []
          }
        }
      ]
    },
    {
      "cell_type": "code",
      "metadata": {
        "id": "K3nOosH4MFO-"
      },
      "source": [
        "# unzip the downloaded model\r\n",
        "!unzip model_best.zip"
      ],
      "execution_count": null,
      "outputs": []
    },
    {
      "cell_type": "code",
      "metadata": {
        "id": "DdGXv1ijMFO_"
      },
      "source": [
        "from tensorflow.keras.models import load_model\r\n",
        "# load model\r\n",
        "reconstructed_model = load_model('model_best', compile=False)"
      ],
      "execution_count": null,
      "outputs": []
    },
    {
      "cell_type": "code",
      "metadata": {
        "colab": {
          "base_uri": "https://localhost:8080/"
        },
        "id": "dcu4X6Rf_06c",
        "outputId": "57d01f68-bc38-476d-8d1d-3f580a71690d"
      },
      "source": [
        "# Testing a few message-response pairs from the dataset\r\n",
        "for _ in range(5):\r\n",
        "  i = np.random.choice(len(xy_data_df))\r\n",
        "  input_seq = encoder_input_sequences[i:i+1]\r\n",
        "  translation = answer_sentence_1(input_seq)\r\n",
        "  print('-')\r\n",
        "  print('Input: ', input_sentences[i])\r\n",
        "  print('Response: ', translation)\r\n",
        "  print(\"Actual response: \",xy_data_df['output_input'][i][6:])"
      ],
      "execution_count": null,
      "outputs": [
        {
          "output_type": "stream",
          "text": [
            "-\n",
            "Input:  I made breakfast\n",
            "Response:  i love you\n",
            "Actual response:  What did you make? \n",
            "\n",
            "I didn't; I had strawberry quark, which is German cheese that's the consistency of Greek yogurt.\n",
            "-\n",
            "Input:  Between what, the top four or five teams, and the bottom 3?\n",
            "Response:  i think the same thing being in the world is still a lot more than the other\n",
            "Actual response:  even thats better than 1 or 2 teams just dominating every year\n",
            "-\n",
            "Input:  You mean the James Cameron one or the Last Airbender?\n",
            "\n",
            " Oh wait silly me, that one doesn't exist.\n",
            "Response:  i think you are the same thing\n",
            "Actual response:  The James Cameron one!\n",
            "-\n",
            "Input:  Oh I'm sorry. As they say, \"the good die young, and others just die\"\n",
            "Response:  i think you were the only one that made me feel like a lot of people who don't want to be a\n",
            "Actual response:  He was young considering. 46. He was a good person in general. He just really resented my mom for the divorce I guess and I was the easiest way for him to get back at my mom.\n",
            "-\n",
            "Input:  Since we will soon have self driving cars, the idea that anyone drives a car will be a passing fad. \n",
            "Response:  yeah they're not even in the middle east\n",
            "Actual response:  Women shouldn't be allowed to input the destination though\n"
          ],
          "name": "stdout"
        }
      ]
    },
    {
      "cell_type": "code",
      "metadata": {
        "colab": {
          "base_uri": "https://localhost:8080/"
        },
        "id": "21IggSPoPWcX",
        "outputId": "c10a678b-8074-4479-a12c-e33ec556ab5a"
      },
      "source": [
        "# testing a few responses to the manual inputs\r\n",
        "while True:\r\n",
        "  print('-')\r\n",
        "  my_inp = input()\r\n",
        "\r\n",
        "  if my_inp == 'q':\r\n",
        "    break\r\n",
        "\r\n",
        "  tokenized_input = input_tokenizer.texts_to_sequences([my_inp])\r\n",
        "  input_seq = pad_sequences(tokenized_input, maxlen=max_input_len)\r\n",
        "  translation = answer_sentence_1(input_seq)\r\n",
        "  print('Response:', translation)"
      ],
      "execution_count": null,
      "outputs": [
        {
          "output_type": "stream",
          "text": [
            "-\n",
            "I saw Star Wars last night, but LOTR was better\n",
            "Response: i was thinking of the game that was the first time i had to play it\n",
            "-\n",
            "I really like mario\n",
            "Response: i don't know what you are talking about\n",
            "-\n",
            "But what about her emails?\n",
            "Response: i know\n",
            "-\n",
            "Thanks obama\n",
            "Response: no problem here\n",
            "-\n",
            "Good bot\n",
            "Response: i am not a fan of the\n",
            "-\n",
            "Thank you for being such a great learning experience\n",
            "Response: thank you\n",
            "-\n",
            "q\n"
          ],
          "name": "stdout"
        }
      ]
    },
    {
      "cell_type": "markdown",
      "metadata": {
        "id": "r6I9HUDM-EBb"
      },
      "source": [
        "### Saving and loading a model\n",
        "This section shows how to save and download models easily"
      ]
    },
    {
      "cell_type": "code",
      "metadata": {
        "id": "BmzPtmgqGHrd"
      },
      "source": [
        "# save model\n",
        "model.save('model_x')\n",
        "clear_output()"
      ],
      "execution_count": null,
      "outputs": []
    },
    {
      "cell_type": "code",
      "metadata": {
        "colab": {
          "base_uri": "https://localhost:8080/"
        },
        "id": "1wq5uZwCG8h2",
        "outputId": "dccb9065-e258-4654-8ddb-d12666c2c6dc"
      },
      "source": [
        "# zip saved model\n",
        "!zip -r model_x.zip model_x\n",
        "clear_output()"
      ],
      "execution_count": null,
      "outputs": [
        {
          "output_type": "stream",
          "text": [
            "  adding: model_2/ (stored 0%)\n",
            "  adding: model_2/assets/ (stored 0%)\n",
            "  adding: model_2/saved_model.pb (deflated 90%)\n",
            "  adding: model_2/variables/ (stored 0%)\n",
            "  adding: model_2/variables/variables.data-00000-of-00001 (deflated 7%)\n",
            "  adding: model_2/variables/variables.index (deflated 64%)\n"
          ],
          "name": "stdout"
        }
      ]
    },
    {
      "cell_type": "markdown",
      "metadata": {
        "id": "4fHG0B2mdXYg"
      },
      "source": [
        "At this stage upload the downloaded model to google drive."
      ]
    },
    {
      "cell_type": "code",
      "metadata": {
        "colab": {
          "base_uri": "https://localhost:8080/",
          "height": 34
        },
        "id": "Obm4qbiHG-z_",
        "outputId": "138b38f2-1a3b-4f54-b14a-fb0f754f7826"
      },
      "source": [
        "from google_drive_downloader import GoogleDriveDownloader as gdd\n",
        "# insert the google drive link id into the file_id parameter and download model\n",
        "gdd.download_file_from_google_drive(file_id='1mpYifGZ_TLrer6ZgRtNKO25xSuMOPi1u',\n",
        "                                    dest_path='./model_x.zip',\n",
        "                                    unzip=False)"
      ],
      "execution_count": null,
      "outputs": [
        {
          "output_type": "display_data",
          "data": {
            "application/javascript": [
              "\n",
              "    async function download(id, filename, size) {\n",
              "      if (!google.colab.kernel.accessAllowed) {\n",
              "        return;\n",
              "      }\n",
              "      const div = document.createElement('div');\n",
              "      const label = document.createElement('label');\n",
              "      label.textContent = `Downloading \"${filename}\": `;\n",
              "      div.appendChild(label);\n",
              "      const progress = document.createElement('progress');\n",
              "      progress.max = size;\n",
              "      div.appendChild(progress);\n",
              "      document.body.appendChild(div);\n",
              "\n",
              "      const buffers = [];\n",
              "      let downloaded = 0;\n",
              "\n",
              "      const channel = await google.colab.kernel.comms.open(id);\n",
              "      // Send a message to notify the kernel that we're ready.\n",
              "      channel.send({})\n",
              "\n",
              "      for await (const message of channel.messages) {\n",
              "        // Send a message to notify the kernel that we're ready.\n",
              "        channel.send({})\n",
              "        if (message.buffers) {\n",
              "          for (const buffer of message.buffers) {\n",
              "            buffers.push(buffer);\n",
              "            downloaded += buffer.byteLength;\n",
              "            progress.value = downloaded;\n",
              "          }\n",
              "        }\n",
              "      }\n",
              "      const blob = new Blob(buffers, {type: 'application/binary'});\n",
              "      const a = document.createElement('a');\n",
              "      a.href = window.URL.createObjectURL(blob);\n",
              "      a.download = filename;\n",
              "      div.appendChild(a);\n",
              "      a.click();\n",
              "      div.remove();\n",
              "    }\n",
              "  "
            ],
            "text/plain": [
              "<IPython.core.display.Javascript object>"
            ]
          },
          "metadata": {
            "tags": []
          }
        },
        {
          "output_type": "display_data",
          "data": {
            "application/javascript": [
              "download(\"download_95fcf218-95d5-410d-b33d-1ac19d75d4ef\", \"model_1.zip\", 29592038)"
            ],
            "text/plain": [
              "<IPython.core.display.Javascript object>"
            ]
          },
          "metadata": {
            "tags": []
          }
        }
      ]
    },
    {
      "cell_type": "code",
      "metadata": {
        "id": "51Q-Uw7Ec6ST"
      },
      "source": [
        "# unzip the downloaded model\r\n",
        "!unzip model_x.zip"
      ],
      "execution_count": null,
      "outputs": []
    },
    {
      "cell_type": "code",
      "metadata": {
        "id": "6ntP8n3Icb_D"
      },
      "source": [
        "from tensorflow.keras.models import load_model\r\n",
        "# load model\r\n",
        "reconstructed_model = load_model('model_x', compile=False)"
      ],
      "execution_count": null,
      "outputs": []
    },
    {
      "cell_type": "markdown",
      "metadata": {
        "id": "qSupBkqSIcwG"
      },
      "source": [
        "### Conclusion\n",
        "\n",
        "After the initial training we ran a hyperparameter optimization on the model, this process took almost 5 hours. Since the google colab site only gave us 12 GBs of RAM to work with, we had to implement a generator that was used to train the model instead of saving the whole one hot encoded matrix in memory.\n",
        "This generator generated the training and the validation datasets.\n",
        "Creating the generator was no easy task and took many attempts, but the resulting model could be trained with validation accuracy in mind.\n",
        "\n",
        "We tested the resulting model in two ways: \n",
        "  1: We compared the results from input sentences with the actual response to those sentences, and determined if those were acceptable. \n",
        "  2: We then tried a few manual inputs, to see if the model holds up when answering to sentences not in the dataset which it was trained on.\n",
        "\n",
        "Testing this is subjective as we can try and draw conclusions from this. Most of the answers will make vague contextual sense, as they can be believable and the model can draw parallels between different words, for instance it replied with the word \"game\" when the input message was about star wars, an arguement can be made about how those two are connected.\n",
        "\n",
        "We are happy of the initial results of our model as the model clearly learned how to structure sentences. Some answers are missing words at the end of the sentences, since the model lacks the vocabulary to fill it, as it was trained on only 10000 words instead of the more than 30000 unique words that were present in the raw dataset. \n",
        "\n",
        "An obvious step forward is to train the model on all available words in the dataset, thereby filling the gaps in the current models vocabulary.\n",
        "An other obvious step is to increase the raw data we train the model on (the number of comments), but since the comments are from an uncorrected (borderline degenerate) site, this might not help the model output better sentences.\n",
        "\n",
        "The final trained model can be found here:\n",
        "[google drive](https://drive.google.com/file/d/1gH57tBrE9z5GMEndVtXbATF9c6_IQV18/view?usp=sharing)"
      ]
    }
  ]
}
